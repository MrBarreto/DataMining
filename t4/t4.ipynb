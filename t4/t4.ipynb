{
 "cells": [
  {
   "cell_type": "code",
   "execution_count": 60,
   "metadata": {},
   "outputs": [],
   "source": [
    "import requests\n",
    "import os\n",
    "import zipfile\n",
    "import pandas as pd\n",
    "import re\n",
    "from scipy.spatial.distance import pdist, squareform\n",
    "from sklearn.cluster import DBSCAN\n",
    "from sklearn.preprocessing import MinMaxScaler, StandardScaler\n",
    "import matplotlib.pyplot as plt\n",
    "import seaborn as sns\n",
    "from sklearn.metrics.pairwise import euclidean_distances\n",
    "from sklearn.preprocessing import MultiLabelBinarizer\n",
    "import numpy as np\n",
    "from sklearn.cluster import KMeans\n",
    "from kneed import KneeLocator\n",
    "from sklearn.cluster import AgglomerativeClustering\n",
    "from sklearn.neighbors import NearestNeighbors\n",
    "from sklearn.decomposition import PCA, TruncatedSVD"
   ]
  },
  {
   "cell_type": "markdown",
   "metadata": {},
   "source": [
    "# Baixando arquivos"
   ]
  },
  {
   "cell_type": "code",
   "execution_count": 4,
   "metadata": {},
   "outputs": [],
   "source": [
    "url = \"https://files.grouplens.org/datasets/movielens/ml-1m.zip\"\n",
    "url2 = \"https://files.grouplens.org/datasets/movielens/ml-1m-README.txt\"\n",
    "local_filename = \"ml-1m.zip\"\n",
    "local_readme = \"ml-1m-README.txt\""
   ]
  },
  {
   "cell_type": "code",
   "execution_count": 3,
   "metadata": {},
   "outputs": [],
   "source": [
    "with requests.get(url, stream=True) as response:\n",
    "    response.raise_for_status()\n",
    "    with open(local_filename, 'wb') as file:\n",
    "        for chunk in response.iter_content(chunk_size=8192):\n",
    "            file.write(chunk)"
   ]
  },
  {
   "cell_type": "code",
   "execution_count": 5,
   "metadata": {},
   "outputs": [],
   "source": [
    "with requests.get(url2, stream=True) as response:\n",
    "    response.raise_for_status()\n",
    "    with open(local_readme, 'wb') as file:\n",
    "        for chunk in response.iter_content(chunk_size=8192):\n",
    "            file.write(chunk)"
   ]
  },
  {
   "cell_type": "code",
   "execution_count": 13,
   "metadata": {},
   "outputs": [],
   "source": [
    "extract_dir = os.path.dirname(os.path.abspath(local_filename))"
   ]
  },
  {
   "cell_type": "code",
   "execution_count": 14,
   "metadata": {},
   "outputs": [],
   "source": [
    "with zipfile.ZipFile(local_filename, 'r') as zip_ref:\n",
    "    zip_ref.extractall(extract_dir)"
   ]
  },
  {
   "cell_type": "markdown",
   "metadata": {},
   "source": [
    "# Manipulação de dados"
   ]
  },
  {
   "cell_type": "code",
   "execution_count": 2,
   "metadata": {},
   "outputs": [],
   "source": [
    "file_path1 = \"ml-1m/ratings.dat\"\n",
    "file_path2 = \"ml-1m/movies.dat\""
   ]
  },
  {
   "cell_type": "code",
   "execution_count": 3,
   "metadata": {},
   "outputs": [],
   "source": [
    "ratings = pd.read_csv(file_path1, sep='::', engine='python', header=None, names=['UserID', 'MovieID', 'Rating', 'Timestamp'])"
   ]
  },
  {
   "cell_type": "code",
   "execution_count": 4,
   "metadata": {},
   "outputs": [],
   "source": [
    "movies = pd.read_csv(file_path2, sep='::', engine='python', header=None, names=['MovieID', 'Title', 'Genres'], encoding='ISO-8859-1')"
   ]
  },
  {
   "cell_type": "code",
   "execution_count": 5,
   "metadata": {},
   "outputs": [],
   "source": [
    "movies['Genres'] = movies['Genres'].str.replace('|', ',')"
   ]
  },
  {
   "cell_type": "code",
   "execution_count": 6,
   "metadata": {},
   "outputs": [
    {
     "data": {
      "text/html": [
       "<div>\n",
       "<style scoped>\n",
       "    .dataframe tbody tr th:only-of-type {\n",
       "        vertical-align: middle;\n",
       "    }\n",
       "\n",
       "    .dataframe tbody tr th {\n",
       "        vertical-align: top;\n",
       "    }\n",
       "\n",
       "    .dataframe thead th {\n",
       "        text-align: right;\n",
       "    }\n",
       "</style>\n",
       "<table border=\"1\" class=\"dataframe\">\n",
       "  <thead>\n",
       "    <tr style=\"text-align: right;\">\n",
       "      <th></th>\n",
       "      <th>MovieID</th>\n",
       "      <th>Title</th>\n",
       "      <th>Genres</th>\n",
       "    </tr>\n",
       "  </thead>\n",
       "  <tbody>\n",
       "    <tr>\n",
       "      <th>0</th>\n",
       "      <td>1</td>\n",
       "      <td>Toy Story (1995)</td>\n",
       "      <td>Animation,Children's,Comedy</td>\n",
       "    </tr>\n",
       "    <tr>\n",
       "      <th>1</th>\n",
       "      <td>2</td>\n",
       "      <td>Jumanji (1995)</td>\n",
       "      <td>Adventure,Children's,Fantasy</td>\n",
       "    </tr>\n",
       "    <tr>\n",
       "      <th>2</th>\n",
       "      <td>3</td>\n",
       "      <td>Grumpier Old Men (1995)</td>\n",
       "      <td>Comedy,Romance</td>\n",
       "    </tr>\n",
       "    <tr>\n",
       "      <th>3</th>\n",
       "      <td>4</td>\n",
       "      <td>Waiting to Exhale (1995)</td>\n",
       "      <td>Comedy,Drama</td>\n",
       "    </tr>\n",
       "    <tr>\n",
       "      <th>4</th>\n",
       "      <td>5</td>\n",
       "      <td>Father of the Bride Part II (1995)</td>\n",
       "      <td>Comedy</td>\n",
       "    </tr>\n",
       "  </tbody>\n",
       "</table>\n",
       "</div>"
      ],
      "text/plain": [
       "   MovieID                               Title                        Genres\n",
       "0        1                    Toy Story (1995)   Animation,Children's,Comedy\n",
       "1        2                      Jumanji (1995)  Adventure,Children's,Fantasy\n",
       "2        3             Grumpier Old Men (1995)                Comedy,Romance\n",
       "3        4            Waiting to Exhale (1995)                  Comedy,Drama\n",
       "4        5  Father of the Bride Part II (1995)                        Comedy"
      ]
     },
     "execution_count": 6,
     "metadata": {},
     "output_type": "execute_result"
    }
   ],
   "source": [
    "movies.head()"
   ]
  },
  {
   "cell_type": "code",
   "execution_count": 7,
   "metadata": {},
   "outputs": [],
   "source": [
    "movies['Year'] = movies['Title'].apply(lambda x: re.search(r'\\((\\d{4})\\)', x).group(1) if re.search(r'\\((\\d{4})\\)', x) else None)"
   ]
  },
  {
   "cell_type": "code",
   "execution_count": 8,
   "metadata": {},
   "outputs": [
    {
     "data": {
      "text/plain": [
       "MovieID    0\n",
       "Title      0\n",
       "Genres     0\n",
       "Year       0\n",
       "dtype: int64"
      ]
     },
     "execution_count": 8,
     "metadata": {},
     "output_type": "execute_result"
    }
   ],
   "source": [
    "null_counts = movies.isnull().sum()\n",
    "null_counts"
   ]
  },
  {
   "cell_type": "code",
   "execution_count": 9,
   "metadata": {},
   "outputs": [
    {
     "data": {
      "text/plain": [
       "UserID       0\n",
       "MovieID      0\n",
       "Rating       0\n",
       "Timestamp    0\n",
       "dtype: int64"
      ]
     },
     "execution_count": 9,
     "metadata": {},
     "output_type": "execute_result"
    }
   ],
   "source": [
    "null_counts = ratings.isnull().sum()\n",
    "null_counts"
   ]
  },
  {
   "cell_type": "code",
   "execution_count": 10,
   "metadata": {},
   "outputs": [
    {
     "data": {
      "text/plain": [
       "6040"
      ]
     },
     "execution_count": 10,
     "metadata": {},
     "output_type": "execute_result"
    }
   ],
   "source": [
    "num_users = ratings['UserID'].nunique()\n",
    "num_users"
   ]
  },
  {
   "cell_type": "code",
   "execution_count": 11,
   "metadata": {},
   "outputs": [
    {
     "data": {
      "text/plain": [
       "3883"
      ]
     },
     "execution_count": 11,
     "metadata": {},
     "output_type": "execute_result"
    }
   ],
   "source": [
    "num_movies = movies['MovieID'].nunique()\n",
    "num_movies"
   ]
  },
  {
   "cell_type": "code",
   "execution_count": 12,
   "metadata": {},
   "outputs": [],
   "source": [
    "df_genres = movies.copy()\n",
    "df_genres = df_genres.drop('Genres', axis=1).join(movies['Genres'].str.split(',', expand=True).stack().reset_index(level=1, drop=True).rename('Genre'))"
   ]
  },
  {
   "cell_type": "code",
   "execution_count": 13,
   "metadata": {},
   "outputs": [
    {
     "name": "stderr",
     "output_type": "stream",
     "text": [
      "/home/savio/anaconda3/lib/python3.11/site-packages/seaborn/_oldcore.py:1119: FutureWarning: use_inf_as_na option is deprecated and will be removed in a future version. Convert inf values to NaN before operating instead.\n",
      "  with pd.option_context('mode.use_inf_as_na', True):\n"
     ]
    },
    {
     "data": {
      "image/png": "[encoded data removed]",
      "text/plain": [
       "<Figure size 1000x600 with 1 Axes>"
      ]
     },
     "metadata": {},
     "output_type": "display_data"
    }
   ],
   "source": [
    "# 1. Distribuição das Avaliações\n",
    "plt.figure(figsize=(10, 6))\n",
    "sns.histplot(ratings['Rating'], bins=10, kde=True)\n",
    "plt.title('Distribuição das Avaliações')\n",
    "plt.xlabel('Avaliação')\n",
    "plt.ylabel('Contagem')\n",
    "plt.grid(True)\n",
    "plt.show()"
   ]
  },
  {
   "cell_type": "code",
   "execution_count": 14,
   "metadata": {},
   "outputs": [
    {
     "data": {
      "image/png": "[encoded data removed]",
      "text/plain": [
       "<Figure size 1200x800 with 1 Axes>"
      ]
     },
     "metadata": {},
     "output_type": "display_data"
    }
   ],
   "source": [
    "plt.figure(figsize=(12, 8))\n",
    "sns.countplot(y='Genre', data=df_genres, order = df_genres['Genre'].value_counts().index)\n",
    "plt.title('Distribuição dos Gêneros')\n",
    "plt.xlabel('Contagem')\n",
    "plt.ylabel('Gênero')\n",
    "plt.grid(True)\n",
    "plt.show()"
   ]
  },
  {
   "cell_type": "code",
   "execution_count": 15,
   "metadata": {},
   "outputs": [
    {
     "data": {
      "image/png": "[encoded data removed]",
      "text/plain": [
       "<Figure size 1400x800 with 1 Axes>"
      ]
     },
     "metadata": {},
     "output_type": "display_data"
    }
   ],
   "source": [
    "plt.figure(figsize=(14, 8))\n",
    "sns.countplot(x='Year', data=movies, order = movies['Year'].value_counts().index)\n",
    "plt.title('Quantidade de Filmes por Ano')\n",
    "plt.xlabel('Ano')\n",
    "plt.ylabel('Quantidade de Filmes')\n",
    "plt.xticks(rotation=90)\n",
    "plt.grid(True)\n",
    "plt.show()"
   ]
  },
  {
   "cell_type": "markdown",
   "metadata": {},
   "source": [
    "# Pré-processamento dos dados:"
   ]
  },
  {
   "cell_type": "code",
   "execution_count": 16,
   "metadata": {},
   "outputs": [],
   "source": [
    "duplicated_ratings = ratings[ratings.duplicated()]"
   ]
  },
  {
   "cell_type": "code",
   "execution_count": 17,
   "metadata": {},
   "outputs": [
    {
     "name": "stdout",
     "output_type": "stream",
     "text": [
      "Não há valores duplicados nas avaliações.\n"
     ]
    }
   ],
   "source": [
    "if not duplicated_ratings.empty:\n",
    "    print(\"Valores duplicados encontrados:\")\n",
    "    print(duplicated_ratings)\n",
    "else:\n",
    "    print(\"Não há valores duplicados nas avaliações.\")"
   ]
  },
  {
   "cell_type": "code",
   "execution_count": 18,
   "metadata": {},
   "outputs": [],
   "source": [
    "movies_in_ratings = movies[movies['MovieID'].isin(ratings['MovieID'])].copy()"
   ]
  },
  {
   "cell_type": "code",
   "execution_count": 19,
   "metadata": {},
   "outputs": [],
   "source": [
    "movies_in_ratings['MovieIDTrue'] = range(1, len(movies_in_ratings) + 1)"
   ]
  },
  {
   "cell_type": "code",
   "execution_count": 20,
   "metadata": {},
   "outputs": [],
   "source": [
    "ratings = ratings.merge(movies_in_ratings[['MovieID', 'MovieIDTrue']], on='MovieID', how='left')"
   ]
  },
  {
   "cell_type": "code",
   "execution_count": 21,
   "metadata": {},
   "outputs": [
    {
     "data": {
      "text/plain": [
       "3706"
      ]
     },
     "execution_count": 21,
     "metadata": {},
     "output_type": "execute_result"
    }
   ],
   "source": [
    "num_movies = movies_in_ratings['MovieIDTrue'].nunique()\n",
    "num_movies"
   ]
  },
  {
   "cell_type": "code",
   "execution_count": 22,
   "metadata": {},
   "outputs": [],
   "source": [
    "ratings_matrix = np.empty((num_movies, num_users))"
   ]
  },
  {
   "cell_type": "code",
   "execution_count": 23,
   "metadata": {},
   "outputs": [],
   "source": [
    "ratings_matrix[:] = np.nan"
   ]
  },
  {
   "cell_type": "code",
   "execution_count": 24,
   "metadata": {},
   "outputs": [],
   "source": [
    "for index, row in ratings.iterrows():\n",
    "    ratings_matrix[row['MovieIDTrue']-1][row['UserID']-1] = row['Rating']"
   ]
  },
  {
   "cell_type": "code",
   "execution_count": 25,
   "metadata": {},
   "outputs": [
    {
     "data": {
      "text/plain": [
       "array([[ 5., nan, nan, ..., nan, nan,  3.],\n",
       "       [nan, nan, nan, ..., nan, nan, nan],\n",
       "       [nan, nan, nan, ..., nan, nan, nan],\n",
       "       ...,\n",
       "       [nan, nan, nan, ..., nan, nan, nan],\n",
       "       [nan, nan, nan, ..., nan, nan, nan],\n",
       "       [nan, nan, nan, ..., nan, nan, nan]])"
      ]
     },
     "execution_count": 25,
     "metadata": {},
     "output_type": "execute_result"
    }
   ],
   "source": [
    "ratings_matrix"
   ]
  },
  {
   "cell_type": "code",
   "execution_count": 26,
   "metadata": {},
   "outputs": [],
   "source": [
    "def replace_nans_with_row_mean(matrix):\n",
    "    for i in range(matrix.shape[0]):\n",
    "        row = matrix[i, :]\n",
    "        mean_value = np.nanmean(row)\n",
    "        row[np.isnan(row)] = mean_value\n",
    "    return matrix"
   ]
  },
  {
   "cell_type": "code",
   "execution_count": 27,
   "metadata": {},
   "outputs": [],
   "source": [
    "ratings_matrix = replace_nans_with_row_mean(ratings_matrix)"
   ]
  },
  {
   "cell_type": "code",
   "execution_count": 28,
   "metadata": {},
   "outputs": [
    {
     "data": {
      "text/plain": [
       "array([[5.        , 4.14684641, 4.14684641, ..., 4.14684641, 4.14684641,\n",
       "        3.        ],\n",
       "       [3.20114123, 3.20114123, 3.20114123, ..., 3.20114123, 3.20114123,\n",
       "        3.20114123],\n",
       "       [3.0167364 , 3.0167364 , 3.0167364 , ..., 3.0167364 , 3.0167364 ,\n",
       "        3.0167364 ],\n",
       "       ...,\n",
       "       [3.66666667, 3.66666667, 3.66666667, ..., 3.66666667, 3.66666667,\n",
       "        3.66666667],\n",
       "       [3.9       , 3.9       , 3.9       , ..., 3.9       , 3.9       ,\n",
       "        3.9       ],\n",
       "       [3.78092784, 3.78092784, 3.78092784, ..., 3.78092784, 3.78092784,\n",
       "        3.78092784]])"
      ]
     },
     "execution_count": 28,
     "metadata": {},
     "output_type": "execute_result"
    }
   ],
   "source": [
    "ratings_matrix"
   ]
  },
  {
   "cell_type": "code",
   "execution_count": 29,
   "metadata": {},
   "outputs": [],
   "source": [
    "def normalize_row(row):\n",
    "    mean = np.mean(row)\n",
    "    std = np.std(row)\n",
    "    mean = np.nanmean(row)\n",
    "    std = np.nanstd(row)\n",
    "    if std == 0:\n",
    "        return np.zeros_like(row)  # Substituir por zeros se o desvio padrão for zero\n",
    "    return (row - mean) / std\n",
    "    return (row - mean) / std"
   ]
  },
  {
   "cell_type": "code",
   "execution_count": 30,
   "metadata": {},
   "outputs": [],
   "source": [
    "ratings_matrix_normalized = np.apply_along_axis(normalize_row, 1, ratings_matrix)"
   ]
  },
  {
   "cell_type": "code",
   "execution_count": 31,
   "metadata": {},
   "outputs": [
    {
     "name": "stdout",
     "output_type": "stream",
     "text": [
      "Número total de NaNs: 0\n"
     ]
    }
   ],
   "source": [
    "total_nans = np.isnan(ratings_matrix_normalized).sum()\n",
    "print(f\"Número total de NaNs: {total_nans}\")"
   ]
  },
  {
   "cell_type": "code",
   "execution_count": 32,
   "metadata": {},
   "outputs": [
    {
     "data": {
      "text/plain": [
       "array([[ 1.70731838e+00,  1.77740956e-15,  1.77740956e-15, ...,\n",
       "         1.77740956e-15,  1.77740956e-15, -2.29505214e+00],\n",
       "       [ 0.00000000e+00,  0.00000000e+00,  0.00000000e+00, ...,\n",
       "         0.00000000e+00,  0.00000000e+00,  0.00000000e+00],\n",
       "       [ 0.00000000e+00,  0.00000000e+00,  0.00000000e+00, ...,\n",
       "         0.00000000e+00,  0.00000000e+00,  0.00000000e+00],\n",
       "       ...,\n",
       "       [ 4.53184131e-15,  4.53184131e-15,  4.53184131e-15, ...,\n",
       "         4.53184131e-15,  4.53184131e-15,  4.53184131e-15],\n",
       "       [ 5.22691510e-15,  5.22691510e-15,  5.22691510e-15, ...,\n",
       "         5.22691510e-15,  5.22691510e-15,  5.22691510e-15],\n",
       "       [ 5.62870295e-15,  5.62870295e-15,  5.62870295e-15, ...,\n",
       "         5.62870295e-15,  5.62870295e-15,  5.62870295e-15]])"
      ]
     },
     "execution_count": 32,
     "metadata": {},
     "output_type": "execute_result"
    }
   ],
   "source": [
    "ratings_matrix_normalized"
   ]
  },
  {
   "cell_type": "markdown",
   "metadata": {},
   "source": [
    "# Matriz de distâncias"
   ]
  },
  {
   "cell_type": "code",
   "execution_count": 34,
   "metadata": {},
   "outputs": [],
   "source": [
    "dist_matrix = pdist(ratings_matrix_normalized, metric='euclidean')"
   ]
  },
  {
   "cell_type": "code",
   "execution_count": 35,
   "metadata": {},
   "outputs": [],
   "source": [
    "dist_matrix_square = squareform(dist_matrix)"
   ]
  },
  {
   "cell_type": "code",
   "execution_count": 36,
   "metadata": {},
   "outputs": [
    {
     "data": {
      "text/plain": [
       "array([[  0.        , 105.69494673, 107.3649446 , ..., 109.17594079,\n",
       "        109.26922304, 108.33532832],\n",
       "       [105.69494673,   0.        , 107.94088516, ..., 110.57554306,\n",
       "        110.26061826, 109.60542063],\n",
       "       [107.3649446 , 107.94088516,   0.        , ..., 108.46084939,\n",
       "        108.92857814, 109.09574796],\n",
       "       ...,\n",
       "       [109.17594079, 110.57554306, 108.46084939, ...,   0.        ,\n",
       "        107.70125075, 106.18090639],\n",
       "       [109.26922304, 110.26061826, 108.92857814, ..., 107.70125075,\n",
       "          0.        , 103.6646929 ],\n",
       "       [108.33532832, 109.60542063, 109.09574796, ..., 106.18090639,\n",
       "        103.6646929 ,   0.        ]])"
      ]
     },
     "execution_count": 36,
     "metadata": {},
     "output_type": "execute_result"
    }
   ],
   "source": [
    "dist_matrix_square"
   ]
  },
  {
   "cell_type": "markdown",
   "metadata": {},
   "source": [
    "# Kmeans"
   ]
  },
  {
   "cell_type": "code",
   "execution_count": 37,
   "metadata": {},
   "outputs": [],
   "source": [
    "kmeans_kwargs = {\n",
    "\"init\": \"random\",\n",
    "\"n_init\": 10,\n",
    "\"max_iter\": 300,\n",
    "\"random_state\": 42}"
   ]
  },
  {
   "cell_type": "code",
   "execution_count": 38,
   "metadata": {},
   "outputs": [
    {
     "name": "stdout",
     "output_type": "stream",
     "text": [
      "1\n",
      "2\n",
      "3\n",
      "4\n",
      "5\n",
      "6\n",
      "7\n",
      "8\n",
      "9\n",
      "10\n",
      "11\n",
      "12\n",
      "13\n",
      "14\n",
      "15\n",
      "16\n",
      "17\n",
      "18\n",
      "19\n",
      "20\n",
      "21\n",
      "22\n",
      "23\n",
      "24\n",
      "25\n",
      "26\n",
      "27\n",
      "28\n",
      "29\n",
      "30\n",
      "31\n",
      "32\n",
      "33\n",
      "34\n",
      "35\n",
      "36\n",
      "37\n",
      "38\n",
      "39\n",
      "40\n",
      "41\n",
      "42\n",
      "43\n",
      "44\n",
      "45\n",
      "46\n",
      "47\n",
      "48\n",
      "49\n",
      "50\n",
      "51\n",
      "52\n",
      "53\n",
      "54\n",
      "55\n",
      "56\n",
      "57\n",
      "58\n",
      "59\n",
      "60\n",
      "61\n",
      "62\n",
      "63\n",
      "64\n",
      "65\n",
      "66\n",
      "67\n",
      "68\n",
      "69\n",
      "70\n",
      "71\n",
      "72\n",
      "73\n",
      "74\n",
      "75\n",
      "76\n",
      "77\n",
      "78\n",
      "79\n",
      "80\n"
     ]
    }
   ],
   "source": [
    "# A list holds the SSE values for each k\n",
    "sse = []\n",
    "for k in range(1, 81):\n",
    "   print(k)\n",
    "   kmeans = KMeans(n_clusters=k, **kmeans_kwargs, )\n",
    "   kmeans.fit(ratings_matrix_normalized)\n",
    "   sse.append(kmeans.inertia_)"
   ]
  },
  {
   "cell_type": "code",
   "execution_count": 77,
   "metadata": {},
   "outputs": [
    {
     "data": {
      "image/png": "[encoded data removed]",
      "text/plain": [
       "<Figure size 640x480 with 1 Axes>"
      ]
     },
     "metadata": {},
     "output_type": "display_data"
    }
   ],
   "source": [
    "plt.style.use(\"fivethirtyeight\")\n",
    "plt.plot(range(1, 81), sse)\n",
    "plt.xticks(range(1, 81, 5))\n",
    "plt.xlabel(\"Number of Clusters\")\n",
    "plt.ylabel(\"SSE\")\n",
    "plt.show()"
   ]
  },
  {
   "cell_type": "code",
   "execution_count": 40,
   "metadata": {},
   "outputs": [],
   "source": [
    "kl = KneeLocator(range(1, 81), sse, curve=\"convex\", direction=\"decreasing\")"
   ]
  },
  {
   "cell_type": "code",
   "execution_count": 41,
   "metadata": {},
   "outputs": [
    {
     "data": {
      "text/plain": [
       "20"
      ]
     },
     "execution_count": 41,
     "metadata": {},
     "output_type": "execute_result"
    }
   ],
   "source": [
    "kl.elbow"
   ]
  },
  {
   "cell_type": "markdown",
   "metadata": {},
   "source": [
    "Verificou-se um ponto de cotovelo epor volta de 20, mas 20 emsi deu resultados bee ruins na clusterização, então aproximei por 21"
   ]
  },
  {
   "cell_type": "code",
   "execution_count": 65,
   "metadata": {},
   "outputs": [],
   "source": [
    "kmeans = KMeans(n_clusters=21, random_state=42, n_init = 10)\n",
    "kmeans_clusters = kmeans.fit_predict(ratings_matrix_normalized)"
   ]
  },
  {
   "cell_type": "code",
   "execution_count": 73,
   "metadata": {},
   "outputs": [],
   "source": [
    "movies_in_ratings['KMeans_Cluster'] = kmeans_clusters"
   ]
  },
  {
   "cell_type": "code",
   "execution_count": 74,
   "metadata": {},
   "outputs": [
    {
     "name": "stdout",
     "output_type": "stream",
     "text": [
      "Contagem dos clusters formados:\n",
      " KMeans_Cluster\n",
      "15    660\n",
      "19    286\n",
      "4     279\n",
      "5     200\n",
      "9     191\n",
      "16    188\n",
      "0     185\n",
      "11    183\n",
      "1     172\n",
      "2     145\n",
      "18    132\n",
      "20    130\n",
      "13    123\n",
      "12    120\n",
      "6     118\n",
      "7     115\n",
      "8     108\n",
      "3     104\n",
      "14    101\n",
      "10     97\n",
      "17     69\n",
      "Name: count, dtype: int64\n"
     ]
    }
   ],
   "source": [
    "cluster_counts = movies_in_ratings['KMeans_Cluster'].value_counts()\n",
    "print(\"Contagem dos clusters formados:\\n\", cluster_counts)"
   ]
  },
  {
   "cell_type": "markdown",
   "metadata": {},
   "source": [
    "# Clustering Hierárquico"
   ]
  },
  {
   "cell_type": "markdown",
   "metadata": {},
   "source": [
    "Usando um número de clusters semelhante ao K Means"
   ]
  },
  {
   "cell_type": "code",
   "execution_count": 69,
   "metadata": {},
   "outputs": [
    {
     "name": "stderr",
     "output_type": "stream",
     "text": [
      "/home/savio/anaconda3/lib/python3.11/site-packages/sklearn/cluster/_agglomerative.py:983: FutureWarning: Attribute `affinity` was deprecated in version 1.2 and will be removed in 1.4. Use `metric` instead\n",
      "  warnings.warn(\n"
     ]
    }
   ],
   "source": [
    "agg_clustering = AgglomerativeClustering(n_clusters=21, affinity='precomputed', linkage='complete')\n",
    "agg_clusters = agg_clustering.fit_predict(dist_matrix_square)"
   ]
  },
  {
   "cell_type": "code",
   "execution_count": 70,
   "metadata": {},
   "outputs": [
    {
     "data": {
      "text/plain": [
       "3706"
      ]
     },
     "execution_count": 70,
     "metadata": {},
     "output_type": "execute_result"
    }
   ],
   "source": [
    "len(agg_clusters)"
   ]
  },
  {
   "cell_type": "code",
   "execution_count": 75,
   "metadata": {},
   "outputs": [],
   "source": [
    "movies_in_ratings['Hierarchical_Cluster'] = agg_clusters"
   ]
  },
  {
   "cell_type": "code",
   "execution_count": 76,
   "metadata": {},
   "outputs": [
    {
     "name": "stdout",
     "output_type": "stream",
     "text": [
      "Contagem dos clusters formados:\n",
      " Hierarchical_Cluster\n",
      "0     757\n",
      "5     475\n",
      "11    430\n",
      "9     236\n",
      "8     211\n",
      "2     204\n",
      "7     192\n",
      "10    161\n",
      "4     160\n",
      "6     145\n",
      "1     141\n",
      "19     91\n",
      "17     80\n",
      "14     73\n",
      "15     69\n",
      "18     67\n",
      "3      57\n",
      "13     48\n",
      "20     41\n",
      "16     39\n",
      "12     29\n",
      "Name: count, dtype: int64\n"
     ]
    }
   ],
   "source": [
    "cluster_counts = movies_in_ratings['Hierarchical_Cluster'].value_counts()\n",
    "print(\"Contagem dos clusters formados:\\n\", cluster_counts)"
   ]
  },
  {
   "cell_type": "markdown",
   "metadata": {},
   "source": [
    "## DBscan"
   ]
  },
  {
   "cell_type": "code",
   "execution_count": 263,
   "metadata": {},
   "outputs": [],
   "source": [
    "eps = 20000\n",
    "min_samples = 1"
   ]
  },
  {
   "cell_type": "code",
   "execution_count": 189,
   "metadata": {},
   "outputs": [],
   "source": [
    "k = 5  # Ajuste conforme necessário\n",
    "nbrs = NearestNeighbors(n_neighbors=k, metric='precomputed').fit(dist_matrix_square)\n",
    "distances, indices = nbrs.kneighbors(dist_matrix_square)\n",
    "\n",
    "# Ordenar as distâncias dos k-ésimos vizinhos mais próximos\n",
    "k_distances = np.sort(distances[:, k-1], axis=0)"
   ]
  },
  {
   "cell_type": "code",
   "execution_count": 190,
   "metadata": {},
   "outputs": [
    {
     "data": {
      "image/png": "[encoded data removed]",
      "text/plain": [
       "<Figure size 640x480 with 1 Axes>"
      ]
     },
     "metadata": {},
     "output_type": "display_data"
    }
   ],
   "source": [
    "plt.plot(k_distances)\n",
    "plt.xlabel(\"Pontos ordenados (4º vizinho mais próximo)\")\n",
    "plt.ylabel(\"Distância\")\n",
    "plt.title(\"Curva do Cotovelo para determinar o eps\")\n",
    "plt.show()"
   ]
  },
  {
   "cell_type": "code",
   "execution_count": 264,
   "metadata": {},
   "outputs": [],
   "source": [
    "dbscan = DBSCAN(eps=eps, min_samples=min_samples, metric='precomputed')"
   ]
  },
  {
   "cell_type": "code",
   "execution_count": 265,
   "metadata": {},
   "outputs": [],
   "source": [
    "dbscan_clusters = dbscan.fit_predict(dist_matrix_square)"
   ]
  },
  {
   "cell_type": "code",
   "execution_count": 266,
   "metadata": {},
   "outputs": [
    {
     "data": {
      "text/plain": [
       "1"
      ]
     },
     "execution_count": 266,
     "metadata": {},
     "output_type": "execute_result"
    }
   ],
   "source": [
    "len(movies_in_ratings['DBSCAN_Cluster'].unique())"
   ]
  },
  {
   "cell_type": "code",
   "execution_count": 267,
   "metadata": {},
   "outputs": [
    {
     "name": "stdout",
     "output_type": "stream",
     "text": [
      "Contagem dos clusters formados:\n",
      " DBSCAN_Cluster\n",
      "-1    3706\n",
      "Name: count, dtype: int64\n"
     ]
    }
   ],
   "source": [
    "cluster_counts = movies_in_ratings['DBSCAN_Cluster'].value_counts()\n",
    "print(\"Contagem dos clusters formados:\\n\", cluster_counts)"
   ]
  },
  {
   "cell_type": "markdown",
   "metadata": {},
   "source": [
    "# Número de clusters"
   ]
  },
  {
   "cell_type": "markdown",
   "metadata": {},
   "source": [
    "No Kmeans, verificou-se que um valor ideal estava por volta de 20, onde começou uma queda mais acentuada."
   ]
  },
  {
   "cell_type": "markdown",
   "metadata": {},
   "source": [
    "Nocluster hierárquico usando 21 como número de clsuters tivemos clsuters bem populados, portanto foi uma boa estimativa"
   ]
  },
  {
   "cell_type": "markdown",
   "metadata": {},
   "source": [
    "O dbscan não funcionou como esperado."
   ]
  },
  {
   "cell_type": "markdown",
   "metadata": {},
   "source": [
    "# Análise dos clusters"
   ]
  },
  {
   "cell_type": "markdown",
   "metadata": {},
   "source": [
    "Vamos tentar identificar os clusters dos filmes de terror e ficção científica"
   ]
  },
  {
   "cell_type": "code",
   "execution_count": 82,
   "metadata": {},
   "outputs": [],
   "source": [
    "generos_unicos = set()\n",
    "for generos in movies['Genres']:\n",
    "    for genero in generos:\n",
    "        generos_unicos.add(genero)"
   ]
  },
  {
   "cell_type": "code",
   "execution_count": 86,
   "metadata": {},
   "outputs": [
    {
     "data": {
      "text/plain": [
       "{'Action',\n",
       " 'Adventure',\n",
       " 'Animation',\n",
       " \"Children's\",\n",
       " 'Comedy',\n",
       " 'Crime',\n",
       " 'Documentary',\n",
       " 'Drama',\n",
       " 'Fantasy',\n",
       " 'Film-Noir',\n",
       " 'Horror',\n",
       " 'Musical',\n",
       " 'Mystery',\n",
       " 'Romance',\n",
       " 'Sci-Fi',\n",
       " 'Thriller',\n",
       " 'War',\n",
       " 'Western'}"
      ]
     },
     "execution_count": 86,
     "metadata": {},
     "output_type": "execute_result"
    }
   ],
   "source": [
    "generos_unicos = set()\n",
    "for generos in movies['Genres']:\n",
    "    for genero in generos.split(','):\n",
    "        generos_unicos.add(genero.strip())\n",
    "generos_unicos"
   ]
  },
  {
   "cell_type": "code",
   "execution_count": 88,
   "metadata": {},
   "outputs": [],
   "source": [
    "cluster_genero_predominante_hierarchical = {}\n",
    "cluster_genero_predominante_kmeans = {}"
   ]
  },
  {
   "cell_type": "code",
   "execution_count": 93,
   "metadata": {},
   "outputs": [],
   "source": [
    "# Iterar sobre cada cluster\n",
    "for cluster in movies_in_ratings['KMeans_Cluster'].unique():\n",
    "    # Filtrar o DataFrame para o cluster atual\n",
    "    cluster_df = movies_in_ratings[movies_in_ratings['KMeans_Cluster'] == cluster]\n",
    "    \n",
    "    # Inicializar um dicionário para contar a ocorrência de cada gênero\n",
    "    genero_counts = {genero: 0 for genero in generos_unicos}\n",
    "    \n",
    "    # Contar a ocorrência de cada gênero no cluster\n",
    "    total_filmes_no_cluster = len(cluster_df)\n",
    "    for generos in cluster_df['Genres'].dropna():\n",
    "        for genero in generos.split(','):\n",
    "            if genero in genero_counts:\n",
    "                genero_counts[genero] += 1\n",
    "    \n",
    "    # Determinar o gênero predominante no cluster\n",
    "    if genero_counts:\n",
    "        genero_predominante = max(genero_counts, key=genero_counts.get)\n",
    "        porcentagem = (genero_counts[genero_predominante] / total_filmes_no_cluster) * 100\n",
    "    else:\n",
    "        genero_predominante = None  # Caso não haja gêneros, podemos definir como None ou outra coisa\n",
    "    \n",
    "    # Salvar o resultado no dicionário\n",
    "    cluster_genero_predominante_kmeans[cluster] = (genero_predominante, porcentagem)"
   ]
  },
  {
   "cell_type": "code",
   "execution_count": 94,
   "metadata": {},
   "outputs": [
    {
     "name": "stdout",
     "output_type": "stream",
     "text": [
      "{12: (\"Children's\", 97.5), 18: ('Action', 68.93939393939394), 7: ('Comedy', 57.391304347826086), 9: ('Drama', 62.82722513089005), 16: ('Comedy', 92.5531914893617), 19: ('Drama', 57.34265734265735), 1: ('Action', 73.25581395348837), 4: ('Drama', 62.72401433691756), 2: ('Drama', 48.96551724137931), 0: ('Drama', 54.59459459459459), 8: ('Romance', 50.0), 15: ('Drama', 50.0), 6: ('Comedy', 88.98305084745762), 13: ('Drama', 98.3739837398374), 20: ('Horror', 73.07692307692307), 3: ('Drama', 50.0), 17: ('Horror', 73.91304347826086), 11: ('Action', 50.81967213114754), 10: ('Comedy', 39.175257731958766), 14: ('Horror', 100.0), 5: ('Drama', 33.5)}\n"
     ]
    }
   ],
   "source": [
    "print(cluster_genero_predominante_kmeans)"
   ]
  },
  {
   "cell_type": "markdown",
   "metadata": {},
   "source": [
    "Foi possível encontrar o cluster do Horror"
   ]
  },
  {
   "cell_type": "code",
   "execution_count": 96,
   "metadata": {},
   "outputs": [],
   "source": [
    "# Iterar sobre cada cluster\n",
    "for cluster in movies_in_ratings['Hierarchical_Cluster'].unique():\n",
    "    # Filtrar o DataFrame para o cluster atual\n",
    "    cluster_df = movies_in_ratings[movies_in_ratings['Hierarchical_Cluster'] == cluster]\n",
    "    \n",
    "    # Inicializar um dicionário para contar a ocorrência de cada gênero\n",
    "    genero_counts = {genero: 0 for genero in generos_unicos}\n",
    "    \n",
    "    # Contar a ocorrência de cada gênero no cluster\n",
    "    total_filmes_no_cluster = len(cluster_df)\n",
    "    for generos in cluster_df['Genres'].dropna():\n",
    "        for genero in generos.split(','):\n",
    "            if genero in genero_counts:\n",
    "                genero_counts[genero] += 1\n",
    "    \n",
    "    # Determinar o gênero predominante no cluster\n",
    "    if genero_counts:\n",
    "        genero_predominante = max(genero_counts, key=genero_counts.get)\n",
    "        porcentagem = (genero_counts[genero_predominante] / total_filmes_no_cluster) * 100\n",
    "    else:\n",
    "        genero_predominante = None  # Caso não haja gêneros, podemos definir como None ou outra coisa\n",
    "    \n",
    "    # Salvar o resultado no dicionário\n",
    "    cluster_genero_predominante_hierarchical[cluster] = (genero_predominante, porcentagem)"
   ]
  },
  {
   "cell_type": "code",
   "execution_count": 97,
   "metadata": {},
   "outputs": [
    {
     "name": "stdout",
     "output_type": "stream",
     "text": [
      "{8: ('Comedy', 28.436018957345972), 0: ('Drama', 41.87582562747688), 5: ('Drama', 48.63157894736842), 11: ('Comedy', 37.2093023255814), 6: ('Drama', 44.827586206896555), 10: ('Comedy', 44.099378881987576), 17: ('Drama', 45.0), 7: ('Drama', 35.9375), 4: ('Drama', 38.125), 2: ('Drama', 38.72549019607843), 1: ('Drama', 52.4822695035461), 13: ('Drama', 100.0), 9: ('Horror', 25.0), 19: ('Drama', 49.45054945054945), 14: ('Drama', 53.42465753424658), 18: ('Drama', 61.19402985074627), 16: ('Drama', 58.97435897435898), 12: ('Drama', 58.620689655172406), 15: ('Drama', 42.028985507246375), 3: ('Comedy', 54.385964912280706), 20: ('Drama', 41.46341463414634)}\n"
     ]
    }
   ],
   "source": [
    "print(cluster_genero_predominante_hierarchical)"
   ]
  },
  {
   "cell_type": "markdown",
   "metadata": {},
   "source": [
    "Percebe-se que o cluster teve pouca coerência interna"
   ]
  },
  {
   "cell_type": "code",
   "execution_count": 125,
   "metadata": {},
   "outputs": [
    {
     "name": "stdout",
     "output_type": "stream",
     "text": [
      "Cluster 13 possui 75.0% das classificações no gênero Action\n",
      "Cluster 32 possui 75.0% das classificações no gênero Adventure\n",
      "Cluster 37 possui 72.97297297297297% das classificações no gênero Drama\n",
      "Cluster 59 possui 70.0% das classificações no gênero Drama\n",
      "Cluster 60 possui 82.8125% das classificações no gênero Drama\n",
      "Cluster 68 possui 90.32258064516128% das classificações no gênero Comedy\n",
      "Cluster 80 possui 77.5% das classificações no gênero Drama\n",
      "Cluster 85 possui 80.64516129032258% das classificações no gênero Comedy\n",
      "Cluster 144 possui 72.5% das classificações no gênero Drama\n",
      "Cluster 164 possui 70.2127659574468% das classificações no gênero Drama\n",
      "Cluster 181 possui 71.42857142857143% das classificações no gênero Drama\n"
     ]
    }
   ],
   "source": [
    "for cluster, (genero, porcentagem) in cluster_genero_predominante_db.items():\n",
    "    if porcentagem >= 70:\n",
    "        print(f\"Cluster {cluster} possui {porcentagem}% das classificações no gênero {genero}\")"
   ]
  },
  {
   "cell_type": "markdown",
   "metadata": {},
   "source": [
    "# Exclusão de outliers"
   ]
  },
  {
   "cell_type": "markdown",
   "metadata": {},
   "source": [
    "Consideraremos um outlier como sendo um usuário que tem uma média de avaliação maior que 4,7, ou seja, só avalia os filmes positivamente, podendo ser um trol ou bancado por algum estúdio. Da mesma forma, retiramremos usuários com uma média de avaliações menor ou igual a 2."
   ]
  },
  {
   "cell_type": "code",
   "execution_count": 33,
   "metadata": {},
   "outputs": [],
   "source": [
    "user_mean_ratings = ratings.groupby('UserID')['Rating'].mean()"
   ]
  },
  {
   "cell_type": "code",
   "execution_count": 34,
   "metadata": {},
   "outputs": [
    {
     "data": {
      "text/plain": [
       "UserID\n",
       "1     4.188679\n",
       "2     3.713178\n",
       "3     3.901961\n",
       "4     4.190476\n",
       "5     3.146465\n",
       "6     3.901408\n",
       "7     4.322581\n",
       "8     3.884892\n",
       "9     3.735849\n",
       "10    4.114713\n",
       "Name: Rating, dtype: float64"
      ]
     },
     "execution_count": 34,
     "metadata": {},
     "output_type": "execute_result"
    }
   ],
   "source": [
    "user_mean_ratings.head(10)"
   ]
  },
  {
   "cell_type": "code",
   "execution_count": 35,
   "metadata": {},
   "outputs": [],
   "source": [
    "users_to_exclude = user_mean_ratings[(user_mean_ratings >= 4.7) | (user_mean_ratings <= 2)].index"
   ]
  },
  {
   "cell_type": "code",
   "execution_count": 36,
   "metadata": {},
   "outputs": [
    {
     "data": {
      "text/plain": [
       "Index([  91,  283,  446,  447,  682, 1131, 1670, 2339, 2744, 3324, 3461, 3598,\n",
       "       3902, 4349, 4486, 4539, 4634, 4636, 4649, 4755, 4801, 4925, 5069, 5334,\n",
       "       5768, 5850, 5984],\n",
       "      dtype='int64', name='UserID')"
      ]
     },
     "execution_count": 36,
     "metadata": {},
     "output_type": "execute_result"
    }
   ],
   "source": [
    "users_to_exclude"
   ]
  },
  {
   "cell_type": "code",
   "execution_count": 37,
   "metadata": {},
   "outputs": [],
   "source": [
    "ratings_filtered = ratings[~ratings['UserID'].isin(users_to_exclude)].copy()"
   ]
  },
  {
   "cell_type": "markdown",
   "metadata": {},
   "source": [
    "Precisamos agora gerar novamente as matrizes."
   ]
  },
  {
   "cell_type": "code",
   "execution_count": 38,
   "metadata": {},
   "outputs": [],
   "source": [
    "movies_in_ratings = movies[movies['MovieID'].isin(ratings_filtered['MovieID'])].copy()"
   ]
  },
  {
   "cell_type": "code",
   "execution_count": 39,
   "metadata": {},
   "outputs": [],
   "source": [
    "movies_in_ratings['MovieIDTrue'] = range(1, len(movies_in_ratings) + 1)"
   ]
  },
  {
   "cell_type": "code",
   "execution_count": 40,
   "metadata": {},
   "outputs": [],
   "source": [
    "ratings_filtered.drop(columns=['MovieIDTrue'], inplace= True)"
   ]
  },
  {
   "cell_type": "code",
   "execution_count": 41,
   "metadata": {},
   "outputs": [],
   "source": [
    "ratings_filtered = ratings_filtered.merge(movies_in_ratings[['MovieID', 'MovieIDTrue']], on='MovieID', how='left')"
   ]
  },
  {
   "cell_type": "code",
   "execution_count": 42,
   "metadata": {},
   "outputs": [
    {
     "data": {
      "text/plain": [
       "6013"
      ]
     },
     "execution_count": 42,
     "metadata": {},
     "output_type": "execute_result"
    }
   ],
   "source": [
    "num_users = ratings_filtered['UserID'].nunique()\n",
    "num_users"
   ]
  },
  {
   "cell_type": "code",
   "execution_count": 43,
   "metadata": {},
   "outputs": [
    {
     "data": {
      "text/plain": [
       "3702"
      ]
     },
     "execution_count": 43,
     "metadata": {},
     "output_type": "execute_result"
    }
   ],
   "source": [
    "num_movies = movies_in_ratings['MovieIDTrue'].nunique()\n",
    "num_movies"
   ]
  },
  {
   "cell_type": "code",
   "execution_count": 44,
   "metadata": {},
   "outputs": [],
   "source": [
    "ratings_matrix = np.empty((num_movies, num_users))\n",
    "ratings_matrix[:] = np.nan"
   ]
  },
  {
   "cell_type": "code",
   "execution_count": 45,
   "metadata": {},
   "outputs": [],
   "source": [
    "unique_user_ids = ratings_filtered['UserID'].drop_duplicates().reset_index(drop=True)"
   ]
  },
  {
   "cell_type": "code",
   "execution_count": 46,
   "metadata": {},
   "outputs": [],
   "source": [
    "unique_user_ids = pd.DataFrame(unique_user_ids)\n",
    "unique_user_ids['UserIDTrue'] = range(1, len(unique_user_ids) + 1)"
   ]
  },
  {
   "cell_type": "code",
   "execution_count": 47,
   "metadata": {},
   "outputs": [],
   "source": [
    "ratings_filtered = ratings_filtered.merge(unique_user_ids, on='UserID', how='left')"
   ]
  },
  {
   "cell_type": "code",
   "execution_count": 48,
   "metadata": {},
   "outputs": [
    {
     "data": {
      "text/html": [
       "<div>\n",
       "<style scoped>\n",
       "    .dataframe tbody tr th:only-of-type {\n",
       "        vertical-align: middle;\n",
       "    }\n",
       "\n",
       "    .dataframe tbody tr th {\n",
       "        vertical-align: top;\n",
       "    }\n",
       "\n",
       "    .dataframe thead th {\n",
       "        text-align: right;\n",
       "    }\n",
       "</style>\n",
       "<table border=\"1\" class=\"dataframe\">\n",
       "  <thead>\n",
       "    <tr style=\"text-align: right;\">\n",
       "      <th></th>\n",
       "      <th>UserID</th>\n",
       "      <th>MovieID</th>\n",
       "      <th>Rating</th>\n",
       "      <th>Timestamp</th>\n",
       "      <th>MovieIDTrue</th>\n",
       "      <th>UserIDTrue</th>\n",
       "    </tr>\n",
       "  </thead>\n",
       "  <tbody>\n",
       "    <tr>\n",
       "      <th>998500</th>\n",
       "      <td>6040</td>\n",
       "      <td>1091</td>\n",
       "      <td>1</td>\n",
       "      <td>956716541</td>\n",
       "      <td>1018</td>\n",
       "      <td>6013</td>\n",
       "    </tr>\n",
       "    <tr>\n",
       "      <th>998501</th>\n",
       "      <td>6040</td>\n",
       "      <td>1094</td>\n",
       "      <td>5</td>\n",
       "      <td>956704887</td>\n",
       "      <td>1021</td>\n",
       "      <td>6013</td>\n",
       "    </tr>\n",
       "    <tr>\n",
       "      <th>998502</th>\n",
       "      <td>6040</td>\n",
       "      <td>562</td>\n",
       "      <td>5</td>\n",
       "      <td>956704746</td>\n",
       "      <td>547</td>\n",
       "      <td>6013</td>\n",
       "    </tr>\n",
       "    <tr>\n",
       "      <th>998503</th>\n",
       "      <td>6040</td>\n",
       "      <td>1096</td>\n",
       "      <td>4</td>\n",
       "      <td>956715648</td>\n",
       "      <td>1023</td>\n",
       "      <td>6013</td>\n",
       "    </tr>\n",
       "    <tr>\n",
       "      <th>998504</th>\n",
       "      <td>6040</td>\n",
       "      <td>1097</td>\n",
       "      <td>4</td>\n",
       "      <td>956715569</td>\n",
       "      <td>1024</td>\n",
       "      <td>6013</td>\n",
       "    </tr>\n",
       "  </tbody>\n",
       "</table>\n",
       "</div>"
      ],
      "text/plain": [
       "        UserID  MovieID  Rating  Timestamp  MovieIDTrue  UserIDTrue\n",
       "998500    6040     1091       1  956716541         1018        6013\n",
       "998501    6040     1094       5  956704887         1021        6013\n",
       "998502    6040      562       5  956704746          547        6013\n",
       "998503    6040     1096       4  956715648         1023        6013\n",
       "998504    6040     1097       4  956715569         1024        6013"
      ]
     },
     "execution_count": 48,
     "metadata": {},
     "output_type": "execute_result"
    }
   ],
   "source": [
    "ratings_filtered.tail()"
   ]
  },
  {
   "cell_type": "code",
   "execution_count": 49,
   "metadata": {},
   "outputs": [],
   "source": [
    "for index, row in ratings_filtered.iterrows():\n",
    "    ratings_matrix[row['MovieIDTrue']-1][row['UserIDTrue']-1] = row['Rating']"
   ]
  },
  {
   "cell_type": "code",
   "execution_count": 50,
   "metadata": {},
   "outputs": [],
   "source": [
    "ratings_matrix = replace_nans_with_row_mean(ratings_matrix)"
   ]
  },
  {
   "cell_type": "code",
   "execution_count": 51,
   "metadata": {},
   "outputs": [],
   "source": [
    "ratings_matrix_normalized = np.apply_along_axis(normalize_row, 1, ratings_matrix)"
   ]
  },
  {
   "cell_type": "code",
   "execution_count": 52,
   "metadata": {},
   "outputs": [
    {
     "name": "stdout",
     "output_type": "stream",
     "text": [
      "Número total de NaNs: 0\n"
     ]
    }
   ],
   "source": [
    "total_nans = np.isnan(ratings_matrix_normalized).sum()\n",
    "print(f\"Número total de NaNs: {total_nans}\")"
   ]
  },
  {
   "cell_type": "markdown",
   "metadata": {},
   "source": [
    "# Calculando SVD e PCA"
   ]
  },
  {
   "cell_type": "code",
   "execution_count": 54,
   "metadata": {},
   "outputs": [],
   "source": [
    "pca = PCA()\n",
    "X_pca = pca.fit_transform(ratings_matrix_normalized)"
   ]
  },
  {
   "cell_type": "code",
   "execution_count": 55,
   "metadata": {},
   "outputs": [],
   "source": [
    "explained_variance = np.cumsum(pca.explained_variance_ratio_)"
   ]
  },
  {
   "cell_type": "code",
   "execution_count": 56,
   "metadata": {},
   "outputs": [
    {
     "data": {
      "image/png": "[encoded data removed]",
      "text/plain": [
       "<Figure size 1000x700 with 1 Axes>"
      ]
     },
     "metadata": {},
     "output_type": "display_data"
    }
   ],
   "source": [
    "# Plotar a variância explicada\n",
    "plt.figure(figsize=(10, 7))\n",
    "plt.plot(explained_variance, marker='o', linestyle='--')\n",
    "plt.xlabel('Número de Componentes')\n",
    "plt.ylabel('Variância Explicada Acumulada')\n",
    "plt.title('Variância Explicada Acumulada pelo PCA')\n",
    "plt.grid(True)\n",
    "plt.show()"
   ]
  },
  {
   "cell_type": "code",
   "execution_count": 57,
   "metadata": {},
   "outputs": [
    {
     "name": "stdout",
     "output_type": "stream",
     "text": [
      "Number of components to keep 95% of variance: 1032\n"
     ]
    }
   ],
   "source": [
    "num_components = np.argmax(explained_variance >= 0.8) + 1\n",
    "print(f\"Number of components to keep 95% of variance: {num_components}\")"
   ]
  },
  {
   "cell_type": "code",
   "execution_count": 58,
   "metadata": {},
   "outputs": [
    {
     "name": "stdout",
     "output_type": "stream",
     "text": [
      "Shape of the reduced data: (3702, 1032)\n"
     ]
    }
   ],
   "source": [
    "pca = PCA(n_components=num_components)\n",
    "X_pca_reduced = pca.fit_transform(ratings_matrix_normalized)\n",
    "\n",
    "# Exibir a forma dos dados transformados\n",
    "print(\"Shape of the reduced data:\", X_pca_reduced.shape)"
   ]
  },
  {
   "cell_type": "code",
   "execution_count": null,
   "metadata": {},
   "outputs": [],
   "source": []
  }
 ],
 "metadata": {
  "kernelspec": {
   "display_name": "base",
   "language": "python",
   "name": "python3"
  },
  "language_info": {
   "codemirror_mode": {
    "name": "ipython",
    "version": 3
   },
   "file_extension": ".py",
   "mimetype": "text/x-python",
   "name": "python",
   "nbconvert_exporter": "python",
   "pygments_lexer": "ipython3",
   "version": "3.11.7"
  }
 },
 "nbformat": 4,
 "nbformat_minor": 2
}
