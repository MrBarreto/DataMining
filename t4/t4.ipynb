{
 "cells": [
  {
   "cell_type": "code",
   "execution_count": 1,
   "metadata": {},
   "outputs": [],
   "source": [
    "import requests\n",
    "import os\n",
    "import zipfile\n",
    "import pandas as pd\n",
    "import re\n",
    "from scipy.spatial.distance import pdist, squareform\n",
    "from sklearn.cluster import DBSCAN\n",
    "from sklearn.preprocessing import MinMaxScaler, StandardScaler\n",
    "import matplotlib.pyplot as plt\n",
    "import seaborn as sns\n",
    "from sklearn.metrics.pairwise import euclidean_distances\n",
    "from sklearn.preprocessing import MultiLabelBinarizer\n",
    "import numpy as np\n",
    "from sklearn.cluster import KMeans\n",
    "from kneed import KneeLocator\n",
    "from sklearn.cluster import AgglomerativeClustering\n",
    "from sklearn.neighbors import NearestNeighbors\n",
    "from sklearn.decomposition import PCA, TruncatedSVD"
   ]
  },
  {
   "cell_type": "markdown",
   "metadata": {},
   "source": [
    "# Baixando arquivos"
   ]
  },
  {
   "cell_type": "code",
   "execution_count": 2,
   "metadata": {},
   "outputs": [],
   "source": [
    "url = \"https://files.grouplens.org/datasets/movielens/ml-1m.zip\"\n",
    "url2 = \"https://files.grouplens.org/datasets/movielens/ml-1m-README.txt\"\n",
    "local_filename = \"ml-1m.zip\"\n",
    "local_readme = \"ml-1m-README.txt\""
   ]
  },
  {
   "cell_type": "code",
   "execution_count": 3,
   "metadata": {},
   "outputs": [],
   "source": [
    "with requests.get(url, stream=True) as response:\n",
    "    response.raise_for_status()\n",
    "    with open(local_filename, 'wb') as file:\n",
    "        for chunk in response.iter_content(chunk_size=8192):\n",
    "            file.write(chunk)"
   ]
  },
  {
   "cell_type": "code",
   "execution_count": 4,
   "metadata": {},
   "outputs": [],
   "source": [
    "with requests.get(url2, stream=True) as response:\n",
    "    response.raise_for_status()\n",
    "    with open(local_readme, 'wb') as file:\n",
    "        for chunk in response.iter_content(chunk_size=8192):\n",
    "            file.write(chunk)"
   ]
  },
  {
   "cell_type": "code",
   "execution_count": 5,
   "metadata": {},
   "outputs": [],
   "source": [
    "extract_dir = os.path.dirname(os.path.abspath(local_filename))"
   ]
  },
  {
   "cell_type": "code",
   "execution_count": 6,
   "metadata": {},
   "outputs": [],
   "source": [
    "with zipfile.ZipFile(local_filename, 'r') as zip_ref:\n",
    "    zip_ref.extractall(extract_dir)"
   ]
  },
  {
   "cell_type": "markdown",
   "metadata": {},
   "source": [
    "# Manipulação de dados"
   ]
  },
  {
   "cell_type": "code",
   "execution_count": 2,
   "metadata": {},
   "outputs": [],
   "source": [
    "file_path1 = \"ml-1m/ratings.dat\"\n",
    "file_path2 = \"ml-1m/movies.dat\""
   ]
  },
  {
   "cell_type": "code",
   "execution_count": 3,
   "metadata": {},
   "outputs": [],
   "source": [
    "ratings = pd.read_csv(file_path1, sep='::', engine='python', header=None, names=['UserID', 'MovieID', 'Rating', 'Timestamp'])"
   ]
  },
  {
   "cell_type": "code",
   "execution_count": 4,
   "metadata": {},
   "outputs": [],
   "source": [
    "movies = pd.read_csv(file_path2, sep='::', engine='python', header=None, names=['MovieID', 'Title', 'Genres'], encoding='ISO-8859-1')"
   ]
  },
  {
   "cell_type": "code",
   "execution_count": 5,
   "metadata": {},
   "outputs": [],
   "source": [
    "movies['Genres'] = movies['Genres'].str.replace('|', ',')"
   ]
  },
  {
   "cell_type": "code",
   "execution_count": 6,
   "metadata": {},
   "outputs": [
    {
     "data": {
      "text/html": [
       "<div>\n",
       "<style scoped>\n",
       "    .dataframe tbody tr th:only-of-type {\n",
       "        vertical-align: middle;\n",
       "    }\n",
       "\n",
       "    .dataframe tbody tr th {\n",
       "        vertical-align: top;\n",
       "    }\n",
       "\n",
       "    .dataframe thead th {\n",
       "        text-align: right;\n",
       "    }\n",
       "</style>\n",
       "<table border=\"1\" class=\"dataframe\">\n",
       "  <thead>\n",
       "    <tr style=\"text-align: right;\">\n",
       "      <th></th>\n",
       "      <th>MovieID</th>\n",
       "      <th>Title</th>\n",
       "      <th>Genres</th>\n",
       "    </tr>\n",
       "  </thead>\n",
       "  <tbody>\n",
       "    <tr>\n",
       "      <th>0</th>\n",
       "      <td>1</td>\n",
       "      <td>Toy Story (1995)</td>\n",
       "      <td>Animation,Children's,Comedy</td>\n",
       "    </tr>\n",
       "    <tr>\n",
       "      <th>1</th>\n",
       "      <td>2</td>\n",
       "      <td>Jumanji (1995)</td>\n",
       "      <td>Adventure,Children's,Fantasy</td>\n",
       "    </tr>\n",
       "    <tr>\n",
       "      <th>2</th>\n",
       "      <td>3</td>\n",
       "      <td>Grumpier Old Men (1995)</td>\n",
       "      <td>Comedy,Romance</td>\n",
       "    </tr>\n",
       "    <tr>\n",
       "      <th>3</th>\n",
       "      <td>4</td>\n",
       "      <td>Waiting to Exhale (1995)</td>\n",
       "      <td>Comedy,Drama</td>\n",
       "    </tr>\n",
       "    <tr>\n",
       "      <th>4</th>\n",
       "      <td>5</td>\n",
       "      <td>Father of the Bride Part II (1995)</td>\n",
       "      <td>Comedy</td>\n",
       "    </tr>\n",
       "  </tbody>\n",
       "</table>\n",
       "</div>"
      ],
      "text/plain": [
       "   MovieID                               Title                        Genres\n",
       "0        1                    Toy Story (1995)   Animation,Children's,Comedy\n",
       "1        2                      Jumanji (1995)  Adventure,Children's,Fantasy\n",
       "2        3             Grumpier Old Men (1995)                Comedy,Romance\n",
       "3        4            Waiting to Exhale (1995)                  Comedy,Drama\n",
       "4        5  Father of the Bride Part II (1995)                        Comedy"
      ]
     },
     "execution_count": 6,
     "metadata": {},
     "output_type": "execute_result"
    }
   ],
   "source": [
    "movies.head()"
   ]
  },
  {
   "cell_type": "code",
   "execution_count": 7,
   "metadata": {},
   "outputs": [],
   "source": [
    "movies['Year'] = movies['Title'].apply(lambda x: re.search(r'\\((\\d{4})\\)', x).group(1) if re.search(r'\\((\\d{4})\\)', x) else None)"
   ]
  },
  {
   "cell_type": "code",
   "execution_count": 8,
   "metadata": {},
   "outputs": [
    {
     "data": {
      "text/plain": [
       "MovieID    0\n",
       "Title      0\n",
       "Genres     0\n",
       "Year       0\n",
       "dtype: int64"
      ]
     },
     "execution_count": 8,
     "metadata": {},
     "output_type": "execute_result"
    }
   ],
   "source": [
    "null_counts = movies.isnull().sum()\n",
    "null_counts"
   ]
  },
  {
   "cell_type": "code",
   "execution_count": 9,
   "metadata": {},
   "outputs": [
    {
     "data": {
      "text/plain": [
       "UserID       0\n",
       "MovieID      0\n",
       "Rating       0\n",
       "Timestamp    0\n",
       "dtype: int64"
      ]
     },
     "execution_count": 9,
     "metadata": {},
     "output_type": "execute_result"
    }
   ],
   "source": [
    "null_counts = ratings.isnull().sum()\n",
    "null_counts"
   ]
  },
  {
   "cell_type": "code",
   "execution_count": 10,
   "metadata": {},
   "outputs": [
    {
     "data": {
      "text/plain": [
       "6040"
      ]
     },
     "execution_count": 10,
     "metadata": {},
     "output_type": "execute_result"
    }
   ],
   "source": [
    "num_users = ratings['UserID'].nunique()\n",
    "num_users"
   ]
  },
  {
   "cell_type": "code",
   "execution_count": 11,
   "metadata": {},
   "outputs": [
    {
     "data": {
      "text/plain": [
       "3883"
      ]
     },
     "execution_count": 11,
     "metadata": {},
     "output_type": "execute_result"
    }
   ],
   "source": [
    "num_movies = movies['MovieID'].nunique()\n",
    "num_movies"
   ]
  },
  {
   "cell_type": "code",
   "execution_count": 17,
   "metadata": {},
   "outputs": [],
   "source": [
    "df_genres = movies.copy()\n",
    "df_genres = df_genres.drop('Genres', axis=1).join(movies['Genres'].str.split(',', expand=True).stack().reset_index(level=1, drop=True).rename('Genre'))"
   ]
  },
  {
   "cell_type": "code",
   "execution_count": 18,
   "metadata": {},
   "outputs": [
    {
     "name": "stderr",
     "output_type": "stream",
     "text": [
      "/home/savio/anaconda3/lib/python3.11/site-packages/seaborn/_oldcore.py:1119: FutureWarning: use_inf_as_na option is deprecated and will be removed in a future version. Convert inf values to NaN before operating instead.\n",
      "  with pd.option_context('mode.use_inf_as_na', True):\n"
     ]
    },
    {
     "data": {
      "image/png": "[encoded data removed]",
      "text/plain": [
       "<Figure size 1000x600 with 1 Axes>"
      ]
     },
     "metadata": {},
     "output_type": "display_data"
    }
   ],
   "source": [
    "# 1. Distribuição das Avaliações\n",
    "plt.figure(figsize=(10, 6))\n",
    "sns.histplot(ratings['Rating'], bins=10, kde=True)\n",
    "plt.title('Distribuição das Avaliações')\n",
    "plt.xlabel('Avaliação')\n",
    "plt.ylabel('Contagem')\n",
    "plt.grid(True)\n",
    "plt.show()"
   ]
  },
  {
   "cell_type": "markdown",
   "metadata": {},
   "source": [
    "Podemos ver a grande concentração de notas em 4 estrelas."
   ]
  },
  {
   "cell_type": "code",
   "execution_count": 19,
   "metadata": {},
   "outputs": [
    {
     "data": {
      "image/png": "[encoded data removed]",
      "text/plain": [
       "<Figure size 1200x800 with 1 Axes>"
      ]
     },
     "metadata": {},
     "output_type": "display_data"
    }
   ],
   "source": [
    "plt.figure(figsize=(12, 8))\n",
    "sns.countplot(y='Genre', data=df_genres, order = df_genres['Genre'].value_counts().index)\n",
    "plt.title('Distribuição dos Gêneros')\n",
    "plt.xlabel('Contagem')\n",
    "plt.ylabel('Gênero')\n",
    "plt.grid(True)\n",
    "plt.show()"
   ]
  },
  {
   "cell_type": "code",
   "execution_count": 20,
   "metadata": {},
   "outputs": [
    {
     "data": {
      "image/png": "[encoded data removed]",
      "text/plain": [
       "<Figure size 1400x800 with 1 Axes>"
      ]
     },
     "metadata": {},
     "output_type": "display_data"
    }
   ],
   "source": [
    "plt.figure(figsize=(14, 8))\n",
    "sns.countplot(x='Year', data=movies, order = movies['Year'].value_counts().index)\n",
    "plt.title('Quantidade de Filmes por Ano')\n",
    "plt.xlabel('Ano')\n",
    "plt.ylabel('Quantidade de Filmes')\n",
    "plt.xticks(rotation=90)\n",
    "plt.grid(True)\n",
    "plt.show()"
   ]
  },
  {
   "cell_type": "markdown",
   "metadata": {},
   "source": [
    "# Pré-processamento dos dados:"
   ]
  },
  {
   "cell_type": "code",
   "execution_count": 12,
   "metadata": {},
   "outputs": [],
   "source": [
    "duplicated_ratings = ratings[ratings.duplicated()]"
   ]
  },
  {
   "cell_type": "code",
   "execution_count": 13,
   "metadata": {},
   "outputs": [
    {
     "name": "stdout",
     "output_type": "stream",
     "text": [
      "Não há valores duplicados nas avaliações.\n"
     ]
    }
   ],
   "source": [
    "if not duplicated_ratings.empty:\n",
    "    print(\"Valores duplicados encontrados:\")\n",
    "    print(duplicated_ratings)\n",
    "else:\n",
    "    print(\"Não há valores duplicados nas avaliações.\")"
   ]
  },
  {
   "cell_type": "markdown",
   "metadata": {},
   "source": [
    "Existem filmes que não foram classificados."
   ]
  },
  {
   "cell_type": "code",
   "execution_count": 14,
   "metadata": {},
   "outputs": [],
   "source": [
    "movies_in_ratings = movies[movies['MovieID'].isin(ratings['MovieID'])].copy()"
   ]
  },
  {
   "cell_type": "code",
   "execution_count": 15,
   "metadata": {},
   "outputs": [],
   "source": [
    "movies_in_ratings['MovieIDTrue'] = range(1, len(movies_in_ratings) + 1)"
   ]
  },
  {
   "cell_type": "code",
   "execution_count": 16,
   "metadata": {},
   "outputs": [],
   "source": [
    "ratings = ratings.merge(movies_in_ratings[['MovieID', 'MovieIDTrue']], on='MovieID', how='left')"
   ]
  },
  {
   "cell_type": "code",
   "execution_count": 17,
   "metadata": {},
   "outputs": [
    {
     "data": {
      "text/plain": [
       "3706"
      ]
     },
     "execution_count": 17,
     "metadata": {},
     "output_type": "execute_result"
    }
   ],
   "source": [
    "num_movies = movies_in_ratings['MovieIDTrue'].nunique()\n",
    "num_movies"
   ]
  },
  {
   "cell_type": "markdown",
   "metadata": {},
   "source": [
    "Criando a matriz de classificação, onde as linhas são os filmes e colunas as avaliações"
   ]
  },
  {
   "cell_type": "code",
   "execution_count": 18,
   "metadata": {},
   "outputs": [],
   "source": [
    "ratings_matrix = np.empty((num_movies, num_users))"
   ]
  },
  {
   "cell_type": "code",
   "execution_count": 19,
   "metadata": {},
   "outputs": [],
   "source": [
    "ratings_matrix[:] = np.nan"
   ]
  },
  {
   "cell_type": "code",
   "execution_count": 20,
   "metadata": {},
   "outputs": [],
   "source": [
    "for index, row in ratings.iterrows():\n",
    "    ratings_matrix[row['MovieIDTrue']-1][row['UserID']-1] = row['Rating']"
   ]
  },
  {
   "cell_type": "code",
   "execution_count": 21,
   "metadata": {},
   "outputs": [
    {
     "data": {
      "text/plain": [
       "array([[ 5., nan, nan, ..., nan, nan,  3.],\n",
       "       [nan, nan, nan, ..., nan, nan, nan],\n",
       "       [nan, nan, nan, ..., nan, nan, nan],\n",
       "       ...,\n",
       "       [nan, nan, nan, ..., nan, nan, nan],\n",
       "       [nan, nan, nan, ..., nan, nan, nan],\n",
       "       [nan, nan, nan, ..., nan, nan, nan]])"
      ]
     },
     "execution_count": 21,
     "metadata": {},
     "output_type": "execute_result"
    }
   ],
   "source": [
    "ratings_matrix"
   ]
  },
  {
   "cell_type": "markdown",
   "metadata": {},
   "source": [
    "Substituiremos os valores vazios com a média, de modo que ao aplicar o StandardScaler, esses valores sejam iguais a zero."
   ]
  },
  {
   "cell_type": "code",
   "execution_count": 22,
   "metadata": {},
   "outputs": [],
   "source": [
    "def replace_nans_with_row_mean(matrix):\n",
    "    for i in range(matrix.shape[0]):\n",
    "        row = matrix[i, :]\n",
    "        mean_value = np.nanmean(row)\n",
    "        row[np.isnan(row)] = mean_value\n",
    "    return matrix"
   ]
  },
  {
   "cell_type": "code",
   "execution_count": 23,
   "metadata": {},
   "outputs": [],
   "source": [
    "ratings_matrix = replace_nans_with_row_mean(ratings_matrix)"
   ]
  },
  {
   "cell_type": "code",
   "execution_count": 24,
   "metadata": {},
   "outputs": [
    {
     "data": {
      "text/plain": [
       "array([[5.        , 4.14684641, 4.14684641, ..., 4.14684641, 4.14684641,\n",
       "        3.        ],\n",
       "       [3.20114123, 3.20114123, 3.20114123, ..., 3.20114123, 3.20114123,\n",
       "        3.20114123],\n",
       "       [3.0167364 , 3.0167364 , 3.0167364 , ..., 3.0167364 , 3.0167364 ,\n",
       "        3.0167364 ],\n",
       "       ...,\n",
       "       [3.66666667, 3.66666667, 3.66666667, ..., 3.66666667, 3.66666667,\n",
       "        3.66666667],\n",
       "       [3.9       , 3.9       , 3.9       , ..., 3.9       , 3.9       ,\n",
       "        3.9       ],\n",
       "       [3.78092784, 3.78092784, 3.78092784, ..., 3.78092784, 3.78092784,\n",
       "        3.78092784]])"
      ]
     },
     "execution_count": 24,
     "metadata": {},
     "output_type": "execute_result"
    }
   ],
   "source": [
    "ratings_matrix"
   ]
  },
  {
   "cell_type": "markdown",
   "metadata": {},
   "source": [
    "Aparentemente, alguns filmes tiveram a mesma nota para todos os avaliadores, fazendo com que o desvio padrão seja 0. Por escolha irei atribuir um valor nulo nesses casos."
   ]
  },
  {
   "cell_type": "code",
   "execution_count": 25,
   "metadata": {},
   "outputs": [],
   "source": [
    "def normalize_row(row):\n",
    "    mean = np.mean(row)\n",
    "    std = np.std(row)\n",
    "    mean = np.nanmean(row)\n",
    "    std = np.nanstd(row)\n",
    "    if std == 0:\n",
    "        return np.zeros_like(row)  # Substituir por zeros se o desvio padrão for zero\n",
    "    return (row - mean) / std\n",
    "    return (row - mean) / std"
   ]
  },
  {
   "cell_type": "code",
   "execution_count": 26,
   "metadata": {},
   "outputs": [],
   "source": [
    "ratings_matrix_normalized = np.apply_along_axis(normalize_row, 1, ratings_matrix)"
   ]
  },
  {
   "cell_type": "code",
   "execution_count": 27,
   "metadata": {},
   "outputs": [
    {
     "name": "stdout",
     "output_type": "stream",
     "text": [
      "Número total de NaNs: 0\n"
     ]
    }
   ],
   "source": [
    "total_nans = np.isnan(ratings_matrix_normalized).sum()\n",
    "print(f\"Número total de NaNs: {total_nans}\")"
   ]
  },
  {
   "cell_type": "code",
   "execution_count": 28,
   "metadata": {},
   "outputs": [
    {
     "data": {
      "text/plain": [
       "array([[ 1.70731838e+00,  1.77740956e-15,  1.77740956e-15, ...,\n",
       "         1.77740956e-15,  1.77740956e-15, -2.29505214e+00],\n",
       "       [ 0.00000000e+00,  0.00000000e+00,  0.00000000e+00, ...,\n",
       "         0.00000000e+00,  0.00000000e+00,  0.00000000e+00],\n",
       "       [ 0.00000000e+00,  0.00000000e+00,  0.00000000e+00, ...,\n",
       "         0.00000000e+00,  0.00000000e+00,  0.00000000e+00],\n",
       "       ...,\n",
       "       [ 4.53184131e-15,  4.53184131e-15,  4.53184131e-15, ...,\n",
       "         4.53184131e-15,  4.53184131e-15,  4.53184131e-15],\n",
       "       [ 5.22691510e-15,  5.22691510e-15,  5.22691510e-15, ...,\n",
       "         5.22691510e-15,  5.22691510e-15,  5.22691510e-15],\n",
       "       [ 5.62870295e-15,  5.62870295e-15,  5.62870295e-15, ...,\n",
       "         5.62870295e-15,  5.62870295e-15,  5.62870295e-15]])"
      ]
     },
     "execution_count": 28,
     "metadata": {},
     "output_type": "execute_result"
    }
   ],
   "source": [
    "ratings_matrix_normalized"
   ]
  },
  {
   "cell_type": "markdown",
   "metadata": {},
   "source": [
    "# Matriz de distâncias"
   ]
  },
  {
   "cell_type": "markdown",
   "metadata": {},
   "source": [
    "Calculando a matriz de distância para uso com os métodos de DBScan e Cluster Hierárquico"
   ]
  },
  {
   "cell_type": "code",
   "execution_count": 29,
   "metadata": {},
   "outputs": [],
   "source": [
    "dist_matrix = pdist(ratings_matrix_normalized, metric='euclidean')"
   ]
  },
  {
   "cell_type": "code",
   "execution_count": 30,
   "metadata": {},
   "outputs": [],
   "source": [
    "dist_matrix_square = squareform(dist_matrix)"
   ]
  },
  {
   "cell_type": "code",
   "execution_count": 31,
   "metadata": {},
   "outputs": [
    {
     "data": {
      "text/plain": [
       "array([[  0.        , 105.69494673, 107.3649446 , ..., 109.17594079,\n",
       "        109.26922304, 108.33532832],\n",
       "       [105.69494673,   0.        , 107.94088516, ..., 110.57554306,\n",
       "        110.26061826, 109.60542063],\n",
       "       [107.3649446 , 107.94088516,   0.        , ..., 108.46084939,\n",
       "        108.92857814, 109.09574796],\n",
       "       ...,\n",
       "       [109.17594079, 110.57554306, 108.46084939, ...,   0.        ,\n",
       "        107.70125075, 106.18090639],\n",
       "       [109.26922304, 110.26061826, 108.92857814, ..., 107.70125075,\n",
       "          0.        , 103.6646929 ],\n",
       "       [108.33532832, 109.60542063, 109.09574796, ..., 106.18090639,\n",
       "        103.6646929 ,   0.        ]])"
      ]
     },
     "execution_count": 31,
     "metadata": {},
     "output_type": "execute_result"
    }
   ],
   "source": [
    "dist_matrix_square"
   ]
  },
  {
   "cell_type": "markdown",
   "metadata": {},
   "source": [
    "# Kmeans"
   ]
  },
  {
   "cell_type": "markdown",
   "metadata": {},
   "source": [
    "Vamos utilizar o método do Knee point para obetr uma estimativa inicial do valor de K"
   ]
  },
  {
   "cell_type": "code",
   "execution_count": 32,
   "metadata": {},
   "outputs": [],
   "source": [
    "kmeans_kwargs = {\n",
    "\"init\": \"random\",\n",
    "\"n_init\": 10,\n",
    "\"max_iter\": 300,\n",
    "\"random_state\": 42}"
   ]
  },
  {
   "cell_type": "code",
   "execution_count": 33,
   "metadata": {},
   "outputs": [],
   "source": [
    "sse = []\n",
    "for k in range(1, 81):\n",
    "   kmeans = KMeans(n_clusters=k, **kmeans_kwargs, )\n",
    "   kmeans.fit(ratings_matrix_normalized)\n",
    "   sse.append(kmeans.inertia_)"
   ]
  },
  {
   "cell_type": "code",
   "execution_count": 34,
   "metadata": {},
   "outputs": [
    {
     "data": {
      "image/png": "[encoded data removed]",
      "text/plain": [
       "<Figure size 640x480 with 1 Axes>"
      ]
     },
     "metadata": {},
     "output_type": "display_data"
    }
   ],
   "source": [
    "plt.style.use(\"fivethirtyeight\")\n",
    "plt.plot(range(1, 81), sse)\n",
    "plt.xticks(range(1, 81, 5))\n",
    "plt.xlabel(\"Number of Clusters\")\n",
    "plt.ylabel(\"SSE\")\n",
    "plt.show()"
   ]
  },
  {
   "cell_type": "code",
   "execution_count": 35,
   "metadata": {},
   "outputs": [],
   "source": [
    "kl = KneeLocator(range(1, 81), sse, curve=\"convex\", direction=\"decreasing\")"
   ]
  },
  {
   "cell_type": "code",
   "execution_count": 36,
   "metadata": {},
   "outputs": [
    {
     "data": {
      "text/plain": [
       "20"
      ]
     },
     "execution_count": 36,
     "metadata": {},
     "output_type": "execute_result"
    }
   ],
   "source": [
    "kl.elbow"
   ]
  },
  {
   "cell_type": "markdown",
   "metadata": {},
   "source": [
    "Verificou-se um ponto de cotovelo por volta de 20, mas 20 em si deu resultados bem ruins na clusterização, então aproximei por 21"
   ]
  },
  {
   "cell_type": "code",
   "execution_count": 37,
   "metadata": {},
   "outputs": [],
   "source": [
    "kmeans = KMeans(n_clusters=21, random_state=42, n_init = 10)\n",
    "kmeans_clusters = kmeans.fit_predict(ratings_matrix_normalized)"
   ]
  },
  {
   "cell_type": "code",
   "execution_count": 38,
   "metadata": {},
   "outputs": [],
   "source": [
    "movies_in_ratings['KMeans_Cluster'] = kmeans_clusters"
   ]
  },
  {
   "cell_type": "code",
   "execution_count": 39,
   "metadata": {},
   "outputs": [
    {
     "name": "stdout",
     "output_type": "stream",
     "text": [
      "Contagem dos clusters formados:\n",
      " KMeans_Cluster\n",
      "15    660\n",
      "19    286\n",
      "4     279\n",
      "5     200\n",
      "9     191\n",
      "16    188\n",
      "0     185\n",
      "11    183\n",
      "1     172\n",
      "2     145\n",
      "18    132\n",
      "20    130\n",
      "13    123\n",
      "12    120\n",
      "6     118\n",
      "7     115\n",
      "8     108\n",
      "3     104\n",
      "14    101\n",
      "10     97\n",
      "17     69\n",
      "Name: count, dtype: int64\n"
     ]
    }
   ],
   "source": [
    "cluster_counts = movies_in_ratings['KMeans_Cluster'].value_counts()\n",
    "print(\"Contagem dos clusters formados:\\n\", cluster_counts)"
   ]
  },
  {
   "cell_type": "markdown",
   "metadata": {},
   "source": [
    "# Clustering Hierárquico"
   ]
  },
  {
   "cell_type": "markdown",
   "metadata": {},
   "source": [
    "Usando um número de clusters semelhante ao K Means"
   ]
  },
  {
   "cell_type": "code",
   "execution_count": 40,
   "metadata": {},
   "outputs": [
    {
     "name": "stderr",
     "output_type": "stream",
     "text": [
      "/home/savio/anaconda3/lib/python3.11/site-packages/sklearn/cluster/_agglomerative.py:983: FutureWarning: Attribute `affinity` was deprecated in version 1.2 and will be removed in 1.4. Use `metric` instead\n",
      "  warnings.warn(\n"
     ]
    }
   ],
   "source": [
    "agg_clustering = AgglomerativeClustering(n_clusters=21, affinity='precomputed', linkage='complete')\n",
    "agg_clusters = agg_clustering.fit_predict(dist_matrix_square)"
   ]
  },
  {
   "cell_type": "code",
   "execution_count": 41,
   "metadata": {},
   "outputs": [
    {
     "data": {
      "text/plain": [
       "3706"
      ]
     },
     "execution_count": 41,
     "metadata": {},
     "output_type": "execute_result"
    }
   ],
   "source": [
    "len(agg_clusters)"
   ]
  },
  {
   "cell_type": "code",
   "execution_count": 42,
   "metadata": {},
   "outputs": [],
   "source": [
    "movies_in_ratings['Hierarchical_Cluster'] = agg_clusters"
   ]
  },
  {
   "cell_type": "code",
   "execution_count": 43,
   "metadata": {},
   "outputs": [
    {
     "name": "stdout",
     "output_type": "stream",
     "text": [
      "Contagem dos clusters formados:\n",
      " Hierarchical_Cluster\n",
      "0     757\n",
      "5     475\n",
      "11    430\n",
      "9     236\n",
      "8     211\n",
      "2     204\n",
      "7     192\n",
      "10    161\n",
      "4     160\n",
      "6     145\n",
      "1     141\n",
      "19     91\n",
      "17     80\n",
      "14     73\n",
      "15     69\n",
      "18     67\n",
      "3      57\n",
      "13     48\n",
      "20     41\n",
      "16     39\n",
      "12     29\n",
      "Name: count, dtype: int64\n"
     ]
    }
   ],
   "source": [
    "cluster_counts = movies_in_ratings['Hierarchical_Cluster'].value_counts()\n",
    "print(\"Contagem dos clusters formados:\\n\", cluster_counts)"
   ]
  },
  {
   "cell_type": "markdown",
   "metadata": {},
   "source": [
    "## DBscan"
   ]
  },
  {
   "cell_type": "markdown",
   "metadata": {},
   "source": [
    "Não foi possível fazer um ajuste razoável dos parâmetros sem utilizar o PCA ou SVD"
   ]
  },
  {
   "cell_type": "code",
   "execution_count": 69,
   "metadata": {},
   "outputs": [],
   "source": [
    "eps = 20\n",
    "min_samples = 2"
   ]
  },
  {
   "cell_type": "code",
   "execution_count": 70,
   "metadata": {},
   "outputs": [],
   "source": [
    "dbscan = DBSCAN(eps=eps, min_samples=min_samples, metric='precomputed')"
   ]
  },
  {
   "cell_type": "code",
   "execution_count": 71,
   "metadata": {},
   "outputs": [],
   "source": [
    "dbscan_clusters = dbscan.fit_predict(dist_matrix_square)"
   ]
  },
  {
   "cell_type": "code",
   "execution_count": 72,
   "metadata": {},
   "outputs": [],
   "source": [
    "movies_in_ratings['DBSCAN_Cluster'] = dbscan_clusters"
   ]
  },
  {
   "cell_type": "code",
   "execution_count": 73,
   "metadata": {},
   "outputs": [
    {
     "data": {
      "text/plain": [
       "4"
      ]
     },
     "execution_count": 73,
     "metadata": {},
     "output_type": "execute_result"
    }
   ],
   "source": [
    "len(movies_in_ratings['DBSCAN_Cluster'].unique())"
   ]
  },
  {
   "cell_type": "code",
   "execution_count": 74,
   "metadata": {},
   "outputs": [
    {
     "name": "stdout",
     "output_type": "stream",
     "text": [
      "Contagem dos clusters formados:\n",
      " DBSCAN_Cluster\n",
      "-1    3556\n",
      " 0     146\n",
      " 1       2\n",
      " 2       2\n",
      "Name: count, dtype: int64\n"
     ]
    }
   ],
   "source": [
    "cluster_counts = movies_in_ratings['DBSCAN_Cluster'].value_counts()\n",
    "print(\"Contagem dos clusters formados:\\n\", cluster_counts)"
   ]
  },
  {
   "cell_type": "markdown",
   "metadata": {},
   "source": [
    "# Número de clusters"
   ]
  },
  {
   "cell_type": "markdown",
   "metadata": {},
   "source": [
    "No Kmeans, verificou-se que um valor ideal estava por volta de 20, onde começou uma queda mais acentuada."
   ]
  },
  {
   "cell_type": "markdown",
   "metadata": {},
   "source": [
    "No cluster hierárquico usando 21 como número de clsuters tivemos clsuters bem populados, portanto foi uma boa estimativa"
   ]
  },
  {
   "cell_type": "markdown",
   "metadata": {},
   "source": [
    "O dbscan não funcionou como esperado."
   ]
  },
  {
   "cell_type": "markdown",
   "metadata": {},
   "source": [
    "# Análise dos clusters"
   ]
  },
  {
   "cell_type": "markdown",
   "metadata": {},
   "source": [
    "Vamos tentar identificar os clusters dos filmes de terror e ficção científica"
   ]
  },
  {
   "cell_type": "code",
   "execution_count": 75,
   "metadata": {},
   "outputs": [],
   "source": [
    "generos_unicos = set()\n",
    "for generos in movies['Genres']:\n",
    "    for genero in generos:\n",
    "        generos_unicos.add(genero)"
   ]
  },
  {
   "cell_type": "code",
   "execution_count": 76,
   "metadata": {},
   "outputs": [
    {
     "data": {
      "text/plain": [
       "{'Action',\n",
       " 'Adventure',\n",
       " 'Animation',\n",
       " \"Children's\",\n",
       " 'Comedy',\n",
       " 'Crime',\n",
       " 'Documentary',\n",
       " 'Drama',\n",
       " 'Fantasy',\n",
       " 'Film-Noir',\n",
       " 'Horror',\n",
       " 'Musical',\n",
       " 'Mystery',\n",
       " 'Romance',\n",
       " 'Sci-Fi',\n",
       " 'Thriller',\n",
       " 'War',\n",
       " 'Western'}"
      ]
     },
     "execution_count": 76,
     "metadata": {},
     "output_type": "execute_result"
    }
   ],
   "source": [
    "generos_unicos = set()\n",
    "for generos in movies['Genres']:\n",
    "    for genero in generos.split(','):\n",
    "        generos_unicos.add(genero.strip())\n",
    "generos_unicos"
   ]
  },
  {
   "cell_type": "code",
   "execution_count": 77,
   "metadata": {},
   "outputs": [],
   "source": [
    "cluster_genero_predominante_hierarchical = {}\n",
    "cluster_genero_predominante_kmeans = {}"
   ]
  },
  {
   "cell_type": "code",
   "execution_count": 78,
   "metadata": {},
   "outputs": [],
   "source": [
    "for cluster in movies_in_ratings['KMeans_Cluster'].unique():\n",
    "    cluster_df = movies_in_ratings[movies_in_ratings['KMeans_Cluster'] == cluster]\n",
    "    \n",
    "    genero_counts = {genero: 0 for genero in generos_unicos}\n",
    "    \n",
    "    total_filmes_no_cluster = len(cluster_df)\n",
    "    for generos in cluster_df['Genres'].dropna():\n",
    "        for genero in generos.split(','):\n",
    "            if genero in genero_counts:\n",
    "                genero_counts[genero] += 1\n",
    "    \n",
    "    if genero_counts:\n",
    "        genero_predominante = max(genero_counts, key=genero_counts.get)\n",
    "        porcentagem = (genero_counts[genero_predominante] / total_filmes_no_cluster) * 100\n",
    "    else:\n",
    "        genero_predominante = None  \n",
    "    \n",
    "    cluster_genero_predominante_kmeans[cluster] = (genero_predominante, porcentagem)"
   ]
  },
  {
   "cell_type": "code",
   "execution_count": 79,
   "metadata": {},
   "outputs": [
    {
     "name": "stdout",
     "output_type": "stream",
     "text": [
      "{12: (\"Children's\", 97.5), 18: ('Action', 68.93939393939394), 7: ('Comedy', 57.391304347826086), 9: ('Drama', 62.82722513089005), 16: ('Comedy', 92.5531914893617), 19: ('Drama', 57.34265734265735), 1: ('Action', 73.25581395348837), 4: ('Drama', 62.72401433691756), 2: ('Drama', 48.96551724137931), 0: ('Drama', 54.59459459459459), 8: ('Romance', 50.0), 15: ('Drama', 50.0), 6: ('Comedy', 88.98305084745762), 13: ('Drama', 98.3739837398374), 20: ('Horror', 73.07692307692307), 3: ('Drama', 50.0), 17: ('Horror', 73.91304347826086), 11: ('Action', 50.81967213114754), 10: ('Comedy', 39.175257731958766), 14: ('Horror', 100.0), 5: ('Drama', 33.5)}\n"
     ]
    }
   ],
   "source": [
    "print(cluster_genero_predominante_kmeans)"
   ]
  },
  {
   "cell_type": "code",
   "execution_count": 83,
   "metadata": {},
   "outputs": [],
   "source": [
    "def print_films_in_clusters(df, cluster_col):\n",
    "    rocky_films = ['Rocky (1976)', 'Rocky II (1979)', 'Rocky III (1982)', 'Rocky IV (1985)', 'Rocky V (1990)']\n",
    "    karate_kid = ['Karate Kid, The (1984)', 'Karate Kid, Part II, The (1986)', 'Karate Kid III, The (1989)']\n",
    "    superman_films  = ['Superman (1978)', 'Superman II (1980)', 'Superman III (1983)', 'Superman IV: The Quest for Peace (1987)']\n",
    "    batman_films = ['Batman Forever (1995)', 'Batman (1989)', 'Batman Returns (1992)', 'Batman & Robin (1997)']\n",
    "    godfather_films = ['Godfather: Part III, The (1990)', 'Godfather: Part II, The (1974)', 'Godfather, The (1972)']\n",
    "    starwars_films = ['Star Wars: Episode I - The Phantom Menace (1999)', 'Star Wars: Episode VI - Return of the Jedi (1983)', 'Star Wars: Episode V - The Empire Strikes Back (1980)', 'Star Wars: Episode IV - A New Hope (1977)']\n",
    "    startrek_films = ['Star Trek: First Contact (1996)', 'Star Trek: The Motion Picture (1979)', 'Star Trek VI: The Undiscovered Country (1991)', 'Star Trek V: The Final Frontier (1989)', 'Star Trek: The Wrath of Khan (1982)', 'Star Trek III: The Search for Spock (1984)', 'Star Trek IV: The Voyage Home (1986)', 'Star Trek: Insurrection (1998)']\n",
    "    all_films = {\n",
    "        \"Rocky Films\": rocky_films,\n",
    "        \"Karate Kid\": karate_kid,\n",
    "        \"Superman Films\": superman_films,\n",
    "        \"Batman Films\": batman_films,\n",
    "        \"Godfather Films\": godfather_films,\n",
    "        \"Star Wars Films\": starwars_films,\n",
    "        \"Star Trek Films\": startrek_films\n",
    "    }\n",
    "\n",
    "    for film_category, films in all_films.items():\n",
    "        print(f\"\\n{film_category}:\")\n",
    "        for film in films:\n",
    "            if film in df['Title'].values:\n",
    "                cluster_value = df.loc[df['Title'] == film, cluster_col].values[0]\n",
    "                print(f\"{film}: Cluster {cluster_value}\")\n",
    "            else:\n",
    "                print(f\"{film}: Not found in DataFrame\")"
   ]
  },
  {
   "cell_type": "code",
   "execution_count": 84,
   "metadata": {},
   "outputs": [
    {
     "name": "stdout",
     "output_type": "stream",
     "text": [
      "\n",
      "Rocky Films:\n",
      "Rocky (1976): Cluster 11\n",
      "Rocky II (1979): Cluster 11\n",
      "Rocky III (1982): Cluster 11\n",
      "Rocky IV (1985): Cluster 1\n",
      "Rocky V (1990): Cluster 1\n",
      "\n",
      "Karate Kid:\n",
      "Karate Kid, The (1984): Cluster 11\n",
      "Karate Kid, Part II, The (1986): Cluster 18\n",
      "Karate Kid III, The (1989): Cluster 16\n",
      "\n",
      "Superman Films:\n",
      "Superman (1978): Cluster 11\n",
      "Superman II (1980): Cluster 11\n",
      "Superman III (1983): Cluster 18\n",
      "Superman IV: The Quest for Peace (1987): Cluster 1\n",
      "\n",
      "Batman Films:\n",
      "Batman Forever (1995): Cluster 18\n",
      "Batman (1989): Cluster 11\n",
      "Batman Returns (1992): Cluster 18\n",
      "Batman & Robin (1997): Cluster 18\n",
      "\n",
      "Godfather Films:\n",
      "Godfather: Part III, The (1990): Cluster 18\n",
      "Godfather: Part II, The (1974): Cluster 0\n",
      "Godfather, The (1972): Cluster 0\n",
      "\n",
      "Star Wars Films:\n",
      "Star Wars: Episode I - The Phantom Menace (1999): Cluster 18\n",
      "Star Wars: Episode VI - Return of the Jedi (1983): Cluster 11\n",
      "Star Wars: Episode V - The Empire Strikes Back (1980): Cluster 11\n",
      "Star Wars: Episode IV - A New Hope (1977): Cluster 11\n",
      "\n",
      "Star Trek Films:\n",
      "Star Trek: First Contact (1996): Cluster 11\n",
      "Star Trek: The Motion Picture (1979): Cluster 11\n",
      "Star Trek VI: The Undiscovered Country (1991): Cluster 11\n",
      "Star Trek V: The Final Frontier (1989): Cluster 18\n",
      "Star Trek: The Wrath of Khan (1982): Cluster 11\n",
      "Star Trek III: The Search for Spock (1984): Cluster 11\n",
      "Star Trek IV: The Voyage Home (1986): Cluster 11\n",
      "Star Trek: Insurrection (1998): Cluster 18\n"
     ]
    }
   ],
   "source": [
    "print_films_in_clusters(movies_in_ratings, 'KMeans_Cluster')"
   ]
  },
  {
   "cell_type": "markdown",
   "metadata": {},
   "source": [
    "Podemos ver que nenhuma das franquias escolhidas ficou em um único cluster"
   ]
  },
  {
   "cell_type": "code",
   "execution_count": 85,
   "metadata": {},
   "outputs": [
    {
     "data": {
      "text/plain": [
       "65.90169730390924"
      ]
     },
     "execution_count": 85,
     "metadata": {},
     "output_type": "execute_result"
    }
   ],
   "source": [
    "composicao_media_kmeans = 0\n",
    "for key in cluster_genero_predominante_kmeans:\n",
    "    composicao_media_kmeans += cluster_genero_predominante_kmeans[key][1]\n",
    "composicao_media_kmeans = composicao_media_kmeans/len(cluster_genero_predominante_kmeans)\n",
    "composicao_media_kmeans"
   ]
  },
  {
   "cell_type": "markdown",
   "metadata": {},
   "source": [
    "Foi possível encontrar o cluster do Horror, bem como cluster razoáveis de comédia, infantil e drama"
   ]
  },
  {
   "cell_type": "code",
   "execution_count": 86,
   "metadata": {},
   "outputs": [],
   "source": [
    "for cluster in movies_in_ratings['Hierarchical_Cluster'].unique():\n",
    "    cluster_df = movies_in_ratings[movies_in_ratings['Hierarchical_Cluster'] == cluster]\n",
    "    \n",
    "    genero_counts = {genero: 0 for genero in generos_unicos}\n",
    "    \n",
    "    total_filmes_no_cluster = len(cluster_df)\n",
    "    for generos in cluster_df['Genres'].dropna():\n",
    "        for genero in generos.split(','):\n",
    "            if genero in genero_counts:\n",
    "                genero_counts[genero] += 1\n",
    "    \n",
    "    if genero_counts:\n",
    "        genero_predominante = max(genero_counts, key=genero_counts.get)\n",
    "        porcentagem = (genero_counts[genero_predominante] / total_filmes_no_cluster) * 100\n",
    "    else:\n",
    "        genero_predominante = None \n",
    "    \n",
    "    cluster_genero_predominante_hierarchical[cluster] = (genero_predominante, porcentagem)"
   ]
  },
  {
   "cell_type": "code",
   "execution_count": 87,
   "metadata": {},
   "outputs": [
    {
     "name": "stdout",
     "output_type": "stream",
     "text": [
      "{8: ('Comedy', 28.436018957345972), 0: ('Drama', 41.87582562747688), 5: ('Drama', 48.63157894736842), 11: ('Comedy', 37.2093023255814), 6: ('Drama', 44.827586206896555), 10: ('Comedy', 44.099378881987576), 17: ('Drama', 45.0), 7: ('Drama', 35.9375), 4: ('Comedy', 38.125), 2: ('Drama', 38.72549019607843), 1: ('Drama', 52.4822695035461), 13: ('Drama', 100.0), 9: ('Horror', 25.0), 19: ('Drama', 49.45054945054945), 14: ('Drama', 53.42465753424658), 18: ('Drama', 61.19402985074627), 16: ('Drama', 58.97435897435898), 12: ('Drama', 58.620689655172406), 15: ('Drama', 42.028985507246375), 3: ('Comedy', 54.385964912280706), 20: ('Drama', 41.46341463414634)}\n"
     ]
    }
   ],
   "source": [
    "print(cluster_genero_predominante_hierarchical)"
   ]
  },
  {
   "cell_type": "code",
   "execution_count": 88,
   "metadata": {},
   "outputs": [
    {
     "data": {
      "text/plain": [
       "47.61393338881088"
      ]
     },
     "execution_count": 88,
     "metadata": {},
     "output_type": "execute_result"
    }
   ],
   "source": [
    "composicao_media_hierarquico = 0\n",
    "for key in cluster_genero_predominante_hierarchical:\n",
    "    composicao_media_hierarquico += cluster_genero_predominante_hierarchical[key][1]\n",
    "composicao_media_hierarquico = composicao_media_hierarquico/len(cluster_genero_predominante_hierarchical)\n",
    "composicao_media_hierarquico"
   ]
  },
  {
   "cell_type": "markdown",
   "metadata": {},
   "source": [
    "Percebe-se que o cluster teve pouca coerência interna"
   ]
  },
  {
   "cell_type": "code",
   "execution_count": 89,
   "metadata": {},
   "outputs": [
    {
     "name": "stdout",
     "output_type": "stream",
     "text": [
      "\n",
      "Rocky Films:\n",
      "Rocky (1976): Cluster 0\n",
      "Rocky II (1979): Cluster 0\n",
      "Rocky III (1982): Cluster 0\n",
      "Rocky IV (1985): Cluster 0\n",
      "Rocky V (1990): Cluster 0\n",
      "\n",
      "Karate Kid:\n",
      "Karate Kid, The (1984): Cluster 0\n",
      "Karate Kid, Part II, The (1986): Cluster 0\n",
      "Karate Kid III, The (1989): Cluster 0\n",
      "\n",
      "Superman Films:\n",
      "Superman (1978): Cluster 11\n",
      "Superman II (1980): Cluster 11\n",
      "Superman III (1983): Cluster 0\n",
      "Superman IV: The Quest for Peace (1987): Cluster 0\n",
      "\n",
      "Batman Films:\n",
      "Batman Forever (1995): Cluster 11\n",
      "Batman (1989): Cluster 5\n",
      "Batman Returns (1992): Cluster 5\n",
      "Batman & Robin (1997): Cluster 11\n",
      "\n",
      "Godfather Films:\n",
      "Godfather: Part III, The (1990): Cluster 0\n",
      "Godfather: Part II, The (1974): Cluster 0\n",
      "Godfather, The (1972): Cluster 0\n",
      "\n",
      "Star Wars Films:\n",
      "Star Wars: Episode I - The Phantom Menace (1999): Cluster 5\n",
      "Star Wars: Episode VI - Return of the Jedi (1983): Cluster 5\n",
      "Star Wars: Episode V - The Empire Strikes Back (1980): Cluster 5\n",
      "Star Wars: Episode IV - A New Hope (1977): Cluster 5\n",
      "\n",
      "Star Trek Films:\n",
      "Star Trek: First Contact (1996): Cluster 9\n",
      "Star Trek: The Motion Picture (1979): Cluster 9\n",
      "Star Trek VI: The Undiscovered Country (1991): Cluster 9\n",
      "Star Trek V: The Final Frontier (1989): Cluster 9\n",
      "Star Trek: The Wrath of Khan (1982): Cluster 11\n",
      "Star Trek III: The Search for Spock (1984): Cluster 9\n",
      "Star Trek IV: The Voyage Home (1986): Cluster 11\n",
      "Star Trek: Insurrection (1998): Cluster 9\n"
     ]
    }
   ],
   "source": [
    "print_films_in_clusters(movies_in_ratings, 'Hierarchical_Cluster')"
   ]
  },
  {
   "cell_type": "markdown",
   "metadata": {},
   "source": [
    "Percebemos algumas franquias inteiras em um único cluster, o que na verdade é mais o sintoma de um problema, esses clusters são muito grandes e pouco concisos."
   ]
  },
  {
   "cell_type": "markdown",
   "metadata": {},
   "source": [
    "# Exclusão de outliers"
   ]
  },
  {
   "cell_type": "markdown",
   "metadata": {},
   "source": [
    "Consideraremos um outlier como sendo um usuário que tem uma média de avaliação maior que 4,7, ou seja, só avalia os filmes positivamente, podendo ser um trol ou bancado por algum estúdio. Da mesma forma, retiramremos usuários com uma média de avaliações menor ou igual a 2."
   ]
  },
  {
   "cell_type": "code",
   "execution_count": 90,
   "metadata": {},
   "outputs": [],
   "source": [
    "user_mean_ratings = ratings.groupby('UserID')['Rating'].mean()"
   ]
  },
  {
   "cell_type": "code",
   "execution_count": 91,
   "metadata": {},
   "outputs": [
    {
     "data": {
      "text/plain": [
       "UserID\n",
       "1     4.188679\n",
       "2     3.713178\n",
       "3     3.901961\n",
       "4     4.190476\n",
       "5     3.146465\n",
       "6     3.901408\n",
       "7     4.322581\n",
       "8     3.884892\n",
       "9     3.735849\n",
       "10    4.114713\n",
       "Name: Rating, dtype: float64"
      ]
     },
     "execution_count": 91,
     "metadata": {},
     "output_type": "execute_result"
    }
   ],
   "source": [
    "user_mean_ratings.head(10)"
   ]
  },
  {
   "cell_type": "code",
   "execution_count": 92,
   "metadata": {},
   "outputs": [],
   "source": [
    "users_to_exclude = user_mean_ratings[(user_mean_ratings >= 4.7) | (user_mean_ratings <= 2)].index"
   ]
  },
  {
   "cell_type": "code",
   "execution_count": 93,
   "metadata": {},
   "outputs": [
    {
     "data": {
      "text/plain": [
       "Index([  91,  283,  446,  447,  682, 1131, 1670, 2339, 2744, 3324, 3461, 3598,\n",
       "       3902, 4349, 4486, 4539, 4634, 4636, 4649, 4755, 4801, 4925, 5069, 5334,\n",
       "       5768, 5850, 5984],\n",
       "      dtype='int64', name='UserID')"
      ]
     },
     "execution_count": 93,
     "metadata": {},
     "output_type": "execute_result"
    }
   ],
   "source": [
    "users_to_exclude"
   ]
  },
  {
   "cell_type": "code",
   "execution_count": 94,
   "metadata": {},
   "outputs": [],
   "source": [
    "ratings_filtered = ratings[~ratings['UserID'].isin(users_to_exclude)].copy()"
   ]
  },
  {
   "cell_type": "markdown",
   "metadata": {},
   "source": [
    "Precisamos agora gerar novamente as matrizes."
   ]
  },
  {
   "cell_type": "code",
   "execution_count": 95,
   "metadata": {},
   "outputs": [],
   "source": [
    "movies_in_ratings = movies[movies['MovieID'].isin(ratings_filtered['MovieID'])].copy()"
   ]
  },
  {
   "cell_type": "code",
   "execution_count": 96,
   "metadata": {},
   "outputs": [],
   "source": [
    "movies_in_ratings['MovieIDTrue'] = range(1, len(movies_in_ratings) + 1)"
   ]
  },
  {
   "cell_type": "code",
   "execution_count": 97,
   "metadata": {},
   "outputs": [],
   "source": [
    "ratings_filtered.drop(columns=['MovieIDTrue'], inplace= True)"
   ]
  },
  {
   "cell_type": "code",
   "execution_count": 98,
   "metadata": {},
   "outputs": [],
   "source": [
    "ratings_filtered = ratings_filtered.merge(movies_in_ratings[['MovieID', 'MovieIDTrue']], on='MovieID', how='left')"
   ]
  },
  {
   "cell_type": "code",
   "execution_count": 99,
   "metadata": {},
   "outputs": [
    {
     "data": {
      "text/plain": [
       "6013"
      ]
     },
     "execution_count": 99,
     "metadata": {},
     "output_type": "execute_result"
    }
   ],
   "source": [
    "num_users = ratings_filtered['UserID'].nunique()\n",
    "num_users"
   ]
  },
  {
   "cell_type": "code",
   "execution_count": 100,
   "metadata": {},
   "outputs": [
    {
     "data": {
      "text/plain": [
       "3702"
      ]
     },
     "execution_count": 100,
     "metadata": {},
     "output_type": "execute_result"
    }
   ],
   "source": [
    "num_movies = movies_in_ratings['MovieIDTrue'].nunique()\n",
    "num_movies"
   ]
  },
  {
   "cell_type": "code",
   "execution_count": 101,
   "metadata": {},
   "outputs": [],
   "source": [
    "ratings_matrix = np.empty((num_movies, num_users))\n",
    "ratings_matrix[:] = np.nan"
   ]
  },
  {
   "cell_type": "code",
   "execution_count": 102,
   "metadata": {},
   "outputs": [],
   "source": [
    "unique_user_ids = ratings_filtered['UserID'].drop_duplicates().reset_index(drop=True)"
   ]
  },
  {
   "cell_type": "code",
   "execution_count": 103,
   "metadata": {},
   "outputs": [],
   "source": [
    "unique_user_ids = pd.DataFrame(unique_user_ids)\n",
    "unique_user_ids['UserIDTrue'] = range(1, len(unique_user_ids) + 1)"
   ]
  },
  {
   "cell_type": "code",
   "execution_count": 104,
   "metadata": {},
   "outputs": [],
   "source": [
    "ratings_filtered = ratings_filtered.merge(unique_user_ids, on='UserID', how='left')"
   ]
  },
  {
   "cell_type": "code",
   "execution_count": 105,
   "metadata": {},
   "outputs": [
    {
     "data": {
      "text/html": [
       "<div>\n",
       "<style scoped>\n",
       "    .dataframe tbody tr th:only-of-type {\n",
       "        vertical-align: middle;\n",
       "    }\n",
       "\n",
       "    .dataframe tbody tr th {\n",
       "        vertical-align: top;\n",
       "    }\n",
       "\n",
       "    .dataframe thead th {\n",
       "        text-align: right;\n",
       "    }\n",
       "</style>\n",
       "<table border=\"1\" class=\"dataframe\">\n",
       "  <thead>\n",
       "    <tr style=\"text-align: right;\">\n",
       "      <th></th>\n",
       "      <th>UserID</th>\n",
       "      <th>MovieID</th>\n",
       "      <th>Rating</th>\n",
       "      <th>Timestamp</th>\n",
       "      <th>MovieIDTrue</th>\n",
       "      <th>UserIDTrue</th>\n",
       "    </tr>\n",
       "  </thead>\n",
       "  <tbody>\n",
       "    <tr>\n",
       "      <th>998500</th>\n",
       "      <td>6040</td>\n",
       "      <td>1091</td>\n",
       "      <td>1</td>\n",
       "      <td>956716541</td>\n",
       "      <td>1018</td>\n",
       "      <td>6013</td>\n",
       "    </tr>\n",
       "    <tr>\n",
       "      <th>998501</th>\n",
       "      <td>6040</td>\n",
       "      <td>1094</td>\n",
       "      <td>5</td>\n",
       "      <td>956704887</td>\n",
       "      <td>1021</td>\n",
       "      <td>6013</td>\n",
       "    </tr>\n",
       "    <tr>\n",
       "      <th>998502</th>\n",
       "      <td>6040</td>\n",
       "      <td>562</td>\n",
       "      <td>5</td>\n",
       "      <td>956704746</td>\n",
       "      <td>547</td>\n",
       "      <td>6013</td>\n",
       "    </tr>\n",
       "    <tr>\n",
       "      <th>998503</th>\n",
       "      <td>6040</td>\n",
       "      <td>1096</td>\n",
       "      <td>4</td>\n",
       "      <td>956715648</td>\n",
       "      <td>1023</td>\n",
       "      <td>6013</td>\n",
       "    </tr>\n",
       "    <tr>\n",
       "      <th>998504</th>\n",
       "      <td>6040</td>\n",
       "      <td>1097</td>\n",
       "      <td>4</td>\n",
       "      <td>956715569</td>\n",
       "      <td>1024</td>\n",
       "      <td>6013</td>\n",
       "    </tr>\n",
       "  </tbody>\n",
       "</table>\n",
       "</div>"
      ],
      "text/plain": [
       "        UserID  MovieID  Rating  Timestamp  MovieIDTrue  UserIDTrue\n",
       "998500    6040     1091       1  956716541         1018        6013\n",
       "998501    6040     1094       5  956704887         1021        6013\n",
       "998502    6040      562       5  956704746          547        6013\n",
       "998503    6040     1096       4  956715648         1023        6013\n",
       "998504    6040     1097       4  956715569         1024        6013"
      ]
     },
     "execution_count": 105,
     "metadata": {},
     "output_type": "execute_result"
    }
   ],
   "source": [
    "ratings_filtered.tail()"
   ]
  },
  {
   "cell_type": "code",
   "execution_count": 106,
   "metadata": {},
   "outputs": [],
   "source": [
    "for index, row in ratings_filtered.iterrows():\n",
    "    ratings_matrix[row['MovieIDTrue']-1][row['UserIDTrue']-1] = row['Rating']"
   ]
  },
  {
   "cell_type": "code",
   "execution_count": 107,
   "metadata": {},
   "outputs": [],
   "source": [
    "ratings_matrix = replace_nans_with_row_mean(ratings_matrix)"
   ]
  },
  {
   "cell_type": "code",
   "execution_count": 108,
   "metadata": {},
   "outputs": [],
   "source": [
    "ratings_matrix_normalized = np.apply_along_axis(normalize_row, 1, ratings_matrix)"
   ]
  },
  {
   "cell_type": "code",
   "execution_count": 109,
   "metadata": {},
   "outputs": [
    {
     "name": "stdout",
     "output_type": "stream",
     "text": [
      "Número total de NaNs: 0\n"
     ]
    }
   ],
   "source": [
    "total_nans = np.isnan(ratings_matrix_normalized).sum()\n",
    "print(f\"Número total de NaNs: {total_nans}\")"
   ]
  },
  {
   "cell_type": "markdown",
   "metadata": {},
   "source": [
    "# Calculando SVD e PCA"
   ]
  },
  {
   "cell_type": "code",
   "execution_count": 110,
   "metadata": {},
   "outputs": [],
   "source": [
    "pca = PCA()\n",
    "X_pca = pca.fit_transform(ratings_matrix_normalized)"
   ]
  },
  {
   "cell_type": "code",
   "execution_count": 111,
   "metadata": {},
   "outputs": [],
   "source": [
    "explained_variance = np.cumsum(pca.explained_variance_ratio_)"
   ]
  },
  {
   "cell_type": "code",
   "execution_count": 112,
   "metadata": {},
   "outputs": [
    {
     "data": {
      "image/png": "[encoded data removed]",
      "text/plain": [
       "<Figure size 1000x700 with 1 Axes>"
      ]
     },
     "metadata": {},
     "output_type": "display_data"
    }
   ],
   "source": [
    "plt.figure(figsize=(10, 7))\n",
    "plt.plot(explained_variance, marker='o', linestyle='--')\n",
    "plt.xlabel('Número de Componentes')\n",
    "plt.ylabel('Variância Explicada Acumulada')\n",
    "plt.title('Variância Explicada Acumulada pelo PCA')\n",
    "plt.grid(True)\n",
    "plt.show()"
   ]
  },
  {
   "cell_type": "code",
   "execution_count": 113,
   "metadata": {},
   "outputs": [
    {
     "name": "stdout",
     "output_type": "stream",
     "text": [
      "Número de componentes para manter 80% de variância: 1032\n"
     ]
    }
   ],
   "source": [
    "num_components = np.argmax(explained_variance >= 0.8) + 1\n",
    "print(f\"Número de componentes para manter 80% de variância: {num_components}\")"
   ]
  },
  {
   "cell_type": "markdown",
   "metadata": {},
   "source": [
    "Usaremos o PCA em 20 componentes e o SVD em 80% da variância dos dados"
   ]
  },
  {
   "cell_type": "code",
   "execution_count": 114,
   "metadata": {},
   "outputs": [
    {
     "name": "stdout",
     "output_type": "stream",
     "text": [
      "Formato da matriz reduzida: (3702, 20)\n"
     ]
    }
   ],
   "source": [
    "pca = PCA(n_components=20)\n",
    "X_pca_reduced = pca.fit_transform(ratings_matrix_normalized)\n",
    "\n",
    "print(\"Formato da matriz reduzida:\", X_pca_reduced.shape)"
   ]
  },
  {
   "cell_type": "code",
   "execution_count": 115,
   "metadata": {},
   "outputs": [],
   "source": [
    "pca = PCA(n_components=num_components)\n",
    "X_pca_reduced_80 = pca.fit_transform(ratings_matrix_normalized)"
   ]
  },
  {
   "cell_type": "code",
   "execution_count": 116,
   "metadata": {},
   "outputs": [],
   "source": [
    "svd = TruncatedSVD(n_components=ratings_matrix_normalized.shape[1] - 1)\n",
    "X_svd = svd.fit_transform(ratings_matrix_normalized)"
   ]
  },
  {
   "cell_type": "code",
   "execution_count": 117,
   "metadata": {},
   "outputs": [],
   "source": [
    "explained_variance = np.cumsum(svd.explained_variance_ratio_)"
   ]
  },
  {
   "cell_type": "code",
   "execution_count": 118,
   "metadata": {},
   "outputs": [
    {
     "data": {
      "image/png": "[encoded data removed]",
      "text/plain": [
       "<Figure size 1000x700 with 1 Axes>"
      ]
     },
     "metadata": {},
     "output_type": "display_data"
    }
   ],
   "source": [
    "plt.figure(figsize=(10, 7))\n",
    "plt.plot(explained_variance, marker='o', linestyle='--')\n",
    "plt.xlabel('Número de Componentes')\n",
    "plt.ylabel('Variância Explicada Acumulada')\n",
    "plt.title('Variância Explicada Acumulada pelo SVD')\n",
    "plt.grid(True)\n",
    "plt.show()"
   ]
  },
  {
   "cell_type": "code",
   "execution_count": 119,
   "metadata": {},
   "outputs": [
    {
     "name": "stdout",
     "output_type": "stream",
     "text": [
      "Número de componentes para manter 80% de variância: 1032\n"
     ]
    }
   ],
   "source": [
    "num_components = np.argmax(explained_variance >= 0.8) + 1\n",
    "print(f\"Número de componentes para manter 80% de variância: {num_components}\")"
   ]
  },
  {
   "cell_type": "code",
   "execution_count": 120,
   "metadata": {},
   "outputs": [],
   "source": [
    "svd = TruncatedSVD(n_components=num_components)\n",
    "X_svd_reduced = svd.fit_transform(ratings_matrix_normalized)"
   ]
  },
  {
   "cell_type": "code",
   "execution_count": 121,
   "metadata": {},
   "outputs": [
    {
     "name": "stdout",
     "output_type": "stream",
     "text": [
      "Formato da matriz reduzida: (3702, 1032)\n"
     ]
    }
   ],
   "source": [
    "print(\"Formato da matriz reduzida:\", X_svd_reduced.shape)"
   ]
  },
  {
   "cell_type": "markdown",
   "metadata": {},
   "source": [
    "Printando a diagonal principal da matriz de decomposição:"
   ]
  },
  {
   "cell_type": "code",
   "execution_count": 73,
   "metadata": {},
   "outputs": [],
   "source": [
    "U, Sigma, VT = np.linalg.svd(ratings_matrix_normalized, full_matrices=False)"
   ]
  },
  {
   "cell_type": "code",
   "execution_count": 74,
   "metadata": {},
   "outputs": [
    {
     "data": {
      "image/png": "[encoded data removed]",
      "text/plain": [
       "<Figure size 1000x700 with 1 Axes>"
      ]
     },
     "metadata": {},
     "output_type": "display_data"
    }
   ],
   "source": [
    "plt.figure(figsize=(10, 7))\n",
    "plt.plot(Sigma, marker='o', linestyle='--')\n",
    "plt.xlabel('Índice do Valor Singular')\n",
    "plt.ylabel('Valor Singular')\n",
    "plt.title('Valores Singulares da Decomposição SVD')\n",
    "plt.grid(True)\n",
    "plt.show()"
   ]
  },
  {
   "cell_type": "markdown",
   "metadata": {},
   "source": [
    "Esse gráfico dialoga bem com a variância explicada, Até mais ou menos 1000 valores conseguimos segurar uma boa quantidade de informação dos dados"
   ]
  },
  {
   "cell_type": "markdown",
   "metadata": {},
   "source": [
    "# DBSCAN Reduzido"
   ]
  },
  {
   "cell_type": "code",
   "execution_count": 122,
   "metadata": {},
   "outputs": [],
   "source": [
    "cluster_genero_predominante_DBSCAN_SVD ={}\n",
    "cluster_genero_predominante_DBSCAN_PCA ={}"
   ]
  },
  {
   "cell_type": "code",
   "execution_count": 123,
   "metadata": {},
   "outputs": [],
   "source": [
    "k = 40  \n",
    "nbrs = NearestNeighbors(n_neighbors=k).fit(X_pca_reduced)\n",
    "distances, indices = nbrs.kneighbors(X_pca_reduced)"
   ]
  },
  {
   "cell_type": "code",
   "execution_count": 125,
   "metadata": {},
   "outputs": [
    {
     "data": {
      "image/png": "[encoded data removed]",
      "text/plain": [
       "<Figure size 640x480 with 1 Axes>"
      ]
     },
     "metadata": {},
     "output_type": "display_data"
    }
   ],
   "source": [
    "k_distances = np.sort(distances[:, k-1], axis=0)\n",
    "plt.plot(k_distances)\n",
    "plt.xlabel(\"Pontos ordenados (39º vizinho mais próximo)\")\n",
    "plt.ylabel(\"Distância\")\n",
    "plt.title(\"Curva do Cotovelo para determinar o eps\")\n",
    "plt.show()\n"
   ]
  },
  {
   "cell_type": "markdown",
   "metadata": {},
   "source": [
    "O gráfico fornece que um vbalor entre 20 e 30 para o eps seria razoável, mas por teste, os melhores parâmetros obtidos foram os seguintes:"
   ]
  },
  {
   "cell_type": "code",
   "execution_count": 126,
   "metadata": {},
   "outputs": [],
   "source": [
    "eps = 13\n",
    "min_samples = 4"
   ]
  },
  {
   "cell_type": "code",
   "execution_count": 127,
   "metadata": {},
   "outputs": [],
   "source": [
    "dbscan = DBSCAN(eps=eps, min_samples=min_samples, metric='euclidean')\n",
    "dbscan_clusters = dbscan.fit_predict(X_pca_reduced)"
   ]
  },
  {
   "cell_type": "code",
   "execution_count": 128,
   "metadata": {},
   "outputs": [],
   "source": [
    "movies_in_ratings['DBSCAN_Cluster_PCA'] = dbscan_clusters"
   ]
  },
  {
   "cell_type": "code",
   "execution_count": 129,
   "metadata": {},
   "outputs": [
    {
     "name": "stdout",
     "output_type": "stream",
     "text": [
      "Contagem dos clusters formados:\n",
      " DBSCAN_Cluster_PCA\n",
      " 0     2145\n",
      "-1     1498\n",
      " 6       13\n",
      " 2        8\n",
      " 1        6\n",
      " 10       6\n",
      " 4        6\n",
      " 3        5\n",
      " 8        5\n",
      " 5        4\n",
      " 7        4\n",
      " 9        2\n",
      "Name: count, dtype: int64\n"
     ]
    }
   ],
   "source": [
    "cluster_counts = movies_in_ratings['DBSCAN_Cluster_PCA'].value_counts()\n",
    "print(\"Contagem dos clusters formados:\\n\", cluster_counts) "
   ]
  },
  {
   "cell_type": "code",
   "execution_count": 130,
   "metadata": {},
   "outputs": [],
   "source": [
    "for cluster in movies_in_ratings['DBSCAN_Cluster_PCA'].unique():\n",
    "    cluster_df = movies_in_ratings[movies_in_ratings['DBSCAN_Cluster_PCA'] == cluster]\n",
    "    \n",
    "    genero_counts = {genero: 0 for genero in generos_unicos}\n",
    "\n",
    "    total_filmes_no_cluster = len(cluster_df)\n",
    "    for generos in cluster_df['Genres'].dropna():\n",
    "        for genero in generos.split(','):\n",
    "            if genero in genero_counts:\n",
    "                genero_counts[genero] += 1\n",
    "    \n",
    "\n",
    "    if genero_counts:\n",
    "        genero_predominante = max(genero_counts, key=genero_counts.get)\n",
    "        porcentagem = (genero_counts[genero_predominante] / total_filmes_no_cluster) * 100\n",
    "    else:\n",
    "        genero_predominante = None  \n",
    "    \n",
    "\n",
    "    cluster_genero_predominante_DBSCAN_PCA[cluster] = (genero_predominante, porcentagem)"
   ]
  },
  {
   "cell_type": "code",
   "execution_count": 131,
   "metadata": {},
   "outputs": [
    {
     "name": "stdout",
     "output_type": "stream",
     "text": [
      "{0: ('Drama', 42.09790209790209), -1: ('Drama', 38.11748998664887), 5: ('Action', 75.0), 1: ('Drama', 100.0), 2: ('Comedy', 87.5), 10: ('Action', 66.66666666666666), 4: ('Romance', 66.66666666666666), 3: ('Drama', 80.0), 7: ('Comedy', 100.0), 8: ('Horror', 100.0), 6: ('Horror', 100.0), 9: ('Drama', 100.0)}\n"
     ]
    }
   ],
   "source": [
    "print(cluster_genero_predominante_DBSCAN_PCA)"
   ]
  },
  {
   "cell_type": "markdown",
   "metadata": {},
   "source": [
    "Os clusters até apresentam um grau de coerência alto, mas pelo seu tamanho, não tem tanta significância estatística"
   ]
  },
  {
   "cell_type": "code",
   "execution_count": 133,
   "metadata": {},
   "outputs": [
    {
     "data": {
      "text/plain": [
       "79.67072711815702"
      ]
     },
     "execution_count": 133,
     "metadata": {},
     "output_type": "execute_result"
    }
   ],
   "source": [
    "composicao_media_DBPCA = 0\n",
    "for key in cluster_genero_predominante_DBSCAN_PCA:\n",
    "    composicao_media_DBPCA += cluster_genero_predominante_DBSCAN_PCA[key][1]\n",
    "composicao_media_DBPCA = composicao_media_DBPCA/len(cluster_genero_predominante_DBSCAN_PCA)\n",
    "composicao_media_DBPCA"
   ]
  },
  {
   "cell_type": "code",
   "execution_count": 134,
   "metadata": {},
   "outputs": [
    {
     "name": "stdout",
     "output_type": "stream",
     "text": [
      "\n",
      "Rocky Films:\n",
      "Rocky (1976): Cluster 0\n",
      "Rocky II (1979): Cluster -1\n",
      "Rocky III (1982): Cluster -1\n",
      "Rocky IV (1985): Cluster -1\n",
      "Rocky V (1990): Cluster -1\n",
      "\n",
      "Karate Kid:\n",
      "Karate Kid, The (1984): Cluster -1\n",
      "Karate Kid, Part II, The (1986): Cluster -1\n",
      "Karate Kid III, The (1989): Cluster -1\n",
      "\n",
      "Superman Films:\n",
      "Superman (1978): Cluster 0\n",
      "Superman II (1980): Cluster 0\n",
      "Superman III (1983): Cluster -1\n",
      "Superman IV: The Quest for Peace (1987): Cluster -1\n",
      "\n",
      "Batman Films:\n",
      "Batman Forever (1995): Cluster -1\n",
      "Batman (1989): Cluster -1\n",
      "Batman Returns (1992): Cluster -1\n",
      "Batman & Robin (1997): Cluster -1\n",
      "\n",
      "Godfather Films:\n",
      "Godfather: Part III, The (1990): Cluster 0\n",
      "Godfather: Part II, The (1974): Cluster 0\n",
      "Godfather, The (1972): Cluster 0\n",
      "\n",
      "Star Wars Films:\n",
      "Star Wars: Episode I - The Phantom Menace (1999): Cluster -1\n",
      "Star Wars: Episode VI - Return of the Jedi (1983): Cluster 0\n",
      "Star Wars: Episode V - The Empire Strikes Back (1980): Cluster 0\n",
      "Star Wars: Episode IV - A New Hope (1977): Cluster 0\n",
      "\n",
      "Star Trek Films:\n",
      "Star Trek: First Contact (1996): Cluster 0\n",
      "Star Trek: The Motion Picture (1979): Cluster 0\n",
      "Star Trek VI: The Undiscovered Country (1991): Cluster 0\n",
      "Star Trek V: The Final Frontier (1989): Cluster 0\n",
      "Star Trek: The Wrath of Khan (1982): Cluster 0\n",
      "Star Trek III: The Search for Spock (1984): Cluster 0\n",
      "Star Trek IV: The Voyage Home (1986): Cluster 0\n",
      "Star Trek: Insurrection (1998): Cluster 0\n"
     ]
    }
   ],
   "source": [
    "print_films_in_clusters(movies_in_ratings, 'DBSCAN_Cluster_PCA')"
   ]
  },
  {
   "cell_type": "markdown",
   "metadata": {},
   "source": [
    "Como podemos ver, as franquias de interesse ou ficaram no cluster monolítico  ou foram marcados como ruído."
   ]
  },
  {
   "cell_type": "code",
   "execution_count": 135,
   "metadata": {},
   "outputs": [],
   "source": [
    "k = 1000  \n",
    "nbrs = NearestNeighbors(n_neighbors=k).fit(X_svd_reduced)\n",
    "distances, indices = nbrs.kneighbors(X_svd_reduced)"
   ]
  },
  {
   "cell_type": "code",
   "execution_count": 138,
   "metadata": {},
   "outputs": [
    {
     "data": {
      "image/png": "[encoded data removed]",
      "text/plain": [
       "<Figure size 640x480 with 1 Axes>"
      ]
     },
     "metadata": {},
     "output_type": "display_data"
    }
   ],
   "source": [
    "k_distances = np.sort(distances[:, k-1], axis=0)\n",
    "plt.plot(k_distances)\n",
    "plt.xlabel(\"Pontos ordenados (999º vizinho mais próximo)\")\n",
    "plt.ylabel(\"Distância\")\n",
    "plt.title(\"Curva do Cotovelo para determinar o eps\")\n",
    "plt.show()"
   ]
  },
  {
   "cell_type": "code",
   "execution_count": 137,
   "metadata": {},
   "outputs": [],
   "source": [
    "k_distances = np.sort(distances[:, k-1], axis=0)"
   ]
  },
  {
   "cell_type": "markdown",
   "metadata": {},
   "source": [
    "Novamnete, o melhor parâmetro observado difere do valor obtido na curva."
   ]
  },
  {
   "cell_type": "code",
   "execution_count": 139,
   "metadata": {},
   "outputs": [],
   "source": [
    "eps = 70\n",
    "min_samples = 3"
   ]
  },
  {
   "cell_type": "code",
   "execution_count": 140,
   "metadata": {},
   "outputs": [],
   "source": [
    "dbscan = DBSCAN(eps=eps, min_samples=min_samples, metric='euclidean')\n",
    "dbscan_clusters = dbscan.fit_predict(X_svd_reduced)"
   ]
  },
  {
   "cell_type": "code",
   "execution_count": 141,
   "metadata": {},
   "outputs": [],
   "source": [
    "movies_in_ratings['DBSCAN_Cluster_SVD'] = dbscan_clusters"
   ]
  },
  {
   "cell_type": "code",
   "execution_count": 142,
   "metadata": {},
   "outputs": [
    {
     "name": "stdout",
     "output_type": "stream",
     "text": [
      "Contagem dos clusters formados:\n",
      " DBSCAN_Cluster_SVD\n",
      " 0    2712\n",
      "-1     957\n",
      " 2       6\n",
      " 5       5\n",
      " 8       4\n",
      " 3       3\n",
      " 1       3\n",
      " 4       3\n",
      " 7       3\n",
      " 6       3\n",
      " 9       3\n",
      "Name: count, dtype: int64\n"
     ]
    }
   ],
   "source": [
    "cluster_counts = movies_in_ratings['DBSCAN_Cluster_SVD'].value_counts()\n",
    "print(\"Contagem dos clusters formados:\\n\", cluster_counts) "
   ]
  },
  {
   "cell_type": "code",
   "execution_count": 146,
   "metadata": {},
   "outputs": [],
   "source": [
    "for cluster in movies_in_ratings['DBSCAN_Cluster_SVD'].unique():\n",
    "    cluster_df = movies_in_ratings[movies_in_ratings['DBSCAN_Cluster_SVD'] == cluster]\n",
    "    \n",
    "    genero_counts = {genero: 0 for genero in generos_unicos}\n",
    "\n",
    "    total_filmes_no_cluster = len(cluster_df)\n",
    "    for generos in cluster_df['Genres'].dropna():\n",
    "        for genero in generos.split(','):\n",
    "            if genero in genero_counts:\n",
    "                genero_counts[genero] += 1\n",
    "    \n",
    "\n",
    "    if genero_counts:\n",
    "        genero_predominante = max(genero_counts, key=genero_counts.get)\n",
    "        porcentagem = (genero_counts[genero_predominante] / total_filmes_no_cluster) * 100\n",
    "    else:\n",
    "        genero_predominante = None  \n",
    "    \n",
    "\n",
    "    cluster_genero_predominante_DBSCAN_SVD[cluster] = (genero_predominante, porcentagem)"
   ]
  },
  {
   "cell_type": "code",
   "execution_count": 147,
   "metadata": {},
   "outputs": [
    {
     "name": "stdout",
     "output_type": "stream",
     "text": [
      "{0: ('Drama', 39.74926253687316), -1: ('Drama', 41.692789968652036), 5: ('Comedy', 100.0), 1: ('Drama', 100.0), 2: ('Action', 33.33333333333333), 10: ('Action', 66.66666666666666), 4: ('Thriller', 66.66666666666666), 3: ('Action', 100.0), 7: ('Drama', 66.66666666666666), 8: ('Action', 100.0), 6: ('Horror', 66.66666666666666), 9: ('Horror', 100.0)}\n"
     ]
    }
   ],
   "source": [
    "print(cluster_genero_predominante_DBSCAN_SVD)"
   ]
  },
  {
   "cell_type": "code",
   "execution_count": 148,
   "metadata": {},
   "outputs": [
    {
     "data": {
      "text/plain": [
       "73.45350437546043"
      ]
     },
     "execution_count": 148,
     "metadata": {},
     "output_type": "execute_result"
    }
   ],
   "source": [
    "composicao_media_DBSVD = 0\n",
    "for key in cluster_genero_predominante_DBSCAN_SVD:\n",
    "    composicao_media_DBSVD += cluster_genero_predominante_DBSCAN_SVD[key][1]\n",
    "composicao_media_DBSVD = composicao_media_DBSVD/len(cluster_genero_predominante_DBSCAN_SVD)\n",
    "composicao_media_DBSVD"
   ]
  },
  {
   "cell_type": "code",
   "execution_count": 149,
   "metadata": {},
   "outputs": [
    {
     "name": "stdout",
     "output_type": "stream",
     "text": [
      "\n",
      "Rocky Films:\n",
      "Rocky (1976): Cluster 0\n",
      "Rocky II (1979): Cluster 0\n",
      "Rocky III (1982): Cluster 0\n",
      "Rocky IV (1985): Cluster 0\n",
      "Rocky V (1990): Cluster 0\n",
      "\n",
      "Karate Kid:\n",
      "Karate Kid, The (1984): Cluster 0\n",
      "Karate Kid, Part II, The (1986): Cluster 0\n",
      "Karate Kid III, The (1989): Cluster 0\n",
      "\n",
      "Superman Films:\n",
      "Superman (1978): Cluster 0\n",
      "Superman II (1980): Cluster 0\n",
      "Superman III (1983): Cluster 0\n",
      "Superman IV: The Quest for Peace (1987): Cluster 0\n",
      "\n",
      "Batman Films:\n",
      "Batman Forever (1995): Cluster 0\n",
      "Batman (1989): Cluster 0\n",
      "Batman Returns (1992): Cluster 0\n",
      "Batman & Robin (1997): Cluster 0\n",
      "\n",
      "Godfather Films:\n",
      "Godfather: Part III, The (1990): Cluster 0\n",
      "Godfather: Part II, The (1974): Cluster 0\n",
      "Godfather, The (1972): Cluster 0\n",
      "\n",
      "Star Wars Films:\n",
      "Star Wars: Episode I - The Phantom Menace (1999): Cluster 0\n",
      "Star Wars: Episode VI - Return of the Jedi (1983): Cluster 0\n",
      "Star Wars: Episode V - The Empire Strikes Back (1980): Cluster 0\n",
      "Star Wars: Episode IV - A New Hope (1977): Cluster 0\n",
      "\n",
      "Star Trek Films:\n",
      "Star Trek: First Contact (1996): Cluster 0\n",
      "Star Trek: The Motion Picture (1979): Cluster 0\n",
      "Star Trek VI: The Undiscovered Country (1991): Cluster 0\n",
      "Star Trek V: The Final Frontier (1989): Cluster 0\n",
      "Star Trek: The Wrath of Khan (1982): Cluster 0\n",
      "Star Trek III: The Search for Spock (1984): Cluster 0\n",
      "Star Trek IV: The Voyage Home (1986): Cluster 0\n",
      "Star Trek: Insurrection (1998): Cluster 0\n"
     ]
    }
   ],
   "source": [
    "print_films_in_clusters(movies_in_ratings, 'DBSCAN_Cluster_SVD')"
   ]
  },
  {
   "cell_type": "markdown",
   "metadata": {},
   "source": [
    "O mesmo problema, tivemos bons resultados mas os clusters são muito pequenos. E mesmo alterando diversos parâmetros, não consegui quebrar esse primeiro grande cluster. E dessa vez tivemos menos filmes marcados como ruído"
   ]
  },
  {
   "cell_type": "markdown",
   "metadata": {},
   "source": [
    "# KMeans Reduzido"
   ]
  },
  {
   "cell_type": "code",
   "execution_count": 150,
   "metadata": {},
   "outputs": [],
   "source": [
    "cluster_genero_predominante_kmeans_PCA = {}\n",
    "cluster_genero_predominante_kmeans_SVD = {}"
   ]
  },
  {
   "cell_type": "code",
   "execution_count": 151,
   "metadata": {},
   "outputs": [],
   "source": [
    "kmeans_kwargs = {\n",
    "\"init\": \"random\",\n",
    "\"n_init\": 10,\n",
    "\"max_iter\": 300,\n",
    "\"random_state\": 42}"
   ]
  },
  {
   "cell_type": "code",
   "execution_count": 153,
   "metadata": {},
   "outputs": [],
   "source": [
    "sse = []\n",
    "for k in range(1, 81):\n",
    "   kmeans = KMeans(n_clusters=k, **kmeans_kwargs, )\n",
    "   kmeans.fit(X_pca_reduced)\n",
    "   sse.append(kmeans.inertia_)"
   ]
  },
  {
   "cell_type": "code",
   "execution_count": 154,
   "metadata": {},
   "outputs": [
    {
     "data": {
      "image/png": "[encoded data removed]",
      "text/plain": [
       "<Figure size 640x480 with 1 Axes>"
      ]
     },
     "metadata": {},
     "output_type": "display_data"
    }
   ],
   "source": [
    "plt.style.use(\"fivethirtyeight\")\n",
    "plt.plot(range(1, 81), sse)\n",
    "plt.xticks(range(1, 81, 5))\n",
    "plt.xlabel(\"Number of Clusters\")\n",
    "plt.ylabel(\"SSE\")\n",
    "plt.show()"
   ]
  },
  {
   "cell_type": "code",
   "execution_count": 155,
   "metadata": {},
   "outputs": [],
   "source": [
    "kl = KneeLocator(range(1, 81), sse, curve=\"convex\", direction=\"decreasing\")"
   ]
  },
  {
   "cell_type": "code",
   "execution_count": 156,
   "metadata": {},
   "outputs": [
    {
     "data": {
      "text/plain": [
       "23"
      ]
     },
     "execution_count": 156,
     "metadata": {},
     "output_type": "execute_result"
    }
   ],
   "source": [
    "kl.elbow"
   ]
  },
  {
   "cell_type": "markdown",
   "metadata": {},
   "source": [
    "Usei um valor próximo ao recomendado, pelo mesmo motivo."
   ]
  },
  {
   "cell_type": "code",
   "execution_count": 157,
   "metadata": {},
   "outputs": [],
   "source": [
    "kmeans = KMeans(n_clusters=24, random_state=42, n_init = 10)\n",
    "kmeans_clusters = kmeans.fit_predict(X_pca_reduced)"
   ]
  },
  {
   "cell_type": "code",
   "execution_count": 158,
   "metadata": {},
   "outputs": [],
   "source": [
    "movies_in_ratings['KMeans_Cluster_PCA'] = kmeans_clusters"
   ]
  },
  {
   "cell_type": "code",
   "execution_count": 159,
   "metadata": {},
   "outputs": [
    {
     "name": "stdout",
     "output_type": "stream",
     "text": [
      "Contagem dos clusters formados:\n",
      " KMeans_Cluster_PCA\n",
      "1     675\n",
      "11    312\n",
      "15    283\n",
      "0     277\n",
      "2     239\n",
      "21    220\n",
      "18    199\n",
      "20    171\n",
      "12    170\n",
      "16    129\n",
      "6     125\n",
      "8     116\n",
      "19    115\n",
      "5     108\n",
      "22     97\n",
      "10     91\n",
      "7      90\n",
      "9      86\n",
      "4      55\n",
      "23     42\n",
      "14     32\n",
      "3      31\n",
      "17     24\n",
      "13     15\n",
      "Name: count, dtype: int64\n"
     ]
    }
   ],
   "source": [
    "cluster_counts = movies_in_ratings['KMeans_Cluster_PCA'].value_counts()\n",
    "print(\"Contagem dos clusters formados:\\n\", cluster_counts)"
   ]
  },
  {
   "cell_type": "code",
   "execution_count": 160,
   "metadata": {},
   "outputs": [],
   "source": [
    "cluster_genero_predominante_kmeans_PCA = {}\n",
    "for cluster in movies_in_ratings['KMeans_Cluster_PCA'].unique():\n",
    "    cluster_df = movies_in_ratings[movies_in_ratings['KMeans_Cluster_PCA'] == cluster]\n",
    "    \n",
    "    genero_counts = {genero: 0 for genero in generos_unicos}\n",
    "    \n",
    "    total_filmes_no_cluster = len(cluster_df)\n",
    "    for generos in cluster_df['Genres'].dropna():\n",
    "        for genero in generos.split(','):\n",
    "            if genero in genero_counts:\n",
    "                genero_counts[genero] += 1\n",
    "    \n",
    "    if genero_counts:\n",
    "        genero_predominante = max(genero_counts, key=genero_counts.get)\n",
    "        porcentagem = (genero_counts[genero_predominante] / total_filmes_no_cluster) * 100\n",
    "    else:\n",
    "        genero_predominante = None \n",
    "    \n",
    "    cluster_genero_predominante_kmeans_PCA[cluster] = (genero_predominante, porcentagem)"
   ]
  },
  {
   "cell_type": "code",
   "execution_count": 161,
   "metadata": {},
   "outputs": [
    {
     "name": "stdout",
     "output_type": "stream",
     "text": [
      "{20: (\"Children's\", 83.04093567251462), 18: ('Comedy', 92.46231155778895), 0: ('Drama', 62.093862815884485), 2: ('Action', 80.3347280334728), 11: ('Drama', 45.51282051282051), 15: ('Drama', 74.20494699646643), 4: ('Drama', 50.90909090909091), 16: ('Drama', 58.91472868217055), 1: ('Drama', 44.0), 8: ('Drama', 31.03448275862069), 19: ('Romance', 49.56521739130435), 5: ('Drama', 98.14814814814815), 22: ('Drama', 56.70103092783505), 6: ('Horror', 97.6), 17: ('Drama', 95.83333333333334), 7: ('Drama', 55.55555555555556), 10: ('Horror', 79.12087912087912), 21: ('Action', 49.09090909090909), 13: ('Drama', 86.66666666666667), 9: ('Comedy', 41.86046511627907), 12: ('Drama', 34.705882352941174), 14: ('Drama', 31.25), 23: ('Comedy', 30.952380952380953), 3: ('Drama', 38.70967741935484)}\n"
     ]
    }
   ],
   "source": [
    "print(cluster_genero_predominante_kmeans_PCA)"
   ]
  },
  {
   "cell_type": "code",
   "execution_count": 162,
   "metadata": {},
   "outputs": [
    {
     "data": {
      "text/plain": [
       "61.17783558393407"
      ]
     },
     "execution_count": 162,
     "metadata": {},
     "output_type": "execute_result"
    }
   ],
   "source": [
    "composicao_media_KPCA = 0\n",
    "for key in cluster_genero_predominante_kmeans_PCA:\n",
    "    composicao_media_KPCA += cluster_genero_predominante_kmeans_PCA[key][1]\n",
    "composicao_media_KPCA = composicao_media_KPCA/len(cluster_genero_predominante_kmeans_PCA)\n",
    "composicao_media_KPCA"
   ]
  },
  {
   "cell_type": "code",
   "execution_count": 163,
   "metadata": {},
   "outputs": [
    {
     "name": "stdout",
     "output_type": "stream",
     "text": [
      "\n",
      "Rocky Films:\n",
      "Rocky (1976): Cluster 21\n",
      "Rocky II (1979): Cluster 21\n",
      "Rocky III (1982): Cluster 21\n",
      "Rocky IV (1985): Cluster 18\n",
      "Rocky V (1990): Cluster 2\n",
      "\n",
      "Karate Kid:\n",
      "Karate Kid, The (1984): Cluster 0\n",
      "Karate Kid, Part II, The (1986): Cluster 18\n",
      "Karate Kid III, The (1989): Cluster 18\n",
      "\n",
      "Superman Films:\n",
      "Superman (1978): Cluster 21\n",
      "Superman II (1980): Cluster 21\n",
      "Superman III (1983): Cluster 2\n",
      "Superman IV: The Quest for Peace (1987): Cluster 2\n",
      "\n",
      "Batman Films:\n",
      "Batman Forever (1995): Cluster 2\n",
      "Batman (1989): Cluster 21\n",
      "Batman Returns (1992): Cluster 2\n",
      "Batman & Robin (1997): Cluster 2\n",
      "\n",
      "Godfather Films:\n",
      "Godfather: Part III, The (1990): Cluster 0\n",
      "Godfather: Part II, The (1974): Cluster 11\n",
      "Godfather, The (1972): Cluster 11\n",
      "\n",
      "Star Wars Films:\n",
      "Star Wars: Episode I - The Phantom Menace (1999): Cluster 2\n",
      "Star Wars: Episode VI - Return of the Jedi (1983): Cluster 21\n",
      "Star Wars: Episode V - The Empire Strikes Back (1980): Cluster 21\n",
      "Star Wars: Episode IV - A New Hope (1977): Cluster 21\n",
      "\n",
      "Star Trek Films:\n",
      "Star Trek: First Contact (1996): Cluster 21\n",
      "Star Trek: The Motion Picture (1979): Cluster 21\n",
      "Star Trek VI: The Undiscovered Country (1991): Cluster 21\n",
      "Star Trek V: The Final Frontier (1989): Cluster 2\n",
      "Star Trek: The Wrath of Khan (1982): Cluster 21\n",
      "Star Trek III: The Search for Spock (1984): Cluster 21\n",
      "Star Trek IV: The Voyage Home (1986): Cluster 21\n",
      "Star Trek: Insurrection (1998): Cluster 2\n"
     ]
    }
   ],
   "source": [
    "print_films_in_clusters(movies_in_ratings, 'KMeans_Cluster_PCA')"
   ]
  },
  {
   "cell_type": "markdown",
   "metadata": {},
   "source": [
    "Resultado muito próximo ao sem PCA"
   ]
  },
  {
   "cell_type": "code",
   "execution_count": 164,
   "metadata": {},
   "outputs": [],
   "source": [
    "sse = []\n",
    "for k in range(1, 81):\n",
    "   kmeans = KMeans(n_clusters=k, **kmeans_kwargs, )\n",
    "   kmeans.fit(X_svd_reduced)\n",
    "   sse.append(kmeans.inertia_)"
   ]
  },
  {
   "cell_type": "code",
   "execution_count": 165,
   "metadata": {},
   "outputs": [
    {
     "data": {
      "image/png": "[encoded data removed]",
      "text/plain": [
       "<Figure size 640x480 with 1 Axes>"
      ]
     },
     "metadata": {},
     "output_type": "display_data"
    }
   ],
   "source": [
    "plt.style.use(\"fivethirtyeight\")\n",
    "plt.plot(range(1, 81), sse)\n",
    "plt.xticks(range(1, 81, 5))\n",
    "plt.xlabel(\"Number of Clusters\")\n",
    "plt.ylabel(\"SSE\")\n",
    "plt.show()"
   ]
  },
  {
   "cell_type": "code",
   "execution_count": 166,
   "metadata": {},
   "outputs": [
    {
     "data": {
      "text/plain": [
       "23"
      ]
     },
     "execution_count": 166,
     "metadata": {},
     "output_type": "execute_result"
    }
   ],
   "source": [
    "kl.elbow"
   ]
  },
  {
   "cell_type": "code",
   "execution_count": 173,
   "metadata": {},
   "outputs": [],
   "source": [
    "kmeans = KMeans(n_clusters=24, random_state=42, n_init = 10)\n",
    "kmeans_clusters = kmeans.fit_predict(X_svd_reduced)"
   ]
  },
  {
   "cell_type": "code",
   "execution_count": 174,
   "metadata": {},
   "outputs": [],
   "source": [
    "movies_in_ratings['KMeans_Cluster_SVD'] = kmeans_clusters"
   ]
  },
  {
   "cell_type": "code",
   "execution_count": 176,
   "metadata": {},
   "outputs": [
    {
     "name": "stdout",
     "output_type": "stream",
     "text": [
      "Contagem dos clusters formados:\n",
      " KMeans_Cluster_SVD\n",
      "9     611\n",
      "16    236\n",
      "7     223\n",
      "13    212\n",
      "5     210\n",
      "11    207\n",
      "14    192\n",
      "8     190\n",
      "17    169\n",
      "15    151\n",
      "2     142\n",
      "18    139\n",
      "12    123\n",
      "1     113\n",
      "3     112\n",
      "6     109\n",
      "10    104\n",
      "21    104\n",
      "4      85\n",
      "23     78\n",
      "0      70\n",
      "19     49\n",
      "22     39\n",
      "20     34\n",
      "Name: count, dtype: int64\n"
     ]
    }
   ],
   "source": [
    "cluster_counts = movies_in_ratings['KMeans_Cluster_SVD'].value_counts()\n",
    "print(\"Contagem dos clusters formados:\\n\", cluster_counts)"
   ]
  },
  {
   "cell_type": "code",
   "execution_count": 171,
   "metadata": {},
   "outputs": [],
   "source": [
    "for cluster in movies_in_ratings['KMeans_Cluster_SVD'].unique():\n",
    "    cluster_df = movies_in_ratings[movies_in_ratings['KMeans_Cluster_SVD'] == cluster]\n",
    "    \n",
    "    genero_counts = {genero: 0 for genero in generos_unicos}\n",
    "    \n",
    "\n",
    "    total_filmes_no_cluster = len(cluster_df)\n",
    "    for generos in cluster_df['Genres'].dropna():\n",
    "        for genero in generos.split(','):\n",
    "            if genero in genero_counts:\n",
    "                genero_counts[genero] += 1\n",
    "    \n",
    "    if genero_counts:\n",
    "        genero_predominante = max(genero_counts, key=genero_counts.get)\n",
    "        porcentagem = (genero_counts[genero_predominante] / total_filmes_no_cluster) * 100\n",
    "    else:\n",
    "        genero_predominante = None\n",
    "    \n",
    "    cluster_genero_predominante_kmeans_SVD[cluster] = (genero_predominante, porcentagem)"
   ]
  },
  {
   "cell_type": "code",
   "execution_count": 172,
   "metadata": {},
   "outputs": [
    {
     "name": "stdout",
     "output_type": "stream",
     "text": [
      "{2: (\"Children's\", 95.07042253521126), 3: ('Comedy', 51.78571428571429), 14: ('Drama', 63.020833333333336), 7: ('Comedy', 48.4304932735426), 16: ('Drama', 53.38983050847458), 13: ('Action', 82.54716981132076), 11: ('Comedy', 42.028985507246375), 1: ('Comedy', 96.46017699115043), 0: ('Drama', 51.42857142857142), 9: ('Drama', 45.99018003273322), 19: ('Drama', 85.71428571428571), 10: ('Romance', 52.88461538461539), 8: ('Drama', 53.1578947368421), 15: ('Drama', 52.317880794701985), 12: ('Drama', 97.5609756097561), 22: ('Comedy', 53.84615384615385), 17: ('Horror', 93.49112426035504), 4: ('Drama', 51.76470588235295), 23: ('Horror', 83.33333333333334), 5: ('Drama', 73.33333333333333), 6: ('Drama', 30.275229357798167), 20: ('Comedy', 64.70588235294117), 21: ('Drama', 38.46153846153847), 18: ('Action', 42.44604316546763)}\n"
     ]
    }
   ],
   "source": [
    "print(cluster_genero_predominante_kmeans_SVD)"
   ]
  },
  {
   "cell_type": "code",
   "execution_count": 177,
   "metadata": {},
   "outputs": [
    {
     "data": {
      "text/plain": [
       "62.643557247532236"
      ]
     },
     "execution_count": 177,
     "metadata": {},
     "output_type": "execute_result"
    }
   ],
   "source": [
    "composicao_media_KSVD = 0\n",
    "for key in cluster_genero_predominante_kmeans_SVD:\n",
    "    composicao_media_KSVD += cluster_genero_predominante_kmeans_SVD[key][1]\n",
    "composicao_media_KSVD = composicao_media_KSVD/len(cluster_genero_predominante_kmeans_SVD)\n",
    "composicao_media_KSVD"
   ]
  },
  {
   "cell_type": "code",
   "execution_count": 178,
   "metadata": {},
   "outputs": [
    {
     "name": "stdout",
     "output_type": "stream",
     "text": [
      "\n",
      "Rocky Films:\n",
      "Rocky (1976): Cluster 11\n",
      "Rocky II (1979): Cluster 11\n",
      "Rocky III (1982): Cluster 11\n",
      "Rocky IV (1985): Cluster 11\n",
      "Rocky V (1990): Cluster 13\n",
      "\n",
      "Karate Kid:\n",
      "Karate Kid, The (1984): Cluster 11\n",
      "Karate Kid, Part II, The (1986): Cluster 11\n",
      "Karate Kid III, The (1989): Cluster 13\n",
      "\n",
      "Superman Films:\n",
      "Superman (1978): Cluster 11\n",
      "Superman II (1980): Cluster 11\n",
      "Superman III (1983): Cluster 13\n",
      "Superman IV: The Quest for Peace (1987): Cluster 13\n",
      "\n",
      "Batman Films:\n",
      "Batman Forever (1995): Cluster 13\n",
      "Batman (1989): Cluster 11\n",
      "Batman Returns (1992): Cluster 11\n",
      "Batman & Robin (1997): Cluster 13\n",
      "\n",
      "Godfather Films:\n",
      "Godfather: Part III, The (1990): Cluster 13\n",
      "Godfather: Part II, The (1974): Cluster 16\n",
      "Godfather, The (1972): Cluster 16\n",
      "\n",
      "Star Wars Films:\n",
      "Star Wars: Episode I - The Phantom Menace (1999): Cluster 11\n",
      "Star Wars: Episode VI - Return of the Jedi (1983): Cluster 11\n",
      "Star Wars: Episode V - The Empire Strikes Back (1980): Cluster 11\n",
      "Star Wars: Episode IV - A New Hope (1977): Cluster 11\n",
      "\n",
      "Star Trek Films:\n",
      "Star Trek: First Contact (1996): Cluster 11\n",
      "Star Trek: The Motion Picture (1979): Cluster 11\n",
      "Star Trek VI: The Undiscovered Country (1991): Cluster 11\n",
      "Star Trek V: The Final Frontier (1989): Cluster 11\n",
      "Star Trek: The Wrath of Khan (1982): Cluster 11\n",
      "Star Trek III: The Search for Spock (1984): Cluster 11\n",
      "Star Trek IV: The Voyage Home (1986): Cluster 11\n",
      "Star Trek: Insurrection (1998): Cluster 13\n"
     ]
    }
   ],
   "source": [
    "print_films_in_clusters(movies_in_ratings, 'KMeans_Cluster_SVD')"
   ]
  },
  {
   "cell_type": "markdown",
   "metadata": {},
   "source": [
    "Conseguimos encontrar todos os filmes de star wars e quase todos de star trek em um mesmo cluster, o que mostra uma evolução frente aos anteriores"
   ]
  },
  {
   "cell_type": "markdown",
   "metadata": {},
   "source": [
    "Verificaremos o PCA com a mesma dimensionalidade"
   ]
  },
  {
   "cell_type": "code",
   "execution_count": 182,
   "metadata": {},
   "outputs": [],
   "source": [
    "kmeans = KMeans(n_clusters=23, random_state=42, n_init = 10)\n",
    "kmeans_clusters = kmeans.fit_predict(X_pca_reduced_80)"
   ]
  },
  {
   "cell_type": "code",
   "execution_count": 183,
   "metadata": {},
   "outputs": [],
   "source": [
    "movies_in_ratings['KMeans_Cluster_PCA80)'] = kmeans_clusters"
   ]
  },
  {
   "cell_type": "code",
   "execution_count": 184,
   "metadata": {},
   "outputs": [
    {
     "name": "stdout",
     "output_type": "stream",
     "text": [
      "Contagem dos clusters formados:\n",
      " KMeans_Cluster_PCA80)\n",
      "6     654\n",
      "4     419\n",
      "16    285\n",
      "8     228\n",
      "10    220\n",
      "13    152\n",
      "15    145\n",
      "22    143\n",
      "19    141\n",
      "5     126\n",
      "9     125\n",
      "14    110\n",
      "21    107\n",
      "2     106\n",
      "12    101\n",
      "3      94\n",
      "18     93\n",
      "20     93\n",
      "1      90\n",
      "7      85\n",
      "11     70\n",
      "0      67\n",
      "17     48\n",
      "Name: count, dtype: int64\n"
     ]
    }
   ],
   "source": [
    "cluster_counts = movies_in_ratings['KMeans_Cluster_PCA80)'].value_counts()\n",
    "print(\"Contagem dos clusters formados:\\n\", cluster_counts)"
   ]
  },
  {
   "cell_type": "code",
   "execution_count": 185,
   "metadata": {},
   "outputs": [],
   "source": [
    "for cluster in movies_in_ratings['KMeans_Cluster_PCA80)'].unique():\n",
    "    cluster_df = movies_in_ratings[movies_in_ratings['KMeans_Cluster_PCA80)'] == cluster]\n",
    "    \n",
    "    genero_counts = {genero: 0 for genero in generos_unicos}\n",
    "    \n",
    "    total_filmes_no_cluster = len(cluster_df)\n",
    "    for generos in cluster_df['Genres'].dropna():\n",
    "        for genero in generos.split(','):\n",
    "            if genero in genero_counts:\n",
    "                genero_counts[genero] += 1\n",
    "    \n",
    "    if genero_counts:\n",
    "        genero_predominante = max(genero_counts, key=genero_counts.get)\n",
    "        porcentagem = (genero_counts[genero_predominante] / total_filmes_no_cluster) * 100\n",
    "    else:\n",
    "        genero_predominante = None\n",
    "    \n",
    "    cluster_genero_predominante_kmeans_PCA[cluster] = (genero_predominante, porcentagem)"
   ]
  },
  {
   "cell_type": "code",
   "execution_count": 186,
   "metadata": {},
   "outputs": [
    {
     "name": "stdout",
     "output_type": "stream",
     "text": [
      "{20: ('Sci-Fi', 80.64516129032258), 18: ('Comedy', 40.86021505376344), 0: ('Drama', 61.19402985074627), 2: ('Romance', 56.60377358490566), 11: ('Drama', 51.42857142857142), 15: ('Drama', 97.93103448275862), 4: ('Drama', 58.47255369928401), 16: ('Drama', 71.2280701754386), 1: ('Drama', 50.0), 8: ('Action', 66.66666666666666), 19: ('Drama', 38.297872340425535), 5: ('Drama', 54.761904761904766), 22: ('Comedy', 73.42657342657343), 6: ('Drama', 47.40061162079511), 17: ('Horror', 45.83333333333333), 7: ('Comedy', 70.58823529411765), 10: ('Comedy', 69.54545454545455), 21: ('Comedy', 53.271028037383175), 13: ('Comedy', 79.60526315789474), 9: ('Horror', 95.19999999999999), 12: ('Action', 44.554455445544555), 14: (\"Children's\", 94.54545454545455), 23: ('Comedy', 30.952380952380953), 3: ('Horror', 82.97872340425532)}\n"
     ]
    }
   ],
   "source": [
    "print(cluster_genero_predominante_kmeans_PCA)"
   ]
  },
  {
   "cell_type": "markdown",
   "metadata": {},
   "source": [
    "Tivemos um bom cluster do Horror também"
   ]
  },
  {
   "cell_type": "code",
   "execution_count": 191,
   "metadata": {},
   "outputs": [],
   "source": [
    "cluster_20_movies = movies_in_ratings[movies_in_ratings['KMeans_Cluster_PCA80)'] == 20]"
   ]
  },
  {
   "cell_type": "code",
   "execution_count": 192,
   "metadata": {},
   "outputs": [
    {
     "name": "stdout",
     "output_type": "stream",
     "text": [
      "Títulos dos filmes no cluster 20:\n",
      "Star Wars: Episode IV - A New Hope (1977)\n",
      "Star Trek: Generations (1994)\n",
      "Jurassic Park (1993)\n",
      "Terminator 2: Judgment Day (1991)\n",
      "Batman (1989)\n",
      "Heavy Metal (1981)\n",
      "Arrival, The (1996)\n",
      "20,000 Leagues Under the Sea (1954)\n",
      "E.T. the Extra-Terrestrial (1982)\n",
      "Top Gun (1986)\n",
      "Abyss, The (1989)\n",
      "Star Wars: Episode V - The Empire Strikes Back (1980)\n",
      "Raiders of the Lost Ark (1981)\n",
      "Transformers: The Movie, The (1986)\n",
      "Star Wars: Episode VI - Return of the Jedi (1983)\n",
      "Terminator, The (1984)\n",
      "Day the Earth Stood Still, The (1951)\n",
      "Back to the Future (1985)\n",
      "Highlander (1986)\n",
      "Indiana Jones and the Last Crusade (1989)\n",
      "Forbidden Planet (1956)\n",
      "Star Trek: First Contact (1996)\n",
      "Star Trek: The Motion Picture (1979)\n",
      "Star Trek VI: The Undiscovered Country (1991)\n",
      "Star Trek V: The Final Frontier (1989)\n",
      "Star Trek: The Wrath of Khan (1982)\n",
      "Star Trek III: The Search for Spock (1984)\n",
      "Star Trek IV: The Voyage Home (1986)\n",
      "Sneakers (1992)\n",
      "Fifth Element, The (1997)\n",
      "Men in Black (1997)\n",
      "Contact (1997)\n",
      "Conan the Barbarian (1982)\n",
      "Starship Troopers (1997)\n",
      "X-Files: Fight the Future, The (1998)\n",
      "Labyrinth (1986)\n",
      "Back to the Future Part II (1989)\n",
      "Back to the Future Part III (1990)\n",
      "Dune (1984)\n",
      "Black Hole, The (1979)\n",
      "Flight of the Navigator (1986)\n",
      "Honey, I Shrunk the Kids (1989)\n",
      "Rocketeer, The (1991)\n",
      "Tron (1982)\n",
      "Indiana Jones and the Temple of Doom (1984)\n",
      "Lord of the Rings, The (1978)\n",
      "Dark Crystal, The (1982)\n",
      "Legend (1985)\n",
      "Willow (1988)\n",
      "Them! (1954)\n",
      "2010 (1984)\n",
      "King Kong vs. Godzilla (Kingukongu tai Gojira) (1962)\n",
      "View to a Kill, A (1985)\n",
      "Star Trek: Insurrection (1998)\n",
      "Romancing the Stone (1984)\n",
      "Cocoon (1985)\n",
      "Young Sherlock Holmes (1985)\n",
      "Fly II, The (1989)\n",
      "Crocodile Dundee (1986)\n",
      "Logan's Run (1976)\n",
      "Beneath the Planet of the Apes (1970)\n",
      "Battle for the Planet of the Apes (1973)\n",
      "Conquest of the Planet of the Apes (1972)\n",
      "Escape from the Planet of the Apes (1971)\n",
      "Night of the Comet (1984)\n",
      "My Science Project (1985)\n",
      "Star Wars: Episode I - The Phantom Menace (1999)\n",
      "Superman (1978)\n",
      "Superman II (1980)\n",
      "War of the Worlds, The (1953)\n",
      "Arachnophobia (1990)\n",
      "Total Recall (1990)\n",
      "Robocop (1987)\n",
      "Robocop 2 (1990)\n",
      "For Your Eyes Only (1981)\n",
      "Omega Man, The (1971)\n",
      "Adventures of Buckaroo Bonzai Across the 8th Dimension, The (1984)\n",
      "Galaxy Quest (1999)\n",
      "Baby... Secret of the Lost Legend (1985)\n",
      "Close Encounters of the Third Kind (1977)\n",
      "Ladyhawke (1985)\n",
      "Predator (1987)\n",
      "Moonraker (1979)\n",
      "Predator 2 (1990)\n",
      "Running Man, The (1987)\n",
      "Starman (1984)\n",
      "Alien Nation (1988)\n",
      "Mad Max Beyond Thunderdome (1985)\n",
      "Big Trouble in Little China (1986)\n",
      "F/X (1986)\n",
      "Dreamscape (1984)\n",
      "X-Men (2000)\n",
      "Fantastic Voyage (1966)\n"
     ]
    }
   ],
   "source": [
    "print(\"Títulos dos filmes no cluster 20:\")\n",
    "for title in cluster_20_movies['Title']:\n",
    "    print(title)"
   ]
  },
  {
   "cell_type": "markdown",
   "metadata": {},
   "source": [
    "Foi possível encontrar um cluster com os filmes de Star Trek, além de um filme Star Wars e Duna, e filmes da trilogia original do planeta dos macacos."
   ]
  },
  {
   "cell_type": "code",
   "execution_count": 189,
   "metadata": {},
   "outputs": [
    {
     "name": "stdout",
     "output_type": "stream",
     "text": [
      "\n",
      "Rocky Films:\n",
      "Rocky (1976): Cluster 13\n",
      "Rocky II (1979): Cluster 21\n",
      "Rocky III (1982): Cluster 21\n",
      "Rocky IV (1985): Cluster 21\n",
      "Rocky V (1990): Cluster 21\n",
      "\n",
      "Karate Kid:\n",
      "Karate Kid, The (1984): Cluster 21\n",
      "Karate Kid, Part II, The (1986): Cluster 21\n",
      "Karate Kid III, The (1989): Cluster 21\n",
      "\n",
      "Superman Films:\n",
      "Superman (1978): Cluster 20\n",
      "Superman II (1980): Cluster 20\n",
      "Superman III (1983): Cluster 21\n",
      "Superman IV: The Quest for Peace (1987): Cluster 21\n",
      "\n",
      "Batman Films:\n",
      "Batman Forever (1995): Cluster 8\n",
      "Batman (1989): Cluster 20\n",
      "Batman Returns (1992): Cluster 8\n",
      "Batman & Robin (1997): Cluster 8\n",
      "\n",
      "Godfather Films:\n",
      "Godfather: Part III, The (1990): Cluster 8\n",
      "Godfather: Part II, The (1974): Cluster 12\n",
      "Godfather, The (1972): Cluster 12\n",
      "\n",
      "Star Wars Films:\n",
      "Star Wars: Episode I - The Phantom Menace (1999): Cluster 20\n",
      "Star Wars: Episode VI - Return of the Jedi (1983): Cluster 20\n",
      "Star Wars: Episode V - The Empire Strikes Back (1980): Cluster 20\n",
      "Star Wars: Episode IV - A New Hope (1977): Cluster 20\n",
      "\n",
      "Star Trek Films:\n",
      "Star Trek: First Contact (1996): Cluster 20\n",
      "Star Trek: The Motion Picture (1979): Cluster 20\n",
      "Star Trek VI: The Undiscovered Country (1991): Cluster 20\n",
      "Star Trek V: The Final Frontier (1989): Cluster 20\n",
      "Star Trek: The Wrath of Khan (1982): Cluster 20\n",
      "Star Trek III: The Search for Spock (1984): Cluster 20\n",
      "Star Trek IV: The Voyage Home (1986): Cluster 20\n",
      "Star Trek: Insurrection (1998): Cluster 20\n"
     ]
    }
   ],
   "source": [
    "print_films_in_clusters(movies_in_ratings, 'KMeans_Cluster_PCA80)')"
   ]
  },
  {
   "cell_type": "markdown",
   "metadata": {},
   "source": [
    "Como podemos ver, todos os filmes de star wars e star trek no mesmo cluster, bem como todos os 3 filmes de karate kid no mesmo cluster, junto com a maioria dos filmes de Rocky, o que é muito bom dada a temática de luta."
   ]
  },
  {
   "cell_type": "code",
   "execution_count": 193,
   "metadata": {},
   "outputs": [
    {
     "data": {
      "text/plain": [
       "63.166306962415625"
      ]
     },
     "execution_count": 193,
     "metadata": {},
     "output_type": "execute_result"
    }
   ],
   "source": [
    "composicao_media_KPCA = 0\n",
    "for key in cluster_genero_predominante_kmeans_PCA:\n",
    "    composicao_media_KPCA += cluster_genero_predominante_kmeans_PCA[key][1]\n",
    "composicao_media_KPCA = composicao_media_KPCA/len(cluster_genero_predominante_kmeans_PCA)\n",
    "composicao_media_KPCA"
   ]
  },
  {
   "cell_type": "markdown",
   "metadata": {},
   "source": [
    "# Cluster Hierárquico Reduzido"
   ]
  },
  {
   "cell_type": "markdown",
   "metadata": {},
   "source": [
    "Como na primeira tentativa os clusters ficaram pouco coesos, tentei aumentar a quantidade de clusters para separar melhor"
   ]
  },
  {
   "cell_type": "code",
   "execution_count": 214,
   "metadata": {},
   "outputs": [],
   "source": [
    "agg_clustering = AgglomerativeClustering(n_clusters=60, linkage='complete')\n",
    "agg_clusters = agg_clustering.fit_predict(X_pca_reduced)"
   ]
  },
  {
   "cell_type": "code",
   "execution_count": 215,
   "metadata": {},
   "outputs": [],
   "source": [
    "cluster_genero_predominante_hie_SVD = {}\n",
    "cluster_genero_predominante_hie_PCA = {}"
   ]
  },
  {
   "cell_type": "code",
   "execution_count": 216,
   "metadata": {},
   "outputs": [],
   "source": [
    "movies_in_ratings['Hierarchical_Cluster_PCA'] = agg_clusters"
   ]
  },
  {
   "cell_type": "code",
   "execution_count": 217,
   "metadata": {},
   "outputs": [
    {
     "name": "stdout",
     "output_type": "stream",
     "text": [
      "Contagem dos clusters formados:\n",
      " Hierarchical_Cluster_PCA\n",
      "7     974\n",
      "13    593\n",
      "26    389\n",
      "9     237\n",
      "11    236\n",
      "18    150\n",
      "6      70\n",
      "1      67\n",
      "0      65\n",
      "55     65\n",
      "24     62\n",
      "58     61\n",
      "34     60\n",
      "10     57\n",
      "5      55\n",
      "50     52\n",
      "14     37\n",
      "4      34\n",
      "8      32\n",
      "23     28\n",
      "29     27\n",
      "20     27\n",
      "12     23\n",
      "30     23\n",
      "21     22\n",
      "16     22\n",
      "42     21\n",
      "19     20\n",
      "54     16\n",
      "52     14\n",
      "25     14\n",
      "32     11\n",
      "35     11\n",
      "3       9\n",
      "44      9\n",
      "57      9\n",
      "51      8\n",
      "48      7\n",
      "17      7\n",
      "2       7\n",
      "45      7\n",
      "41      7\n",
      "15      6\n",
      "40      6\n",
      "28      6\n",
      "36      5\n",
      "22      5\n",
      "27      4\n",
      "31      3\n",
      "33      3\n",
      "59      3\n",
      "56      2\n",
      "43      2\n",
      "46      2\n",
      "38      2\n",
      "49      2\n",
      "53      2\n",
      "37      2\n",
      "47      1\n",
      "39      1\n",
      "Name: count, dtype: int64\n"
     ]
    }
   ],
   "source": [
    "cluster_counts = movies_in_ratings['Hierarchical_Cluster_PCA'].value_counts()\n",
    "print(\"Contagem dos clusters formados:\\n\", cluster_counts)"
   ]
  },
  {
   "cell_type": "code",
   "execution_count": 222,
   "metadata": {},
   "outputs": [],
   "source": [
    "for cluster in movies_in_ratings['Hierarchical_Cluster_PCA'].unique():\n",
    "    cluster_df = movies_in_ratings[movies_in_ratings['Hierarchical_Cluster_PCA'] == cluster]\n",
    "    \n",
    "    genero_counts = {genero: 0 for genero in generos_unicos}\n",
    "    \n",
    "    total_filmes_no_cluster = len(cluster_df)\n",
    "    if total_filmes_no_cluster < 10:\n",
    "        continue\n",
    "    for generos in cluster_df['Genres'].dropna():\n",
    "        for genero in generos.split(','):\n",
    "            if genero in genero_counts:\n",
    "                genero_counts[genero] += 1\n",
    "    \n",
    "    if genero_counts:\n",
    "        genero_predominante = max(genero_counts, key=genero_counts.get)\n",
    "        porcentagem = (genero_counts[genero_predominante] / total_filmes_no_cluster) * 100\n",
    "    else:\n",
    "        genero_predominante = None \n",
    "\n",
    "    cluster_genero_predominante_hie_PCA[cluster] = (genero_predominante, porcentagem)"
   ]
  },
  {
   "cell_type": "code",
   "execution_count": 221,
   "metadata": {},
   "outputs": [
    {
     "name": "stdout",
     "output_type": "stream",
     "text": [
      "{11: (\"Children's\", 48.30508474576271), 26: ('Comedy', 50.128534704370175), 1: ('Drama', 34.32835820895522), 9: ('Action', 60.337552742616026), 5: ('Comedy', 87.27272727272727), 7: ('Drama', 58.31622176591375), 13: ('Comedy', 37.60539629005059), 24: ('Drama', 66.12903225806451), 50: ('Romance', 55.769230769230774), 14: ('Drama', 94.5945945945946), 6: ('Drama', 94.28571428571428), 25: ('Drama', 100.0), 23: ('Comedy', 92.85714285714286), 12: ('Drama', 60.86956521739131), 19: ('Drama', 85.0), 0: ('Drama', 58.46153846153847), 10: ('Horror', 28.07017543859649), 8: ('Drama', 56.25), 20: ('Drama', 40.74074074074074), 55: ('Horror', 81.53846153846153), 34: ('Horror', 98.33333333333333), 29: ('Drama', 29.629629629629626), 18: ('Drama', 38.0), 52: ('Horror', 42.857142857142854), 16: ('Action', 68.18181818181817), 58: ('Horror', 100.0), 35: ('Drama', 100.0), 30: ('Drama', 56.52173913043478), 4: ('Comedy', 38.23529411764706), 21: ('Musical', 27.27272727272727), 42: ('Drama', 38.095238095238095), 32: ('Comedy', 36.36363636363637), 54: ('Horror', 100.0)}\n"
     ]
    }
   ],
   "source": [
    "print(cluster_genero_predominante_hie_PCA)"
   ]
  },
  {
   "cell_type": "markdown",
   "metadata": {},
   "source": [
    "Em um primeiro momento foi verificado uma baixa coerência interna, o número de clusters foi aumentado para 60 e foram filtrados aqueles com menos de 10 filmes"
   ]
  },
  {
   "cell_type": "code",
   "execution_count": 223,
   "metadata": {},
   "outputs": [
    {
     "data": {
      "text/plain": [
       "62.55607972343875"
      ]
     },
     "execution_count": 223,
     "metadata": {},
     "output_type": "execute_result"
    }
   ],
   "source": [
    "composicao_media_HPCA = 0\n",
    "for key in cluster_genero_predominante_hie_PCA:\n",
    "    composicao_media_HPCA += cluster_genero_predominante_hie_PCA[key][1]\n",
    "composicao_media_HPCA = composicao_media_HPCA/len(cluster_genero_predominante_hie_PCA)\n",
    "composicao_media_HPCA"
   ]
  },
  {
   "cell_type": "code",
   "execution_count": 224,
   "metadata": {},
   "outputs": [
    {
     "name": "stdout",
     "output_type": "stream",
     "text": [
      "\n",
      "Rocky Films:\n",
      "Rocky (1976): Cluster 26\n",
      "Rocky II (1979): Cluster 26\n",
      "Rocky III (1982): Cluster 26\n",
      "Rocky IV (1985): Cluster 26\n",
      "Rocky V (1990): Cluster 9\n",
      "\n",
      "Karate Kid:\n",
      "Karate Kid, The (1984): Cluster 26\n",
      "Karate Kid, Part II, The (1986): Cluster 9\n",
      "Karate Kid III, The (1989): Cluster 9\n",
      "\n",
      "Superman Films:\n",
      "Superman (1978): Cluster 26\n",
      "Superman II (1980): Cluster 26\n",
      "Superman III (1983): Cluster 9\n",
      "Superman IV: The Quest for Peace (1987): Cluster 9\n",
      "\n",
      "Batman Films:\n",
      "Batman Forever (1995): Cluster 26\n",
      "Batman (1989): Cluster 26\n",
      "Batman Returns (1992): Cluster 13\n",
      "Batman & Robin (1997): Cluster 9\n",
      "\n",
      "Godfather Films:\n",
      "Godfather: Part III, The (1990): Cluster 26\n",
      "Godfather: Part II, The (1974): Cluster 7\n",
      "Godfather, The (1972): Cluster 7\n",
      "\n",
      "Star Wars Films:\n",
      "Star Wars: Episode I - The Phantom Menace (1999): Cluster 26\n",
      "Star Wars: Episode VI - Return of the Jedi (1983): Cluster 26\n",
      "Star Wars: Episode V - The Empire Strikes Back (1980): Cluster 26\n",
      "Star Wars: Episode IV - A New Hope (1977): Cluster 26\n",
      "\n",
      "Star Trek Films:\n",
      "Star Trek: First Contact (1996): Cluster 26\n",
      "Star Trek: The Motion Picture (1979): Cluster 26\n",
      "Star Trek VI: The Undiscovered Country (1991): Cluster 26\n",
      "Star Trek V: The Final Frontier (1989): Cluster 26\n",
      "Star Trek: The Wrath of Khan (1982): Cluster 26\n",
      "Star Trek III: The Search for Spock (1984): Cluster 26\n",
      "Star Trek IV: The Voyage Home (1986): Cluster 26\n",
      "Star Trek: Insurrection (1998): Cluster 26\n"
     ]
    }
   ],
   "source": [
    "print_films_in_clusters(movies_in_ratings, 'Hierarchical_Cluster_PCA')"
   ]
  },
  {
   "cell_type": "markdown",
   "metadata": {},
   "source": [
    "Também conseguimos juntar star wars e star trek no mesmo cluster, mas ele é um cluster maior e mais generalizado, portanto o resultado do KMeans ainda foi melhor"
   ]
  },
  {
   "cell_type": "code",
   "execution_count": 225,
   "metadata": {},
   "outputs": [],
   "source": [
    "agg_clustering = AgglomerativeClustering(n_clusters=60, linkage='complete')\n",
    "agg_clusters = agg_clustering.fit_predict(X_svd_reduced)"
   ]
  },
  {
   "cell_type": "code",
   "execution_count": 226,
   "metadata": {},
   "outputs": [],
   "source": [
    "movies_in_ratings['Hierarchical_Cluster_SVD'] = agg_clusters"
   ]
  },
  {
   "cell_type": "code",
   "execution_count": 227,
   "metadata": {},
   "outputs": [
    {
     "name": "stdout",
     "output_type": "stream",
     "text": [
      "Contagem dos clusters formados:\n",
      " Hierarchical_Cluster_SVD\n",
      "19    347\n",
      "29    294\n",
      "8     256\n",
      "6     225\n",
      "59    168\n",
      "44    167\n",
      "54    151\n",
      "24    114\n",
      "36    106\n",
      "7     103\n",
      "9      89\n",
      "26     88\n",
      "0      83\n",
      "2      81\n",
      "31     77\n",
      "35     72\n",
      "4      72\n",
      "1      67\n",
      "18     61\n",
      "43     61\n",
      "17     59\n",
      "11     54\n",
      "37     52\n",
      "10     48\n",
      "28     46\n",
      "20     45\n",
      "49     43\n",
      "21     43\n",
      "15     42\n",
      "27     40\n",
      "53     38\n",
      "32     38\n",
      "3      35\n",
      "16     34\n",
      "48     34\n",
      "5      29\n",
      "34     28\n",
      "22     28\n",
      "12     27\n",
      "14     26\n",
      "46     26\n",
      "13     25\n",
      "40     19\n",
      "38     18\n",
      "58     18\n",
      "45     16\n",
      "50     13\n",
      "56     13\n",
      "30     12\n",
      "25     10\n",
      "42     10\n",
      "55      9\n",
      "23      8\n",
      "51      8\n",
      "33      7\n",
      "39      5\n",
      "41      4\n",
      "52      4\n",
      "47      3\n",
      "57      3\n",
      "Name: count, dtype: int64\n"
     ]
    }
   ],
   "source": [
    "cluster_counts = movies_in_ratings['Hierarchical_Cluster_SVD'].value_counts()\n",
    "print(\"Contagem dos clusters formados:\\n\", cluster_counts)"
   ]
  },
  {
   "cell_type": "code",
   "execution_count": 229,
   "metadata": {},
   "outputs": [],
   "source": [
    "for cluster in movies_in_ratings['Hierarchical_Cluster_SVD'].unique():\n",
    "    cluster_df = movies_in_ratings[movies_in_ratings['Hierarchical_Cluster_SVD'] == cluster]\n",
    "    \n",
    "    genero_counts = {genero: 0 for genero in generos_unicos}\n",
    "    \n",
    "    total_filmes_no_cluster = len(cluster_df)\n",
    "    if total_filmes_no_cluster < 10:\n",
    "        continue\n",
    "    for generos in cluster_df['Genres'].dropna():\n",
    "        for genero in generos.split(','):\n",
    "            if genero in genero_counts:\n",
    "                genero_counts[genero] += 1\n",
    "    \n",
    "    if genero_counts:\n",
    "        genero_predominante = max(genero_counts, key=genero_counts.get)\n",
    "        porcentagem = (genero_counts[genero_predominante] / total_filmes_no_cluster) * 100\n",
    "    else:\n",
    "        genero_predominante = None  \n",
    "    cluster_genero_predominante_hie_SVD[cluster] = (genero_predominante, porcentagem)"
   ]
  },
  {
   "cell_type": "code",
   "execution_count": 230,
   "metadata": {},
   "outputs": [
    {
     "name": "stdout",
     "output_type": "stream",
     "text": [
      "{7: (\"Children's\", 63.10679611650486), 19: ('Comedy', 42.07492795389049), 2: ('Comedy', 45.67901234567901), 0: ('Comedy', 66.26506024096386), 54: ('Drama', 57.615894039735096), 44: ('Action', 46.706586826347305), 43: ('Drama', 59.01639344262295), 12: ('Drama', 55.55555555555556), 29: ('Comedy', 40.136054421768705), 14: ('Drama', 53.84615384615385), 6: ('Drama', 54.666666666666664), 18: ('Drama', 40.98360655737705), 3: ('Thriller', 28.57142857142857), 24: ('Drama', 47.368421052631575), 4: ('Drama', 63.888888888888886), 8: ('Comedy', 31.25), 46: ('Drama', 61.53846153846154), 21: ('Comedy', 60.46511627906976), 48: ('Romance', 61.76470588235294), 26: ('Horror', 43.18181818181818), 1: ('Drama', 67.16417910447761), 9: ('Comedy', 38.20224719101123), 20: ('Drama', 57.77777777777777), 37: ('Drama', 98.07692307692307), 58: ('Drama', 77.77777777777779), 56: ('Drama', 92.3076923076923), 53: ('Drama', 63.1578947368421), 35: ('Comedy', 48.61111111111111), 30: ('Comedy', 41.66666666666667), 32: ('Drama', 81.57894736842105), 59: ('Drama', 51.78571428571429), 11: ('Horror', 83.33333333333334), 15: ('Drama', 47.61904761904761), 27: ('Horror', 50.0), 45: ('Drama', 56.25), 22: ('Comedy', 75.0), 34: ('Drama', 53.57142857142857), 13: ('Drama', 52.0), 31: ('Drama', 42.857142857142854), 10: ('Horror', 35.41666666666667), 28: ('Sci-Fi', 36.95652173913043), 40: ('Drama', 47.368421052631575), 36: ('Drama', 48.113207547169814), 16: ('Drama', 44.11764705882353), 25: ('Drama', 90.0), 17: ('Thriller', 40.67796610169492), 38: ('Drama', 72.22222222222221), 49: ('Drama', 48.837209302325576), 5: ('Thriller', 34.48275862068966), 42: ('Documentary', 80.0), 50: ('Horror', 100.0)}\n"
     ]
    }
   ],
   "source": [
    "print(cluster_genero_predominante_hie_SVD)"
   ]
  },
  {
   "cell_type": "code",
   "execution_count": 231,
   "metadata": {},
   "outputs": [
    {
     "data": {
      "text/plain": [
       "56.48258926479682"
      ]
     },
     "execution_count": 231,
     "metadata": {},
     "output_type": "execute_result"
    }
   ],
   "source": [
    "composicao_media_HSVD = 0\n",
    "for key in cluster_genero_predominante_hie_SVD:\n",
    "    composicao_media_HSVD += cluster_genero_predominante_hie_SVD[key][1]\n",
    "composicao_media_HSVD = composicao_media_HSVD/len(cluster_genero_predominante_hie_SVD)\n",
    "composicao_media_HSVD"
   ]
  },
  {
   "cell_type": "code",
   "execution_count": 233,
   "metadata": {},
   "outputs": [
    {
     "name": "stdout",
     "output_type": "stream",
     "text": [
      "\n",
      "Rocky Films:\n",
      "Rocky (1976): Cluster 44\n",
      "Rocky II (1979): Cluster 44\n",
      "Rocky III (1982): Cluster 44\n",
      "Rocky IV (1985): Cluster 44\n",
      "Rocky V (1990): Cluster 19\n",
      "\n",
      "Karate Kid:\n",
      "Karate Kid, The (1984): Cluster 19\n",
      "Karate Kid, Part II, The (1986): Cluster 19\n",
      "Karate Kid III, The (1989): Cluster 19\n",
      "\n",
      "Superman Films:\n",
      "Superman (1978): Cluster 19\n",
      "Superman II (1980): Cluster 19\n",
      "Superman III (1983): Cluster 19\n",
      "Superman IV: The Quest for Peace (1987): Cluster 19\n",
      "\n",
      "Batman Films:\n",
      "Batman Forever (1995): Cluster 29\n",
      "Batman (1989): Cluster 19\n",
      "Batman Returns (1992): Cluster 19\n",
      "Batman & Robin (1997): Cluster 29\n",
      "\n",
      "Godfather Films:\n",
      "Godfather: Part III, The (1990): Cluster 54\n",
      "Godfather: Part II, The (1974): Cluster 8\n",
      "Godfather, The (1972): Cluster 8\n",
      "\n",
      "Star Wars Films:\n",
      "Star Wars: Episode I - The Phantom Menace (1999): Cluster 54\n",
      "Star Wars: Episode VI - Return of the Jedi (1983): Cluster 54\n",
      "Star Wars: Episode V - The Empire Strikes Back (1980): Cluster 54\n",
      "Star Wars: Episode IV - A New Hope (1977): Cluster 54\n",
      "\n",
      "Star Trek Films:\n",
      "Star Trek: First Contact (1996): Cluster 19\n",
      "Star Trek: The Motion Picture (1979): Cluster 19\n",
      "Star Trek VI: The Undiscovered Country (1991): Cluster 19\n",
      "Star Trek V: The Final Frontier (1989): Cluster 19\n",
      "Star Trek: The Wrath of Khan (1982): Cluster 19\n",
      "Star Trek III: The Search for Spock (1984): Cluster 19\n",
      "Star Trek IV: The Voyage Home (1986): Cluster 19\n",
      "Star Trek: Insurrection (1998): Cluster 19\n"
     ]
    }
   ],
   "source": [
    "print_films_in_clusters(movies_in_ratings, 'Hierarchical_Cluster_SVD')"
   ]
  },
  {
   "cell_type": "markdown",
   "metadata": {},
   "source": [
    "O cluster 19 acabou sendo o maior dos clusters, e portanto aglomerou diversos filmes, alguns com pouca relação como karate kid e star trek, enquanto filmes mais correlatos como star trek e star wars acabaram em clusters diferentes. Se vale uma pontuação, tivemos uma diversidade de gêneros interessantes, tendo por exemplo um cluster de documentários."
   ]
  },
  {
   "cell_type": "markdown",
   "metadata": {},
   "source": [
    "# Resultados"
   ]
  },
  {
   "cell_type": "markdown",
   "metadata": {},
   "source": [
    "Dados os 3 métodos empregados, e suas variações com e sem PCA/SVD, foi possível observar que o DBScan foi o pior método entre os observados, com e sem uso de redutores de dimensionalidade."
   ]
  },
  {
   "cell_type": "markdown",
   "metadata": {},
   "source": [
    "O Método de K-Means apresentou os melhores resultados, especialmente com o uso de PCA e mantendo 80% da variânca, onde foi possível encontrar tanto o cluster de horror quanto o cluster de Star trek e star wars, ficção científica como um todo. Vale ressaltar que o tamanho do cluster era de cerca de 100 filmes, portanto ele agregou bem filmes com temáticas semelhantes."
   ]
  },
  {
   "cell_type": "markdown",
   "metadata": {},
   "source": [
    "Já o Método de cluster hierárquico obteve resultados não muito satisfatórios na média, ele tem tendência a produzir alguns clusters maiores, dando a impressão de que ele clusterizou bem, mas na verdade diversas coisas pouco correlatas apareceram juntas."
   ]
  },
  {
   "cell_type": "markdown",
   "metadata": {},
   "source": [
    "O método que apresentou uma maior dificuldade foi o DBScan, em todos os casos, ou o cluster de rúido ficava muito grande, ou os dados se agrupavam em um grande cluster, com poucos clusters menores "
   ]
  }
 ],
 "metadata": {
  "kernelspec": {
   "display_name": "base",
   "language": "python",
   "name": "python3"
  },
  "language_info": {
   "codemirror_mode": {
    "name": "ipython",
    "version": 3
   },
   "file_extension": ".py",
   "mimetype": "text/x-python",
   "name": "python",
   "nbconvert_exporter": "python",
   "pygments_lexer": "ipython3",
   "version": "3.11.7"
  }
 },
 "nbformat": 4,
 "nbformat_minor": 2
}
