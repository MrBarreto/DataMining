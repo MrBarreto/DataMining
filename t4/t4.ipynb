{
 "cells": [
  {
   "cell_type": "code",
   "execution_count": 1,
   "metadata": {},
   "outputs": [],
   "source": [
    "import requests\n",
    "import os\n",
    "import zipfile\n",
    "import pandas as pd\n",
    "import re\n",
    "from scipy.spatial.distance import pdist, squareform\n",
    "from sklearn.cluster import DBSCAN\n",
    "from sklearn.preprocessing import MinMaxScaler, StandardScaler\n",
    "import matplotlib.pyplot as plt\n",
    "import seaborn as sns\n",
    "from sklearn.metrics.pairwise import euclidean_distances\n",
    "from sklearn.preprocessing import MultiLabelBinarizer\n",
    "import numpy as np\n",
    "from sklearn.cluster import KMeans\n",
    "from kneed import KneeLocator\n",
    "from sklearn.cluster import AgglomerativeClustering\n",
    "from sklearn.neighbors import NearestNeighbors\n",
    "from sklearn.decomposition import PCA, TruncatedSVD"
   ]
  },
  {
   "cell_type": "markdown",
   "metadata": {},
   "source": [
    "# Baixando arquivos"
   ]
  },
  {
   "cell_type": "code",
   "execution_count": 2,
   "metadata": {},
   "outputs": [],
   "source": [
    "url = \"https://files.grouplens.org/datasets/movielens/ml-1m.zip\"\n",
    "url2 = \"https://files.grouplens.org/datasets/movielens/ml-1m-README.txt\"\n",
    "local_filename = \"ml-1m.zip\"\n",
    "local_readme = \"ml-1m-README.txt\""
   ]
  },
  {
   "cell_type": "code",
   "execution_count": 3,
   "metadata": {},
   "outputs": [],
   "source": [
    "with requests.get(url, stream=True) as response:\n",
    "    response.raise_for_status()\n",
    "    with open(local_filename, 'wb') as file:\n",
    "        for chunk in response.iter_content(chunk_size=8192):\n",
    "            file.write(chunk)"
   ]
  },
  {
   "cell_type": "code",
   "execution_count": 4,
   "metadata": {},
   "outputs": [],
   "source": [
    "with requests.get(url2, stream=True) as response:\n",
    "    response.raise_for_status()\n",
    "    with open(local_readme, 'wb') as file:\n",
    "        for chunk in response.iter_content(chunk_size=8192):\n",
    "            file.write(chunk)"
   ]
  },
  {
   "cell_type": "code",
   "execution_count": 5,
   "metadata": {},
   "outputs": [],
   "source": [
    "extract_dir = os.path.dirname(os.path.abspath(local_filename))"
   ]
  },
  {
   "cell_type": "code",
   "execution_count": 6,
   "metadata": {},
   "outputs": [],
   "source": [
    "with zipfile.ZipFile(local_filename, 'r') as zip_ref:\n",
    "    zip_ref.extractall(extract_dir)"
   ]
  },
  {
   "cell_type": "markdown",
   "metadata": {},
   "source": [
    "# Manipulação de dados"
   ]
  },
  {
   "cell_type": "code",
   "execution_count": 7,
   "metadata": {},
   "outputs": [],
   "source": [
    "file_path1 = \"ml-1m/ratings.dat\"\n",
    "file_path2 = \"ml-1m/movies.dat\""
   ]
  },
  {
   "cell_type": "code",
   "execution_count": 8,
   "metadata": {},
   "outputs": [],
   "source": [
    "ratings = pd.read_csv(file_path1, sep='::', engine='python', header=None, names=['UserID', 'MovieID', 'Rating', 'Timestamp'])"
   ]
  },
  {
   "cell_type": "code",
   "execution_count": 9,
   "metadata": {},
   "outputs": [],
   "source": [
    "movies = pd.read_csv(file_path2, sep='::', engine='python', header=None, names=['MovieID', 'Title', 'Genres'], encoding='ISO-8859-1')"
   ]
  },
  {
   "cell_type": "code",
   "execution_count": 10,
   "metadata": {},
   "outputs": [],
   "source": [
    "movies['Genres'] = movies['Genres'].str.replace('|', ',')"
   ]
  },
  {
   "cell_type": "code",
   "execution_count": 11,
   "metadata": {},
   "outputs": [
    {
     "data": {
      "text/html": [
       "<div>\n",
       "<style scoped>\n",
       "    .dataframe tbody tr th:only-of-type {\n",
       "        vertical-align: middle;\n",
       "    }\n",
       "\n",
       "    .dataframe tbody tr th {\n",
       "        vertical-align: top;\n",
       "    }\n",
       "\n",
       "    .dataframe thead th {\n",
       "        text-align: right;\n",
       "    }\n",
       "</style>\n",
       "<table border=\"1\" class=\"dataframe\">\n",
       "  <thead>\n",
       "    <tr style=\"text-align: right;\">\n",
       "      <th></th>\n",
       "      <th>MovieID</th>\n",
       "      <th>Title</th>\n",
       "      <th>Genres</th>\n",
       "    </tr>\n",
       "  </thead>\n",
       "  <tbody>\n",
       "    <tr>\n",
       "      <th>0</th>\n",
       "      <td>1</td>\n",
       "      <td>Toy Story (1995)</td>\n",
       "      <td>Animation,Children's,Comedy</td>\n",
       "    </tr>\n",
       "    <tr>\n",
       "      <th>1</th>\n",
       "      <td>2</td>\n",
       "      <td>Jumanji (1995)</td>\n",
       "      <td>Adventure,Children's,Fantasy</td>\n",
       "    </tr>\n",
       "    <tr>\n",
       "      <th>2</th>\n",
       "      <td>3</td>\n",
       "      <td>Grumpier Old Men (1995)</td>\n",
       "      <td>Comedy,Romance</td>\n",
       "    </tr>\n",
       "    <tr>\n",
       "      <th>3</th>\n",
       "      <td>4</td>\n",
       "      <td>Waiting to Exhale (1995)</td>\n",
       "      <td>Comedy,Drama</td>\n",
       "    </tr>\n",
       "    <tr>\n",
       "      <th>4</th>\n",
       "      <td>5</td>\n",
       "      <td>Father of the Bride Part II (1995)</td>\n",
       "      <td>Comedy</td>\n",
       "    </tr>\n",
       "  </tbody>\n",
       "</table>\n",
       "</div>"
      ],
      "text/plain": [
       "   MovieID                               Title                        Genres\n",
       "0        1                    Toy Story (1995)   Animation,Children's,Comedy\n",
       "1        2                      Jumanji (1995)  Adventure,Children's,Fantasy\n",
       "2        3             Grumpier Old Men (1995)                Comedy,Romance\n",
       "3        4            Waiting to Exhale (1995)                  Comedy,Drama\n",
       "4        5  Father of the Bride Part II (1995)                        Comedy"
      ]
     },
     "execution_count": 11,
     "metadata": {},
     "output_type": "execute_result"
    }
   ],
   "source": [
    "movies.head()"
   ]
  },
  {
   "cell_type": "code",
   "execution_count": 12,
   "metadata": {},
   "outputs": [],
   "source": [
    "movies['Year'] = movies['Title'].apply(lambda x: re.search(r'\\((\\d{4})\\)', x).group(1) if re.search(r'\\((\\d{4})\\)', x) else None)"
   ]
  },
  {
   "cell_type": "code",
   "execution_count": 13,
   "metadata": {},
   "outputs": [
    {
     "data": {
      "text/plain": [
       "MovieID    0\n",
       "Title      0\n",
       "Genres     0\n",
       "Year       0\n",
       "dtype: int64"
      ]
     },
     "execution_count": 13,
     "metadata": {},
     "output_type": "execute_result"
    }
   ],
   "source": [
    "null_counts = movies.isnull().sum()\n",
    "null_counts"
   ]
  },
  {
   "cell_type": "code",
   "execution_count": 14,
   "metadata": {},
   "outputs": [
    {
     "data": {
      "text/plain": [
       "UserID       0\n",
       "MovieID      0\n",
       "Rating       0\n",
       "Timestamp    0\n",
       "dtype: int64"
      ]
     },
     "execution_count": 14,
     "metadata": {},
     "output_type": "execute_result"
    }
   ],
   "source": [
    "null_counts = ratings.isnull().sum()\n",
    "null_counts"
   ]
  },
  {
   "cell_type": "code",
   "execution_count": 15,
   "metadata": {},
   "outputs": [
    {
     "data": {
      "text/plain": [
       "6040"
      ]
     },
     "execution_count": 15,
     "metadata": {},
     "output_type": "execute_result"
    }
   ],
   "source": [
    "num_users = ratings['UserID'].nunique()\n",
    "num_users"
   ]
  },
  {
   "cell_type": "code",
   "execution_count": 16,
   "metadata": {},
   "outputs": [
    {
     "data": {
      "text/plain": [
       "3883"
      ]
     },
     "execution_count": 16,
     "metadata": {},
     "output_type": "execute_result"
    }
   ],
   "source": [
    "num_movies = movies['MovieID'].nunique()\n",
    "num_movies"
   ]
  },
  {
   "cell_type": "code",
   "execution_count": 17,
   "metadata": {},
   "outputs": [],
   "source": [
    "df_genres = movies.copy()\n",
    "df_genres = df_genres.drop('Genres', axis=1).join(movies['Genres'].str.split(',', expand=True).stack().reset_index(level=1, drop=True).rename('Genre'))"
   ]
  },
  {
   "cell_type": "code",
   "execution_count": 18,
   "metadata": {},
   "outputs": [
    {
     "name": "stderr",
     "output_type": "stream",
     "text": [
      "/home/savio/anaconda3/lib/python3.11/site-packages/seaborn/_oldcore.py:1119: FutureWarning: use_inf_as_na option is deprecated and will be removed in a future version. Convert inf values to NaN before operating instead.\n",
      "  with pd.option_context('mode.use_inf_as_na', True):\n"
     ]
    },
    {
     "data": {
      "image/png": "[encoded data removed]",
      "text/plain": [
       "<Figure size 1000x600 with 1 Axes>"
      ]
     },
     "metadata": {},
     "output_type": "display_data"
    }
   ],
   "source": [
    "# 1. Distribuição das Avaliações\n",
    "plt.figure(figsize=(10, 6))\n",
    "sns.histplot(ratings['Rating'], bins=10, kde=True)\n",
    "plt.title('Distribuição das Avaliações')\n",
    "plt.xlabel('Avaliação')\n",
    "plt.ylabel('Contagem')\n",
    "plt.grid(True)\n",
    "plt.show()"
   ]
  },
  {
   "cell_type": "code",
   "execution_count": 19,
   "metadata": {},
   "outputs": [
    {
     "data": {
      "image/png": "[encoded data removed]",
      "text/plain": [
       "<Figure size 1200x800 with 1 Axes>"
      ]
     },
     "metadata": {},
     "output_type": "display_data"
    }
   ],
   "source": [
    "plt.figure(figsize=(12, 8))\n",
    "sns.countplot(y='Genre', data=df_genres, order = df_genres['Genre'].value_counts().index)\n",
    "plt.title('Distribuição dos Gêneros')\n",
    "plt.xlabel('Contagem')\n",
    "plt.ylabel('Gênero')\n",
    "plt.grid(True)\n",
    "plt.show()"
   ]
  },
  {
   "cell_type": "code",
   "execution_count": 20,
   "metadata": {},
   "outputs": [
    {
     "data": {
      "image/png": "[encoded data removed]",
      "text/plain": [
       "<Figure size 1400x800 with 1 Axes>"
      ]
     },
     "metadata": {},
     "output_type": "display_data"
    }
   ],
   "source": [
    "plt.figure(figsize=(14, 8))\n",
    "sns.countplot(x='Year', data=movies, order = movies['Year'].value_counts().index)\n",
    "plt.title('Quantidade de Filmes por Ano')\n",
    "plt.xlabel('Ano')\n",
    "plt.ylabel('Quantidade de Filmes')\n",
    "plt.xticks(rotation=90)\n",
    "plt.grid(True)\n",
    "plt.show()"
   ]
  },
  {
   "cell_type": "markdown",
   "metadata": {},
   "source": [
    "# Pré-processamento dos dados:"
   ]
  },
  {
   "cell_type": "code",
   "execution_count": 21,
   "metadata": {},
   "outputs": [],
   "source": [
    "duplicated_ratings = ratings[ratings.duplicated()]"
   ]
  },
  {
   "cell_type": "code",
   "execution_count": 22,
   "metadata": {},
   "outputs": [
    {
     "name": "stdout",
     "output_type": "stream",
     "text": [
      "Não há valores duplicados nas avaliações.\n"
     ]
    }
   ],
   "source": [
    "if not duplicated_ratings.empty:\n",
    "    print(\"Valores duplicados encontrados:\")\n",
    "    print(duplicated_ratings)\n",
    "else:\n",
    "    print(\"Não há valores duplicados nas avaliações.\")"
   ]
  },
  {
   "cell_type": "code",
   "execution_count": 23,
   "metadata": {},
   "outputs": [],
   "source": [
    "movies_in_ratings = movies[movies['MovieID'].isin(ratings['MovieID'])].copy()"
   ]
  },
  {
   "cell_type": "code",
   "execution_count": 24,
   "metadata": {},
   "outputs": [],
   "source": [
    "movies_in_ratings['MovieIDTrue'] = range(1, len(movies_in_ratings) + 1)"
   ]
  },
  {
   "cell_type": "code",
   "execution_count": 25,
   "metadata": {},
   "outputs": [],
   "source": [
    "ratings = ratings.merge(movies_in_ratings[['MovieID', 'MovieIDTrue']], on='MovieID', how='left')"
   ]
  },
  {
   "cell_type": "code",
   "execution_count": 26,
   "metadata": {},
   "outputs": [
    {
     "data": {
      "text/plain": [
       "3706"
      ]
     },
     "execution_count": 26,
     "metadata": {},
     "output_type": "execute_result"
    }
   ],
   "source": [
    "num_movies = movies_in_ratings['MovieIDTrue'].nunique()\n",
    "num_movies"
   ]
  },
  {
   "cell_type": "code",
   "execution_count": 27,
   "metadata": {},
   "outputs": [],
   "source": [
    "ratings_matrix = np.empty((num_movies, num_users))"
   ]
  },
  {
   "cell_type": "code",
   "execution_count": 28,
   "metadata": {},
   "outputs": [],
   "source": [
    "ratings_matrix[:] = np.nan"
   ]
  },
  {
   "cell_type": "code",
   "execution_count": 29,
   "metadata": {},
   "outputs": [],
   "source": [
    "for index, row in ratings.iterrows():\n",
    "    ratings_matrix[row['MovieIDTrue']-1][row['UserID']-1] = row['Rating']"
   ]
  },
  {
   "cell_type": "code",
   "execution_count": 30,
   "metadata": {},
   "outputs": [
    {
     "data": {
      "text/plain": [
       "array([[ 5., nan, nan, ..., nan, nan,  3.],\n",
       "       [nan, nan, nan, ..., nan, nan, nan],\n",
       "       [nan, nan, nan, ..., nan, nan, nan],\n",
       "       ...,\n",
       "       [nan, nan, nan, ..., nan, nan, nan],\n",
       "       [nan, nan, nan, ..., nan, nan, nan],\n",
       "       [nan, nan, nan, ..., nan, nan, nan]])"
      ]
     },
     "execution_count": 30,
     "metadata": {},
     "output_type": "execute_result"
    }
   ],
   "source": [
    "ratings_matrix"
   ]
  },
  {
   "cell_type": "code",
   "execution_count": 31,
   "metadata": {},
   "outputs": [],
   "source": [
    "def replace_nans_with_row_mean(matrix):\n",
    "    for i in range(matrix.shape[0]):\n",
    "        row = matrix[i, :]\n",
    "        mean_value = np.nanmean(row)\n",
    "        row[np.isnan(row)] = mean_value\n",
    "    return matrix"
   ]
  },
  {
   "cell_type": "code",
   "execution_count": 32,
   "metadata": {},
   "outputs": [],
   "source": [
    "ratings_matrix = replace_nans_with_row_mean(ratings_matrix)"
   ]
  },
  {
   "cell_type": "code",
   "execution_count": 33,
   "metadata": {},
   "outputs": [
    {
     "data": {
      "text/plain": [
       "array([[5.        , 4.14684641, 4.14684641, ..., 4.14684641, 4.14684641,\n",
       "        3.        ],\n",
       "       [3.20114123, 3.20114123, 3.20114123, ..., 3.20114123, 3.20114123,\n",
       "        3.20114123],\n",
       "       [3.0167364 , 3.0167364 , 3.0167364 , ..., 3.0167364 , 3.0167364 ,\n",
       "        3.0167364 ],\n",
       "       ...,\n",
       "       [3.66666667, 3.66666667, 3.66666667, ..., 3.66666667, 3.66666667,\n",
       "        3.66666667],\n",
       "       [3.9       , 3.9       , 3.9       , ..., 3.9       , 3.9       ,\n",
       "        3.9       ],\n",
       "       [3.78092784, 3.78092784, 3.78092784, ..., 3.78092784, 3.78092784,\n",
       "        3.78092784]])"
      ]
     },
     "execution_count": 33,
     "metadata": {},
     "output_type": "execute_result"
    }
   ],
   "source": [
    "ratings_matrix"
   ]
  },
  {
   "cell_type": "code",
   "execution_count": 34,
   "metadata": {},
   "outputs": [],
   "source": [
    "def normalize_row(row):\n",
    "    mean = np.mean(row)\n",
    "    std = np.std(row)\n",
    "    mean = np.nanmean(row)\n",
    "    std = np.nanstd(row)\n",
    "    if std == 0:\n",
    "        return np.zeros_like(row)  # Substituir por zeros se o desvio padrão for zero\n",
    "    return (row - mean) / std\n",
    "    return (row - mean) / std"
   ]
  },
  {
   "cell_type": "code",
   "execution_count": 35,
   "metadata": {},
   "outputs": [],
   "source": [
    "ratings_matrix_normalized = np.apply_along_axis(normalize_row, 1, ratings_matrix)"
   ]
  },
  {
   "cell_type": "code",
   "execution_count": 36,
   "metadata": {},
   "outputs": [
    {
     "name": "stdout",
     "output_type": "stream",
     "text": [
      "Número total de NaNs: 0\n"
     ]
    }
   ],
   "source": [
    "total_nans = np.isnan(ratings_matrix_normalized).sum()\n",
    "print(f\"Número total de NaNs: {total_nans}\")"
   ]
  },
  {
   "cell_type": "code",
   "execution_count": 37,
   "metadata": {},
   "outputs": [
    {
     "data": {
      "text/plain": [
       "array([[ 1.70731838e+00,  1.77740956e-15,  1.77740956e-15, ...,\n",
       "         1.77740956e-15,  1.77740956e-15, -2.29505214e+00],\n",
       "       [ 0.00000000e+00,  0.00000000e+00,  0.00000000e+00, ...,\n",
       "         0.00000000e+00,  0.00000000e+00,  0.00000000e+00],\n",
       "       [ 0.00000000e+00,  0.00000000e+00,  0.00000000e+00, ...,\n",
       "         0.00000000e+00,  0.00000000e+00,  0.00000000e+00],\n",
       "       ...,\n",
       "       [ 4.53184131e-15,  4.53184131e-15,  4.53184131e-15, ...,\n",
       "         4.53184131e-15,  4.53184131e-15,  4.53184131e-15],\n",
       "       [ 5.22691510e-15,  5.22691510e-15,  5.22691510e-15, ...,\n",
       "         5.22691510e-15,  5.22691510e-15,  5.22691510e-15],\n",
       "       [ 5.62870295e-15,  5.62870295e-15,  5.62870295e-15, ...,\n",
       "         5.62870295e-15,  5.62870295e-15,  5.62870295e-15]])"
      ]
     },
     "execution_count": 37,
     "metadata": {},
     "output_type": "execute_result"
    }
   ],
   "source": [
    "ratings_matrix_normalized"
   ]
  },
  {
   "cell_type": "markdown",
   "metadata": {},
   "source": [
    "# Matriz de distâncias"
   ]
  },
  {
   "cell_type": "code",
   "execution_count": 34,
   "metadata": {},
   "outputs": [],
   "source": [
    "dist_matrix = pdist(ratings_matrix_normalized, metric='euclidean')"
   ]
  },
  {
   "cell_type": "code",
   "execution_count": 35,
   "metadata": {},
   "outputs": [],
   "source": [
    "dist_matrix_square = squareform(dist_matrix)"
   ]
  },
  {
   "cell_type": "code",
   "execution_count": 36,
   "metadata": {},
   "outputs": [
    {
     "data": {
      "text/plain": [
       "array([[  0.        , 105.69494673, 107.3649446 , ..., 109.17594079,\n",
       "        109.26922304, 108.33532832],\n",
       "       [105.69494673,   0.        , 107.94088516, ..., 110.57554306,\n",
       "        110.26061826, 109.60542063],\n",
       "       [107.3649446 , 107.94088516,   0.        , ..., 108.46084939,\n",
       "        108.92857814, 109.09574796],\n",
       "       ...,\n",
       "       [109.17594079, 110.57554306, 108.46084939, ...,   0.        ,\n",
       "        107.70125075, 106.18090639],\n",
       "       [109.26922304, 110.26061826, 108.92857814, ..., 107.70125075,\n",
       "          0.        , 103.6646929 ],\n",
       "       [108.33532832, 109.60542063, 109.09574796, ..., 106.18090639,\n",
       "        103.6646929 ,   0.        ]])"
      ]
     },
     "execution_count": 36,
     "metadata": {},
     "output_type": "execute_result"
    }
   ],
   "source": [
    "dist_matrix_square"
   ]
  },
  {
   "cell_type": "markdown",
   "metadata": {},
   "source": [
    "# Kmeans"
   ]
  },
  {
   "cell_type": "code",
   "execution_count": 37,
   "metadata": {},
   "outputs": [],
   "source": [
    "kmeans_kwargs = {\n",
    "\"init\": \"random\",\n",
    "\"n_init\": 10,\n",
    "\"max_iter\": 300,\n",
    "\"random_state\": 42}"
   ]
  },
  {
   "cell_type": "code",
   "execution_count": 38,
   "metadata": {},
   "outputs": [
    {
     "name": "stdout",
     "output_type": "stream",
     "text": [
      "1\n",
      "2\n",
      "3\n",
      "4\n",
      "5\n",
      "6\n",
      "7\n",
      "8\n",
      "9\n",
      "10\n",
      "11\n",
      "12\n",
      "13\n",
      "14\n",
      "15\n",
      "16\n",
      "17\n",
      "18\n",
      "19\n",
      "20\n",
      "21\n",
      "22\n",
      "23\n",
      "24\n",
      "25\n",
      "26\n",
      "27\n",
      "28\n",
      "29\n",
      "30\n",
      "31\n",
      "32\n",
      "33\n",
      "34\n",
      "35\n",
      "36\n",
      "37\n",
      "38\n",
      "39\n",
      "40\n",
      "41\n",
      "42\n",
      "43\n",
      "44\n",
      "45\n",
      "46\n",
      "47\n",
      "48\n",
      "49\n",
      "50\n",
      "51\n",
      "52\n",
      "53\n",
      "54\n",
      "55\n",
      "56\n",
      "57\n",
      "58\n",
      "59\n",
      "60\n",
      "61\n",
      "62\n",
      "63\n",
      "64\n",
      "65\n",
      "66\n",
      "67\n",
      "68\n",
      "69\n",
      "70\n",
      "71\n",
      "72\n",
      "73\n",
      "74\n",
      "75\n",
      "76\n",
      "77\n",
      "78\n",
      "79\n",
      "80\n"
     ]
    }
   ],
   "source": [
    "# A list holds the SSE values for each k\n",
    "sse = []\n",
    "for k in range(1, 81):\n",
    "   print(k)\n",
    "   kmeans = KMeans(n_clusters=k, **kmeans_kwargs, )\n",
    "   kmeans.fit(ratings_matrix_normalized)\n",
    "   sse.append(kmeans.inertia_)"
   ]
  },
  {
   "cell_type": "code",
   "execution_count": 77,
   "metadata": {},
   "outputs": [
    {
     "data": {
      "image/png": "[encoded data removed]",
      "text/plain": [
       "<Figure size 640x480 with 1 Axes>"
      ]
     },
     "metadata": {},
     "output_type": "display_data"
    }
   ],
   "source": [
    "plt.style.use(\"fivethirtyeight\")\n",
    "plt.plot(range(1, 81), sse)\n",
    "plt.xticks(range(1, 81, 5))\n",
    "plt.xlabel(\"Number of Clusters\")\n",
    "plt.ylabel(\"SSE\")\n",
    "plt.show()"
   ]
  },
  {
   "cell_type": "code",
   "execution_count": 40,
   "metadata": {},
   "outputs": [],
   "source": [
    "kl = KneeLocator(range(1, 81), sse, curve=\"convex\", direction=\"decreasing\")"
   ]
  },
  {
   "cell_type": "code",
   "execution_count": 41,
   "metadata": {},
   "outputs": [
    {
     "data": {
      "text/plain": [
       "20"
      ]
     },
     "execution_count": 41,
     "metadata": {},
     "output_type": "execute_result"
    }
   ],
   "source": [
    "kl.elbow"
   ]
  },
  {
   "cell_type": "markdown",
   "metadata": {},
   "source": [
    "Verificou-se um ponto de cotovelo epor volta de 20, mas 20 emsi deu resultados bee ruins na clusterização, então aproximei por 21"
   ]
  },
  {
   "cell_type": "code",
   "execution_count": 65,
   "metadata": {},
   "outputs": [],
   "source": [
    "kmeans = KMeans(n_clusters=21, random_state=42, n_init = 10)\n",
    "kmeans_clusters = kmeans.fit_predict(ratings_matrix_normalized)"
   ]
  },
  {
   "cell_type": "code",
   "execution_count": 73,
   "metadata": {},
   "outputs": [],
   "source": [
    "movies_in_ratings['KMeans_Cluster'] = kmeans_clusters"
   ]
  },
  {
   "cell_type": "code",
   "execution_count": 74,
   "metadata": {},
   "outputs": [
    {
     "name": "stdout",
     "output_type": "stream",
     "text": [
      "Contagem dos clusters formados:\n",
      " KMeans_Cluster\n",
      "15    660\n",
      "19    286\n",
      "4     279\n",
      "5     200\n",
      "9     191\n",
      "16    188\n",
      "0     185\n",
      "11    183\n",
      "1     172\n",
      "2     145\n",
      "18    132\n",
      "20    130\n",
      "13    123\n",
      "12    120\n",
      "6     118\n",
      "7     115\n",
      "8     108\n",
      "3     104\n",
      "14    101\n",
      "10     97\n",
      "17     69\n",
      "Name: count, dtype: int64\n"
     ]
    }
   ],
   "source": [
    "cluster_counts = movies_in_ratings['KMeans_Cluster'].value_counts()\n",
    "print(\"Contagem dos clusters formados:\\n\", cluster_counts)"
   ]
  },
  {
   "cell_type": "markdown",
   "metadata": {},
   "source": [
    "# Clustering Hierárquico"
   ]
  },
  {
   "cell_type": "markdown",
   "metadata": {},
   "source": [
    "Usando um número de clusters semelhante ao K Means"
   ]
  },
  {
   "cell_type": "code",
   "execution_count": 69,
   "metadata": {},
   "outputs": [
    {
     "name": "stderr",
     "output_type": "stream",
     "text": [
      "/home/savio/anaconda3/lib/python3.11/site-packages/sklearn/cluster/_agglomerative.py:983: FutureWarning: Attribute `affinity` was deprecated in version 1.2 and will be removed in 1.4. Use `metric` instead\n",
      "  warnings.warn(\n"
     ]
    }
   ],
   "source": [
    "agg_clustering = AgglomerativeClustering(n_clusters=21, affinity='precomputed', linkage='complete')\n",
    "agg_clusters = agg_clustering.fit_predict(dist_matrix_square)"
   ]
  },
  {
   "cell_type": "code",
   "execution_count": 70,
   "metadata": {},
   "outputs": [
    {
     "data": {
      "text/plain": [
       "3706"
      ]
     },
     "execution_count": 70,
     "metadata": {},
     "output_type": "execute_result"
    }
   ],
   "source": [
    "len(agg_clusters)"
   ]
  },
  {
   "cell_type": "code",
   "execution_count": 75,
   "metadata": {},
   "outputs": [],
   "source": [
    "movies_in_ratings['Hierarchical_Cluster'] = agg_clusters"
   ]
  },
  {
   "cell_type": "code",
   "execution_count": 76,
   "metadata": {},
   "outputs": [
    {
     "name": "stdout",
     "output_type": "stream",
     "text": [
      "Contagem dos clusters formados:\n",
      " Hierarchical_Cluster\n",
      "0     757\n",
      "5     475\n",
      "11    430\n",
      "9     236\n",
      "8     211\n",
      "2     204\n",
      "7     192\n",
      "10    161\n",
      "4     160\n",
      "6     145\n",
      "1     141\n",
      "19     91\n",
      "17     80\n",
      "14     73\n",
      "15     69\n",
      "18     67\n",
      "3      57\n",
      "13     48\n",
      "20     41\n",
      "16     39\n",
      "12     29\n",
      "Name: count, dtype: int64\n"
     ]
    }
   ],
   "source": [
    "cluster_counts = movies_in_ratings['Hierarchical_Cluster'].value_counts()\n",
    "print(\"Contagem dos clusters formados:\\n\", cluster_counts)"
   ]
  },
  {
   "cell_type": "markdown",
   "metadata": {},
   "source": [
    "## DBscan"
   ]
  },
  {
   "cell_type": "code",
   "execution_count": 263,
   "metadata": {},
   "outputs": [],
   "source": [
    "eps = 20000\n",
    "min_samples = 1"
   ]
  },
  {
   "cell_type": "code",
   "execution_count": 189,
   "metadata": {},
   "outputs": [],
   "source": [
    "k = 5  # Ajuste conforme necessário\n",
    "nbrs = NearestNeighbors(n_neighbors=k, metric='precomputed').fit(dist_matrix_square)\n",
    "distances, indices = nbrs.kneighbors(dist_matrix_square)\n",
    "\n",
    "# Ordenar as distâncias dos k-ésimos vizinhos mais próximos\n",
    "k_distances = np.sort(distances[:, k-1], axis=0)"
   ]
  },
  {
   "cell_type": "code",
   "execution_count": 190,
   "metadata": {},
   "outputs": [
    {
     "data": {
      "image/png": "[encoded data removed]",
      "text/plain": [
       "<Figure size 640x480 with 1 Axes>"
      ]
     },
     "metadata": {},
     "output_type": "display_data"
    }
   ],
   "source": [
    "plt.plot(k_distances)\n",
    "plt.xlabel(\"Pontos ordenados (4º vizinho mais próximo)\")\n",
    "plt.ylabel(\"Distância\")\n",
    "plt.title(\"Curva do Cotovelo para determinar o eps\")\n",
    "plt.show()"
   ]
  },
  {
   "cell_type": "code",
   "execution_count": 264,
   "metadata": {},
   "outputs": [],
   "source": [
    "dbscan = DBSCAN(eps=eps, min_samples=min_samples, metric='precomputed')"
   ]
  },
  {
   "cell_type": "code",
   "execution_count": 265,
   "metadata": {},
   "outputs": [],
   "source": [
    "dbscan_clusters = dbscan.fit_predict(dist_matrix_square)"
   ]
  },
  {
   "cell_type": "code",
   "execution_count": 266,
   "metadata": {},
   "outputs": [
    {
     "data": {
      "text/plain": [
       "1"
      ]
     },
     "execution_count": 266,
     "metadata": {},
     "output_type": "execute_result"
    }
   ],
   "source": [
    "len(movies_in_ratings['DBSCAN_Cluster'].unique())"
   ]
  },
  {
   "cell_type": "code",
   "execution_count": 267,
   "metadata": {},
   "outputs": [
    {
     "name": "stdout",
     "output_type": "stream",
     "text": [
      "Contagem dos clusters formados:\n",
      " DBSCAN_Cluster\n",
      "-1    3706\n",
      "Name: count, dtype: int64\n"
     ]
    }
   ],
   "source": [
    "cluster_counts = movies_in_ratings['DBSCAN_Cluster'].value_counts()\n",
    "print(\"Contagem dos clusters formados:\\n\", cluster_counts)"
   ]
  },
  {
   "cell_type": "markdown",
   "metadata": {},
   "source": [
    "# Número de clusters"
   ]
  },
  {
   "cell_type": "markdown",
   "metadata": {},
   "source": [
    "No Kmeans, verificou-se que um valor ideal estava por volta de 20, onde começou uma queda mais acentuada."
   ]
  },
  {
   "cell_type": "markdown",
   "metadata": {},
   "source": [
    "Nocluster hierárquico usando 21 como número de clsuters tivemos clsuters bem populados, portanto foi uma boa estimativa"
   ]
  },
  {
   "cell_type": "markdown",
   "metadata": {},
   "source": [
    "O dbscan não funcionou como esperado."
   ]
  },
  {
   "cell_type": "markdown",
   "metadata": {},
   "source": [
    "# Análise dos clusters"
   ]
  },
  {
   "cell_type": "markdown",
   "metadata": {},
   "source": [
    "Vamos tentar identificar os clusters dos filmes de terror e ficção científica"
   ]
  },
  {
   "cell_type": "code",
   "execution_count": 40,
   "metadata": {},
   "outputs": [],
   "source": [
    "generos_unicos = set()\n",
    "for generos in movies['Genres']:\n",
    "    for genero in generos:\n",
    "        generos_unicos.add(genero)"
   ]
  },
  {
   "cell_type": "code",
   "execution_count": 41,
   "metadata": {},
   "outputs": [
    {
     "data": {
      "text/plain": [
       "{'Action',\n",
       " 'Adventure',\n",
       " 'Animation',\n",
       " \"Children's\",\n",
       " 'Comedy',\n",
       " 'Crime',\n",
       " 'Documentary',\n",
       " 'Drama',\n",
       " 'Fantasy',\n",
       " 'Film-Noir',\n",
       " 'Horror',\n",
       " 'Musical',\n",
       " 'Mystery',\n",
       " 'Romance',\n",
       " 'Sci-Fi',\n",
       " 'Thriller',\n",
       " 'War',\n",
       " 'Western'}"
      ]
     },
     "execution_count": 41,
     "metadata": {},
     "output_type": "execute_result"
    }
   ],
   "source": [
    "generos_unicos = set()\n",
    "for generos in movies['Genres']:\n",
    "    for genero in generos.split(','):\n",
    "        generos_unicos.add(genero.strip())\n",
    "generos_unicos"
   ]
  },
  {
   "cell_type": "code",
   "execution_count": 88,
   "metadata": {},
   "outputs": [],
   "source": [
    "cluster_genero_predominante_hierarchical = {}\n",
    "cluster_genero_predominante_kmeans = {}"
   ]
  },
  {
   "cell_type": "code",
   "execution_count": 93,
   "metadata": {},
   "outputs": [],
   "source": [
    "# Iterar sobre cada cluster\n",
    "for cluster in movies_in_ratings['KMeans_Cluster'].unique():\n",
    "    # Filtrar o DataFrame para o cluster atual\n",
    "    cluster_df = movies_in_ratings[movies_in_ratings['KMeans_Cluster'] == cluster]\n",
    "    \n",
    "    # Inicializar um dicionário para contar a ocorrência de cada gênero\n",
    "    genero_counts = {genero: 0 for genero in generos_unicos}\n",
    "    \n",
    "    # Contar a ocorrência de cada gênero no cluster\n",
    "    total_filmes_no_cluster = len(cluster_df)\n",
    "    for generos in cluster_df['Genres'].dropna():\n",
    "        for genero in generos.split(','):\n",
    "            if genero in genero_counts:\n",
    "                genero_counts[genero] += 1\n",
    "    \n",
    "    # Determinar o gênero predominante no cluster\n",
    "    if genero_counts:\n",
    "        genero_predominante = max(genero_counts, key=genero_counts.get)\n",
    "        porcentagem = (genero_counts[genero_predominante] / total_filmes_no_cluster) * 100\n",
    "    else:\n",
    "        genero_predominante = None  # Caso não haja gêneros, podemos definir como None ou outra coisa\n",
    "    \n",
    "    # Salvar o resultado no dicionário\n",
    "    cluster_genero_predominante_kmeans[cluster] = (genero_predominante, porcentagem)"
   ]
  },
  {
   "cell_type": "code",
   "execution_count": 94,
   "metadata": {},
   "outputs": [
    {
     "name": "stdout",
     "output_type": "stream",
     "text": [
      "{12: (\"Children's\", 97.5), 18: ('Action', 68.93939393939394), 7: ('Comedy', 57.391304347826086), 9: ('Drama', 62.82722513089005), 16: ('Comedy', 92.5531914893617), 19: ('Drama', 57.34265734265735), 1: ('Action', 73.25581395348837), 4: ('Drama', 62.72401433691756), 2: ('Drama', 48.96551724137931), 0: ('Drama', 54.59459459459459), 8: ('Romance', 50.0), 15: ('Drama', 50.0), 6: ('Comedy', 88.98305084745762), 13: ('Drama', 98.3739837398374), 20: ('Horror', 73.07692307692307), 3: ('Drama', 50.0), 17: ('Horror', 73.91304347826086), 11: ('Action', 50.81967213114754), 10: ('Comedy', 39.175257731958766), 14: ('Horror', 100.0), 5: ('Drama', 33.5)}\n"
     ]
    }
   ],
   "source": [
    "print(cluster_genero_predominante_kmeans)"
   ]
  },
  {
   "cell_type": "markdown",
   "metadata": {},
   "source": [
    "Foi possível encontrar o cluster do Horror"
   ]
  },
  {
   "cell_type": "code",
   "execution_count": 96,
   "metadata": {},
   "outputs": [],
   "source": [
    "# Iterar sobre cada cluster\n",
    "for cluster in movies_in_ratings['Hierarchical_Cluster'].unique():\n",
    "    # Filtrar o DataFrame para o cluster atual\n",
    "    cluster_df = movies_in_ratings[movies_in_ratings['Hierarchical_Cluster'] == cluster]\n",
    "    \n",
    "    # Inicializar um dicionário para contar a ocorrência de cada gênero\n",
    "    genero_counts = {genero: 0 for genero in generos_unicos}\n",
    "    \n",
    "    # Contar a ocorrência de cada gênero no cluster\n",
    "    total_filmes_no_cluster = len(cluster_df)\n",
    "    for generos in cluster_df['Genres'].dropna():\n",
    "        for genero in generos.split(','):\n",
    "            if genero in genero_counts:\n",
    "                genero_counts[genero] += 1\n",
    "    \n",
    "    # Determinar o gênero predominante no cluster\n",
    "    if genero_counts:\n",
    "        genero_predominante = max(genero_counts, key=genero_counts.get)\n",
    "        porcentagem = (genero_counts[genero_predominante] / total_filmes_no_cluster) * 100\n",
    "    else:\n",
    "        genero_predominante = None  # Caso não haja gêneros, podemos definir como None ou outra coisa\n",
    "    \n",
    "    # Salvar o resultado no dicionário\n",
    "    cluster_genero_predominante_hierarchical[cluster] = (genero_predominante, porcentagem)"
   ]
  },
  {
   "cell_type": "code",
   "execution_count": 97,
   "metadata": {},
   "outputs": [
    {
     "name": "stdout",
     "output_type": "stream",
     "text": [
      "{8: ('Comedy', 28.436018957345972), 0: ('Drama', 41.87582562747688), 5: ('Drama', 48.63157894736842), 11: ('Comedy', 37.2093023255814), 6: ('Drama', 44.827586206896555), 10: ('Comedy', 44.099378881987576), 17: ('Drama', 45.0), 7: ('Drama', 35.9375), 4: ('Drama', 38.125), 2: ('Drama', 38.72549019607843), 1: ('Drama', 52.4822695035461), 13: ('Drama', 100.0), 9: ('Horror', 25.0), 19: ('Drama', 49.45054945054945), 14: ('Drama', 53.42465753424658), 18: ('Drama', 61.19402985074627), 16: ('Drama', 58.97435897435898), 12: ('Drama', 58.620689655172406), 15: ('Drama', 42.028985507246375), 3: ('Comedy', 54.385964912280706), 20: ('Drama', 41.46341463414634)}\n"
     ]
    }
   ],
   "source": [
    "print(cluster_genero_predominante_hierarchical)"
   ]
  },
  {
   "cell_type": "markdown",
   "metadata": {},
   "source": [
    "Percebe-se que o cluster teve pouca coerência interna"
   ]
  },
  {
   "cell_type": "markdown",
   "metadata": {},
   "source": [
    "# Exclusão de outliers"
   ]
  },
  {
   "cell_type": "markdown",
   "metadata": {},
   "source": [
    "Consideraremos um outlier como sendo um usuário que tem uma média de avaliação maior que 4,7, ou seja, só avalia os filmes positivamente, podendo ser um trol ou bancado por algum estúdio. Da mesma forma, retiramremos usuários com uma média de avaliações menor ou igual a 2."
   ]
  },
  {
   "cell_type": "code",
   "execution_count": 38,
   "metadata": {},
   "outputs": [],
   "source": [
    "user_mean_ratings = ratings.groupby('UserID')['Rating'].mean()"
   ]
  },
  {
   "cell_type": "code",
   "execution_count": 39,
   "metadata": {},
   "outputs": [
    {
     "data": {
      "text/plain": [
       "UserID\n",
       "1     4.188679\n",
       "2     3.713178\n",
       "3     3.901961\n",
       "4     4.190476\n",
       "5     3.146465\n",
       "6     3.901408\n",
       "7     4.322581\n",
       "8     3.884892\n",
       "9     3.735849\n",
       "10    4.114713\n",
       "Name: Rating, dtype: float64"
      ]
     },
     "execution_count": 39,
     "metadata": {},
     "output_type": "execute_result"
    }
   ],
   "source": [
    "user_mean_ratings.head(10)"
   ]
  },
  {
   "cell_type": "code",
   "execution_count": 42,
   "metadata": {},
   "outputs": [],
   "source": [
    "users_to_exclude = user_mean_ratings[(user_mean_ratings >= 4.7) | (user_mean_ratings <= 2)].index"
   ]
  },
  {
   "cell_type": "code",
   "execution_count": 43,
   "metadata": {},
   "outputs": [
    {
     "data": {
      "text/plain": [
       "Index([  91,  283,  446,  447,  682, 1131, 1670, 2339, 2744, 3324, 3461, 3598,\n",
       "       3902, 4349, 4486, 4539, 4634, 4636, 4649, 4755, 4801, 4925, 5069, 5334,\n",
       "       5768, 5850, 5984],\n",
       "      dtype='int64', name='UserID')"
      ]
     },
     "execution_count": 43,
     "metadata": {},
     "output_type": "execute_result"
    }
   ],
   "source": [
    "users_to_exclude"
   ]
  },
  {
   "cell_type": "code",
   "execution_count": 44,
   "metadata": {},
   "outputs": [],
   "source": [
    "ratings_filtered = ratings[~ratings['UserID'].isin(users_to_exclude)].copy()"
   ]
  },
  {
   "cell_type": "markdown",
   "metadata": {},
   "source": [
    "Precisamos agora gerar novamente as matrizes."
   ]
  },
  {
   "cell_type": "code",
   "execution_count": 45,
   "metadata": {},
   "outputs": [],
   "source": [
    "movies_in_ratings = movies[movies['MovieID'].isin(ratings_filtered['MovieID'])].copy()"
   ]
  },
  {
   "cell_type": "code",
   "execution_count": 46,
   "metadata": {},
   "outputs": [],
   "source": [
    "movies_in_ratings['MovieIDTrue'] = range(1, len(movies_in_ratings) + 1)"
   ]
  },
  {
   "cell_type": "code",
   "execution_count": 47,
   "metadata": {},
   "outputs": [],
   "source": [
    "ratings_filtered.drop(columns=['MovieIDTrue'], inplace= True)"
   ]
  },
  {
   "cell_type": "code",
   "execution_count": 48,
   "metadata": {},
   "outputs": [],
   "source": [
    "ratings_filtered = ratings_filtered.merge(movies_in_ratings[['MovieID', 'MovieIDTrue']], on='MovieID', how='left')"
   ]
  },
  {
   "cell_type": "code",
   "execution_count": 49,
   "metadata": {},
   "outputs": [
    {
     "data": {
      "text/plain": [
       "6013"
      ]
     },
     "execution_count": 49,
     "metadata": {},
     "output_type": "execute_result"
    }
   ],
   "source": [
    "num_users = ratings_filtered['UserID'].nunique()\n",
    "num_users"
   ]
  },
  {
   "cell_type": "code",
   "execution_count": 50,
   "metadata": {},
   "outputs": [
    {
     "data": {
      "text/plain": [
       "3702"
      ]
     },
     "execution_count": 50,
     "metadata": {},
     "output_type": "execute_result"
    }
   ],
   "source": [
    "num_movies = movies_in_ratings['MovieIDTrue'].nunique()\n",
    "num_movies"
   ]
  },
  {
   "cell_type": "code",
   "execution_count": 51,
   "metadata": {},
   "outputs": [],
   "source": [
    "ratings_matrix = np.empty((num_movies, num_users))\n",
    "ratings_matrix[:] = np.nan"
   ]
  },
  {
   "cell_type": "code",
   "execution_count": 52,
   "metadata": {},
   "outputs": [],
   "source": [
    "unique_user_ids = ratings_filtered['UserID'].drop_duplicates().reset_index(drop=True)"
   ]
  },
  {
   "cell_type": "code",
   "execution_count": 53,
   "metadata": {},
   "outputs": [],
   "source": [
    "unique_user_ids = pd.DataFrame(unique_user_ids)\n",
    "unique_user_ids['UserIDTrue'] = range(1, len(unique_user_ids) + 1)"
   ]
  },
  {
   "cell_type": "code",
   "execution_count": 54,
   "metadata": {},
   "outputs": [],
   "source": [
    "ratings_filtered = ratings_filtered.merge(unique_user_ids, on='UserID', how='left')"
   ]
  },
  {
   "cell_type": "code",
   "execution_count": 55,
   "metadata": {},
   "outputs": [
    {
     "data": {
      "text/html": [
       "<div>\n",
       "<style scoped>\n",
       "    .dataframe tbody tr th:only-of-type {\n",
       "        vertical-align: middle;\n",
       "    }\n",
       "\n",
       "    .dataframe tbody tr th {\n",
       "        vertical-align: top;\n",
       "    }\n",
       "\n",
       "    .dataframe thead th {\n",
       "        text-align: right;\n",
       "    }\n",
       "</style>\n",
       "<table border=\"1\" class=\"dataframe\">\n",
       "  <thead>\n",
       "    <tr style=\"text-align: right;\">\n",
       "      <th></th>\n",
       "      <th>UserID</th>\n",
       "      <th>MovieID</th>\n",
       "      <th>Rating</th>\n",
       "      <th>Timestamp</th>\n",
       "      <th>MovieIDTrue</th>\n",
       "      <th>UserIDTrue</th>\n",
       "    </tr>\n",
       "  </thead>\n",
       "  <tbody>\n",
       "    <tr>\n",
       "      <th>998500</th>\n",
       "      <td>6040</td>\n",
       "      <td>1091</td>\n",
       "      <td>1</td>\n",
       "      <td>956716541</td>\n",
       "      <td>1018</td>\n",
       "      <td>6013</td>\n",
       "    </tr>\n",
       "    <tr>\n",
       "      <th>998501</th>\n",
       "      <td>6040</td>\n",
       "      <td>1094</td>\n",
       "      <td>5</td>\n",
       "      <td>956704887</td>\n",
       "      <td>1021</td>\n",
       "      <td>6013</td>\n",
       "    </tr>\n",
       "    <tr>\n",
       "      <th>998502</th>\n",
       "      <td>6040</td>\n",
       "      <td>562</td>\n",
       "      <td>5</td>\n",
       "      <td>956704746</td>\n",
       "      <td>547</td>\n",
       "      <td>6013</td>\n",
       "    </tr>\n",
       "    <tr>\n",
       "      <th>998503</th>\n",
       "      <td>6040</td>\n",
       "      <td>1096</td>\n",
       "      <td>4</td>\n",
       "      <td>956715648</td>\n",
       "      <td>1023</td>\n",
       "      <td>6013</td>\n",
       "    </tr>\n",
       "    <tr>\n",
       "      <th>998504</th>\n",
       "      <td>6040</td>\n",
       "      <td>1097</td>\n",
       "      <td>4</td>\n",
       "      <td>956715569</td>\n",
       "      <td>1024</td>\n",
       "      <td>6013</td>\n",
       "    </tr>\n",
       "  </tbody>\n",
       "</table>\n",
       "</div>"
      ],
      "text/plain": [
       "        UserID  MovieID  Rating  Timestamp  MovieIDTrue  UserIDTrue\n",
       "998500    6040     1091       1  956716541         1018        6013\n",
       "998501    6040     1094       5  956704887         1021        6013\n",
       "998502    6040      562       5  956704746          547        6013\n",
       "998503    6040     1096       4  956715648         1023        6013\n",
       "998504    6040     1097       4  956715569         1024        6013"
      ]
     },
     "execution_count": 55,
     "metadata": {},
     "output_type": "execute_result"
    }
   ],
   "source": [
    "ratings_filtered.tail()"
   ]
  },
  {
   "cell_type": "code",
   "execution_count": 56,
   "metadata": {},
   "outputs": [],
   "source": [
    "for index, row in ratings_filtered.iterrows():\n",
    "    ratings_matrix[row['MovieIDTrue']-1][row['UserIDTrue']-1] = row['Rating']"
   ]
  },
  {
   "cell_type": "code",
   "execution_count": 57,
   "metadata": {},
   "outputs": [],
   "source": [
    "ratings_matrix = replace_nans_with_row_mean(ratings_matrix)"
   ]
  },
  {
   "cell_type": "code",
   "execution_count": 58,
   "metadata": {},
   "outputs": [],
   "source": [
    "ratings_matrix_normalized = np.apply_along_axis(normalize_row, 1, ratings_matrix)"
   ]
  },
  {
   "cell_type": "code",
   "execution_count": 59,
   "metadata": {},
   "outputs": [
    {
     "name": "stdout",
     "output_type": "stream",
     "text": [
      "Número total de NaNs: 0\n"
     ]
    }
   ],
   "source": [
    "total_nans = np.isnan(ratings_matrix_normalized).sum()\n",
    "print(f\"Número total de NaNs: {total_nans}\")"
   ]
  },
  {
   "cell_type": "markdown",
   "metadata": {},
   "source": [
    "# Calculando SVD e PCA"
   ]
  },
  {
   "cell_type": "code",
   "execution_count": 60,
   "metadata": {},
   "outputs": [],
   "source": [
    "pca = PCA()\n",
    "X_pca = pca.fit_transform(ratings_matrix_normalized)"
   ]
  },
  {
   "cell_type": "code",
   "execution_count": 61,
   "metadata": {},
   "outputs": [],
   "source": [
    "explained_variance = np.cumsum(pca.explained_variance_ratio_)"
   ]
  },
  {
   "cell_type": "code",
   "execution_count": 62,
   "metadata": {},
   "outputs": [
    {
     "data": {
      "image/png": "[encoded data removed]",
      "text/plain": [
       "<Figure size 1000x700 with 1 Axes>"
      ]
     },
     "metadata": {},
     "output_type": "display_data"
    }
   ],
   "source": [
    "# Plotar a variância explicada\n",
    "plt.figure(figsize=(10, 7))\n",
    "plt.plot(explained_variance, marker='o', linestyle='--')\n",
    "plt.xlabel('Número de Componentes')\n",
    "plt.ylabel('Variância Explicada Acumulada')\n",
    "plt.title('Variância Explicada Acumulada pelo PCA')\n",
    "plt.grid(True)\n",
    "plt.show()"
   ]
  },
  {
   "cell_type": "code",
   "execution_count": 63,
   "metadata": {},
   "outputs": [
    {
     "name": "stdout",
     "output_type": "stream",
     "text": [
      "Number of components to keep 95% of variance: 1032\n"
     ]
    }
   ],
   "source": [
    "num_components = np.argmax(explained_variance >= 0.8) + 1\n",
    "print(f\"Number of components to keep 95% of variance: {num_components}\")"
   ]
  },
  {
   "cell_type": "markdown",
   "metadata": {},
   "source": [
    "Usaremos o PCA em 20 componentes e o SVD em 80% da variância dos dados"
   ]
  },
  {
   "cell_type": "code",
   "execution_count": 69,
   "metadata": {},
   "outputs": [
    {
     "name": "stdout",
     "output_type": "stream",
     "text": [
      "Shape of the reduced data: (3702, 20)\n"
     ]
    }
   ],
   "source": [
    "pca = PCA(n_components=20)\n",
    "X_pca_reduced = pca.fit_transform(ratings_matrix_normalized)\n",
    "\n",
    "# Exibir a forma dos dados transformados\n",
    "print(\"Shape of the reduced data:\", X_pca_reduced.shape)"
   ]
  },
  {
   "cell_type": "code",
   "execution_count": 70,
   "metadata": {},
   "outputs": [],
   "source": [
    "pca = PCA(n_components=num_components)\n",
    "X_pca_reduced_80 = pca.fit_transform(ratings_matrix_normalized)"
   ]
  },
  {
   "cell_type": "code",
   "execution_count": 65,
   "metadata": {},
   "outputs": [],
   "source": [
    "svd = TruncatedSVD(n_components=ratings_matrix_normalized.shape[1] - 1)\n",
    "X_svd = svd.fit_transform(ratings_matrix_normalized)"
   ]
  },
  {
   "cell_type": "code",
   "execution_count": 66,
   "metadata": {},
   "outputs": [],
   "source": [
    "explained_variance = np.cumsum(svd.explained_variance_ratio_)"
   ]
  },
  {
   "cell_type": "code",
   "execution_count": 58,
   "metadata": {},
   "outputs": [
    {
     "data": {
      "image/png": "[encoded data removed]",
      "text/plain": [
       "<Figure size 1000x700 with 1 Axes>"
      ]
     },
     "metadata": {},
     "output_type": "display_data"
    }
   ],
   "source": [
    "# Plotar a variância explicada\n",
    "plt.figure(figsize=(10, 7))\n",
    "plt.plot(explained_variance, marker='o', linestyle='--')\n",
    "plt.xlabel('Número de Componentes')\n",
    "plt.ylabel('Variância Explicada Acumulada')\n",
    "plt.title('Variância Explicada Acumulada pelo SVD')\n",
    "plt.grid(True)\n",
    "plt.show()"
   ]
  },
  {
   "cell_type": "code",
   "execution_count": 67,
   "metadata": {},
   "outputs": [
    {
     "name": "stdout",
     "output_type": "stream",
     "text": [
      "Number of components to keep 95% of variance: 1032\n"
     ]
    }
   ],
   "source": [
    "num_components = np.argmax(explained_variance >= 0.8) + 1\n",
    "print(f\"Number of components to keep 95% of variance: {num_components}\")"
   ]
  },
  {
   "cell_type": "code",
   "execution_count": 71,
   "metadata": {},
   "outputs": [],
   "source": [
    "svd = TruncatedSVD(n_components=num_components)\n",
    "X_svd_reduced = svd.fit_transform(ratings_matrix_normalized)"
   ]
  },
  {
   "cell_type": "code",
   "execution_count": 72,
   "metadata": {},
   "outputs": [
    {
     "name": "stdout",
     "output_type": "stream",
     "text": [
      "Shape of the reduced data: (3702, 1032)\n"
     ]
    }
   ],
   "source": [
    "print(\"Shape of the reduced data:\", X_svd_reduced.shape)"
   ]
  },
  {
   "cell_type": "code",
   "execution_count": 73,
   "metadata": {},
   "outputs": [],
   "source": [
    "U, Sigma, VT = np.linalg.svd(ratings_matrix_normalized, full_matrices=False)"
   ]
  },
  {
   "cell_type": "code",
   "execution_count": 74,
   "metadata": {},
   "outputs": [
    {
     "data": {
      "image/png": "[encoded data removed]",
      "text/plain": [
       "<Figure size 1000x700 with 1 Axes>"
      ]
     },
     "metadata": {},
     "output_type": "display_data"
    }
   ],
   "source": [
    "# Plotar os valores singulares\n",
    "plt.figure(figsize=(10, 7))\n",
    "plt.plot(Sigma, marker='o', linestyle='--')\n",
    "plt.xlabel('Índice do Valor Singular')\n",
    "plt.ylabel('Valor Singular')\n",
    "plt.title('Valores Singulares da Decomposição SVD')\n",
    "plt.grid(True)\n",
    "plt.show()"
   ]
  },
  {
   "cell_type": "markdown",
   "metadata": {},
   "source": [
    "# DBSCAN Reduzido"
   ]
  },
  {
   "cell_type": "code",
   "execution_count": 297,
   "metadata": {},
   "outputs": [],
   "source": [
    "cluster_genero_predominante_DBSCAN_SVD ={}\n",
    "cluster_genero_predominante_DBSCAN_PCA ={}"
   ]
  },
  {
   "cell_type": "code",
   "execution_count": 75,
   "metadata": {},
   "outputs": [],
   "source": [
    "k = 40  # Ajuste conforme necessário\n",
    "nbrs = NearestNeighbors(n_neighbors=k).fit(X_pca_reduced)\n",
    "distances, indices = nbrs.kneighbors(X_pca_reduced)"
   ]
  },
  {
   "cell_type": "code",
   "execution_count": 78,
   "metadata": {},
   "outputs": [
    {
     "data": {
      "image/png": "[encoded data removed]",
      "text/plain": [
       "<Figure size 640x480 with 1 Axes>"
      ]
     },
     "metadata": {},
     "output_type": "display_data"
    }
   ],
   "source": [
    "k_distances = np.sort(distances[:, k-1], axis=0)\n",
    "plt.plot(k_distances)\n",
    "plt.xlabel(\"Pontos ordenados (4º vizinho mais próximo)\")\n",
    "plt.ylabel(\"Distância\")\n",
    "plt.title(\"Curva do Cotovelo para determinar o eps\")\n",
    "plt.show()\n"
   ]
  },
  {
   "cell_type": "code",
   "execution_count": 135,
   "metadata": {},
   "outputs": [],
   "source": [
    "eps = 13\n",
    "min_samples = 4"
   ]
  },
  {
   "cell_type": "code",
   "execution_count": 136,
   "metadata": {},
   "outputs": [],
   "source": [
    "dbscan = DBSCAN(eps=eps, min_samples=min_samples, metric='euclidean')\n",
    "dbscan_clusters = dbscan.fit_predict(X_pca_reduced)"
   ]
  },
  {
   "cell_type": "code",
   "execution_count": 137,
   "metadata": {},
   "outputs": [],
   "source": [
    "movies_in_ratings['DBSCAN_Cluster_PCA'] = dbscan_clusters"
   ]
  },
  {
   "cell_type": "code",
   "execution_count": 138,
   "metadata": {},
   "outputs": [
    {
     "name": "stdout",
     "output_type": "stream",
     "text": [
      "Contagem dos clusters formados:\n",
      " DBSCAN_Cluster_PCA\n",
      " 0     2124\n",
      "-1     1485\n",
      " 5       14\n",
      " 10       9\n",
      " 2        8\n",
      " 14       7\n",
      " 1        6\n",
      " 13       5\n",
      " 12       5\n",
      " 4        5\n",
      " 17       5\n",
      " 11       4\n",
      " 7        4\n",
      " 9        4\n",
      " 3        4\n",
      " 6        4\n",
      " 15       4\n",
      " 8        3\n",
      " 16       2\n",
      "Name: count, dtype: int64\n"
     ]
    }
   ],
   "source": [
    "cluster_counts = movies_in_ratings['DBSCAN_Cluster_PCA'].value_counts()\n",
    "print(\"Contagem dos clusters formados:\\n\", cluster_counts) "
   ]
  },
  {
   "cell_type": "code",
   "execution_count": 298,
   "metadata": {},
   "outputs": [],
   "source": [
    "for cluster in movies_in_ratings['DBSCAN_Cluster_PCA'].unique():\n",
    "    cluster_df = movies_in_ratings[movies_in_ratings['DBSCAN_Cluster_PCA'] == cluster]\n",
    "    \n",
    "    genero_counts = {genero: 0 for genero in generos_unicos}\n",
    "\n",
    "    total_filmes_no_cluster = len(cluster_df)\n",
    "    for generos in cluster_df['Genres'].dropna():\n",
    "        for genero in generos.split(','):\n",
    "            if genero in genero_counts:\n",
    "                genero_counts[genero] += 1\n",
    "    \n",
    "\n",
    "    if genero_counts:\n",
    "        genero_predominante = max(genero_counts, key=genero_counts.get)\n",
    "        porcentagem = (genero_counts[genero_predominante] / total_filmes_no_cluster) * 100\n",
    "    else:\n",
    "        genero_predominante = None  \n",
    "    \n",
    "\n",
    "    cluster_genero_predominante_DBSCAN_PCA[cluster] = (genero_predominante, porcentagem)"
   ]
  },
  {
   "cell_type": "code",
   "execution_count": 295,
   "metadata": {},
   "outputs": [
    {
     "name": "stdout",
     "output_type": "stream",
     "text": [
      "{0: ('Drama', 42.18455743879473), -1: ('Drama', 38.51851851851852), 6: ('Action', 75.0), 1: ('Drama', 100.0), 2: ('Comedy', 87.5), 3: ('Horror', 100.0), 17: ('Action', 60.0), 7: ('Romance', 75.0), 5: ('Drama', 42.857142857142854), 4: ('Drama', 80.0), 8: ('Comedy', 100.0), 11: (\"Children's\", 100.0), 14: ('Horror', 100.0), 10: ('Horror', 100.0), 9: ('Horror', 100.0), 12: ('Comedy', 100.0), 13: ('Action', 100.0), 15: ('Romance', 50.0), 16: ('Drama', 100.0)}\n"
     ]
    }
   ],
   "source": [
    "print(cluster_genero_predominante_DBSCAN_PCA)"
   ]
  },
  {
   "cell_type": "markdown",
   "metadata": {},
   "source": [
    "Os clusters até apresentam um grau de coerência alto, mas pelo seu tamanho, não tem tanta significância estatística"
   ]
  },
  {
   "cell_type": "code",
   "execution_count": 178,
   "metadata": {},
   "outputs": [],
   "source": [
    "k = 1000  # Ajuste conforme necessário\n",
    "nbrs = NearestNeighbors(n_neighbors=k).fit(X_svd_reduced)\n",
    "distances, indices = nbrs.kneighbors(X_svd_reduced)"
   ]
  },
  {
   "cell_type": "code",
   "execution_count": 179,
   "metadata": {},
   "outputs": [
    {
     "data": {
      "image/png": "[encoded data removed]",
      "text/plain": [
       "<Figure size 640x480 with 1 Axes>"
      ]
     },
     "metadata": {},
     "output_type": "display_data"
    }
   ],
   "source": [
    "k_distances = np.sort(distances[:, k-1], axis=0)\n",
    "plt.plot(k_distances)\n",
    "plt.xlabel(\"Pontos ordenados (4º vizinho mais próximo)\")\n",
    "plt.ylabel(\"Distância\")\n",
    "plt.title(\"Curva do Cotovelo para determinar o eps\")\n",
    "plt.show()"
   ]
  },
  {
   "cell_type": "code",
   "execution_count": null,
   "metadata": {},
   "outputs": [],
   "source": [
    "k_distances = np.sort(distances[:, k-1], axis=0)"
   ]
  },
  {
   "cell_type": "code",
   "execution_count": 288,
   "metadata": {},
   "outputs": [],
   "source": [
    "eps = 70\n",
    "min_samples = 3"
   ]
  },
  {
   "cell_type": "code",
   "execution_count": 289,
   "metadata": {},
   "outputs": [],
   "source": [
    "dbscan = DBSCAN(eps=eps, min_samples=min_samples, metric='euclidean')\n",
    "dbscan_clusters = dbscan.fit_predict(X_svd_reduced)"
   ]
  },
  {
   "cell_type": "code",
   "execution_count": 290,
   "metadata": {},
   "outputs": [],
   "source": [
    "movies_in_ratings['DBSCAN_Cluster_SVD'] = dbscan_clusters"
   ]
  },
  {
   "cell_type": "code",
   "execution_count": 291,
   "metadata": {},
   "outputs": [
    {
     "name": "stdout",
     "output_type": "stream",
     "text": [
      "Contagem dos clusters formados:\n",
      " DBSCAN_Cluster_SVD\n",
      " 0     2714\n",
      "-1      950\n",
      " 2        6\n",
      " 5        5\n",
      " 6        5\n",
      " 9        4\n",
      " 3        3\n",
      " 1        3\n",
      " 4        3\n",
      " 8        3\n",
      " 7        3\n",
      " 10       3\n",
      "Name: count, dtype: int64\n"
     ]
    }
   ],
   "source": [
    "cluster_counts = movies_in_ratings['DBSCAN_Cluster_SVD'].value_counts()\n",
    "print(\"Contagem dos clusters formados:\\n\", cluster_counts) "
   ]
  },
  {
   "cell_type": "code",
   "execution_count": 299,
   "metadata": {},
   "outputs": [],
   "source": [
    "for cluster in movies_in_ratings['DBSCAN_Cluster_PCA'].unique():\n",
    "    cluster_df = movies_in_ratings[movies_in_ratings['DBSCAN_Cluster_PCA'] == cluster]\n",
    "    \n",
    "    genero_counts = {genero: 0 for genero in generos_unicos}\n",
    "\n",
    "    total_filmes_no_cluster = len(cluster_df)\n",
    "    for generos in cluster_df['Genres'].dropna():\n",
    "        for genero in generos.split(','):\n",
    "            if genero in genero_counts:\n",
    "                genero_counts[genero] += 1\n",
    "    \n",
    "\n",
    "    if genero_counts:\n",
    "        genero_predominante = max(genero_counts, key=genero_counts.get)\n",
    "        porcentagem = (genero_counts[genero_predominante] / total_filmes_no_cluster) * 100\n",
    "    else:\n",
    "        genero_predominante = None  \n",
    "    \n",
    "\n",
    "    cluster_genero_predominante_DBSCAN_SVD[cluster] = (genero_predominante, porcentagem)"
   ]
  },
  {
   "cell_type": "code",
   "execution_count": 300,
   "metadata": {},
   "outputs": [
    {
     "name": "stdout",
     "output_type": "stream",
     "text": [
      "{0: ('Drama', 42.18455743879473), -1: ('Drama', 38.51851851851852), 6: ('Action', 75.0), 1: ('Drama', 100.0), 2: ('Comedy', 87.5), 3: ('Horror', 100.0), 17: ('Action', 60.0), 7: ('Romance', 75.0), 5: ('Drama', 42.857142857142854), 4: ('Drama', 80.0), 8: ('Comedy', 100.0), 11: (\"Children's\", 100.0), 14: ('Horror', 100.0), 10: ('Horror', 100.0), 9: ('Horror', 100.0), 12: ('Comedy', 100.0), 13: ('Action', 100.0), 15: ('Romance', 50.0), 16: ('Drama', 100.0)}\n"
     ]
    }
   ],
   "source": [
    "print(cluster_genero_predominante_DBSCAN_SVD)"
   ]
  },
  {
   "cell_type": "markdown",
   "metadata": {},
   "source": [
    "O mesmo problema, tivemos bons resultados mass os clsuters são muito pequenos. E mesmo alterando diversos parâmetros, não consegui quebrar esse primeiro grande clsuter."
   ]
  },
  {
   "cell_type": "markdown",
   "metadata": {},
   "source": [
    "# KMeans Reduzido"
   ]
  },
  {
   "cell_type": "code",
   "execution_count": 185,
   "metadata": {},
   "outputs": [],
   "source": [
    "cluster_genero_predominante_kmeans_PCA = {}\n",
    "cluster_genero_predominante_kmeans_SVD = {}"
   ]
  },
  {
   "cell_type": "code",
   "execution_count": 100,
   "metadata": {},
   "outputs": [],
   "source": [
    "kmeans_kwargs = {\n",
    "\"init\": \"random\",\n",
    "\"n_init\": 10,\n",
    "\"max_iter\": 300,\n",
    "\"random_state\": 42}"
   ]
  },
  {
   "cell_type": "code",
   "execution_count": null,
   "metadata": {},
   "outputs": [],
   "source": [
    "# A list holds the SSE values for each k\n",
    "sse = []\n",
    "for k in range(1, 81):\n",
    "   print(k)\n",
    "   kmeans = KMeans(n_clusters=k, **kmeans_kwargs, )\n",
    "   kmeans.fit(X_pca_reduced)\n",
    "   sse.append(kmeans.inertia_)"
   ]
  },
  {
   "cell_type": "code",
   "execution_count": 102,
   "metadata": {},
   "outputs": [
    {
     "data": {
      "image/png": "[encoded data removed]",
      "text/plain": [
       "<Figure size 640x480 with 1 Axes>"
      ]
     },
     "metadata": {},
     "output_type": "display_data"
    }
   ],
   "source": [
    "plt.style.use(\"fivethirtyeight\")\n",
    "plt.plot(range(1, 81), sse)\n",
    "plt.xticks(range(1, 81, 5))\n",
    "plt.xlabel(\"Number of Clusters\")\n",
    "plt.ylabel(\"SSE\")\n",
    "plt.show()"
   ]
  },
  {
   "cell_type": "code",
   "execution_count": 103,
   "metadata": {},
   "outputs": [],
   "source": [
    "kl = KneeLocator(range(1, 81), sse, curve=\"convex\", direction=\"decreasing\")"
   ]
  },
  {
   "cell_type": "code",
   "execution_count": 104,
   "metadata": {},
   "outputs": [
    {
     "data": {
      "text/plain": [
       "23"
      ]
     },
     "execution_count": 104,
     "metadata": {},
     "output_type": "execute_result"
    }
   ],
   "source": [
    "kl.elbow"
   ]
  },
  {
   "cell_type": "code",
   "execution_count": 260,
   "metadata": {},
   "outputs": [],
   "source": [
    "kmeans = KMeans(n_clusters=24, random_state=42, n_init = 10)\n",
    "kmeans_clusters = kmeans.fit_predict(X_pca_reduced)"
   ]
  },
  {
   "cell_type": "code",
   "execution_count": 261,
   "metadata": {},
   "outputs": [],
   "source": [
    "movies_in_ratings['KMeans_Cluster_PCA'] = kmeans_clusters"
   ]
  },
  {
   "cell_type": "code",
   "execution_count": 262,
   "metadata": {},
   "outputs": [
    {
     "name": "stdout",
     "output_type": "stream",
     "text": [
      "Contagem dos clusters formados:\n",
      " KMeans_Cluster_PCA\n",
      "4     679\n",
      "0     308\n",
      "2     287\n",
      "1     255\n",
      "7     236\n",
      "13    220\n",
      "19    206\n",
      "9     186\n",
      "6     176\n",
      "18    141\n",
      "5     120\n",
      "10    117\n",
      "22    107\n",
      "14     92\n",
      "12     87\n",
      "20     84\n",
      "11     81\n",
      "21     77\n",
      "8      57\n",
      "17     55\n",
      "15     53\n",
      "3      32\n",
      "23     30\n",
      "16     16\n",
      "Name: count, dtype: int64\n"
     ]
    }
   ],
   "source": [
    "cluster_counts = movies_in_ratings['KMeans_Cluster_PCA'].value_counts()\n",
    "print(\"Contagem dos clusters formados:\\n\", cluster_counts)"
   ]
  },
  {
   "cell_type": "code",
   "execution_count": 263,
   "metadata": {},
   "outputs": [],
   "source": [
    "cluster_genero_predominante_kmeans_PCA = {}\n",
    "# Iterar sobre cada cluster\n",
    "for cluster in movies_in_ratings['KMeans_Cluster_PCA'].unique():\n",
    "    # Filtrar o DataFrame para o cluster atual\n",
    "    cluster_df = movies_in_ratings[movies_in_ratings['KMeans_Cluster_PCA'] == cluster]\n",
    "    \n",
    "    # Inicializar um dicionário para contar a ocorrência de cada gênero\n",
    "    genero_counts = {genero: 0 for genero in generos_unicos}\n",
    "    \n",
    "    # Contar a ocorrência de cada gênero no cluster\n",
    "    total_filmes_no_cluster = len(cluster_df)\n",
    "    for generos in cluster_df['Genres'].dropna():\n",
    "        for genero in generos.split(','):\n",
    "            if genero in genero_counts:\n",
    "                genero_counts[genero] += 1\n",
    "    \n",
    "    # Determinar o gênero predominante no cluster\n",
    "    if genero_counts:\n",
    "        genero_predominante = max(genero_counts, key=genero_counts.get)\n",
    "        porcentagem = (genero_counts[genero_predominante] / total_filmes_no_cluster) * 100\n",
    "    else:\n",
    "        genero_predominante = None  # Caso não haja gêneros, podemos definir como None ou outra coisa\n",
    "    \n",
    "    # Salvar o resultado no dicionário\n",
    "    cluster_genero_predominante_kmeans_PCA[cluster] = (genero_predominante, porcentagem)"
   ]
  },
  {
   "cell_type": "code",
   "execution_count": 264,
   "metadata": {},
   "outputs": [
    {
     "name": "stdout",
     "output_type": "stream",
     "text": [
      "{6: (\"Children's\", 80.11363636363636), 13: ('Comedy', 85.9090909090909), 18: ('Drama', 55.319148936170215), 1: ('Comedy', 42.745098039215684), 7: ('Action', 76.69491525423729), 0: ('Comedy', 45.77922077922078), 2: ('Drama', 75.26132404181185), 17: ('Drama', 52.72727272727272), 4: ('Drama', 45.80265095729013), 22: ('Romance', 51.4018691588785), 10: ('Drama', 98.29059829059828), 14: ('Horror', 33.69565217391305), 8: ('Drama', 98.24561403508771), 20: ('Drama', 60.71428571428571), 15: ('Drama', 37.735849056603776), 19: ('Action', 37.86407766990291), 12: ('Drama', 54.02298850574713), 21: ('Horror', 77.92207792207793), 16: ('Drama', 81.25), 11: ('Comedy', 40.74074074074074), 5: ('Horror', 99.16666666666667), 9: ('Drama', 34.946236559139784), 3: ('Drama', 31.25), 23: ('Drama', 36.666666666666664)}\n"
     ]
    }
   ],
   "source": [
    "print(cluster_genero_predominante_kmeans_PCA)"
   ]
  },
  {
   "cell_type": "code",
   "execution_count": 109,
   "metadata": {},
   "outputs": [
    {
     "name": "stdout",
     "output_type": "stream",
     "text": [
      "1\n",
      "2\n",
      "3\n",
      "4\n",
      "5\n",
      "6\n",
      "7\n",
      "8\n",
      "9\n",
      "10\n",
      "11\n",
      "12\n",
      "13\n",
      "14\n",
      "15\n",
      "16\n",
      "17\n",
      "18\n",
      "19\n",
      "20\n",
      "21\n",
      "22\n",
      "23\n",
      "24\n",
      "25\n",
      "26\n",
      "27\n",
      "28\n",
      "29\n",
      "30\n",
      "31\n",
      "32\n",
      "33\n",
      "34\n",
      "35\n",
      "36\n",
      "37\n",
      "38\n",
      "39\n",
      "40\n",
      "41\n",
      "42\n",
      "43\n",
      "44\n",
      "45\n",
      "46\n",
      "47\n",
      "48\n",
      "49\n",
      "50\n",
      "51\n",
      "52\n",
      "53\n",
      "54\n",
      "55\n",
      "56\n",
      "57\n",
      "58\n",
      "59\n",
      "60\n",
      "61\n",
      "62\n",
      "63\n",
      "64\n",
      "65\n",
      "66\n",
      "67\n",
      "68\n",
      "69\n",
      "70\n",
      "71\n",
      "72\n",
      "73\n",
      "74\n",
      "75\n",
      "76\n",
      "77\n",
      "78\n",
      "79\n",
      "80\n"
     ]
    }
   ],
   "source": [
    "# A list holds the SSE values for each k\n",
    "sse = []\n",
    "for k in range(1, 81):\n",
    "   print(k)\n",
    "   kmeans = KMeans(n_clusters=k, **kmeans_kwargs, )\n",
    "   kmeans.fit(X_svd_reduced)\n",
    "   sse.append(kmeans.inertia_)"
   ]
  },
  {
   "cell_type": "code",
   "execution_count": 110,
   "metadata": {},
   "outputs": [
    {
     "data": {
      "image/png": "[encoded data removed]",
      "text/plain": [
       "<Figure size 640x480 with 1 Axes>"
      ]
     },
     "metadata": {},
     "output_type": "display_data"
    }
   ],
   "source": [
    "plt.style.use(\"fivethirtyeight\")\n",
    "plt.plot(range(1, 81), sse)\n",
    "plt.xticks(range(1, 81, 5))\n",
    "plt.xlabel(\"Number of Clusters\")\n",
    "plt.ylabel(\"SSE\")\n",
    "plt.show()"
   ]
  },
  {
   "cell_type": "code",
   "execution_count": 111,
   "metadata": {},
   "outputs": [
    {
     "data": {
      "text/plain": [
       "23"
      ]
     },
     "execution_count": 111,
     "metadata": {},
     "output_type": "execute_result"
    }
   ],
   "source": [
    "kl.elbow"
   ]
  },
  {
   "cell_type": "code",
   "execution_count": 174,
   "metadata": {},
   "outputs": [],
   "source": [
    "kmeans = KMeans(n_clusters=24, random_state=42, n_init = 10)\n",
    "kmeans_clusters = kmeans.fit_predict(X_svd_reduced)"
   ]
  },
  {
   "cell_type": "code",
   "execution_count": 175,
   "metadata": {},
   "outputs": [],
   "source": [
    "movies_in_ratings['KMeans_Cluster_SVD'] = kmeans_clusters"
   ]
  },
  {
   "cell_type": "code",
   "execution_count": 176,
   "metadata": {},
   "outputs": [
    {
     "name": "stdout",
     "output_type": "stream",
     "text": [
      "Contagem dos clusters formados:\n",
      " KMeans_Cluster_SVD\n",
      "7     619\n",
      "2     311\n",
      "3     247\n",
      "5     199\n",
      "12    197\n",
      "17    193\n",
      "19    187\n",
      "18    185\n",
      "21    160\n",
      "23    143\n",
      "15    138\n",
      "1     122\n",
      "16    112\n",
      "11    110\n",
      "8     110\n",
      "6     103\n",
      "4      96\n",
      "20     93\n",
      "22     87\n",
      "14     76\n",
      "13     76\n",
      "9      61\n",
      "10     44\n",
      "0      33\n",
      "Name: count, dtype: int64\n"
     ]
    }
   ],
   "source": [
    "cluster_counts = movies_in_ratings['KMeans_Cluster_SVD'].value_counts()\n",
    "print(\"Contagem dos clusters formados:\\n\", cluster_counts)"
   ]
  },
  {
   "cell_type": "code",
   "execution_count": 180,
   "metadata": {},
   "outputs": [
    {
     "data": {
      "text/html": [
       "<div>\n",
       "<style scoped>\n",
       "    .dataframe tbody tr th:only-of-type {\n",
       "        vertical-align: middle;\n",
       "    }\n",
       "\n",
       "    .dataframe tbody tr th {\n",
       "        vertical-align: top;\n",
       "    }\n",
       "\n",
       "    .dataframe thead th {\n",
       "        text-align: right;\n",
       "    }\n",
       "</style>\n",
       "<table border=\"1\" class=\"dataframe\">\n",
       "  <thead>\n",
       "    <tr style=\"text-align: right;\">\n",
       "      <th></th>\n",
       "      <th>MovieID</th>\n",
       "      <th>Title</th>\n",
       "      <th>Genres</th>\n",
       "      <th>Year</th>\n",
       "      <th>MovieIDTrue</th>\n",
       "      <th>KMeans_Cluster_PCA</th>\n",
       "      <th>KMeans_Cluster_SVD</th>\n",
       "    </tr>\n",
       "  </thead>\n",
       "  <tbody>\n",
       "    <tr>\n",
       "      <th>0</th>\n",
       "      <td>1</td>\n",
       "      <td>Toy Story (1995)</td>\n",
       "      <td>Animation,Children's,Comedy</td>\n",
       "      <td>1995</td>\n",
       "      <td>1</td>\n",
       "      <td>19</td>\n",
       "      <td>18</td>\n",
       "    </tr>\n",
       "    <tr>\n",
       "      <th>1</th>\n",
       "      <td>2</td>\n",
       "      <td>Jumanji (1995)</td>\n",
       "      <td>Adventure,Children's,Fantasy</td>\n",
       "      <td>1995</td>\n",
       "      <td>2</td>\n",
       "      <td>19</td>\n",
       "      <td>19</td>\n",
       "    </tr>\n",
       "    <tr>\n",
       "      <th>2</th>\n",
       "      <td>3</td>\n",
       "      <td>Grumpier Old Men (1995)</td>\n",
       "      <td>Comedy,Romance</td>\n",
       "      <td>1995</td>\n",
       "      <td>3</td>\n",
       "      <td>14</td>\n",
       "      <td>21</td>\n",
       "    </tr>\n",
       "    <tr>\n",
       "      <th>3</th>\n",
       "      <td>4</td>\n",
       "      <td>Waiting to Exhale (1995)</td>\n",
       "      <td>Comedy,Drama</td>\n",
       "      <td>1995</td>\n",
       "      <td>4</td>\n",
       "      <td>20</td>\n",
       "      <td>5</td>\n",
       "    </tr>\n",
       "    <tr>\n",
       "      <th>4</th>\n",
       "      <td>5</td>\n",
       "      <td>Father of the Bride Part II (1995)</td>\n",
       "      <td>Comedy</td>\n",
       "      <td>1995</td>\n",
       "      <td>5</td>\n",
       "      <td>19</td>\n",
       "      <td>19</td>\n",
       "    </tr>\n",
       "  </tbody>\n",
       "</table>\n",
       "</div>"
      ],
      "text/plain": [
       "   MovieID                               Title                        Genres  \\\n",
       "0        1                    Toy Story (1995)   Animation,Children's,Comedy   \n",
       "1        2                      Jumanji (1995)  Adventure,Children's,Fantasy   \n",
       "2        3             Grumpier Old Men (1995)                Comedy,Romance   \n",
       "3        4            Waiting to Exhale (1995)                  Comedy,Drama   \n",
       "4        5  Father of the Bride Part II (1995)                        Comedy   \n",
       "\n",
       "   Year  MovieIDTrue  KMeans_Cluster_PCA  KMeans_Cluster_SVD  \n",
       "0  1995            1                  19                  18  \n",
       "1  1995            2                  19                  19  \n",
       "2  1995            3                  14                  21  \n",
       "3  1995            4                  20                   5  \n",
       "4  1995            5                  19                  19  "
      ]
     },
     "execution_count": 180,
     "metadata": {},
     "output_type": "execute_result"
    }
   ],
   "source": [
    "movies_in_ratings.head()"
   ]
  },
  {
   "cell_type": "code",
   "execution_count": 178,
   "metadata": {},
   "outputs": [],
   "source": [
    "# Iterar sobre cada cluster\n",
    "for cluster in movies_in_ratings['KMeans_Cluster_SVD'].unique():\n",
    "    # Filtrar o DataFrame para o cluster atual\n",
    "    cluster_df = movies_in_ratings[movies_in_ratings['KMeans_Cluster_SVD'] == cluster]\n",
    "    \n",
    "    # Inicializar um dicionário para contar a ocorrência de cada gênero\n",
    "    genero_counts = {genero: 0 for genero in generos_unicos}\n",
    "    \n",
    "    # Contar a ocorrência de cada gênero no cluster\n",
    "    total_filmes_no_cluster = len(cluster_df)\n",
    "    for generos in cluster_df['Genres'].dropna():\n",
    "        for genero in generos.split(','):\n",
    "            if genero in genero_counts:\n",
    "                genero_counts[genero] += 1\n",
    "    \n",
    "    # Determinar o gênero predominante no cluster\n",
    "    if genero_counts:\n",
    "        genero_predominante = max(genero_counts, key=genero_counts.get)\n",
    "        porcentagem = (genero_counts[genero_predominante] / total_filmes_no_cluster) * 100\n",
    "    else:\n",
    "        genero_predominante = None  # Caso não haja gêneros, podemos definir como None ou outra coisa\n",
    "    \n",
    "    # Salvar o resultado no dicionário\n",
    "    cluster_genero_predominante_kmeans_SVD[cluster] = (genero_predominante, porcentagem)"
   ]
  },
  {
   "cell_type": "code",
   "execution_count": 179,
   "metadata": {},
   "outputs": [
    {
     "name": "stdout",
     "output_type": "stream",
     "text": [
      "{18: ('Comedy', 40.54054054054054), 19: (\"Children's\", 78.07486631016043), 21: ('Comedy', 98.75), 5: ('Drama', 62.8140703517588), 2: ('Drama', 52.73311897106109), 23: ('Action', 83.21678321678321), 3: ('Drama', 64.77732793522267), 7: ('Drama', 47.65751211631664), 1: ('Sci-Fi', 72.95081967213115), 10: ('Drama', 86.36363636363636), 6: ('Romance', 47.57281553398058), 8: ('Comedy', 36.36363636363637), 11: ('Drama', 98.18181818181819), 4: ('Drama', 37.5), 12: ('Drama', 41.62436548223351), 20: ('Drama', 52.68817204301075), 17: ('Horror', 92.2279792746114), 22: ('Drama', 49.42528735632184), 16: ('Comedy', 51.78571428571429), 14: ('Drama', 73.68421052631578), 15: ('Drama', 29.71014492753623), 13: ('Action', 68.42105263157895), 9: ('Drama', 54.09836065573771), 0: ('Western', 57.57575757575758)}\n"
     ]
    }
   ],
   "source": [
    "print(cluster_genero_predominante_kmeans_SVD)"
   ]
  },
  {
   "cell_type": "markdown",
   "metadata": {},
   "source": [
    "Verificando o cluster de ficção científica"
   ]
  },
  {
   "cell_type": "code",
   "execution_count": 181,
   "metadata": {},
   "outputs": [],
   "source": [
    "cluster_5_movies = movies_in_ratings[movies_in_ratings['KMeans_Cluster_SVD'] == 5]"
   ]
  },
  {
   "cell_type": "code",
   "execution_count": 182,
   "metadata": {},
   "outputs": [
    {
     "name": "stdout",
     "output_type": "stream",
     "text": [
      "Títulos dos filmes no cluster 5:\n",
      "Waiting to Exhale (1995)\n",
      "Sabrina (1995)\n",
      "Now and Then (1995)\n",
      "Dangerous Minds (1995)\n",
      "How to Make an American Quilt (1995)\n",
      "Home for the Holidays (1995)\n",
      "Mr. Holland's Opus (1995)\n",
      "Two if by Sea (1996)\n",
      "Bed of Roses (1996)\n",
      "Juror, The (1996)\n",
      "Bridges of Madison County, The (1995)\n",
      "Before and After (1996)\n",
      "Up Close and Personal (1996)\n",
      "Birdcage, The (1996)\n",
      "Brothers McMullen, The (1995)\n",
      "Basketball Diaries, The (1995)\n",
      "Rob Roy (1995)\n",
      "Nine Months (1995)\n",
      "Scarlet Letter, The (1995)\n",
      "Something to Talk About (1995)\n",
      "To Wong Foo, Thanks for Everything! Julie Newmar (1995)\n",
      "Walk in the Clouds, A (1995)\n",
      "Boys on the Side (1995)\n",
      "Circle of Friends (1995)\n",
      "Don Juan DeMarco (1995)\n",
      "Dolores Claiborne (1994)\n",
      "French Kiss (1995)\n",
      "Forget Paris (1995)\n",
      "Immortal Beloved (1994)\n",
      "I.Q. (1994)\n",
      "Little Women (1994)\n",
      "Legends of the Fall (1994)\n",
      "Mixed Nuts (1994)\n",
      "Milk Money (1994)\n",
      "Murder in the First (1995)\n",
      "Nell (1994)\n",
      "Only You (1994)\n",
      "Ready to Wear (Pret-A-Porter) (1994)\n",
      "While You Were Sleeping (1995)\n",
      "Client, The (1994)\n",
      "Corrina, Corrina (1994)\n",
      "Higher Learning (1995)\n",
      "It Could Happen to You (1994)\n",
      "Paper, The (1994)\n",
      "Reality Bites (1994)\n",
      "Speechless (1994)\n",
      "When a Man Loves a Woman (1994)\n",
      "Wyatt Earp (1994)\n",
      "8 Seconds (1994)\n",
      "Age of Innocence, The (1993)\n",
      "Blue Sky (1994)\n",
      "Clean Slate (1994)\n",
      "Even Cowgirls Get the Blues (1993)\n",
      "With Honors (1994)\n",
      "Heaven & Earth (1993)\n",
      "Englishman Who Went Up a Hill, But Came Down a Mountain, The (1995)\n",
      "What's Love Got to Do with It? (1993)\n",
      "Made in America (1993)\n",
      "Malice (1993)\n",
      "Man Without a Face, The (1993)\n",
      "Much Ado About Nothing (1993)\n",
      "Philadelphia (1993)\n",
      "Poetic Justice (1993)\n",
      "Road to Wellville, The (1994)\n",
      "Rudy (1993)\n",
      "Sleepless in Seattle (1993)\n",
      "Threesome (1994)\n",
      "Bye Bye, Love (1995)\n",
      "One Fine Day (1996)\n",
      "Last Supper, The (1995)\n",
      "Courage Under Fire (1996)\n",
      "Mrs. Winterbourne (1996)\n",
      "Feeling Minnesota (1996)\n",
      "Mulholland Falls (1996)\n",
      "Truth About Cats & Dogs, The (1996)\n",
      "'Til There Was You (1997)\n",
      "Stealing Beauty (1996)\n",
      "Phenomenon (1996)\n",
      "She's the One (1996)\n",
      "Time to Kill, A (1996)\n",
      "Foxfire (1996)\n",
      "Emma (1996)\n",
      "Spitfire Grill, The (1996)\n",
      "Twelfth Night (1996)\n",
      "Michael Collins (1996)\n",
      "That Thing You Do! (1996)\n",
      "To Gillian on Her 37th Birthday (1996)\n",
      "Get on the Bus (1996)\n",
      "Everyone Says I Love You (1996)\n",
      "William Shakespeare's Romeo and Juliet (1996)\n",
      "Sleepers (1996)\n",
      "Pump Up the Volume (1990)\n",
      "Fried Green Tomatoes (1991)\n",
      "Some Kind of Wonderful (1987)\n",
      "Mirror Has Two Faces, The (1996)\n",
      "Preacher's Wife, The (1996)\n",
      "My Fellow Americans (1996)\n",
      "Bastard Out of Carolina (1996)\n",
      "Marvin's Room (1996)\n",
      "Ghosts of Mississippi (1996)\n",
      "Michael (1996)\n",
      "Evita (1996)\n",
      "Portrait of a Lady, The (1996)\n",
      "Amos & Andrew (1993)\n",
      "Benny & Joon (1993)\n",
      "Fools Rush In (1997)\n",
      "Rosewood (1997)\n",
      "Selena (1997)\n",
      "Inventing the Abbotts (1997)\n",
      "Romy and Michele's High School Reunion (1997)\n",
      "Addicted to Love (1997)\n",
      "My Best Friend's Wedding (1997)\n",
      "Picture Perfect (1997)\n",
      "Excess Baggage (1997)\n",
      "In & Out (1997)\n",
      "Seven Years in Tibet (1997)\n",
      "Soul Food (1997)\n",
      "MatchMaker, The (1997)\n",
      "Rainmaker, The (1997)\n",
      "Joy Luck Club, The (1993)\n",
      "Sliding Doors (1998)\n",
      "Red Corner (1997)\n",
      "Amistad (1997)\n",
      "Midnight in the Garden of Good and Evil (1997)\n",
      "Postman, The (1997)\n",
      "Horse Whisperer, The (1998)\n",
      "Great Expectations (1998)\n",
      "As Good As It Gets (1997)\n",
      "Primary Colors (1998)\n",
      "Niagara, Niagara (1997)\n",
      "Object of My Affection, The (1998)\n",
      "City of Angels (1998)\n",
      "My Giant (1998)\n",
      "Misérables, Les (1998)\n",
      "Hope Floats (1998)\n",
      "Can't Hardly Wait (1998)\n",
      "Cousin Bette (1998)\n",
      "Newsies (1992)\n",
      "Swing Kids (1993)\n",
      "Grand Canyon (1991)\n",
      "Ever After: A Cinderella Story (1998)\n",
      "Return to Paradise (1998)\n",
      "Simon Birch (1998)\n",
      "Hero (1992)\n",
      "Blame It on Rio (1984)\n",
      "Butcher's Wife, The (1991)\n",
      "Indecent Proposal (1993)\n",
      "One True Thing (1998)\n",
      "What Dreams May Come (1998)\n",
      "Practical Magic (1998)\n",
      "Home Fries (1998)\n",
      "You've Got Mail (1998)\n",
      "Patch Adams (1998)\n",
      "Stepmom (1998)\n",
      "Civil Action, A (1998)\n",
      "Tea with Mussolini (1999)\n",
      "At First Sight (1999)\n",
      "Jumpin' Jack Flash (1986)\n",
      "Blast from the Past (1999)\n",
      "Message in a Bottle (1999)\n",
      "Jawbreaker (1999)\n",
      "October Sky (1999)\n",
      "200 Cigarettes (1999)\n",
      "Other Sister, The (1999)\n",
      "Forces of Nature (1999)\n",
      "Notting Hill (1999)\n",
      "Brokedown Palace (1999)\n",
      "Outside Providence (1999)\n",
      "Sommersby (1993)\n",
      "Dog Park (1998)\n",
      "Mystery, Alaska (1999)\n",
      "Happy, Texas (1999)\n",
      "Peter's Friends (1992)\n",
      "River Runs Through It, A (1992)\n",
      "Awakenings (1990)\n",
      "U2: Rattle and Hum (1988)\n",
      "Cider House Rules, The (1999)\n",
      "Any Given Sunday (1999)\n",
      "Hurricane, The (1999)\n",
      "Girl, Interrupted (1999)\n",
      "Alive (1993)\n",
      "Scent of a Woman (1992)\n",
      "Far and Away (1992)\n",
      "Singles (1992)\n",
      "Forever Young (1992)\n",
      "Cutting Edge, The (1992)\n",
      "Bear, The (1988)\n",
      "Mo' Better Blues (1990)\n",
      "Dying Young (1991)\n",
      "Heart and Souls (1993)\n",
      "Mr. Saturday Night (1992)\n",
      "Murphy's Romance (1985)\n",
      "Prince of Tides, The (1991)\n",
      "Honeymoon in Vegas (1992)\n",
      "Flatliners (1990)\n",
      "Soapdish (1991)\n",
      "Clara's Heart (1988)\n",
      "Hamlet (1990)\n",
      "Steel Magnolias (1989)\n"
     ]
    }
   ],
   "source": [
    "print(\"Títulos dos filmes no cluster 5:\")\n",
    "for title in cluster_5_movies['Title']:\n",
    "    print(title)"
   ]
  },
  {
   "cell_type": "code",
   "execution_count": 184,
   "metadata": {},
   "outputs": [
    {
     "name": "stdout",
     "output_type": "stream",
     "text": [
      "{19: (\"Children's\", 82.02247191011236), 14: ('Comedy', 90.37433155080214), 20: ('Drama', 62.3574144486692), 22: ('Action', 77.97356828193833), 17: ('Drama', 51.410658307210035), 0: ('Drama', 71.68458781362007), 3: ('Drama', 49.23076923076923), 7: ('Drama', 58.91472868217055), 18: ('Drama', 46.16519174041298), 5: ('Romance', 51.26050420168067), 15: ('Drama', 98.14814814814815), 16: ('Comedy', 48.25581395348838), 21: ('Horror', 32.608695652173914), 13: ('Drama', 61.79775280898876), 8: ('Drama', 33.33333333333333), 10: ('Action', 34.065934065934066), 2: ('Drama', 70.83333333333334), 6: ('Drama', 46.75324675324675), 11: ('Horror', 78.37837837837837), 4: ('Comedy', 42.857142857142854), 1: ('Horror', 99.16666666666667), 9: ('Drama', 33.68421052631579), 12: ('Drama', 75.0)}\n"
     ]
    }
   ],
   "source": [
    "print(cluster_genero_predominante_kmeans_PCA)"
   ]
  },
  {
   "cell_type": "markdown",
   "metadata": {},
   "source": [
    "Percebe-se que o SVD, talvez pelo número de dimensões adicionais tenha produzido uma diversidade maior de clusters, "
   ]
  },
  {
   "cell_type": "markdown",
   "metadata": {},
   "source": [
    "# Cluster Hierárquico Reduzido"
   ]
  },
  {
   "cell_type": "code",
   "execution_count": 99,
   "metadata": {},
   "outputs": [],
   "source": [
    "agg_clustering = AgglomerativeClustering(n_clusters=24, linkage='complete')\n",
    "agg_clusters = agg_clustering.fit_predict(X_pca_reduced)"
   ]
  },
  {
   "cell_type": "code",
   "execution_count": 100,
   "metadata": {},
   "outputs": [],
   "source": [
    "cluster_genero_predominante_hie_SVD = {}\n",
    "cluster_genero_predominante_hie_PCA = {}"
   ]
  },
  {
   "cell_type": "code",
   "execution_count": 101,
   "metadata": {},
   "outputs": [],
   "source": [
    "movies_in_ratings['Hierarchical_Cluster_PCA'] = agg_clusters"
   ]
  },
  {
   "cell_type": "code",
   "execution_count": 102,
   "metadata": {},
   "outputs": [
    {
     "name": "stdout",
     "output_type": "stream",
     "text": [
      "Contagem dos clusters formados:\n",
      " Hierarchical_Cluster_PCA\n",
      "5     1914\n",
      "2      703\n",
      "22     252\n",
      "3      203\n",
      "4      134\n",
      "11     113\n",
      "1       79\n",
      "9       71\n",
      "21      44\n",
      "19      44\n",
      "14      21\n",
      "13      20\n",
      "20      19\n",
      "10      17\n",
      "8       14\n",
      "6        9\n",
      "7        8\n",
      "0        7\n",
      "18       7\n",
      "23       7\n",
      "12       6\n",
      "15       4\n",
      "16       3\n",
      "17       3\n",
      "Name: count, dtype: int64\n"
     ]
    }
   ],
   "source": [
    "cluster_counts = movies_in_ratings['Hierarchical_Cluster_PCA'].value_counts()\n",
    "print(\"Contagem dos clusters formados:\\n\", cluster_counts)"
   ]
  },
  {
   "cell_type": "code",
   "execution_count": 103,
   "metadata": {},
   "outputs": [],
   "source": [
    "# Iterar sobre cada cluster\n",
    "for cluster in movies_in_ratings['Hierarchical_Cluster_PCA'].unique():\n",
    "    # Filtrar o DataFrame para o cluster atual\n",
    "    cluster_df = movies_in_ratings[movies_in_ratings['Hierarchical_Cluster_PCA'] == cluster]\n",
    "    \n",
    "    # Inicializar um dicionário para contar a ocorrência de cada gênero\n",
    "    genero_counts = {genero: 0 for genero in generos_unicos}\n",
    "    \n",
    "    # Contar a ocorrência de cada gênero no cluster\n",
    "    total_filmes_no_cluster = len(cluster_df)\n",
    "    for generos in cluster_df['Genres'].dropna():\n",
    "        for genero in generos.split(','):\n",
    "            if genero in genero_counts:\n",
    "                genero_counts[genero] += 1\n",
    "    \n",
    "    # Determinar o gênero predominante no cluster\n",
    "    if genero_counts:\n",
    "        genero_predominante = max(genero_counts, key=genero_counts.get)\n",
    "        porcentagem = (genero_counts[genero_predominante] / total_filmes_no_cluster) * 100\n",
    "    else:\n",
    "        genero_predominante = None  # Caso não haja gêneros, podemos definir como None ou outra coisa\n",
    "    # Salvar o resultado no dicionário\n",
    "    cluster_genero_predominante_hie_PCA[cluster] = (genero_predominante, porcentagem)"
   ]
  },
  {
   "cell_type": "code",
   "execution_count": 104,
   "metadata": {},
   "outputs": [
    {
     "name": "stdout",
     "output_type": "stream",
     "text": [
      "{5: ('Comedy', 38.662486938349005), 3: ('Drama', 78.32512315270937), 2: ('Drama', 49.92887624466572), 8: ('Romance', 64.28571428571429), 10: ('Drama', 100.0), 14: ('Drama', 57.14285714285714), 22: ('Horror', 73.80952380952381), 9: ('Drama', 64.7887323943662), 11: ('Drama', 48.67256637168141), 13: ('Horror', 60.0), 1: ('Thriller', 26.582278481012654), 12: ('Romance', 33.33333333333333), 6: ('Thriller', 33.33333333333333), 19: ('Comedy', 45.45454545454545), 4: ('Drama', 39.55223880597015), 20: ('Drama', 94.73684210526315), 15: ('Drama', 75.0), 0: ('Drama', 71.42857142857143), 18: ('Drama', 85.71428571428571), 16: ('Drama', 100.0), 17: ('Drama', 100.0), 7: ('Drama', 100.0), 21: ('Horror', 77.27272727272727), 23: ('Comedy', 57.14285714285714)}\n"
     ]
    }
   ],
   "source": [
    "print(cluster_genero_predominante_hie_PCA)"
   ]
  },
  {
   "cell_type": "code",
   "execution_count": null,
   "metadata": {},
   "outputs": [],
   "source": []
  }
 ],
 "metadata": {
  "kernelspec": {
   "display_name": "base",
   "language": "python",
   "name": "python3"
  },
  "language_info": {
   "codemirror_mode": {
    "name": "ipython",
    "version": 3
   },
   "file_extension": ".py",
   "mimetype": "text/x-python",
   "name": "python",
   "nbconvert_exporter": "python",
   "pygments_lexer": "ipython3",
   "version": "3.11.7"
  }
 },
 "nbformat": 4,
 "nbformat_minor": 2
}
