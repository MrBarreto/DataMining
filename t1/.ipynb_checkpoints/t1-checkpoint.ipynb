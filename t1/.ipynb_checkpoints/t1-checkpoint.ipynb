{
 "cells": [
  {
   "cell_type": "code",
   "execution_count": 49,
   "metadata": {},
   "outputs": [],
   "source": [
    "import pandas as pd\n",
    "import matplotlib.pyplot as plt\n",
    "import seaborn\n",
    "import sklearn\n",
    "import os\n",
    "from sklearn.preprocessing import LabelEncoder, OrdinalEncoder\n",
    "from sklearn.model_selection import train_test_split"
   ]
  },
  {
   "cell_type": "code",
   "execution_count": 50,
   "metadata": {},
   "outputs": [],
   "source": [
    "file_path = 'Dados/train.csv'\n",
    "data = pd.read_csv(file_path)\n",
    "colunas = [\n",
    "#    \"id\",\n",
    "    \"Gender\",\n",
    "    \"Age\",\n",
    "    \"Height\",\n",
    "    \"Weight\",\n",
    "    \"family_history_with_overweight\",\n",
    "    \"FAVC\",\n",
    "    \"FCVC\",\n",
    "    \"NCP\",\n",
    "    \"CAEC\",\n",
    "    \"SMOKE\",\n",
    "    \"CH2O\",\n",
    "    \"SCC\",\n",
    "    \"FAF\",\n",
    "    \"TUE\",\n",
    "    \"CALC\",\n",
    "    \"MTRANS\",\n",
    "#    \"NObeyesdad\"\n",
    "]\n",
    "target = data[\"NObeyesdad\"]\n",
    "data = data[colunas]"
   ]
  },
  {
   "cell_type": "code",
   "execution_count": 51,
   "metadata": {},
   "outputs": [
    {
     "data": {
      "text/plain": [
       "Gender                             object\n",
       "Age                               float64\n",
       "Height                            float64\n",
       "Weight                            float64\n",
       "family_history_with_overweight     object\n",
       "FAVC                               object\n",
       "FCVC                              float64\n",
       "NCP                               float64\n",
       "CAEC                               object\n",
       "SMOKE                              object\n",
       "CH2O                              float64\n",
       "SCC                                object\n",
       "FAF                               float64\n",
       "TUE                               float64\n",
       "CALC                               object\n",
       "MTRANS                             object\n",
       "dtype: object"
      ]
     },
     "execution_count": 51,
     "metadata": {},
     "output_type": "execute_result"
    }
   ],
   "source": [
    "data.dtypes"
   ]
  },
  {
   "cell_type": "code",
   "execution_count": 52,
   "metadata": {},
   "outputs": [
    {
     "name": "stdout",
     "output_type": "stream",
     "text": [
      "Valores únicos na coluna  Gender ['Male' 'Female']\n",
      "Valores únicos na coluna  family_history_with_overweight ['yes' 'no']\n",
      "Valores únicos na coluna  FAVC ['yes' 'no']\n",
      "Valores únicos na coluna  CAEC ['Sometimes' 'Frequently' 'no' 'Always']\n",
      "Valores únicos na coluna  SMOKE ['no' 'yes']\n",
      "Valores únicos na coluna  SCC ['no' 'yes']\n",
      "Valores únicos na coluna  CALC ['Sometimes' 'no' 'Frequently']\n",
      "Valores únicos na coluna  MTRANS ['Public_Transportation' 'Automobile' 'Walking' 'Motorbike' 'Bike']\n"
     ]
    }
   ],
   "source": [
    "categoricos = [\"Gender\", \"family_history_with_overweight\", \"FAVC\", \"CAEC\", \"SMOKE\", \"SCC\", \"CALC\", \"MTRANS\"]\n",
    "for col in categoricos:\n",
    "    unique_values = data[col].unique()\n",
    "    print(\"Valores únicos na coluna \", col, unique_values)"
   ]
  },
  {
   "cell_type": "code",
   "execution_count": 53,
   "metadata": {},
   "outputs": [],
   "source": [
    "encoder = LabelEncoder()\n",
    "data[\"family_history_with_overweight\"] = encoder.fit_transform(data[\"family_history_with_overweight\"])\n",
    "data[\"FAVC\"] = encoder.fit_transform(data[\"FAVC\"])\n",
    "data[\"SMOKE\"] = encoder.fit_transform(data[\"SMOKE\"])\n",
    "data[\"SCC\"] = encoder.fit_transform(data[\"SCC\"])\n",
    "data[\"Gender\"] = encoder.fit_transform(data[\"Gender\"])"
   ]
  },
  {
   "cell_type": "code",
   "execution_count": 54,
   "metadata": {},
   "outputs": [],
   "source": [
    "categories = [['no', 'Sometimes', 'Frequently', 'Always']]\n",
    "encoder = OrdinalEncoder(categories=categories)\n",
    "data['CAEC'] = encoder.fit_transform(data[['CAEC']])\n",
    "encoder = OrdinalEncoder(categories=[['no', 'Sometimes', 'Frequently']])\n",
    "data['CALC'] = encoder.fit_transform(data[['CALC']])"
   ]
  },
  {
   "cell_type": "code",
   "execution_count": 55,
   "metadata": {},
   "outputs": [
    {
     "name": "stdout",
     "output_type": "stream",
     "text": [
      "<class 'pandas.core.frame.DataFrame'>\n",
      "RangeIndex: 20758 entries, 0 to 20757\n",
      "Data columns (total 16 columns):\n",
      " #   Column                          Non-Null Count  Dtype  \n",
      "---  ------                          --------------  -----  \n",
      " 0   Gender                          20758 non-null  object \n",
      " 1   Age                             20758 non-null  float64\n",
      " 2   Height                          20758 non-null  float64\n",
      " 3   Weight                          20758 non-null  float64\n",
      " 4   family_history_with_overweight  20758 non-null  int64  \n",
      " 5   FAVC                            20758 non-null  int64  \n",
      " 6   FCVC                            20758 non-null  float64\n",
      " 7   NCP                             20758 non-null  float64\n",
      " 8   CAEC                            20758 non-null  float64\n",
      " 9   SMOKE                           20758 non-null  int64  \n",
      " 10  CH2O                            20758 non-null  float64\n",
      " 11  SCC                             20758 non-null  int64  \n",
      " 12  FAF                             20758 non-null  float64\n",
      " 13  TUE                             20758 non-null  float64\n",
      " 14  CALC                            20758 non-null  float64\n",
      " 15  MTRANS                          20758 non-null  object \n",
      "dtypes: float64(10), int64(4), object(2)\n",
      "memory usage: 2.5+ MB\n"
     ]
    }
   ],
   "source": [
    "data.info()"
   ]
  },
  {
   "cell_type": "code",
   "execution_count": 57,
   "metadata": {},
   "outputs": [],
   "source": [
    "#X_train, X_test, y_train, y_test = train_test_split(X, y, test_size=0.33, random_state=42)"
   ]
  },
  {
   "cell_type": "code",
   "execution_count": null,
   "metadata": {},
   "outputs": [],
   "source": []
  }
 ],
 "metadata": {
  "kernelspec": {
   "display_name": "Python 3 (ipykernel)",
   "language": "python",
   "name": "python3"
  },
  "language_info": {
   "codemirror_mode": {
    "name": "ipython",
    "version": 3
   },
   "file_extension": ".py",
   "mimetype": "text/x-python",
   "name": "python",
   "nbconvert_exporter": "python",
   "pygments_lexer": "ipython3",
   "version": "3.11.7"
  }
 },
 "nbformat": 4,
 "nbformat_minor": 4
}
