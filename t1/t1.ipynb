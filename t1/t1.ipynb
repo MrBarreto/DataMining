{
 "cells": [
  {
   "cell_type": "code",
   "execution_count": 6,
   "metadata": {},
   "outputs": [],
   "source": [
    "import pandas as pd\n",
    "import matplotlib.pyplot as plt\n",
    "import seaborn\n",
    "import sklearn\n",
    "import os\n"
   ]
  },
  {
   "cell_type": "code",
   "execution_count": 7,
   "metadata": {},
   "outputs": [],
   "source": [
    "file_path = 'Dados/train.csv'\n",
    "data = pd.read_csv(file_path)\n",
    "data = colunas = [\n",
    "#    \"id\",\n",
    "    \"Gender\",\n",
    "    \"Age\",\n",
    "    \"Height\",\n",
    "    \"Weight\",\n",
    "    \"family_history_with_overweight\",\n",
    "    \"FAVC\",\n",
    "    \"FCVC\",\n",
    "    \"NCP\",\n",
    "    \"CAEC\",\n",
    "    \"SMOKE\",\n",
    "    \"CH2O\",\n",
    "    \"SCC\",\n",
    "    \"FAF\",\n",
    "    \"TUE\",\n",
    "    \"CALC\",\n",
    "    \"MTRANS\",\n",
    "#    \"NObeyesdad\"\n",
    "]\n"
   ]
  },
  {
   "cell_type": "code",
   "execution_count": 9,
   "metadata": {},
   "outputs": [
    {
     "data": {
      "text/plain": [
       "id                                  int64\n",
       "Gender                             object\n",
       "Age                               float64\n",
       "Height                            float64\n",
       "Weight                            float64\n",
       "family_history_with_overweight     object\n",
       "FAVC                               object\n",
       "FCVC                              float64\n",
       "NCP                               float64\n",
       "CAEC                               object\n",
       "SMOKE                              object\n",
       "CH2O                              float64\n",
       "SCC                                object\n",
       "FAF                               float64\n",
       "TUE                               float64\n",
       "CALC                               object\n",
       "MTRANS                             object\n",
       "NObeyesdad                         object\n",
       "dtype: object"
      ]
     },
     "execution_count": 9,
     "metadata": {},
     "output_type": "execute_result"
    }
   ],
   "source": [
    "data.dtypes"
   ]
  },
  {
   "cell_type": "code",
   "execution_count": 11,
   "metadata": {},
   "outputs": [
    {
     "name": "stdout",
     "output_type": "stream",
     "text": [
      "Valores únicos na coluna  Gender ['Male' 'Female']\n",
      "Valores únicos na coluna  family_history_with_overweight ['yes' 'no']\n",
      "Valores únicos na coluna  FAVC ['yes' 'no']\n",
      "Valores únicos na coluna  CAEC ['Sometimes' 'Frequently' 'no' 'Always']\n",
      "Valores únicos na coluna  SMOKE ['no' 'yes']\n",
      "Valores únicos na coluna  SCC ['no' 'yes']\n",
      "Valores únicos na coluna  CALC ['Sometimes' 'no' 'Frequently']\n",
      "Valores únicos na coluna  MTRANS ['Public_Transportation' 'Automobile' 'Walking' 'Motorbike' 'Bike']\n",
      "Valores únicos na coluna  NObeyesdad ['Overweight_Level_II' 'Normal_Weight' 'Insufficient_Weight'\n",
      " 'Obesity_Type_III' 'Obesity_Type_II' 'Overweight_Level_I'\n",
      " 'Obesity_Type_I']\n"
     ]
    }
   ],
   "source": [
    "categoricos = [\"Gender\", \"family_history_with_overweight\", \"FAVC\", \"CAEC\", \"SMOKE\", \"SCC\", \"CALC\", \"MTRANS\"]\n",
    "for col in categoricos:\n",
    "    unique_values = data[col].unique()\n",
    "    print(\"Valores únicos na coluna \", col, unique_values)"
   ]
  }
 ],
 "metadata": {
  "kernelspec": {
   "display_name": "base",
   "language": "python",
   "name": "python3"
  },
  "language_info": {
   "codemirror_mode": {
    "name": "ipython",
    "version": 3
   },
   "file_extension": ".py",
   "mimetype": "text/x-python",
   "name": "python",
   "nbconvert_exporter": "python",
   "pygments_lexer": "ipython3",
   "version": "3.11.7"
  }
 },
 "nbformat": 4,
 "nbformat_minor": 2
}
