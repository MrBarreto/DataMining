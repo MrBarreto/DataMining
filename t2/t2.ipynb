{
 "cells": [
  {
   "cell_type": "code",
   "execution_count": 84,
   "metadata": {},
   "outputs": [],
   "source": [
    "import numpy as np\n",
    "import pandas as pd\n",
    "import matplotlib as mpl\n",
    "import matplotlib.pyplot as plt   \n",
    "import seaborn as sns             "
   ]
  },
  {
   "cell_type": "code",
   "execution_count": 55,
   "metadata": {},
   "outputs": [],
   "source": [
    "def map_to_macrocategory(category):\n",
    "    if category in ['BEVERAGES', 'BREAD/BAKERY', 'DAIRY', 'DELI', 'EGGS', 'FROZEN FOODS', \n",
    "                    'GROCERY I', 'GROCERY II', 'MEATS', 'POULTRY', 'PREPARED FOODS', 'PRODUCE', 'SEAFOOD']:\n",
    "        return 'Alimentos e Bebidas'\n",
    "    elif category in ['BABY CARE', 'BEAUTY', 'PERSONAL CARE']:\n",
    "        return 'Cuidados Pessoais e Saúde'\n",
    "    elif category in ['CLEANING', 'HOME AND KITCHEN I', 'HOME AND KITCHEN II', 'HOME APPLIANCES', \n",
    "                      'HOME CARE', 'LAWN AND GARDEN']:\n",
    "        return 'Casa e Jardim'\n",
    "    elif category in ['LADIESWEAR', 'LINGERIE']:\n",
    "        return 'Moda e Vestuário'\n",
    "    elif category == 'AUTOMOTIVE':\n",
    "        return 'Automotivo'\n",
    "    elif category == 'PET SUPPLIES':\n",
    "        return 'Animais de Estimação'\n",
    "    elif category in ['BOOKS', 'MAGAZINES', 'CELEBRATION', 'PLAYERS AND ELECTRONICS', 'HARDWARE']:\n",
    "        return 'Lazer, Tecnologia e Ferramentas'\n",
    "    elif category == 'LIQUOR,WINE,BEER':\n",
    "        return 'Bebidas Alcoólicas'\n",
    "    elif category == 'SCHOOL AND OFFICE SUPPLIES':\n",
    "        return 'Escola e Escritório'\n",
    "    else:\n",
    "        return 'Outros'"
   ]
  },
  {
   "cell_type": "code",
   "execution_count": 66,
   "metadata": {},
   "outputs": [],
   "source": [
    "def adding_date(data):\n",
    "    data['date']= pd.to_datetime(data['date'])\n",
    "    data.set_index('date', inplace = True)\n",
    "    full_date_range = pd.date_range(start=data.index.min(), end=data.index.max(), freq='D')\n",
    "    data = data.reindex(full_date_range)\n",
    "    data.reset_index(inplace=True)\n",
    "    data.rename(columns={'index': 'date'}, inplace=True)\n",
    "    return data\n"
   ]
  },
  {
   "cell_type": "code",
   "execution_count": 74,
   "metadata": {},
   "outputs": [],
   "source": [
    "treino = pd.read_csv('Data/train.csv.gz', compression='gzip')\n",
    "treino= treino.drop(columns=['id'])\n",
    "treino['date']= pd.to_datetime(treino['date'])\n",
    "stores = pd.read_csv('Data/stores.csv')\n",
    "oil = pd.read_csv('Data/oil.csv')\n",
    "holidays = pd.read_csv('Data/holidays_events.csv')"
   ]
  },
  {
   "cell_type": "code",
   "execution_count": 77,
   "metadata": {},
   "outputs": [
    {
     "name": "stdout",
     "output_type": "stream",
     "text": [
      "date            0\n",
      "dcoilwtico    529\n",
      "dtype: int64\n"
     ]
    }
   ],
   "source": [
    "null_counts = oil.isnull().sum()\n",
    "print(null_counts)"
   ]
  },
  {
   "cell_type": "code",
   "execution_count": 76,
   "metadata": {},
   "outputs": [],
   "source": [
    "oil = adding_date(oil)"
   ]
  },
  {
   "cell_type": "code",
   "execution_count": 78,
   "metadata": {},
   "outputs": [],
   "source": [
    "oil.iloc[0] = oil.iloc[0].fillna(95)\n",
    "oil =oil.ffill()"
   ]
  },
  {
   "cell_type": "code",
   "execution_count": 79,
   "metadata": {},
   "outputs": [],
   "source": [
    "dados= pd.merge(treino, oil, on=['date'], how= 'left')"
   ]
  },
  {
   "cell_type": "code",
   "execution_count": 34,
   "metadata": {},
   "outputs": [
    {
     "data": {
      "text/plain": [
       "<bound method NDFrame.describe of                date  store_nbr                      family     sales  \\\n",
       "0        2013-01-01          1                  AUTOMOTIVE     0.000   \n",
       "1        2013-01-01          1                   BABY CARE     0.000   \n",
       "2        2013-01-01          1                      BEAUTY     0.000   \n",
       "3        2013-01-01          1                   BEVERAGES     0.000   \n",
       "4        2013-01-01          1                       BOOKS     0.000   \n",
       "...             ...        ...                         ...       ...   \n",
       "3000883  2017-08-15          9                     POULTRY   438.133   \n",
       "3000884  2017-08-15          9              PREPARED FOODS   154.553   \n",
       "3000885  2017-08-15          9                     PRODUCE  2419.729   \n",
       "3000886  2017-08-15          9  SCHOOL AND OFFICE SUPPLIES   121.000   \n",
       "3000887  2017-08-15          9                     SEAFOOD    16.000   \n",
       "\n",
       "         onpromotion  transactions  dcoilwtico  \n",
       "0                  0           NaN       95.00  \n",
       "1                  0           NaN       95.00  \n",
       "2                  0           NaN       95.00  \n",
       "3                  0           NaN       95.00  \n",
       "4                  0           NaN       95.00  \n",
       "...              ...           ...         ...  \n",
       "3000883            0        2155.0       47.57  \n",
       "3000884            1        2155.0       47.57  \n",
       "3000885          148        2155.0       47.57  \n",
       "3000886            8        2155.0       47.57  \n",
       "3000887            0        2155.0       47.57  \n",
       "\n",
       "[3000888 rows x 7 columns]>"
      ]
     },
     "execution_count": 34,
     "metadata": {},
     "output_type": "execute_result"
    }
   ],
   "source": [
    "dados.describe"
   ]
  },
  {
   "cell_type": "code",
   "execution_count": 81,
   "metadata": {},
   "outputs": [
    {
     "name": "stdout",
     "output_type": "stream",
     "text": [
      "<class 'pandas.core.frame.DataFrame'>\n",
      "RangeIndex: 3000888 entries, 0 to 3000887\n",
      "Data columns (total 6 columns):\n",
      " #   Column       Dtype         \n",
      "---  ------       -----         \n",
      " 0   date         datetime64[ns]\n",
      " 1   store_nbr    int64         \n",
      " 2   family       object        \n",
      " 3   sales        float64       \n",
      " 4   onpromotion  int64         \n",
      " 5   dcoilwtico   float64       \n",
      "dtypes: datetime64[ns](1), float64(2), int64(2), object(1)\n",
      "memory usage: 137.4+ MB\n"
     ]
    }
   ],
   "source": [
    "dados.info()"
   ]
  },
  {
   "cell_type": "code",
   "execution_count": 82,
   "metadata": {},
   "outputs": [
    {
     "data": {
      "text/plain": [
       "array(['AUTOMOTIVE', 'BABY CARE', 'BEAUTY', 'BEVERAGES', 'BOOKS',\n",
       "       'BREAD/BAKERY', 'CELEBRATION', 'CLEANING', 'DAIRY', 'DELI', 'EGGS',\n",
       "       'FROZEN FOODS', 'GROCERY I', 'GROCERY II', 'HARDWARE',\n",
       "       'HOME AND KITCHEN I', 'HOME AND KITCHEN II', 'HOME APPLIANCES',\n",
       "       'HOME CARE', 'LADIESWEAR', 'LAWN AND GARDEN', 'LINGERIE',\n",
       "       'LIQUOR,WINE,BEER', 'MAGAZINES', 'MEATS', 'PERSONAL CARE',\n",
       "       'PET SUPPLIES', 'PLAYERS AND ELECTRONICS', 'POULTRY',\n",
       "       'PREPARED FOODS', 'PRODUCE', 'SCHOOL AND OFFICE SUPPLIES',\n",
       "       'SEAFOOD'], dtype=object)"
      ]
     },
     "execution_count": 82,
     "metadata": {},
     "output_type": "execute_result"
    }
   ],
   "source": [
    "dados[\"family\"].unique()"
   ]
  },
  {
   "cell_type": "code",
   "execution_count": 83,
   "metadata": {},
   "outputs": [
    {
     "name": "stdout",
     "output_type": "stream",
     "text": [
      "date           0\n",
      "store_nbr      0\n",
      "family         0\n",
      "sales          0\n",
      "onpromotion    0\n",
      "dcoilwtico     0\n",
      "dtype: int64\n"
     ]
    }
   ],
   "source": [
    "null_counts = dados.isnull().sum()\n",
    "print(null_counts)"
   ]
  },
  {
   "cell_type": "code",
   "execution_count": null,
   "metadata": {},
   "outputs": [],
   "source": [
    "all_dates = pd.date_range(start=transactions['date'].min(), end=transactions['date'].max())\n",
    "\n",
    "# Obtendo a lista única de stores e categorias\n",
    "stores = transactions['store_nbr'].unique()\n",
    "categories = transactions['category'].unique()\n",
    "\n",
    "# Criando um dataframe auxiliar com todas as combinações de 'date', 'store_nbr' e 'category'\n",
    "all_combinations = pd.MultiIndex.from_product([all_dates, stores, categories], names=['date', 'store_nbr', 'category']).to_frame(index=False)\n",
    "\n",
    "# Verificando quais combinações de 'date', 'store_nbr' e 'category' estão faltando no dataframe original\n",
    "missing_combinations = all_combinations[~all_combinations.set_index(['date', 'store_nbr', 'category']).index.isin(transactions.set_index(['date', 'store_nbr', 'category']).index)]\n",
    "\n",
    "if not missing_combinations.empty:\n",
    "    print(\"Datas faltantes encontradas:\")\n",
    "    print(missing_combinations)\n",
    "else:\n",
    "    print(\"Nenhuma data faltante encontrada.\")"
   ]
  }
 ],
 "metadata": {
  "kernelspec": {
   "display_name": "base",
   "language": "python",
   "name": "python3"
  },
  "language_info": {
   "codemirror_mode": {
    "name": "ipython",
    "version": 3
   },
   "file_extension": ".py",
   "mimetype": "text/x-python",
   "name": "python",
   "nbconvert_exporter": "python",
   "pygments_lexer": "ipython3",
   "version": "3.11.7"
  }
 },
 "nbformat": 4,
 "nbformat_minor": 2
}
