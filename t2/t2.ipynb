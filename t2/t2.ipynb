{
 "cells": [
  {
   "cell_type": "code",
   "execution_count": 3,
   "metadata": {},
   "outputs": [],
   "source": [
    "import pandas as pd"
   ]
  },
  {
   "cell_type": "code",
   "execution_count": 1,
   "metadata": {},
   "outputs": [],
   "source": [
    "def map_to_macrocategory(category):\n",
    "    if category in ['BEVERAGES', 'BREAD/BAKERY', 'DAIRY', 'DELI', 'EGGS', 'FROZEN FOODS', \n",
    "                    'GROCERY I', 'GROCERY II', 'MEATS', 'POULTRY', 'PREPARED FOODS', 'PRODUCE', 'SEAFOOD']:\n",
    "        return 'Alimentos e Bebidas'\n",
    "    elif category in ['BABY CARE', 'BEAUTY', 'PERSONAL CARE']:\n",
    "        return 'Cuidados Pessoais e Saúde'\n",
    "    elif category in ['CLEANING', 'HOME AND KITCHEN I', 'HOME AND KITCHEN II', 'HOME APPLIANCES', \n",
    "                      'HOME CARE', 'LAWN AND GARDEN']:\n",
    "        return 'Casa e Jardim'\n",
    "    elif category in ['LADIESWEAR', 'LINGERIE']:\n",
    "        return 'Moda e Vestuário'\n",
    "    elif category == 'AUTOMOTIVE':\n",
    "        return 'Automotivo'\n",
    "    elif category == 'PET SUPPLIES':\n",
    "        return 'Animais de Estimação'\n",
    "    elif category in ['BOOKS', 'MAGAZINES', 'CELEBRATION', 'PLAYERS AND ELECTRONICS', 'HARDWARE']:\n",
    "        return 'Lazer, Tecnologia e Ferramentas'\n",
    "    elif category == 'LIQUOR,WINE,BEER':\n",
    "        return 'Bebidas Alcoólicas'\n",
    "    elif category == 'SCHOOL AND OFFICE SUPPLIES':\n",
    "        return 'Escola e Escritório'\n",
    "    else:\n",
    "        return 'Outros'"
   ]
  },
  {
   "cell_type": "code",
   "execution_count": 19,
   "metadata": {},
   "outputs": [],
   "source": [
    "treino = pd.read_csv('Data/train.csv.gz', compression='gzip')\n",
    "treino= treino.drop(columns=['id'])\n",
    "transactions = pd.read_csv('Data/transactions.csv')\n",
    "stores = pd.read_csv('Data/stores.csv')\n",
    "oil = pd.read_csv('Data/oil.csv')\n",
    "holidays = pd.read_csv('Data/holidays_events.csv')"
   ]
  },
  {
   "cell_type": "code",
   "execution_count": 30,
   "metadata": {},
   "outputs": [
    {
     "data": {
      "text/plain": [
       "<bound method NDFrame.describe of                date  store_nbr                      family     sales  \\\n",
       "0        2013-01-01          1                  AUTOMOTIVE     0.000   \n",
       "1        2013-01-01          1                   BABY CARE     0.000   \n",
       "2        2013-01-01          1                      BEAUTY     0.000   \n",
       "3        2013-01-01          1                   BEVERAGES     0.000   \n",
       "4        2013-01-01          1                       BOOKS     0.000   \n",
       "...             ...        ...                         ...       ...   \n",
       "3000883  2017-08-15          9                     POULTRY   438.133   \n",
       "3000884  2017-08-15          9              PREPARED FOODS   154.553   \n",
       "3000885  2017-08-15          9                     PRODUCE  2419.729   \n",
       "3000886  2017-08-15          9  SCHOOL AND OFFICE SUPPLIES   121.000   \n",
       "3000887  2017-08-15          9                     SEAFOOD    16.000   \n",
       "\n",
       "         onpromotion  \n",
       "0                  0  \n",
       "1                  0  \n",
       "2                  0  \n",
       "3                  0  \n",
       "4                  0  \n",
       "...              ...  \n",
       "3000883            0  \n",
       "3000884            1  \n",
       "3000885          148  \n",
       "3000886            8  \n",
       "3000887            0  \n",
       "\n",
       "[3000888 rows x 5 columns]>"
      ]
     },
     "execution_count": 30,
     "metadata": {},
     "output_type": "execute_result"
    }
   ],
   "source": [
    "treino.describe"
   ]
  },
  {
   "cell_type": "code",
   "execution_count": 35,
   "metadata": {},
   "outputs": [],
   "source": [
    "dados = pd.merge(treino, transactions, on=['date', 'store_nbr'], how='left')\n",
    "dados= pd.merge(dados, oil, on=['date'], how= 'left')"
   ]
  },
  {
   "cell_type": "code",
   "execution_count": 36,
   "metadata": {},
   "outputs": [
    {
     "data": {
      "text/plain": [
       "<bound method NDFrame.describe of                date  store_nbr                      family     sales  \\\n",
       "0        2013-01-01          1                  AUTOMOTIVE     0.000   \n",
       "1        2013-01-01          1                   BABY CARE     0.000   \n",
       "2        2013-01-01          1                      BEAUTY     0.000   \n",
       "3        2013-01-01          1                   BEVERAGES     0.000   \n",
       "4        2013-01-01          1                       BOOKS     0.000   \n",
       "...             ...        ...                         ...       ...   \n",
       "3000883  2017-08-15          9                     POULTRY   438.133   \n",
       "3000884  2017-08-15          9              PREPARED FOODS   154.553   \n",
       "3000885  2017-08-15          9                     PRODUCE  2419.729   \n",
       "3000886  2017-08-15          9  SCHOOL AND OFFICE SUPPLIES   121.000   \n",
       "3000887  2017-08-15          9                     SEAFOOD    16.000   \n",
       "\n",
       "         onpromotion  transactions  dcoilwtico  \n",
       "0                  0           NaN         NaN  \n",
       "1                  0           NaN         NaN  \n",
       "2                  0           NaN         NaN  \n",
       "3                  0           NaN         NaN  \n",
       "4                  0           NaN         NaN  \n",
       "...              ...           ...         ...  \n",
       "3000883            0        2155.0       47.57  \n",
       "3000884            1        2155.0       47.57  \n",
       "3000885          148        2155.0       47.57  \n",
       "3000886            8        2155.0       47.57  \n",
       "3000887            0        2155.0       47.57  \n",
       "\n",
       "[3000888 rows x 7 columns]>"
      ]
     },
     "execution_count": 36,
     "metadata": {},
     "output_type": "execute_result"
    }
   ],
   "source": [
    "dados.describe"
   ]
  },
  {
   "cell_type": "code",
   "execution_count": 38,
   "metadata": {},
   "outputs": [
    {
     "name": "stdout",
     "output_type": "stream",
     "text": [
      "<class 'pandas.core.frame.DataFrame'>\n",
      "RangeIndex: 3000888 entries, 0 to 3000887\n",
      "Data columns (total 7 columns):\n",
      " #   Column        Dtype  \n",
      "---  ------        -----  \n",
      " 0   date          object \n",
      " 1   store_nbr     int64  \n",
      " 2   family        object \n",
      " 3   sales         float64\n",
      " 4   onpromotion   int64  \n",
      " 5   transactions  float64\n",
      " 6   dcoilwtico    float64\n",
      "dtypes: float64(3), int64(2), object(2)\n",
      "memory usage: 160.3+ MB\n"
     ]
    }
   ],
   "source": [
    "dados.info()"
   ]
  },
  {
   "cell_type": "code",
   "execution_count": 7,
   "metadata": {},
   "outputs": [
    {
     "data": {
      "text/plain": [
       "array(['AUTOMOTIVE', 'BABY CARE', 'BEAUTY', 'BEVERAGES', 'BOOKS',\n",
       "       'BREAD/BAKERY', 'CELEBRATION', 'CLEANING', 'DAIRY', 'DELI', 'EGGS',\n",
       "       'FROZEN FOODS', 'GROCERY I', 'GROCERY II', 'HARDWARE',\n",
       "       'HOME AND KITCHEN I', 'HOME AND KITCHEN II', 'HOME APPLIANCES',\n",
       "       'HOME CARE', 'LADIESWEAR', 'LAWN AND GARDEN', 'LINGERIE',\n",
       "       'LIQUOR,WINE,BEER', 'MAGAZINES', 'MEATS', 'PERSONAL CARE',\n",
       "       'PET SUPPLIES', 'PLAYERS AND ELECTRONICS', 'POULTRY',\n",
       "       'PREPARED FOODS', 'PRODUCE', 'SCHOOL AND OFFICE SUPPLIES',\n",
       "       'SEAFOOD'], dtype=object)"
      ]
     },
     "execution_count": 7,
     "metadata": {},
     "output_type": "execute_result"
    }
   ],
   "source": [
    "dados[\"family\"].unique()"
   ]
  },
  {
   "cell_type": "code",
   "execution_count": 41,
   "metadata": {},
   "outputs": [
    {
     "name": "stdout",
     "output_type": "stream",
     "text": [
      "date            0\n",
      "store_nbr       0\n",
      "transactions    0\n",
      "dtype: int64\n"
     ]
    }
   ],
   "source": [
    "null_counts = transactions.isnull().sum()\n",
    "print(null_counts)"
   ]
  },
  {
   "cell_type": "code",
   "execution_count": null,
   "metadata": {},
   "outputs": [],
   "source": []
  }
 ],
 "metadata": {
  "kernelspec": {
   "display_name": "base",
   "language": "python",
   "name": "python3"
  },
  "language_info": {
   "codemirror_mode": {
    "name": "ipython",
    "version": 3
   },
   "file_extension": ".py",
   "mimetype": "text/x-python",
   "name": "python",
   "nbconvert_exporter": "python",
   "pygments_lexer": "ipython3",
   "version": "3.11.7"
  }
 },
 "nbformat": 4,
 "nbformat_minor": 2
}
