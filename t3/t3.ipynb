{
 "cells": [
  {
   "cell_type": "code",
   "execution_count": 150,
   "metadata": {},
   "outputs": [],
   "source": [
    "import psycopg2\n",
    "from config import load_config\n",
    "import pandas as pd\n",
    "import folium\n",
    "import os\n",
    "from sklearn.cluster import DBSCAN\n",
    "from geopy.distance import geodesic\n",
    "import numpy as np\n",
    "import json"
   ]
  },
  {
   "cell_type": "code",
   "execution_count": 2,
   "metadata": {},
   "outputs": [],
   "source": [
    "def capturar_data_mapa(conn, table_name, linha):\n",
    "    cur = conn.cursor()\n",
    "    all_data = [] \n",
    "    try:\n",
    "        fetch_query = f'''\n",
    "        SELECT latitude::double precision, longitude::double precision\n",
    "        FROM {table_name}\n",
    "        WHERE linha='{linha}'\n",
    "        '''\n",
    "        cur.execute(fetch_query)\n",
    "        rows = cur.fetchall()\n",
    "        all_data.extend(rows)\n",
    "    except Exception as e:\n",
    "            print(f\"Erro ao executar a query na tabela {table_name}: {e}\")\n",
    "            conn.rollback()\n",
    "    else:\n",
    "         conn.commit()\n",
    "    cur.close()\n",
    "    return all_data"
   ]
  },
  {
   "cell_type": "code",
   "execution_count": 3,
   "metadata": {},
   "outputs": [],
   "source": [
    "def limpar_dados_tabela(table_name, conn):\n",
    "    cur = conn.cursor()\n",
    "    try:\n",
    "        # Adicionar a coluna hour, se não existir\n",
    "        cur.execute(f\"ALTER TABLE {table_name} ADD COLUMN IF NOT EXISTS hour INTEGER;\")\n",
    "        \n",
    "        # Atualizar a coluna hour com base no datahora\n",
    "        cur.execute(f\"UPDATE {table_name} SET hour = EXTRACT(HOUR FROM TO_TIMESTAMP(datahora / 1000));\")\n",
    "        \n",
    "        # Criar uma nova tabela filtrada\n",
    "        cur.execute(f\"\"\"\n",
    "            CREATE TABLE {table_name}_filter AS\n",
    "            SELECT *\n",
    "            FROM {table_name}\n",
    "            WHERE hour BETWEEN 8 AND 22;\n",
    "        \"\"\")\n",
    "        \n",
    "        # Remover a coluna hour das tabelas\n",
    "        cur.execute(f\"ALTER TABLE {table_name} DROP COLUMN hour;\")\n",
    "        cur.execute(f\"ALTER TABLE {table_name}_filter DROP COLUMN hour;\")\n",
    "        \n",
    "        # Commit das alterações\n",
    "        conn.commit()\n",
    "        print(f\"Alterações na tabela {table_name} foram comitadas com sucesso.\")\n",
    "    except Exception as e:\n",
    "        conn.rollback()\n",
    "        print(f\"Erro ao limpar dados da tabela {table_name}: {e}\")\n",
    "    finally:\n",
    "        cur.close()\n",
    "        print(f\"Cursor fechado para a tabela {table_name}.\")"
   ]
  },
  {
   "cell_type": "code",
   "execution_count": 124,
   "metadata": {},
   "outputs": [],
   "source": [
    "def adicionar_geom(table_name, conn):\n",
    "    cur = conn.cursor()\n",
    "    try:\n",
    "        # Adicionar a coluna geom se não existir\n",
    "        cur.execute(f\"\"\"\n",
    "            ALTER TABLE {table_name} ADD COLUMN IF NOT EXISTS geom geography(Point, 4326);\n",
    "        \"\"\")\n",
    "        \n",
    "        # Atualizar a coluna geom com os valores de longitude e latitude\n",
    "        cur.execute(f\"\"\"\n",
    "            UPDATE {table_name}\n",
    "            SET geom = ST_SetSRID(ST_MakePoint(longitude::double precision, latitude::double precision), 4326);\n",
    "        \"\"\")\n",
    "        \n",
    "        # Commit das alterações\n",
    "        conn.commit()\n",
    "        print(f\"Coluna geom criada e preenchida na tabela {table_name}_filter com sucesso.\")\n",
    "    except Exception as e:\n",
    "        # Rollback em caso de erro\n",
    "        conn.rollback()\n",
    "        print(f\"Erro ao atualizar a tabela {table_name}_filter: {e}\")\n",
    "    finally:\n",
    "        # Fechar o cursor\n",
    "        cur.close()\n",
    "        print(f\"Cursor fechado para a tabela {table_name}_filter.\")"
   ]
  },
  {
   "cell_type": "code",
   "execution_count": 5,
   "metadata": {},
   "outputs": [],
   "source": [
    "def filtra_linhas(table_name, linhas_de_interesse, conn):\n",
    "    cur = conn.cursor()\n",
    "    temp_table_name = table_name + '_intermediate'\n",
    "    linhas_str = ', '.join([f\"'{linha}'\" for linha in linhas_de_interesse])\n",
    "    try:\n",
    "        # Criar tabela intermediária filtrada\n",
    "        cur.execute(f\"\"\"\n",
    "            CREATE TABLE {temp_table_name} AS\n",
    "            SELECT *\n",
    "            FROM {table_name}_filter\n",
    "            WHERE linha IN ({linhas_str});\n",
    "        \"\"\")\n",
    "        print(f\"Tabela intermediária {temp_table_name} criada com sucesso.\")\n",
    "        conn.commit()\n",
    "        print(f\"Alterações na tabela {temp_table_name} foram comitadas com sucesso.\")\n",
    "    except Exception as e:\n",
    "        print(f\"Erro ao criar a tabela intermediária {temp_table_name}: {e}\")\n",
    "        conn.rollback()\n",
    "    finally:\n",
    "        cur.close()\n",
    "        print(f\"Cursor fechado para a tabela {temp_table_name}.\")"
   ]
  },
  {
   "cell_type": "code",
   "execution_count": 6,
   "metadata": {},
   "outputs": [],
   "source": [
    "def sobrescreve_tabelas(table_name, conn):\n",
    "    cur = conn.cursor()\n",
    "    temp_table_name = table_name + '_intermediate'\n",
    "    try:\n",
    "        # Verificar se a tabela temporária existe\n",
    "        cur.execute(f\"\"\"\n",
    "            SELECT EXISTS (\n",
    "                SELECT FROM pg_tables\n",
    "                WHERE schemaname = 'public' AND tablename = '{temp_table_name}'\n",
    "            );\n",
    "        \"\"\")\n",
    "        exists = cur.fetchone()[0]\n",
    "\n",
    "        if exists:\n",
    "            # Excluir a tabela original\n",
    "            cur.execute(f\"DROP TABLE IF EXISTS {table_name}_filter;\")\n",
    "            # Renomear a tabela temporária para o nome original\n",
    "            cur.execute(f\"ALTER TABLE {temp_table_name} RENAME TO {table_name}_filter;\")\n",
    "            print(f\"Tabela {table_name}_filter sobrescrita com sucesso.\")\n",
    "            conn.commit()\n",
    "            print(f\"Tabela {table_name}_filter comitada com sucesso.\")\n",
    "        else:\n",
    "            print(f\"Tabela temporária {temp_table_name} não encontrada.\")\n",
    "            conn.rollback()\n",
    "    except Exception as e:\n",
    "        print(f\"Erro ao sobrescrever a tabela {table_name}_filter: {e}\")\n",
    "        conn.rollback()\n",
    "    finally:\n",
    "        cur.close()\n",
    "        print(f\"Cursor fechado para a tabela {table_name}_filter.\")\n"
   ]
  },
  {
   "cell_type": "code",
   "execution_count": 7,
   "metadata": {},
   "outputs": [],
   "source": [
    "def margem_erro(coord1, coord2, radius=100):\n",
    "    return geodesic(coord1, coord2).meters <= radius"
   ]
  },
  {
   "cell_type": "code",
   "execution_count": 137,
   "metadata": {},
   "outputs": [],
   "source": [
    "def criar_tabela_destino(conn):\n",
    "    cur = conn.cursor()\n",
    "    try:\n",
    "        cur.execute(\"\"\"\n",
    "            CREATE TABLE IF NOT EXISTS combined_table_all AS\n",
    "            SELECT * FROM dia_0105 WHERE 1=0;\n",
    "        \"\"\")\n",
    "        conn.commit()\n",
    "        print(\"Tabela de destino 'combined_table' criada com sucesso.\")\n",
    "    except Exception as e:\n",
    "        conn.rollback()\n",
    "        print(f\"Erro ao criar a tabela de destino: {e}\")\n",
    "    finally:\n",
    "        cur.close()"
   ]
  },
  {
   "cell_type": "code",
   "execution_count": 134,
   "metadata": {},
   "outputs": [],
   "source": [
    "def inserir_dados(table_name, conn):\n",
    "    cur = conn.cursor()\n",
    "    try:\n",
    "        cur.execute(f\"INSERT INTO combined_table_all SELECT * FROM {table_name};\")\n",
    "        conn.commit()\n",
    "        print(f\"Dados inseridos na tabela 'combined_table' a partir de '{table_name}' com sucesso.\")\n",
    "    except Exception as e:\n",
    "        conn.rollback()\n",
    "        print(f\"Erro ao inserir dados da tabela {table_name}: {e}\")\n",
    "    finally:\n",
    "        cur.close()"
   ]
  },
  {
   "cell_type": "code",
   "execution_count": 10,
   "metadata": {},
   "outputs": [],
   "source": [
    "def connect(config):\n",
    "    \"\"\" Connect to the PostgreSQL database server \"\"\"\n",
    "    try:\n",
    "        # connecting to the PostgreSQL server\n",
    "        with psycopg2.connect(**config) as conn:\n",
    "            print('Connected to the PostgreSQL server.')\n",
    "            return conn\n",
    "    except (psycopg2.DatabaseError, Exception) as error:\n",
    "        print(error)\n"
   ]
  },
  {
   "cell_type": "code",
   "execution_count": 64,
   "metadata": {},
   "outputs": [
    {
     "name": "stdout",
     "output_type": "stream",
     "text": [
      "Connected to the PostgreSQL server.\n"
     ]
    }
   ],
   "source": [
    "config = load_config()\n",
    "conn = connect(config)"
   ]
  },
  {
   "cell_type": "code",
   "execution_count": 12,
   "metadata": {},
   "outputs": [],
   "source": [
    "linhas_de_interesse = ['483', '864', '639', '3', '309', '774', '629', '371', '397', '100', '838', '315', '624', '388', '918', '665', '328', '497', '878', '355', '138', '606', '457', '550', '803', '917', '638', '2336', '399', '298', '867', '553', '565', '422', '756', '186012003', '292', '554', '634', '232', '415', '2803', '324', '852', '557', '759', '343', '779', '905', '108']"
   ]
  },
  {
   "cell_type": "code",
   "execution_count": 13,
   "metadata": {},
   "outputs": [],
   "source": [
    "table_names = ['dia_0105', 'dia_0205', 'dia_0305', 'dia_0405', 'dia_0505', 'dia_0605', 'dia_0705', 'dia_0805', 'dia_0905', 'dia_1005', 'dia_2504', 'dia_2604', 'dia_2704', 'dia_2804', 'dia_2904', 'dia_3004']"
   ]
  },
  {
   "cell_type": "code",
   "execution_count": 157,
   "metadata": {},
   "outputs": [
    {
     "data": {
      "text/plain": [
       "'for table in table_names:\\n    limpar_dados_tabela(table, conn)'"
      ]
     },
     "execution_count": 157,
     "metadata": {},
     "output_type": "execute_result"
    }
   ],
   "source": [
    "\"\"\"for table in table_names:\n",
    "    limpar_dados_tabela(table, conn)\"\"\""
   ]
  },
  {
   "cell_type": "code",
   "execution_count": 158,
   "metadata": {},
   "outputs": [
    {
     "name": "stdout",
     "output_type": "stream",
     "text": [
      "Coluna geom criada e preenchida na tabela dia_0105_filter com sucesso.\n",
      "Cursor fechado para a tabela dia_0105_filter.\n",
      "Coluna geom criada e preenchida na tabela dia_0205_filter com sucesso.\n",
      "Cursor fechado para a tabela dia_0205_filter.\n",
      "Coluna geom criada e preenchida na tabela dia_0305_filter com sucesso.\n",
      "Cursor fechado para a tabela dia_0305_filter.\n",
      "Coluna geom criada e preenchida na tabela dia_0405_filter com sucesso.\n",
      "Cursor fechado para a tabela dia_0405_filter.\n",
      "Coluna geom criada e preenchida na tabela dia_0505_filter com sucesso.\n",
      "Cursor fechado para a tabela dia_0505_filter.\n",
      "Coluna geom criada e preenchida na tabela dia_0605_filter com sucesso.\n",
      "Cursor fechado para a tabela dia_0605_filter.\n",
      "Coluna geom criada e preenchida na tabela dia_0705_filter com sucesso.\n",
      "Cursor fechado para a tabela dia_0705_filter.\n",
      "Coluna geom criada e preenchida na tabela dia_0805_filter com sucesso.\n",
      "Cursor fechado para a tabela dia_0805_filter.\n",
      "Coluna geom criada e preenchida na tabela dia_0905_filter com sucesso.\n",
      "Cursor fechado para a tabela dia_0905_filter.\n",
      "Coluna geom criada e preenchida na tabela dia_1005_filter com sucesso.\n",
      "Cursor fechado para a tabela dia_1005_filter.\n",
      "Coluna geom criada e preenchida na tabela dia_2504_filter com sucesso.\n",
      "Cursor fechado para a tabela dia_2504_filter.\n",
      "Coluna geom criada e preenchida na tabela dia_2604_filter com sucesso.\n",
      "Cursor fechado para a tabela dia_2604_filter.\n",
      "Coluna geom criada e preenchida na tabela dia_2704_filter com sucesso.\n",
      "Cursor fechado para a tabela dia_2704_filter.\n",
      "Coluna geom criada e preenchida na tabela dia_2804_filter com sucesso.\n",
      "Cursor fechado para a tabela dia_2804_filter.\n",
      "Coluna geom criada e preenchida na tabela dia_2904_filter com sucesso.\n",
      "Cursor fechado para a tabela dia_2904_filter.\n",
      "Coluna geom criada e preenchida na tabela dia_3004_filter com sucesso.\n",
      "Cursor fechado para a tabela dia_3004_filter.\n"
     ]
    }
   ],
   "source": [
    "\"\"\"for table in table_names:\n",
    "    adicionar_geom(table, conn)\"\"\""
   ]
  },
  {
   "cell_type": "code",
   "execution_count": 142,
   "metadata": {},
   "outputs": [
    {
     "name": "stdout",
     "output_type": "stream",
     "text": [
      "Tabela intermediária dia_0105_intermediate criada com sucesso.\n",
      "Alterações na tabela dia_0105_intermediate foram comitadas com sucesso.\n",
      "Cursor fechado para a tabela dia_0105_intermediate.\n",
      "Tabela dia_0105_filter sobrescrita com sucesso.\n",
      "Tabela dia_0105_filter comitada com sucesso.\n",
      "Cursor fechado para a tabela dia_0105_filter.\n",
      "Tabela intermediária dia_0205_intermediate criada com sucesso.\n",
      "Alterações na tabela dia_0205_intermediate foram comitadas com sucesso.\n",
      "Cursor fechado para a tabela dia_0205_intermediate.\n",
      "Tabela dia_0205_filter sobrescrita com sucesso.\n",
      "Tabela dia_0205_filter comitada com sucesso.\n",
      "Cursor fechado para a tabela dia_0205_filter.\n",
      "Tabela intermediária dia_0305_intermediate criada com sucesso.\n",
      "Alterações na tabela dia_0305_intermediate foram comitadas com sucesso.\n",
      "Cursor fechado para a tabela dia_0305_intermediate.\n",
      "Tabela dia_0305_filter sobrescrita com sucesso.\n",
      "Tabela dia_0305_filter comitada com sucesso.\n",
      "Cursor fechado para a tabela dia_0305_filter.\n",
      "Tabela intermediária dia_0405_intermediate criada com sucesso.\n",
      "Alterações na tabela dia_0405_intermediate foram comitadas com sucesso.\n",
      "Cursor fechado para a tabela dia_0405_intermediate.\n",
      "Tabela dia_0405_filter sobrescrita com sucesso.\n",
      "Tabela dia_0405_filter comitada com sucesso.\n",
      "Cursor fechado para a tabela dia_0405_filter.\n",
      "Tabela intermediária dia_0505_intermediate criada com sucesso.\n",
      "Alterações na tabela dia_0505_intermediate foram comitadas com sucesso.\n",
      "Cursor fechado para a tabela dia_0505_intermediate.\n",
      "Tabela dia_0505_filter sobrescrita com sucesso.\n",
      "Tabela dia_0505_filter comitada com sucesso.\n",
      "Cursor fechado para a tabela dia_0505_filter.\n",
      "Tabela intermediária dia_0605_intermediate criada com sucesso.\n",
      "Alterações na tabela dia_0605_intermediate foram comitadas com sucesso.\n",
      "Cursor fechado para a tabela dia_0605_intermediate.\n",
      "Tabela dia_0605_filter sobrescrita com sucesso.\n",
      "Tabela dia_0605_filter comitada com sucesso.\n",
      "Cursor fechado para a tabela dia_0605_filter.\n",
      "Tabela intermediária dia_0705_intermediate criada com sucesso.\n",
      "Alterações na tabela dia_0705_intermediate foram comitadas com sucesso.\n",
      "Cursor fechado para a tabela dia_0705_intermediate.\n",
      "Tabela dia_0705_filter sobrescrita com sucesso.\n",
      "Tabela dia_0705_filter comitada com sucesso.\n",
      "Cursor fechado para a tabela dia_0705_filter.\n",
      "Tabela intermediária dia_0805_intermediate criada com sucesso.\n",
      "Alterações na tabela dia_0805_intermediate foram comitadas com sucesso.\n",
      "Cursor fechado para a tabela dia_0805_intermediate.\n",
      "Tabela dia_0805_filter sobrescrita com sucesso.\n",
      "Tabela dia_0805_filter comitada com sucesso.\n",
      "Cursor fechado para a tabela dia_0805_filter.\n",
      "Tabela intermediária dia_0905_intermediate criada com sucesso.\n",
      "Alterações na tabela dia_0905_intermediate foram comitadas com sucesso.\n",
      "Cursor fechado para a tabela dia_0905_intermediate.\n",
      "Tabela dia_0905_filter sobrescrita com sucesso.\n",
      "Tabela dia_0905_filter comitada com sucesso.\n",
      "Cursor fechado para a tabela dia_0905_filter.\n",
      "Tabela intermediária dia_1005_intermediate criada com sucesso.\n",
      "Alterações na tabela dia_1005_intermediate foram comitadas com sucesso.\n",
      "Cursor fechado para a tabela dia_1005_intermediate.\n",
      "Tabela dia_1005_filter sobrescrita com sucesso.\n",
      "Tabela dia_1005_filter comitada com sucesso.\n",
      "Cursor fechado para a tabela dia_1005_filter.\n",
      "Tabela intermediária dia_2504_intermediate criada com sucesso.\n",
      "Alterações na tabela dia_2504_intermediate foram comitadas com sucesso.\n",
      "Cursor fechado para a tabela dia_2504_intermediate.\n",
      "Tabela dia_2504_filter sobrescrita com sucesso.\n",
      "Tabela dia_2504_filter comitada com sucesso.\n",
      "Cursor fechado para a tabela dia_2504_filter.\n",
      "Tabela intermediária dia_2604_intermediate criada com sucesso.\n",
      "Alterações na tabela dia_2604_intermediate foram comitadas com sucesso.\n",
      "Cursor fechado para a tabela dia_2604_intermediate.\n",
      "Tabela dia_2604_filter sobrescrita com sucesso.\n",
      "Tabela dia_2604_filter comitada com sucesso.\n",
      "Cursor fechado para a tabela dia_2604_filter.\n",
      "Tabela intermediária dia_2704_intermediate criada com sucesso.\n",
      "Alterações na tabela dia_2704_intermediate foram comitadas com sucesso.\n",
      "Cursor fechado para a tabela dia_2704_intermediate.\n",
      "Tabela dia_2704_filter sobrescrita com sucesso.\n",
      "Tabela dia_2704_filter comitada com sucesso.\n",
      "Cursor fechado para a tabela dia_2704_filter.\n",
      "Tabela intermediária dia_2804_intermediate criada com sucesso.\n",
      "Alterações na tabela dia_2804_intermediate foram comitadas com sucesso.\n",
      "Cursor fechado para a tabela dia_2804_intermediate.\n",
      "Tabela dia_2804_filter sobrescrita com sucesso.\n",
      "Tabela dia_2804_filter comitada com sucesso.\n",
      "Cursor fechado para a tabela dia_2804_filter.\n",
      "Tabela intermediária dia_2904_intermediate criada com sucesso.\n",
      "Alterações na tabela dia_2904_intermediate foram comitadas com sucesso.\n",
      "Cursor fechado para a tabela dia_2904_intermediate.\n",
      "Tabela dia_2904_filter sobrescrita com sucesso.\n",
      "Tabela dia_2904_filter comitada com sucesso.\n",
      "Cursor fechado para a tabela dia_2904_filter.\n",
      "Tabela intermediária dia_3004_intermediate criada com sucesso.\n",
      "Alterações na tabela dia_3004_intermediate foram comitadas com sucesso.\n",
      "Cursor fechado para a tabela dia_3004_intermediate.\n",
      "Tabela dia_3004_filter sobrescrita com sucesso.\n",
      "Tabela dia_3004_filter comitada com sucesso.\n",
      "Cursor fechado para a tabela dia_3004_filter.\n"
     ]
    }
   ],
   "source": [
    "\"\"\"for table in table_names:\n",
    "    filtra_linhas(table, linhas_de_interesse, conn)\n",
    "    sobrescreve_tabelas(table, conn)\"\"\""
   ]
  },
  {
   "cell_type": "code",
   "execution_count": 136,
   "metadata": {},
   "outputs": [
    {
     "data": {
      "text/plain": [
       "'for linha in linhas_de_interesse:\\n    data = capturar_data_mapa(conn, \\'dia_2704_filter\\', linha)\\n    if data:\\n        avg_latitude = sum([d[0] for d in data]) / len(data)\\n        avg_longitude = sum([d[1] for d in data]) / len(data)\\n        m = folium.Map(location=[avg_latitude, avg_longitude], zoom_start=12)\\n        # Adicione os pontos ao mapa\\n        for lat, lon in data:\\n            folium.CircleMarker(location=[lat, lon], radius=1, color=\\'blue\\').add_to(m)\\n        output_path = os.path.join(f\\'trajetos/output_map_{linha}.html\\')\\n        m.save(output_path)\\n        print(f\"Mapa salvo em {output_path}\")'"
      ]
     },
     "execution_count": 136,
     "metadata": {},
     "output_type": "execute_result"
    }
   ],
   "source": [
    "\"\"\"for linha in linhas_de_interesse:\n",
    "    data = capturar_data_mapa(conn, 'dia_2704_filter', linha)\n",
    "    if data:\n",
    "        avg_latitude = sum([d[0] for d in data]) / len(data)\n",
    "        avg_longitude = sum([d[1] for d in data]) / len(data)\n",
    "        m = folium.Map(location=[avg_latitude, avg_longitude], zoom_start=12)\n",
    "        # Adicione os pontos ao mapa\n",
    "        for lat, lon in data:\n",
    "            folium.CircleMarker(location=[lat, lon], radius=1, color='blue').add_to(m)\n",
    "        output_path = os.path.join(f'trajetos/output_map_{linha}.html')\n",
    "        m.save(output_path)\n",
    "        print(f\"Mapa salvo em {output_path}\")\"\"\""
   ]
  },
  {
   "cell_type": "code",
   "execution_count": 14,
   "metadata": {},
   "outputs": [
    {
     "name": "stdout",
     "output_type": "stream",
     "text": [
      "Tabela de destino 'combined_table' criada com sucesso.\n",
      "Dados inseridos na tabela 'combined_table' a partir de 'dia_0105_filter' com sucesso.\n",
      "Dados inseridos na tabela 'combined_table' a partir de 'dia_0205_filter' com sucesso.\n",
      "Dados inseridos na tabela 'combined_table' a partir de 'dia_0305_filter' com sucesso.\n",
      "Dados inseridos na tabela 'combined_table' a partir de 'dia_0405_filter' com sucesso.\n",
      "Dados inseridos na tabela 'combined_table' a partir de 'dia_0505_filter' com sucesso.\n",
      "Dados inseridos na tabela 'combined_table' a partir de 'dia_0605_filter' com sucesso.\n",
      "Dados inseridos na tabela 'combined_table' a partir de 'dia_0705_filter' com sucesso.\n",
      "Dados inseridos na tabela 'combined_table' a partir de 'dia_0805_filter' com sucesso.\n",
      "Dados inseridos na tabela 'combined_table' a partir de 'dia_0905_filter' com sucesso.\n",
      "Dados inseridos na tabela 'combined_table' a partir de 'dia_1005_filter' com sucesso.\n",
      "Dados inseridos na tabela 'combined_table' a partir de 'dia_2504_filter' com sucesso.\n",
      "Dados inseridos na tabela 'combined_table' a partir de 'dia_2604_filter' com sucesso.\n",
      "Dados inseridos na tabela 'combined_table' a partir de 'dia_2704_filter' com sucesso.\n",
      "Dados inseridos na tabela 'combined_table' a partir de 'dia_2804_filter' com sucesso.\n",
      "Dados inseridos na tabela 'combined_table' a partir de 'dia_2904_filter' com sucesso.\n",
      "Dados inseridos na tabela 'combined_table' a partir de 'dia_3004_filter' com sucesso.\n"
     ]
    }
   ],
   "source": [
    "\"\"\"criar_tabela_destino(conn)\n",
    "for table in table_names:\n",
    "    inserir_dados(table, conn)\"\"\""
   ]
  },
  {
   "cell_type": "code",
   "execution_count": 23,
   "metadata": {},
   "outputs": [],
   "source": [
    "pontos_de_parada = {}"
   ]
  },
  {
   "cell_type": "code",
   "execution_count": 83,
   "metadata": {},
   "outputs": [],
   "source": [
    "query = \"\"\"\n",
    "WITH ordered_points AS (\n",
    "    SELECT\n",
    "        ordem,\n",
    "        linha,\n",
    "        geom,\n",
    "        TO_TIMESTAMP(datahora / 1000) AS datahora_ts,\n",
    "        LAG(TO_TIMESTAMP(datahora / 1000)) OVER (PARTITION BY ordem ORDER BY TO_TIMESTAMP(datahora / 1000)) AS prev_datahora_ts,\n",
    "        LAG(geom) OVER (PARTITION BY ordem ORDER BY TO_TIMESTAMP(datahora / 1000)) AS prev_geom,\n",
    "        ROW_NUMBER() OVER (PARTITION BY ordem ORDER BY TO_TIMESTAMP(datahora / 1000)) AS rn\n",
    "    FROM combined_table\n",
    "),\n",
    "same_position_periods AS (\n",
    "    SELECT\n",
    "        ordem,\n",
    "        linha,\n",
    "        geom,\n",
    "        datahora_ts,\n",
    "        prev_datahora_ts,\n",
    "        EXTRACT(EPOCH FROM (datahora_ts - prev_datahora_ts)) AS duration,\n",
    "        CASE \n",
    "            WHEN ST_DWithin(geom, prev_geom, 15) THEN 1\n",
    "            ELSE 0\n",
    "        END AS is_stationary,\n",
    "        ROW_NUMBER() OVER (PARTITION BY ordem ORDER BY datahora_ts) - \n",
    "        ROW_NUMBER() OVER (PARTITION BY ordem, CASE WHEN ST_DWithin(geom, prev_geom, 15) THEN 1 ELSE 0 END ORDER BY datahora_ts) AS grp\n",
    "    FROM ordered_points\n",
    "),\n",
    "stationary_groups AS (\n",
    "    SELECT\n",
    "        ordem,\n",
    "        linha,\n",
    "        geom,\n",
    "        datahora_ts,\n",
    "        prev_datahora_ts,\n",
    "        duration,\n",
    "        is_stationary,\n",
    "        grp\n",
    "    FROM same_position_periods\n",
    "    WHERE is_stationary = 1\n",
    ")\n",
    "SELECT\n",
    "    ordem,\n",
    "    linha,\n",
    "    MIN(prev_datahora_ts) AS start_time,\n",
    "    MAX(datahora_ts) AS end_time,\n",
    "    SUM(duration) AS total_duration,\n",
    "    ST_X(geom::geometry) AS longitude,\n",
    "    ST_Y(geom::geometry) AS latitude,\n",
    "    grp\n",
    "FROM stationary_groups\n",
    "GROUP BY ordem, linha, grp, geom\n",
    "HAVING SUM(duration) >= 600; -- 10 minutes in seconds\n",
    "\"\"\""
   ]
  },
  {
   "cell_type": "code",
   "execution_count": 84,
   "metadata": {},
   "outputs": [
    {
     "name": "stderr",
     "output_type": "stream",
     "text": [
      "/tmp/ipykernel_7675/1168034203.py:1: UserWarning: pandas only supports SQLAlchemy connectable (engine/connection) or database string URI or sqlite3 DBAPI2 connection. Other DBAPI2 objects are not tested. Please consider using SQLAlchemy.\n",
      "  df = pd.read_sql(query, conn)\n"
     ]
    }
   ],
   "source": [
    "df = pd.read_sql(query, conn)"
   ]
  },
  {
   "cell_type": "code",
   "execution_count": 85,
   "metadata": {},
   "outputs": [],
   "source": [
    "df_unique = df.drop_duplicates(subset=['grp'])"
   ]
  },
  {
   "cell_type": "code",
   "execution_count": 86,
   "metadata": {},
   "outputs": [],
   "source": [
    "for linha in linhas_de_interesse:\n",
    "    pontos_de_parada[linha]=[]\n",
    "    for _, row in df_unique.loc[df_unique['linha'] == linha].iterrows():\n",
    "        lat, lon = row['latitude'], row['longitude']\n",
    "        ponto = (lat, lon)\n",
    "        encontrado = False\n",
    "        if row['total_duration'] > 2400:\n",
    "            continue\n",
    "        for pontos in pontos_de_parada[linha]:\n",
    "            if margem_erro(pontos[0], ponto):\n",
    "                encontrado = True\n",
    "                pontos[1] += 1\n",
    "                break\n",
    "        if not encontrado:\n",
    "            pontos_de_parada[linha].append([ponto, 1])\n",
    "for linha in pontos_de_parada.keys():\n",
    "        pontos_de_parada[linha] = sorted(pontos_de_parada[linha], key=lambda x: x[1], reverse=True)"
   ]
  },
  {
   "cell_type": "code",
   "execution_count": 87,
   "metadata": {},
   "outputs": [],
   "source": [
    "pontos_finais = {}"
   ]
  },
  {
   "cell_type": "code",
   "execution_count": 88,
   "metadata": {},
   "outputs": [
    {
     "name": "stdout",
     "output_type": "stream",
     "text": [
      "483 [[(-22.80462, -43.3097), 73], [(-22.83695, -43.28397), 44], [(-22.90331, -43.17292), 5], [(-22.98572, -43.19701), 5]]\n",
      "864 [[(-22.89371, -43.53251), 49], [(-22.89434, -43.53179), 16], [(-22.90285, -43.55566), 7], [(-22.89527, -43.53218), 4]]\n",
      "639 [[(-22.81698, -43.30219), 204], [(-22.81109, -43.32993), 63], [(-22.88643, -43.29749), 3], [(-22.91696, -43.25807), 2]]\n",
      "3 [[(-22.88441, -43.49511), 72], [(-22.88326, -43.49577), 16], [(-22.86105, -43.45404), 2], [(-22.90092, -43.55167), 1]]\n",
      "309 [[(-22.87422, -43.24181), 147], [(-22.90459, -43.19256), 142], [(-22.87557, -43.24144), 114], [(-23.00197, -43.36538), 20]]\n",
      "774 [[(-22.81676, -43.3018), 65], [(-22.80744, -43.32766), 42], [(-22.81488, -43.30976), 1], [(-22.828, -43.32254), 1]]\n",
      "629 [[(-22.81685, -43.30224), 92], [(-22.82503, -43.33258), 19], [(-22.92302, -43.23276), 4], [(-22.75362, -43.29507), 4]]\n",
      "371 [[(-22.90137, -43.34716), 45], [(-22.90853, -43.18917), 6], [(-22.88599, -43.25172), 1], [(-22.87704, -43.36831), 1]]\n",
      "397 [[(-22.90219, -43.55503), 17], [(-22.84462, -43.37608), 1], [(-22.84356, -43.25076), 1], [(-22.82363, -43.33097), 1]]\n",
      "100 [[(-22.90455, -43.19202), 108], [(-22.88995, -43.29266), 65], [(-22.88857, -43.2932), 58], [(-22.87486, -43.24226), 31]]\n",
      "838 [[(-22.89452, -43.53222), 27], [(-22.9029, -43.55572), 17], [(-22.89358, -43.53197), 12], [(-22.90197, -43.55553), 3]]\n",
      "315 [[(-22.87521, -43.24173), 50], [(-23.02203, -43.48246), 30], [(-22.90462, -43.19255), 21], [(-22.87424, -43.24174), 11]]\n",
      "624 [[(-22.82872, -43.41937), 205], [(-22.91151, -43.21217), 40], [(-22.8295, -43.41879), 14], [(-22.87673, -43.36842), 3]]\n",
      "388 [[(-22.93533, -43.65589), 36], [(-22.90285, -43.18231), 1], [(-22.90076, -43.17704), 1], [(-22.90214, -43.18151), 1]]\n",
      "918 [[(-22.8945, -43.49018), 58], [(-22.89338, -43.53211), 11], [(-22.89434, -43.53149), 5], [(-22.895, -43.53371), 3]]\n",
      "665 [[(-22.80609, -43.36326), 133], [(-22.922, -43.23262), 48], [(-22.8178, -43.3931), 38], [(-22.79257, -43.29466), 27]]\n",
      "328 [[(-22.78881, -43.16222), 152], [(-22.81469, -43.18696), 125], [(-22.90257, -43.18228), 9], [(-22.81511, -43.18818), 7]]\n",
      "497 [[(-22.83643, -43.28357), 62], [(-22.80453, -43.30981), 41], [(-22.80423, -43.31121), 10], [(-22.93177, -43.17755), 5]]\n",
      "878 [[(-22.88036, -43.35735), 143], [(-22.91579, -43.36082), 24], [(-22.87984, -43.35832), 10], [(-23.0125, -43.31866), 5]]\n",
      "355 [[(-22.81692, -43.30223), 36], [(-22.86122, -43.3552), 34], [(-22.87, -43.3415), 11], [(-22.90326, -43.18491), 5]]\n",
      "138 []\n",
      "606 [[(-22.90205, -43.29852), 553], [(-22.90254, -43.29768), 35], [(-22.90212, -43.29965), 25], [(-22.89576, -43.29409), 19]]\n",
      "457 [[(-22.88593, -43.30039), 59], [(-22.8898, -43.29219), 38], [(-22.86866, -43.29137), 20], [(-22.81711, -43.39375), 13]]\n",
      "550 [[(-22.95161, -43.34833), 148], [(-22.94628, -43.36034), 17], [(-22.94979, -43.34823), 14], [(-22.95069, -43.34835), 7]]\n",
      "803 [[(-22.87906, -43.49152), 43], [(-22.87639, -43.41919), 33], [(-22.93567, -43.37192), 3], [(-22.87555, -43.41959), 2]]\n",
      "917 [[(-22.87811, -43.43034), 166], [(-22.86893, -43.25594), 38], [(-22.8763, -43.36874), 4], [(-22.87711, -43.43026), 3]]\n",
      "638 [[(-22.85365, -43.37595), 114], [(-22.86051, -43.35536), 82], [(-22.86059, -43.35645), 9], [(-22.92533, -43.23285), 4]]\n",
      "2336 [[(-22.90514, -43.1743), 40], [(-22.91726, -43.60768), 33], [(-22.90167, -43.55798), 13], [(-22.91828, -43.60832), 4]]\n",
      "399 [[(-22.80706, -43.36675), 49], [(-22.8173, -43.39352), 48], [(-22.91596, -43.17658), 21], [(-22.81668, -43.3943), 7]]\n",
      "298 [[(-22.83049, -43.35351), 185], [(-22.81744, -43.39374), 56], [(-22.9093, -43.17086), 44], [(-22.81581, -43.39484), 6]]\n",
      "867 [[(-22.89435, -43.53227), 44], [(-22.90305, -43.5556), 35], [(-22.90178, -43.55459), 16], [(-23.06675, -43.56791), 3]]\n",
      "553 [[(-23.02068, -43.48294), 66], [(-22.95255, -43.34874), 27], [(-22.95469, -43.17858), 26], [(-22.95299, -43.34974), 3]]\n",
      "565 [[(-22.95074, -43.34834), 62], [(-22.91591, -43.36121), 41], [(-22.95166, -43.34806), 19], [(-22.95285, -43.34868), 5]]\n",
      "422 [[(-22.88899, -43.29233), 107], [(-22.9114, -43.27244), 75], [(-22.93981, -43.19978), 62], [(-22.88967, -43.29163), 22]]\n",
      "756 [[(-22.91512, -43.68274), 58], [(-22.8759, -43.41995), 30], [(-22.91414, -43.68102), 17], [(-22.83279, -43.34208), 16]]\n",
      "186012003 []\n",
      "292 [[(-22.86838, -43.29134), 58], [(-22.86544, -43.29942), 48], [(-22.90915, -43.1715), 31], [(-22.81676, -43.30188), 31]]\n",
      "554 [[(-23.02502, -43.52171), 121], [(-22.95176, -43.34858), 28], [(-22.95296, -43.34888), 23], [(-22.95413, -43.17876), 14]]\n",
      "634 [[(-22.78926, -43.16171), 207], [(-22.81433, -43.18747), 65], [(-22.81551, -43.18689), 25], [(-22.92684, -43.23404), 11]]\n",
      "232 [[(-22.90209, -43.29832), 524], [(-22.90242, -43.2994), 131], [(-22.90066, -43.29017), 35], [(-22.90884, -43.16948), 4]]\n",
      "415 [[(-22.94634, -43.25656), 544], [(-22.93062, -43.25477), 76], [(-22.98563, -43.22327), 55], [(-22.93002, -43.25386), 46]]\n",
      "2803 [[(-22.89432, -43.53186), 35], [(-22.85626, -43.49306), 20], [(-23.00764, -43.30397), 17], [(-22.89521, -43.53234), 10]]\n",
      "324 [[(-22.82562, -43.16931), 383], [(-22.81593, -43.18772), 89], [(-22.9024, -43.18169), 41], [(-22.81512, -43.18821), 23]]\n",
      "852 [[(-22.90144, -43.55466), 13], [(-22.89386, -43.53168), 5], [(-22.89497, -43.5318), 3], [(-22.90303, -43.55583), 2]]\n",
      "557 [[(-22.95079, -43.34811), 92], [(-22.96734, -43.33604), 68], [(-22.95176, -43.34834), 15], [(-22.95299, -43.34845), 6]]\n",
      "759 [[(-22.93545, -43.65658), 9], [(-22.93244, -43.65482), 1], [(-22.91256, -43.68666), 1], [(-22.83258, -43.34248), 1]]\n",
      "343 [[(-23.00542, -43.31261), 84], [(-22.95124, -43.34863), 39], [(-22.95209, -43.34794), 17], [(-22.95271, -43.34873), 9]]\n",
      "779 [[(-22.81776, -43.39308), 25], [(-22.80609, -43.36758), 19], [(-22.81643, -43.39433), 8], [(-22.87706, -43.33805), 5]]\n",
      "905 [[(-22.81754, -43.30186), 66], [(-22.82533, -43.33213), 23], [(-22.83832, -43.27514), 2], [(-22.82796, -43.32038), 1]]\n",
      "108 [[(-22.8994, -43.21169), 183], [(-22.87506, -43.24133), 114], [(-22.98161, -43.21335), 18], [(-22.8741, -43.24183), 17]]\n"
     ]
    }
   ],
   "source": [
    "for linha in linhas_de_interesse:\n",
    "    print(f\"{linha} {pontos_de_parada[linha][:4]}\")"
   ]
  },
  {
   "cell_type": "markdown",
   "metadata": {},
   "source": [
    "397\n",
    "388\n",
    "759\n",
    "138 \n",
    "tiveram resultados inconclusivos, adicionarei manualmente os pontos finais."
   ]
  },
  {
   "cell_type": "code",
   "execution_count": 89,
   "metadata": {},
   "outputs": [],
   "source": [
    "for linha in linhas_de_interesse:\n",
    "    pontos_de_parada_linha = pontos_de_parada[linha]\n",
    "    if len(pontos_de_parada[linha]) > 0:\n",
    "        if (pontos_de_parada_linha[1][1] - pontos_de_parada_linha[2][1]) < 0.2*pontos_de_parada_linha[2][1]:\n",
    "            d2 = geodesic(pontos_de_parada_linha[0][0], pontos_de_parada_linha[1][0]).meters\n",
    "            d3 = geodesic(pontos_de_parada_linha[0][0], pontos_de_parada_linha[2][0]).meters\n",
    "            if d2 > d3:\n",
    "                pontos_finais[linha] = [pontos_de_parada_linha[0][0], pontos_de_parada_linha[1][0]]\n",
    "            else:\n",
    "                pontos_finais[linha] = [pontos_de_parada_linha[0][0], pontos_de_parada_linha[2][0]]\n",
    "        else:\n",
    "            pontos_finais[linha] = [pontos_de_parada_linha[0][0], pontos_de_parada_linha[1][0]]"
   ]
  },
  {
   "cell_type": "code",
   "execution_count": 90,
   "metadata": {},
   "outputs": [
    {
     "name": "stdout",
     "output_type": "stream",
     "text": [
      "483 [(-22.80462, -43.3097), (-22.83695, -43.28397)]\n",
      "864 [(-22.89371, -43.53251), (-22.89434, -43.53179)]\n",
      "639 [(-22.81698, -43.30219), (-22.81109, -43.32993)]\n",
      "3 [(-22.88441, -43.49511), (-22.88326, -43.49577)]\n",
      "309 [(-22.87422, -43.24181), (-22.90459, -43.19256)]\n",
      "774 [(-22.81676, -43.3018), (-22.80744, -43.32766)]\n",
      "629 [(-22.81685, -43.30224), (-22.82503, -43.33258)]\n",
      "371 [(-22.90137, -43.34716), (-22.90853, -43.18917)]\n",
      "397 [(-22.90219, -43.55503), (-22.84356, -43.25076)]\n",
      "100 [(-22.90455, -43.19202), (-22.88857, -43.2932)]\n",
      "838 [(-22.89452, -43.53222), (-22.9029, -43.55572)]\n",
      "315 [(-22.87521, -43.24173), (-23.02203, -43.48246)]\n",
      "624 [(-22.82872, -43.41937), (-22.91151, -43.21217)]\n",
      "388 [(-22.93533, -43.65589), (-22.90076, -43.17704)]\n",
      "918 [(-22.8945, -43.49018), (-22.89338, -43.53211)]\n",
      "665 [(-22.80609, -43.36326), (-22.922, -43.23262)]\n",
      "328 [(-22.78881, -43.16222), (-22.81469, -43.18696)]\n",
      "497 [(-22.83643, -43.28357), (-22.80453, -43.30981)]\n",
      "878 [(-22.88036, -43.35735), (-22.91579, -43.36082)]\n",
      "355 [(-22.81692, -43.30223), (-22.86122, -43.3552)]\n",
      "606 [(-22.90205, -43.29852), (-22.90254, -43.29768)]\n",
      "457 [(-22.88593, -43.30039), (-22.8898, -43.29219)]\n",
      "550 [(-22.95161, -43.34833), (-22.94628, -43.36034)]\n",
      "803 [(-22.87906, -43.49152), (-22.87639, -43.41919)]\n",
      "917 [(-22.87811, -43.43034), (-22.86893, -43.25594)]\n",
      "638 [(-22.85365, -43.37595), (-22.86051, -43.35536)]\n",
      "2336 [(-22.90514, -43.1743), (-22.91726, -43.60768)]\n",
      "399 [(-22.80706, -43.36675), (-22.8173, -43.39352)]\n",
      "298 [(-22.83049, -43.35351), (-22.81744, -43.39374)]\n",
      "867 [(-22.89435, -43.53227), (-22.90305, -43.5556)]\n",
      "553 [(-23.02068, -43.48294), (-22.95469, -43.17858)]\n",
      "565 [(-22.95074, -43.34834), (-22.91591, -43.36121)]\n",
      "422 [(-22.88899, -43.29233), (-22.9114, -43.27244)]\n",
      "756 [(-22.91512, -43.68274), (-22.8759, -43.41995)]\n",
      "292 [(-22.86838, -43.29134), (-22.86544, -43.29942)]\n",
      "554 [(-23.02502, -43.52171), (-22.95176, -43.34858)]\n",
      "634 [(-22.78926, -43.16171), (-22.81433, -43.18747)]\n",
      "232 [(-22.90209, -43.29832), (-22.90242, -43.2994)]\n",
      "415 [(-22.94634, -43.25656), (-22.93062, -43.25477)]\n",
      "2803 [(-22.89432, -43.53186), (-23.00764, -43.30397)]\n",
      "324 [(-22.82562, -43.16931), (-22.81593, -43.18772)]\n",
      "852 [(-22.90144, -43.55466), (-22.89386, -43.53168)]\n",
      "557 [(-22.95079, -43.34811), (-22.96734, -43.33604)]\n",
      "759 [(-22.93545, -43.65658), (-22.91256, -43.68666)]\n",
      "343 [(-23.00542, -43.31261), (-22.95124, -43.34863)]\n",
      "779 [(-22.81776, -43.39308), (-22.80609, -43.36758)]\n",
      "905 [(-22.81754, -43.30186), (-22.82533, -43.33213)]\n",
      "108 [(-22.8994, -43.21169), (-22.87506, -43.24133)]\n"
     ]
    }
   ],
   "source": [
    "for linha in pontos_finais.keys():\n",
    "    print(f\"{linha} {pontos_finais[linha]}\")"
   ]
  },
  {
   "cell_type": "code",
   "execution_count": 91,
   "metadata": {},
   "outputs": [],
   "source": [
    "pontos_finais['397'] = [(-22.90202, -43.55532), (-22.90121, -43.17778)]\n",
    "pontos_finais['388'] = [(-22.93554, -43.65626), (-22.90121, -43.17778)]\n",
    "pontos_finais['759'] = [(-22.93554, -43.65626), (-22.83152, -43.34393)]"
   ]
  },
  {
   "cell_type": "code",
   "execution_count": 112,
   "metadata": {},
   "outputs": [],
   "source": []
  },
  {
   "cell_type": "code",
   "execution_count": null,
   "metadata": {},
   "outputs": [],
   "source": []
  },
  {
   "cell_type": "code",
   "execution_count": 138,
   "metadata": {},
   "outputs": [
    {
     "name": "stdout",
     "output_type": "stream",
     "text": [
      "Tabela de destino 'combined_table' criada com sucesso.\n",
      "Dados inseridos na tabela 'combined_table' a partir de 'dia_0105' com sucesso.\n",
      "Dados inseridos na tabela 'combined_table' a partir de 'dia_0205' com sucesso.\n",
      "Dados inseridos na tabela 'combined_table' a partir de 'dia_0305' com sucesso.\n",
      "Dados inseridos na tabela 'combined_table' a partir de 'dia_0405' com sucesso.\n",
      "Dados inseridos na tabela 'combined_table' a partir de 'dia_0505' com sucesso.\n",
      "Dados inseridos na tabela 'combined_table' a partir de 'dia_0605' com sucesso.\n",
      "Dados inseridos na tabela 'combined_table' a partir de 'dia_0705' com sucesso.\n",
      "Dados inseridos na tabela 'combined_table' a partir de 'dia_0805' com sucesso.\n",
      "Dados inseridos na tabela 'combined_table' a partir de 'dia_0905' com sucesso.\n",
      "Dados inseridos na tabela 'combined_table' a partir de 'dia_1005' com sucesso.\n",
      "Dados inseridos na tabela 'combined_table' a partir de 'dia_2504' com sucesso.\n",
      "Dados inseridos na tabela 'combined_table' a partir de 'dia_2604' com sucesso.\n",
      "Dados inseridos na tabela 'combined_table' a partir de 'dia_2704' com sucesso.\n",
      "Dados inseridos na tabela 'combined_table' a partir de 'dia_2804' com sucesso.\n",
      "Dados inseridos na tabela 'combined_table' a partir de 'dia_2904' com sucesso.\n",
      "Dados inseridos na tabela 'combined_table' a partir de 'dia_3004' com sucesso.\n"
     ]
    }
   ],
   "source": [
    "criar_tabela_destino(conn)\n",
    "for table in table_names:\n",
    "    inserir_dados(table, conn)"
   ]
  },
  {
   "cell_type": "code",
   "execution_count": 140,
   "metadata": {},
   "outputs": [],
   "source": [
    "query_garagem = \"\"\"\n",
    "WITH ordered_points AS (\n",
    "    SELECT\n",
    "        ordem,\n",
    "        linha,\n",
    "        geom,\n",
    "        TO_TIMESTAMP(datahora / 1000) AS datahora_ts,\n",
    "        LAG(TO_TIMESTAMP(datahora / 1000)) OVER (PARTITION BY ordem ORDER BY TO_TIMESTAMP(datahora / 1000)) AS prev_datahora_ts,\n",
    "        LAG(geom) OVER (PARTITION BY ordem ORDER BY TO_TIMESTAMP(datahora / 1000)) AS prev_geom,\n",
    "        ROW_NUMBER() OVER (PARTITION BY ordem ORDER BY TO_TIMESTAMP(datahora / 1000)) AS rn\n",
    "    FROM combined_table_all\n",
    "),\n",
    "same_position_periods AS (\n",
    "    SELECT\n",
    "        ordem,\n",
    "        linha,\n",
    "        geom,\n",
    "        datahora_ts,\n",
    "        prev_datahora_ts,\n",
    "        EXTRACT(EPOCH FROM (datahora_ts - prev_datahora_ts)) AS duration,\n",
    "        CASE \n",
    "            WHEN ST_DWithin(geom, prev_geom, 15) THEN 1\n",
    "            ELSE 0\n",
    "        END AS is_stationary,\n",
    "        ROW_NUMBER() OVER (PARTITION BY ordem ORDER BY datahora_ts) - \n",
    "        ROW_NUMBER() OVER (PARTITION BY ordem, CASE WHEN ST_DWithin(geom, prev_geom, 15) THEN 1 ELSE 0 END ORDER BY datahora_ts) AS grp\n",
    "    FROM ordered_points\n",
    "),\n",
    "stationary_groups AS (\n",
    "    SELECT\n",
    "        ordem,\n",
    "        linha,\n",
    "        geom,\n",
    "        datahora_ts,\n",
    "        prev_datahora_ts,\n",
    "        duration,\n",
    "        is_stationary,\n",
    "        grp\n",
    "    FROM same_position_periods\n",
    "    WHERE is_stationary = 1\n",
    ")\n",
    "SELECT\n",
    "    ordem,\n",
    "    linha,\n",
    "    MIN(prev_datahora_ts) AS start_time,\n",
    "    MAX(datahora_ts) AS end_time,\n",
    "    SUM(duration) AS total_duration,\n",
    "    ST_X(geom::geometry) AS longitude,\n",
    "    ST_Y(geom::geometry) AS latitude,\n",
    "    grp\n",
    "FROM stationary_groups\n",
    "WHERE EXTRACT(HOUR FROM datahora_ts) >= 22 OR EXTRACT(HOUR FROM datahora_ts) < 5\n",
    "GROUP BY ordem, linha, grp, geom\n",
    "HAVING SUM(duration) >= 10800; -- 10 minutes in seconds\n",
    "\"\"\""
   ]
  },
  {
   "cell_type": "code",
   "execution_count": 141,
   "metadata": {},
   "outputs": [
    {
     "name": "stderr",
     "output_type": "stream",
     "text": [
      "/tmp/ipykernel_7675/3362709450.py:1: UserWarning: pandas only supports SQLAlchemy connectable (engine/connection) or database string URI or sqlite3 DBAPI2 connection. Other DBAPI2 objects are not tested. Please consider using SQLAlchemy.\n",
      "  df_garagem = pd.read_sql(query_garagem, conn)\n"
     ]
    }
   ],
   "source": [
    "df_garagem = pd.read_sql(query_garagem, conn)"
   ]
  },
  {
   "cell_type": "code",
   "execution_count": 142,
   "metadata": {},
   "outputs": [],
   "source": [
    "df_garagem = df_garagem.drop_duplicates(subset=['grp'])"
   ]
  },
  {
   "cell_type": "code",
   "execution_count": 143,
   "metadata": {},
   "outputs": [],
   "source": [
    "pontos_de_parada = {}"
   ]
  },
  {
   "cell_type": "code",
   "execution_count": 144,
   "metadata": {},
   "outputs": [],
   "source": [
    "for linha in linhas_de_interesse:\n",
    "    pontos_de_parada[linha]=[]\n",
    "    for _, row in df_garagem.loc[df_garagem['linha'] == linha].iterrows():\n",
    "        lat, lon = row['latitude'], row['longitude']\n",
    "        ponto = (lat, lon)\n",
    "        encontrado = False\n",
    "        for pontos in pontos_de_parada[linha]:\n",
    "            if margem_erro(pontos[0], ponto, radius=300):\n",
    "                encontrado = True\n",
    "                pontos[1] += 1\n",
    "                break\n",
    "        if not encontrado:\n",
    "            pontos_de_parada[linha].append([ponto, 1])\n",
    "for linha in pontos_de_parada.keys():\n",
    "        pontos_de_parada[linha] = sorted(pontos_de_parada[linha], key=lambda x: x[1], reverse=True)"
   ]
  },
  {
   "cell_type": "code",
   "execution_count": 145,
   "metadata": {},
   "outputs": [
    {
     "name": "stdout",
     "output_type": "stream",
     "text": [
      "483 [[(-22.80418, -43.31023), 104]]\n",
      "864 [[(-22.89368, -43.53259), 109], [(-22.84149, -43.25392), 2]]\n",
      "639 [[(-22.81763, -43.30176), 257]]\n",
      "3 [[(-22.88342, -43.49536), 221], [(-22.93548, -43.6565), 1]]\n",
      "309 [[(-22.87509, -43.24074), 333]]\n",
      "774 [[(-22.81756, -43.3016), 104], [(-22.84353, -43.24857), 1]]\n",
      "629 [[(-22.81775, -43.30167), 213], [(-22.84388, -43.24839), 1], [(-22.75517, -43.2938), 1]]\n",
      "371 [[(-22.87744, -43.36824), 24]]\n",
      "397 []\n",
      "100 [[(-22.88907, -43.29319), 231], [(-22.8745, -43.24212), 68], [(-22.84134, -43.25389), 4]]\n",
      "838 [[(-22.89399, -43.5327), 47]]\n",
      "315 [[(-22.87549, -43.24131), 110], [(-22.95217, -43.34944), 23], [(-22.81696, -43.30177), 8], [(-22.86062, -43.35616), 2]]\n",
      "624 [[(-22.87622, -43.36805), 21]]\n",
      "388 [[(-22.90154, -43.18066), 1], [(-22.93159, -43.6558), 1]]\n",
      "918 [[(-22.89523, -43.53366), 52], [(-22.84269, -43.25409), 1]]\n",
      "665 [[(-22.85928, -43.37079), 74], [(-22.8164, -43.39433), 45], [(-22.79242, -43.29449), 41], [(-22.81425, -43.38256), 8], [(-22.80611, -43.3633), 1], [(-22.84344, -43.24859), 1]]\n",
      "328 [[(-22.81515, -43.18753), 112]]\n",
      "497 [[(-22.80449, -43.30967), 59]]\n",
      "878 [[(-22.88064, -43.35695), 72], [(-22.87594, -43.41995), 1]]\n",
      "355 [[(-22.81683, -43.3015), 61], [(-22.86056, -43.35523), 29], [(-22.84366, -43.24862), 1]]\n",
      "138 []\n",
      "606 [[(-22.90259, -43.29907), 3]]\n",
      "457 [[(-22.88888, -43.29289), 123], [(-22.86871, -43.29263), 36], [(-22.81585, -43.39481), 17]]\n",
      "550 [[(-22.94975, -43.3482), 222], [(-22.95247, -43.34809), 1]]\n",
      "803 [[(-22.87612, -43.41912), 35], [(-22.88062, -43.35717), 3], [(-22.93558, -43.37196), 1]]\n",
      "917 [[(-22.87654, -43.36839), 26]]\n",
      "638 [[(-22.86042, -43.356), 142]]\n",
      "2336 [[(-22.91719, -43.6077), 62], [(-22.90241, -43.56149), 1], [(-22.89179, -43.21609), 1]]\n",
      "399 [[(-22.81743, -43.39355), 78], [(-22.81438, -43.38252), 18]]\n",
      "298 [[(-22.8162, -43.39447), 109], [(-22.81503, -43.38207), 2], [(-22.90555, -43.1735), 1]]\n",
      "867 [[(-22.89435, -43.53227), 25]]\n",
      "553 [[(-22.95321, -43.34991), 63], [(-22.87537, -43.24154), 1]]\n",
      "565 [[(-22.95077, -43.34814), 132], [(-22.8807, -43.358), 1]]\n",
      "422 [[(-22.88955, -43.29165), 218]]\n",
      "756 [[(-22.87659, -43.41991), 19], [(-22.87928, -43.35704), 1]]\n",
      "186012003 []\n",
      "292 [[(-22.86867, -43.29274), 100], [(-22.81799, -43.39303), 37], [(-22.81672, -43.30158), 33], [(-22.81458, -43.38233), 6]]\n",
      "554 [[(-22.95263, -43.34921), 46]]\n",
      "634 [[(-22.81524, -43.18743), 88]]\n",
      "232 [[(-22.90244, -43.29907), 1]]\n",
      "415 [[(-22.92992, -43.2537), 220], [(-22.84267, -43.25432), 1]]\n",
      "2803 [[(-22.89372, -43.53196), 67]]\n",
      "324 [[(-22.81515, -43.18877), 112]]\n",
      "852 [[(-22.89508, -43.53227), 24]]\n",
      "557 [[(-22.94995, -43.34814), 96], [(-22.95283, -43.34921), 1]]\n",
      "759 []\n",
      "343 [[(-22.95138, -43.34891), 75]]\n",
      "779 [[(-22.81658, -43.39421), 72], [(-22.81454, -43.38231), 14]]\n",
      "905 [[(-22.81685, -43.30169), 105]]\n",
      "108 [[(-22.87523, -43.24119), 119]]\n"
     ]
    }
   ],
   "source": [
    "for linha in pontos_de_parada.keys():\n",
    "    print(f\"{linha} {pontos_de_parada[linha]}\")"
   ]
  },
  {
   "cell_type": "markdown",
   "metadata": {},
   "source": [
    "759, 388 não apresentaram resultados conclusivos"
   ]
  },
  {
   "cell_type": "code",
   "execution_count": 146,
   "metadata": {},
   "outputs": [],
   "source": [
    "pontos_garagem = {}"
   ]
  },
  {
   "cell_type": "code",
   "execution_count": 147,
   "metadata": {},
   "outputs": [],
   "source": [
    "for linha in linhas_de_interesse:\n",
    "    pontos_de_garagem_linha = pontos_de_parada[linha]\n",
    "    if len(pontos_de_parada[linha]) > 0:\n",
    "        pontos_garagem[linha] = pontos_de_garagem_linha[0][0]"
   ]
  },
  {
   "cell_type": "code",
   "execution_count": 149,
   "metadata": {},
   "outputs": [
    {
     "name": "stdout",
     "output_type": "stream",
     "text": [
      "483 (-22.80418, -43.31023)\n",
      "864 (-22.89368, -43.53259)\n",
      "639 (-22.81763, -43.30176)\n",
      "3 (-22.88342, -43.49536)\n",
      "309 (-22.87509, -43.24074)\n",
      "774 (-22.81756, -43.3016)\n",
      "629 (-22.81775, -43.30167)\n",
      "371 (-22.87744, -43.36824)\n",
      "100 (-22.88907, -43.29319)\n",
      "838 (-22.89399, -43.5327)\n",
      "315 (-22.87549, -43.24131)\n",
      "624 (-22.87622, -43.36805)\n",
      "388 (-22.90154, -43.18066)\n",
      "918 (-22.89523, -43.53366)\n",
      "665 (-22.85928, -43.37079)\n",
      "328 (-22.81515, -43.18753)\n",
      "497 (-22.80449, -43.30967)\n",
      "878 (-22.88064, -43.35695)\n",
      "355 (-22.81683, -43.3015)\n",
      "606 (-22.90259, -43.29907)\n",
      "457 (-22.88888, -43.29289)\n",
      "550 (-22.94975, -43.3482)\n",
      "803 (-22.87612, -43.41912)\n",
      "917 (-22.87654, -43.36839)\n",
      "638 (-22.86042, -43.356)\n",
      "2336 (-22.91719, -43.6077)\n",
      "399 (-22.81743, -43.39355)\n",
      "298 (-22.8162, -43.39447)\n",
      "867 (-22.89435, -43.53227)\n",
      "553 (-22.95321, -43.34991)\n",
      "565 (-22.95077, -43.34814)\n",
      "422 (-22.88955, -43.29165)\n",
      "756 (-22.87659, -43.41991)\n",
      "292 (-22.86867, -43.29274)\n",
      "554 (-22.95263, -43.34921)\n",
      "634 (-22.81524, -43.18743)\n",
      "232 (-22.90244, -43.29907)\n",
      "415 (-22.92992, -43.2537)\n",
      "2803 (-22.89372, -43.53196)\n",
      "324 (-22.81515, -43.18877)\n",
      "852 (-22.89508, -43.53227)\n",
      "557 (-22.94995, -43.34814)\n",
      "343 (-22.95138, -43.34891)\n",
      "779 (-22.81658, -43.39421)\n",
      "905 (-22.81685, -43.30169)\n",
      "108 (-22.87523, -43.24119)\n"
     ]
    }
   ],
   "source": [
    "for linha in pontos_garagem.keys():\n",
    "    print(f\"{linha} {pontos_garagem[linha]}\")"
   ]
  },
  {
   "cell_type": "code",
   "execution_count": 151,
   "metadata": {},
   "outputs": [],
   "source": [
    "query_garagem = \"\"\"\n",
    "WITH ordered_points AS (\n",
    "    SELECT\n",
    "        ordem,\n",
    "        linha,\n",
    "        geom,\n",
    "        TO_TIMESTAMP(datahora / 1000) AS datahora_ts,\n",
    "        LAG(TO_TIMESTAMP(datahora / 1000)) OVER (PARTITION BY ordem ORDER BY TO_TIMESTAMP(datahora / 1000)) AS prev_datahora_ts,\n",
    "        LAG(geom) OVER (PARTITION BY ordem ORDER BY TO_TIMESTAMP(datahora / 1000)) AS prev_geom,\n",
    "        ROW_NUMBER() OVER (PARTITION BY ordem ORDER BY TO_TIMESTAMP(datahora / 1000)) AS rn\n",
    "    FROM combined_table\n",
    "),\n",
    "same_position_periods AS (\n",
    "    SELECT\n",
    "        ordem,\n",
    "        linha,\n",
    "        geom,\n",
    "        datahora_ts,\n",
    "        prev_datahora_ts,\n",
    "        EXTRACT(EPOCH FROM (datahora_ts - prev_datahora_ts)) AS duration,\n",
    "        CASE \n",
    "            WHEN ST_DWithin(geom, prev_geom, 15) THEN 1\n",
    "            ELSE 0\n",
    "        END AS is_stationary,\n",
    "        ROW_NUMBER() OVER (PARTITION BY ordem ORDER BY datahora_ts) - \n",
    "        ROW_NUMBER() OVER (PARTITION BY ordem, CASE WHEN ST_DWithin(geom, prev_geom, 15) THEN 1 ELSE 0 END ORDER BY datahora_ts) AS grp\n",
    "    FROM ordered_points\n",
    "),\n",
    "stationary_groups AS (\n",
    "    SELECT\n",
    "        ordem,\n",
    "        linha,\n",
    "        geom,\n",
    "        datahora_ts,\n",
    "        prev_datahora_ts,\n",
    "        duration,\n",
    "        is_stationary,\n",
    "        grp\n",
    "    FROM same_position_periods\n",
    "    WHERE is_stationary = 1\n",
    ")\n",
    "SELECT\n",
    "    ordem,\n",
    "    linha,\n",
    "    MIN(prev_datahora_ts) AS start_time,\n",
    "    MAX(datahora_ts) AS end_time,\n",
    "    SUM(duration) AS total_duration,\n",
    "    ST_X(geom::geometry) AS longitude,\n",
    "    ST_Y(geom::geometry) AS latitude,\n",
    "    grp\n",
    "FROM stationary_groups\n",
    "GROUP BY ordem, linha, grp, geom\n",
    "HAVING SUM(duration) >= 10800; -- 10 minutes in seconds\n",
    "\"\"\""
   ]
  },
  {
   "cell_type": "code",
   "execution_count": 152,
   "metadata": {},
   "outputs": [
    {
     "name": "stderr",
     "output_type": "stream",
     "text": [
      "/tmp/ipykernel_7675/1241853423.py:1: UserWarning: pandas only supports SQLAlchemy connectable (engine/connection) or database string URI or sqlite3 DBAPI2 connection. Other DBAPI2 objects are not tested. Please consider using SQLAlchemy.\n",
      "  df_garagem = pd.read_sql(query_garagem, conn)\n"
     ]
    }
   ],
   "source": [
    "df_garagem = pd.read_sql(query_garagem, conn)\n",
    "df_garagem = df_garagem.drop_duplicates(subset=['grp'])"
   ]
  },
  {
   "cell_type": "code",
   "execution_count": 153,
   "metadata": {},
   "outputs": [],
   "source": [
    "pontos_de_parada = {}"
   ]
  },
  {
   "cell_type": "code",
   "execution_count": 154,
   "metadata": {},
   "outputs": [],
   "source": [
    "for linha in linhas_de_interesse:\n",
    "    pontos_de_parada[linha]=[]\n",
    "    for _, row in df_garagem.loc[df_garagem['linha'] == linha].iterrows():\n",
    "        lat, lon = row['latitude'], row['longitude']\n",
    "        ponto = (lat, lon)\n",
    "        encontrado = False\n",
    "        for pontos in pontos_de_parada[linha]:\n",
    "            if margem_erro(pontos[0], ponto, radius=300):\n",
    "                encontrado = True\n",
    "                pontos[1] += 1\n",
    "                break\n",
    "        if not encontrado:\n",
    "            pontos_de_parada[linha].append([ponto, 1])\n",
    "for linha in pontos_de_parada.keys():\n",
    "        pontos_de_parada[linha] = sorted(pontos_de_parada[linha], key=lambda x: x[1], reverse=True)"
   ]
  },
  {
   "cell_type": "code",
   "execution_count": 155,
   "metadata": {},
   "outputs": [
    {
     "name": "stdout",
     "output_type": "stream",
     "text": [
      "483 [[(-22.80451, -43.30962), 106], [(-22.98569, -43.19711), 21], [(-22.8366, -43.28367), 2], [(-22.87811, -43.24129), 1]]\n",
      "864 [[(-22.89444, -43.5319), 20], [(-22.90166, -43.55583), 4], [(-22.87556, -43.46373), 1]]\n",
      "639 [[(-22.81695, -43.30219), 138], [(-22.92337, -43.23484), 1]]\n",
      "3 [[(-22.88376, -43.49459), 216], [(-22.90203, -43.55459), 1]]\n",
      "309 [[(-22.87528, -43.24152), 147], [(-22.9056, -43.19701), 7], [(-22.90469, -43.19267), 2], [(-23.00173, -43.3653), 1], [(-23.01087, -43.36702), 1]]\n",
      "774 [[(-22.81675, -43.30168), 12], [(-22.84367, -43.2487), 2], [(-22.80716, -43.32727), 1]]\n",
      "629 [[(-22.81684, -43.30185), 45], [(-22.84377, -43.2544), 2], [(-22.75474, -43.29387), 2], [(-22.84383, -43.24844), 1]]\n",
      "371 [[(-22.87688, -43.36804), 1]]\n",
      "397 [[(-22.9021, -43.55465), 27], [(-22.88383, -43.49508), 1]]\n",
      "100 [[(-22.88891, -43.29319), 118], [(-22.87486, -43.24226), 47], [(-22.84134, -43.25389), 8], [(-22.90499, -43.192), 1], [(-22.90433, -43.1779), 1]]\n",
      "838 [[(-22.89528, -43.53214), 19], [(-22.90158, -43.55543), 2], [(-22.9211, -43.56332), 1]]\n",
      "315 [[(-22.87554, -43.24181), 71], [(-22.95288, -43.34913), 9], [(-23.02051, -43.48301), 6], [(-22.86046, -43.35537), 3], [(-22.75409, -43.29446), 2], [(-23.02462, -43.45737), 1], [(-22.90538, -43.1921), 1]]\n",
      "624 [[(-22.82876, -43.41932), 2]]\n",
      "388 [[(-22.93543, -43.65633), 19], [(-22.91297, -43.59519), 1], [(-22.9318, -43.65703), 1]]\n",
      "918 [[(-22.89456, -43.53267), 65], [(-22.89486, -43.49073), 1], [(-22.84266, -43.25397), 1]]\n",
      "665 [[(-22.79258, -43.29445), 36], [(-22.8164, -43.39433), 34], [(-22.85956, -43.3709), 29], [(-22.80617, -43.36376), 18], [(-22.86738, -43.25876), 2], [(-22.87395, -43.44863), 1], [(-22.81464, -43.38227), 1], [(-22.80634, -43.36772), 1], [(-22.84652, -43.2476), 1], [(-22.91639, -43.22791), 1]]\n",
      "328 [[(-22.8156, -43.18745), 59], [(-22.89975, -43.19008), 24], [(-22.78924, -43.16156), 8]]\n",
      "497 [[(-22.80424, -43.30948), 70], [(-22.73669, -43.57557), 1], [(-22.83638, -43.28345), 1]]\n",
      "878 [[(-22.88064, -43.35708), 67], [(-22.91562, -43.36121), 23], [(-22.87635, -43.41966), 3]]\n",
      "355 [[(-22.8172, -43.30222), 45], [(-22.86099, -43.35626), 25], [(-22.86992, -43.34137), 5], [(-22.75513, -43.29383), 3], [(-22.90736, -43.18295), 1], [(-22.83005, -43.27097), 1], [(-22.84366, -43.24862), 1], [(-22.90953, -43.22449), 1]]\n",
      "138 []\n",
      "606 [[(-22.9021, -43.29845), 49], [(-22.89588, -43.29417), 26]]\n",
      "457 [[(-22.88961, -43.29168), 67], [(-22.86801, -43.29163), 24], [(-22.81625, -43.39456), 19], [(-22.84289, -43.25431), 1]]\n",
      "550 [[(-22.94988, -43.34812), 228], [(-22.97911, -43.22276), 69], [(-22.94621, -43.36053), 67]]\n",
      "803 [[(-22.87557, -43.4189), 50], [(-22.87895, -43.49156), 10], [(-22.8798, -43.35717), 4]]\n",
      "917 [[(-22.87797, -43.43034), 1]]\n",
      "638 [[(-22.86037, -43.35551), 90], [(-22.85355, -43.37572), 3], [(-22.8577, -43.3765), 1], [(-22.88847, -43.29788), 1]]\n",
      "2336 [[(-22.91673, -43.60769), 154], [(-22.90241, -43.56149), 15], [(-22.89173, -43.21611), 15], [(-22.90176, -43.55854), 3], [(-22.85282, -43.39372), 1], [(-22.83436, -43.26228), 1], [(-22.90581, -43.17359), 1]]\n",
      "399 [[(-22.81649, -43.39431), 78], [(-22.81438, -43.38252), 10], [(-22.80673, -43.36641), 4]]\n",
      "298 [[(-22.81634, -43.39437), 79], [(-22.83057, -43.35347), 2]]\n",
      "867 [[(-22.89456, -43.5336), 15], [(-22.90305, -43.55574), 5], [(-23.06664, -43.56798), 1]]\n",
      "553 [[(-22.95244, -43.34904), 44], [(-23.02072, -43.48288), 6], [(-22.87447, -43.24213), 2], [(-22.98615, -43.21032), 1]]\n",
      "565 [[(-22.95058, -43.3483), 64], [(-22.94637, -43.36047), 3], [(-22.88033, -43.35837), 1], [(-22.91607, -43.36144), 1]]\n",
      "422 [[(-22.88904, -43.29224), 81]]\n",
      "756 [[(-22.87589, -43.41995), 33], [(-22.91511, -43.6827), 3], [(-22.87934, -43.3571), 2]]\n",
      "186012003 []\n",
      "292 [[(-22.81623, -43.39468), 38], [(-22.86834, -43.2917), 36], [(-22.81772, -43.30192), 5], [(-22.81428, -43.3825), 3], [(-22.90914, -43.17139), 1]]\n",
      "554 [[(-22.95263, -43.34921), 42], [(-23.02475, -43.52145), 2], [(-22.95436, -43.17868), 1]]\n",
      "634 [[(-22.81515, -43.18753), 35], [(-22.78928, -43.16171), 6], [(-22.92682, -43.23397), 1]]\n",
      "232 [[(-22.90237, -43.29953), 68]]\n",
      "415 [[(-22.92974, -43.25414), 108], [(-22.94635, -43.25657), 3], [(-22.84267, -43.25432), 2]]\n",
      "2803 [[(-22.89469, -43.533), 63]]\n",
      "324 [[(-22.81571, -43.18823), 10], [(-22.8254, -43.1693), 3]]\n",
      "852 [[(-22.89539, -43.53353), 22], [(-22.90141, -43.55467), 1]]\n",
      "557 [[(-22.95031, -43.34805), 62], [(-22.95283, -43.34921), 2]]\n",
      "759 [[(-22.93569, -43.65591), 5], [(-22.86002, -43.45746), 1], [(-22.83436, -43.34115), 1]]\n",
      "343 [[(-22.95138, -43.34891), 59], [(-23.00601, -43.3122), 1]]\n",
      "779 [[(-22.81614, -43.39464), 55], [(-22.81516, -43.38228), 12], [(-22.80607, -43.36747), 3], [(-22.87685, -43.33793), 1]]\n",
      "905 [[(-22.81775, -43.30174), 45], [(-22.82533, -43.33214), 1], [(-22.82637, -43.31596), 1]]\n",
      "108 [[(-22.87471, -43.24144), 38]]\n"
     ]
    }
   ],
   "source": [
    "for linha in pontos_de_parada.keys():\n",
    "    print(f\"{linha} {pontos_de_parada[linha]}\")"
   ]
  },
  {
   "cell_type": "code",
   "execution_count": 157,
   "metadata": {},
   "outputs": [],
   "source": [
    "pontos_garagem['759'] = (-22.93569, -43.65591)\n",
    "pontos_garagem['388'] = (-22.93543, -43.65633)"
   ]
  },
  {
   "cell_type": "code",
   "execution_count": 158,
   "metadata": {},
   "outputs": [],
   "source": [
    "arquivo = 'dicionarios.txt'\n",
    "with open(arquivo, 'w') as f:\n",
    "    json.dump({'dicionario1': pontos_finais, 'dicionario2': pontos_garagem}, f, indent=4)"
   ]
  },
  {
   "cell_type": "code",
   "execution_count": null,
   "metadata": {},
   "outputs": [],
   "source": [
    "with open(arquivo, 'r') as f:\n",
    "    dados = json.load(f)"
   ]
  },
  {
   "cell_type": "code",
   "execution_count": null,
   "metadata": {},
   "outputs": [],
   "source": [
    "pontos_finais = dados['dicionario1']\n",
    "pontos_garagem = dados['dicionario2']"
   ]
  },
  {
   "cell_type": "code",
   "execution_count": 156,
   "metadata": {},
   "outputs": [],
   "source": [
    "conn.commit()\n",
    "#conn.close()"
   ]
  }
 ],
 "metadata": {
  "kernelspec": {
   "display_name": "base",
   "language": "python",
   "name": "python3"
  },
  "language_info": {
   "codemirror_mode": {
    "name": "ipython",
    "version": 3
   },
   "file_extension": ".py",
   "mimetype": "text/x-python",
   "name": "python",
   "nbconvert_exporter": "python",
   "pygments_lexer": "ipython3",
   "version": "3.11.7"
  }
 },
 "nbformat": 4,
 "nbformat_minor": 2
}
