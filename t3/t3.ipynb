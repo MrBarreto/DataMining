{
 "cells": [
  {
   "cell_type": "code",
   "execution_count": 1,
   "metadata": {},
   "outputs": [],
   "source": [
    "import psycopg2\n",
    "from config import load_config\n",
    "import pandas as pd\n",
    "import folium\n",
    "import os\n",
    "from sklearn.cluster import DBSCAN\n",
    "from geopy.distance import geodesic\n",
    "import numpy as np"
   ]
  },
  {
   "cell_type": "code",
   "execution_count": 19,
   "metadata": {},
   "outputs": [],
   "source": [
    "def capturar_data_mapa(conn, table_name, linha):\n",
    "    cur = conn.cursor()\n",
    "    all_data = [] \n",
    "    try:\n",
    "        fetch_query = f'''\n",
    "        SELECT latitude::double precision, longitude::double precision\n",
    "        FROM {table_name}\n",
    "        WHERE linha='{linha}'\n",
    "        '''\n",
    "        cur.execute(fetch_query)\n",
    "        rows = cur.fetchall()\n",
    "        all_data.extend(rows)\n",
    "    except Exception as e:\n",
    "            print(f\"Erro ao executar a query na tabela {table_name}: {e}\")\n",
    "            conn.rollback()\n",
    "    else:\n",
    "         conn.commit()\n",
    "    cur.close()\n",
    "    return all_data"
   ]
  },
  {
   "cell_type": "code",
   "execution_count": 20,
   "metadata": {},
   "outputs": [],
   "source": [
    "def limpar_dados_tabela(table_name, conn):\n",
    "    cur = conn.cursor()\n",
    "    cur.execute(f\"\"\"\n",
    "        ALTER TABLE {table_name} ADD COLUMN IF NOT EXISTS hour INTEGER;\n",
    "        UPDATE {table_name} SET hour = EXTRACT(HOUR FROM TO_TIMESTAMP(datahora / 1000));\n",
    "        \n",
    "        CREATE TABLE {table_name}_filter AS\n",
    "        SELECT *\n",
    "        FROM {table_name}\n",
    "        WHERE hour BETWEEN 8 AND 22;\n",
    "        \n",
    "        ALTER TABLE {table_name} DROP COLUMN hour;\n",
    "        ALTER TABLE {table_name}_filter DROP COLUMN hour;\n",
    "    \"\"\")\n",
    "    cur.close()\n",
    "    conn.commit()"
   ]
  },
  {
   "cell_type": "code",
   "execution_count": 21,
   "metadata": {},
   "outputs": [],
   "source": [
    "def adicionar_geom(table_name, conn):\n",
    "    cur = conn.cursor()\n",
    "    try:\n",
    "        cur.execute(f\"\"\"\n",
    "            ALTER TABLE {table_name}_filter ADD COLUMN IF NOT EXISTS geom geography(Point, 4326);\n",
    "        \"\"\")\n",
    "        cur.execute(f\"\"\"\n",
    "            UPDATE {table_name}_filter SET geom = ST_SetSRID(ST_MakePoint(longitude::double precision, latitude::double precision), 4326);\n",
    "        \"\"\")\n",
    "        print(f\"Coluna geom criada e preenchida na tabela {table_name}_filter.\")\n",
    "    except Exception as e:\n",
    "        print(f\"Erro ao atualizar a tabela {table_name}_filter: {e}\")\n",
    "        conn.rollback()\n",
    "    else:\n",
    "         conn.commit()\n",
    "    cur.close()"
   ]
  },
  {
   "cell_type": "code",
   "execution_count": 22,
   "metadata": {},
   "outputs": [],
   "source": [
    "def filtra_linhas(table_name, linhas_de_interesse, conn):\n",
    "    cur = conn.cursor()\n",
    "    temp_table_name = table_name + '_temp'\n",
    "    linhas_str = ', '.join([f\"'{linha}'\" for linha in linhas_de_interesse])\n",
    "    try:\n",
    "        # Criar tabela temporária filtrada\n",
    "        cur.execute(f\"\"\"\n",
    "            CREATE TEMP TABLE {temp_table_name} AS\n",
    "            SELECT *\n",
    "            FROM {table_name}_filter\n",
    "            WHERE linha IN ({linhas_str});\n",
    "        \"\"\")\n",
    "        print(f\"Tabela temporária {temp_table_name} criada com sucesso.\")\n",
    "        conn.commit()\n",
    "    except Exception as e:\n",
    "        print(f\"Erro ao criar a tabela temporária {temp_table_name}: {e}\")\n",
    "        conn.rollback()\n",
    "    cur.close()"
   ]
  },
  {
   "cell_type": "code",
   "execution_count": 23,
   "metadata": {},
   "outputs": [],
   "source": [
    "def sobrescreve_tabelas(table_name, conn):\n",
    "    cur = conn.cursor()\n",
    "    temp_table_name = table_name + '_temp'\n",
    "    try:\n",
    "        # Excluir a tabela original\n",
    "        cur.execute(f\"DROP TABLE {table_name}_filter;\")\n",
    "        # Renomear a tabela temporária para o nome original\n",
    "        cur.execute(f\"ALTER TABLE {temp_table_name} RENAME TO {table_name}_filter;\")\n",
    "        print(f\"Tabela {table_name}_filter sobrescrita com sucesso.\")\n",
    "        conn.commit()\n",
    "    except Exception as e:\n",
    "        print(f\"Erro ao sobrescrever a tabela {table_name}: {e}\")\n",
    "        conn.rollback()\n",
    "    cur.close()"
   ]
  },
  {
   "cell_type": "code",
   "execution_count": 93,
   "metadata": {},
   "outputs": [],
   "source": [
    "def margem_erro(coord1, coord2, radius=100):\n",
    "    return geodesic(coord1, coord2).meters <= radius"
   ]
  },
  {
   "cell_type": "code",
   "execution_count": 24,
   "metadata": {},
   "outputs": [],
   "source": [
    "def connect(config):\n",
    "    \"\"\" Connect to the PostgreSQL database server \"\"\"\n",
    "    try:\n",
    "        # connecting to the PostgreSQL server\n",
    "        with psycopg2.connect(**config) as conn:\n",
    "            print('Connected to the PostgreSQL server.')\n",
    "            return conn\n",
    "    except (psycopg2.DatabaseError, Exception) as error:\n",
    "        print(error)\n"
   ]
  },
  {
   "cell_type": "code",
   "execution_count": 25,
   "metadata": {},
   "outputs": [
    {
     "name": "stdout",
     "output_type": "stream",
     "text": [
      "Connected to the PostgreSQL server.\n"
     ]
    }
   ],
   "source": [
    "config = load_config()\n",
    "conn = connect(config)"
   ]
  },
  {
   "cell_type": "code",
   "execution_count": 28,
   "metadata": {},
   "outputs": [],
   "source": [
    "linhas_de_interesse = ['483', '864', '639', '3', '309', '774', '629', '371', '397', '100', '838', '315', '624', '388', '918', '665', '328', '497', '878', '355', '138', '606', '457', '550', '803', '917', '638', '2336', '399', '298', '867', '553', '565', '422', '756', '186012003', '292', '554', '634', '232', '415', '2803', '324', '852', '557', '759', '343', '779', '905', '108']"
   ]
  },
  {
   "cell_type": "code",
   "execution_count": 29,
   "metadata": {},
   "outputs": [],
   "source": [
    "table_names = ['dia_0105', 'dia_0205', 'dia_0305', 'dia_0405', 'dia_0505', 'dia_0605', 'dia_0705', 'dia_0805', 'dia_0905', 'dia_1005', 'dia_2504', 'dia_2604', 'dia_2704', 'dia_2804', 'dia_2904', 'dia_3004']"
   ]
  },
  {
   "cell_type": "code",
   "execution_count": 30,
   "metadata": {},
   "outputs": [],
   "source": [
    "for table in table_names:\n",
    "    limpar_dados_tabela(table, conn)"
   ]
  },
  {
   "cell_type": "code",
   "execution_count": 32,
   "metadata": {},
   "outputs": [
    {
     "name": "stdout",
     "output_type": "stream",
     "text": [
      "Coluna geom criada e preenchida na tabela dia_0105_filter.\n",
      "Coluna geom criada e preenchida na tabela dia_0205_filter.\n",
      "Coluna geom criada e preenchida na tabela dia_0305_filter.\n",
      "Coluna geom criada e preenchida na tabela dia_0405_filter.\n",
      "Coluna geom criada e preenchida na tabela dia_0505_filter.\n",
      "Coluna geom criada e preenchida na tabela dia_0605_filter.\n",
      "Coluna geom criada e preenchida na tabela dia_0705_filter.\n",
      "Coluna geom criada e preenchida na tabela dia_0805_filter.\n",
      "Coluna geom criada e preenchida na tabela dia_0905_filter.\n",
      "Coluna geom criada e preenchida na tabela dia_1005_filter.\n",
      "Coluna geom criada e preenchida na tabela dia_2504_filter.\n",
      "Coluna geom criada e preenchida na tabela dia_2604_filter.\n",
      "Coluna geom criada e preenchida na tabela dia_2704_filter.\n",
      "Coluna geom criada e preenchida na tabela dia_2804_filter.\n",
      "Coluna geom criada e preenchida na tabela dia_2904_filter.\n",
      "Coluna geom criada e preenchida na tabela dia_3004_filter.\n"
     ]
    }
   ],
   "source": [
    "for table in table_names:\n",
    "    adicionar_geom(table, conn)"
   ]
  },
  {
   "cell_type": "code",
   "execution_count": 33,
   "metadata": {},
   "outputs": [
    {
     "name": "stdout",
     "output_type": "stream",
     "text": [
      "Tabela temporária dia_0105_temp criada com sucesso.\n",
      "Tabela dia_0105_filter sobrescrita com sucesso.\n",
      "Tabela temporária dia_0205_temp criada com sucesso.\n",
      "Tabela dia_0205_filter sobrescrita com sucesso.\n",
      "Tabela temporária dia_0305_temp criada com sucesso.\n",
      "Tabela dia_0305_filter sobrescrita com sucesso.\n",
      "Tabela temporária dia_0405_temp criada com sucesso.\n",
      "Tabela dia_0405_filter sobrescrita com sucesso.\n",
      "Tabela temporária dia_0505_temp criada com sucesso.\n",
      "Tabela dia_0505_filter sobrescrita com sucesso.\n",
      "Tabela temporária dia_0605_temp criada com sucesso.\n",
      "Tabela dia_0605_filter sobrescrita com sucesso.\n",
      "Tabela temporária dia_0705_temp criada com sucesso.\n",
      "Tabela dia_0705_filter sobrescrita com sucesso.\n",
      "Tabela temporária dia_0805_temp criada com sucesso.\n",
      "Tabela dia_0805_filter sobrescrita com sucesso.\n",
      "Tabela temporária dia_0905_temp criada com sucesso.\n",
      "Tabela dia_0905_filter sobrescrita com sucesso.\n",
      "Tabela temporária dia_1005_temp criada com sucesso.\n",
      "Tabela dia_1005_filter sobrescrita com sucesso.\n",
      "Tabela temporária dia_2504_temp criada com sucesso.\n",
      "Tabela dia_2504_filter sobrescrita com sucesso.\n",
      "Tabela temporária dia_2604_temp criada com sucesso.\n",
      "Tabela dia_2604_filter sobrescrita com sucesso.\n",
      "Tabela temporária dia_2704_temp criada com sucesso.\n",
      "Tabela dia_2704_filter sobrescrita com sucesso.\n",
      "Tabela temporária dia_2804_temp criada com sucesso.\n",
      "Tabela dia_2804_filter sobrescrita com sucesso.\n",
      "Tabela temporária dia_2904_temp criada com sucesso.\n",
      "Tabela dia_2904_filter sobrescrita com sucesso.\n",
      "Tabela temporária dia_3004_temp criada com sucesso.\n",
      "Tabela dia_3004_filter sobrescrita com sucesso.\n"
     ]
    }
   ],
   "source": [
    "for table in table_names:\n",
    "    filtra_linhas(table, linhas_de_interesse, conn)\n",
    "    sobrescreve_tabelas(table, conn)"
   ]
  },
  {
   "cell_type": "code",
   "execution_count": 39,
   "metadata": {},
   "outputs": [
    {
     "name": "stdout",
     "output_type": "stream",
     "text": [
      "Mapa salvo em trajetos/output_map_483.html\n",
      "Mapa salvo em trajetos/output_map_864.html\n",
      "Mapa salvo em trajetos/output_map_639.html\n",
      "Mapa salvo em trajetos/output_map_3.html\n",
      "Mapa salvo em trajetos/output_map_309.html\n",
      "Mapa salvo em trajetos/output_map_774.html\n",
      "Mapa salvo em trajetos/output_map_629.html\n",
      "Mapa salvo em trajetos/output_map_371.html\n",
      "Mapa salvo em trajetos/output_map_397.html\n",
      "Mapa salvo em trajetos/output_map_100.html\n",
      "Mapa salvo em trajetos/output_map_838.html\n",
      "Mapa salvo em trajetos/output_map_315.html\n",
      "Mapa salvo em trajetos/output_map_624.html\n",
      "Mapa salvo em trajetos/output_map_388.html\n",
      "Mapa salvo em trajetos/output_map_918.html\n",
      "Mapa salvo em trajetos/output_map_665.html\n",
      "Mapa salvo em trajetos/output_map_328.html\n",
      "Mapa salvo em trajetos/output_map_497.html\n",
      "Mapa salvo em trajetos/output_map_878.html\n",
      "Mapa salvo em trajetos/output_map_355.html\n",
      "Mapa salvo em trajetos/output_map_606.html\n",
      "Mapa salvo em trajetos/output_map_457.html\n",
      "Mapa salvo em trajetos/output_map_550.html\n",
      "Mapa salvo em trajetos/output_map_803.html\n",
      "Mapa salvo em trajetos/output_map_917.html\n",
      "Mapa salvo em trajetos/output_map_638.html\n",
      "Mapa salvo em trajetos/output_map_2336.html\n",
      "Mapa salvo em trajetos/output_map_399.html\n",
      "Mapa salvo em trajetos/output_map_298.html\n",
      "Mapa salvo em trajetos/output_map_867.html\n",
      "Mapa salvo em trajetos/output_map_553.html\n",
      "Mapa salvo em trajetos/output_map_565.html\n",
      "Mapa salvo em trajetos/output_map_422.html\n",
      "Mapa salvo em trajetos/output_map_756.html\n",
      "Mapa salvo em trajetos/output_map_292.html\n",
      "Mapa salvo em trajetos/output_map_554.html\n",
      "Mapa salvo em trajetos/output_map_634.html\n",
      "Mapa salvo em trajetos/output_map_232.html\n",
      "Mapa salvo em trajetos/output_map_415.html\n",
      "Mapa salvo em trajetos/output_map_2803.html\n",
      "Mapa salvo em trajetos/output_map_324.html\n",
      "Mapa salvo em trajetos/output_map_852.html\n",
      "Mapa salvo em trajetos/output_map_557.html\n",
      "Mapa salvo em trajetos/output_map_759.html\n",
      "Mapa salvo em trajetos/output_map_343.html\n",
      "Mapa salvo em trajetos/output_map_779.html\n",
      "Mapa salvo em trajetos/output_map_905.html\n",
      "Mapa salvo em trajetos/output_map_108.html\n"
     ]
    }
   ],
   "source": [
    "\"\"\"for linha in linhas_de_interesse:\n",
    "    data = capturar_data_mapa(conn, 'dia_2704_filter', linha)\n",
    "    if data:\n",
    "        avg_latitude = sum([d[0] for d in data]) / len(data)\n",
    "        avg_longitude = sum([d[1] for d in data]) / len(data)\n",
    "        m = folium.Map(location=[avg_latitude, avg_longitude], zoom_start=12)\n",
    "        # Adicione os pontos ao mapa\n",
    "        for lat, lon in data:\n",
    "            folium.CircleMarker(location=[lat, lon], radius=1, color='blue').add_to(m)\n",
    "        output_path = os.path.join(f'trajetos/output_map_{linha}.html')\n",
    "        m.save(output_path)\n",
    "        print(f\"Mapa salvo em {output_path}\")\"\"\""
   ]
  },
  {
   "cell_type": "code",
   "execution_count": 87,
   "metadata": {},
   "outputs": [],
   "source": [
    "query = \"\"\"\n",
    "WITH ordered_points AS (\n",
    "    SELECT\n",
    "        ordem,\n",
    "        linha,\n",
    "        geom,\n",
    "        TO_TIMESTAMP(datahora / 1000) AS datahora_ts,\n",
    "        LAG(TO_TIMESTAMP(datahora / 1000)) OVER (PARTITION BY ordem ORDER BY TO_TIMESTAMP(datahora / 1000)) AS prev_datahora_ts,\n",
    "        LAG(geom) OVER (PARTITION BY ordem ORDER BY TO_TIMESTAMP(datahora / 1000)) AS prev_geom,\n",
    "        ROW_NUMBER() OVER (PARTITION BY ordem ORDER BY TO_TIMESTAMP(datahora / 1000)) AS rn\n",
    "    FROM dia_2704_filter\n",
    "),\n",
    "same_position_periods AS (\n",
    "    SELECT\n",
    "        ordem,\n",
    "        linha,\n",
    "        geom,\n",
    "        datahora_ts,\n",
    "        prev_datahora_ts,\n",
    "        EXTRACT(EPOCH FROM (datahora_ts - prev_datahora_ts)) AS duration,\n",
    "        CASE \n",
    "            WHEN ST_DWithin(geom, prev_geom, 15) THEN 1\n",
    "            ELSE 0\n",
    "        END AS is_stationary,\n",
    "        ROW_NUMBER() OVER (PARTITION BY ordem ORDER BY datahora_ts) - \n",
    "        ROW_NUMBER() OVER (PARTITION BY ordem, CASE WHEN ST_DWithin(geom, prev_geom, 15) THEN 1 ELSE 0 END ORDER BY datahora_ts) AS grp\n",
    "    FROM ordered_points\n",
    "),\n",
    "stationary_groups AS (\n",
    "    SELECT\n",
    "        ordem,\n",
    "        linha,\n",
    "        geom,\n",
    "        datahora_ts,\n",
    "        prev_datahora_ts,\n",
    "        duration,\n",
    "        is_stationary,\n",
    "        grp\n",
    "    FROM same_position_periods\n",
    "    WHERE is_stationary = 1\n",
    ")\n",
    "SELECT\n",
    "    ordem,\n",
    "    linha,\n",
    "    MIN(prev_datahora_ts) AS start_time,\n",
    "    MAX(datahora_ts) AS end_time,\n",
    "    SUM(duration) AS total_duration,\n",
    "    ST_X(geom::geometry) AS longitude,\n",
    "    ST_Y(geom::geometry) AS latitude,\n",
    "    grp\n",
    "FROM stationary_groups\n",
    "GROUP BY ordem, linha, grp, geom\n",
    "HAVING SUM(duration) >= 600; -- 10 minutes in seconds\n",
    "\"\"\""
   ]
  },
  {
   "cell_type": "code",
   "execution_count": 88,
   "metadata": {},
   "outputs": [
    {
     "name": "stderr",
     "output_type": "stream",
     "text": [
      "/tmp/ipykernel_4808/1168034203.py:1: UserWarning: pandas only supports SQLAlchemy connectable (engine/connection) or database string URI or sqlite3 DBAPI2 connection. Other DBAPI2 objects are not tested. Please consider using SQLAlchemy.\n",
      "  df = pd.read_sql(query, conn)\n"
     ]
    }
   ],
   "source": [
    "df = pd.read_sql(query, conn)"
   ]
  },
  {
   "cell_type": "code",
   "execution_count": 89,
   "metadata": {},
   "outputs": [],
   "source": [
    "df_unique = df.drop_duplicates(subset=['grp'])"
   ]
  },
  {
   "cell_type": "code",
   "execution_count": 94,
   "metadata": {},
   "outputs": [],
   "source": [
    "pontos_de_parada = {}"
   ]
  },
  {
   "cell_type": "code",
   "execution_count": 95,
   "metadata": {},
   "outputs": [],
   "source": [
    "for linha in linhas_de_interesse:\n",
    "    pontos_de_parada[linha]=[]\n",
    "    for _, row in df_unique.loc[df_unique['linha'] == linha].iterrows():\n",
    "        lat, lon = row['latitude'], row['longitude']\n",
    "        ponto = (lat, lon)\n",
    "        encontrado = False\n",
    "        if row['total_duration'] > 24000:\n",
    "            continue\n",
    "        for pontos in pontos_de_parada[linha]:\n",
    "            if margem_erro(pontos, ponto):\n",
    "                encontrado = True\n",
    "                break\n",
    "        if not encontrado:\n",
    "            pontos_de_parada[linha].append(ponto)\n"
   ]
  },
  {
   "cell_type": "code",
   "execution_count": 96,
   "metadata": {},
   "outputs": [
    {
     "name": "stdout",
     "output_type": "stream",
     "text": [
      "A 483 tem 4 paradas.\n",
      "A 864 tem 2 paradas.\n",
      "A 639 tem 5 paradas.\n",
      "A 3 tem 1 paradas.\n",
      "A 309 tem 2 paradas.\n",
      "A 774 tem 2 paradas.\n",
      "A 629 tem 3 paradas.\n",
      "A 371 tem 1 paradas.\n",
      "A 397 tem 3 paradas.\n",
      "A 100 tem 3 paradas.\n",
      "A 838 tem 3 paradas.\n",
      "A 315 tem 8 paradas.\n",
      "A 624 tem 2 paradas.\n",
      "A 388 tem 2 paradas.\n",
      "A 918 tem 3 paradas.\n",
      "A 665 tem 6 paradas.\n",
      "A 328 tem 3 paradas.\n",
      "A 497 tem 2 paradas.\n",
      "A 878 tem 2 paradas.\n",
      "A 355 tem 3 paradas.\n",
      "A 138 tem 0 paradas.\n",
      "A 606 tem 3 paradas.\n",
      "A 457 tem 4 paradas.\n",
      "A 550 tem 3 paradas.\n",
      "A 803 tem 3 paradas.\n",
      "A 917 tem 3 paradas.\n",
      "A 638 tem 2 paradas.\n",
      "A 2336 tem 3 paradas.\n",
      "A 399 tem 4 paradas.\n",
      "A 298 tem 3 paradas.\n",
      "A 867 tem 3 paradas.\n",
      "A 553 tem 2 paradas.\n",
      "A 565 tem 2 paradas.\n",
      "A 422 tem 2 paradas.\n",
      "A 756 tem 4 paradas.\n",
      "A 186012003 tem 0 paradas.\n",
      "A 292 tem 5 paradas.\n",
      "A 554 tem 2 paradas.\n",
      "A 634 tem 2 paradas.\n",
      "A 232 tem 3 paradas.\n",
      "A 415 tem 4 paradas.\n",
      "A 2803 tem 4 paradas.\n",
      "A 324 tem 3 paradas.\n",
      "A 852 tem 2 paradas.\n",
      "A 557 tem 4 paradas.\n",
      "A 759 tem 2 paradas.\n",
      "A 343 tem 2 paradas.\n",
      "A 779 tem 3 paradas.\n",
      "A 905 tem 3 paradas.\n",
      "A 108 tem 2 paradas.\n"
     ]
    }
   ],
   "source": [
    "for linha in linhas_de_interesse:\n",
    "    tamanho = len(pontos_de_parada[linha])\n",
    "    print(f\"A {linha} tem {tamanho} paradas.\")"
   ]
  }
 ],
 "metadata": {
  "kernelspec": {
   "display_name": "base",
   "language": "python",
   "name": "python3"
  },
  "language_info": {
   "codemirror_mode": {
    "name": "ipython",
    "version": 3
   },
   "file_extension": ".py",
   "mimetype": "text/x-python",
   "name": "python",
   "nbconvert_exporter": "python",
   "pygments_lexer": "ipython3",
   "version": "3.11.7"
  }
 },
 "nbformat": 4,
 "nbformat_minor": 2
}
